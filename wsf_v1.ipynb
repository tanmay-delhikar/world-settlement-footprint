{
  "nbformat": 4,
  "nbformat_minor": 0,
  "metadata": {
    "colab": {
      "name": "wsf-v1.ipynb",
      "provenance": [],
      "collapsed_sections": [],
      "machine_shape": "hm"
    },
    "kernelspec": {
      "name": "python3",
      "display_name": "Python 3"
    },
    "accelerator": "TPU",
    "widgets": {
      "application/vnd.jupyter.widget-state+json": {
        "b7786fa167e84a9b928f4c3da3e67f23": {
          "model_module": "@jupyter-widgets/controls",
          "model_name": "HBoxModel",
          "state": {
            "_view_name": "HBoxView",
            "_dom_classes": [],
            "_model_name": "HBoxModel",
            "_view_module": "@jupyter-widgets/controls",
            "_model_module_version": "1.5.0",
            "_view_count": null,
            "_view_module_version": "1.5.0",
            "box_style": "",
            "layout": "IPY_MODEL_cfa34636a980489c88c9805d9f4419fb",
            "_model_module": "@jupyter-widgets/controls",
            "children": [
              "IPY_MODEL_10f2dff24b174faa9ac1f65962759132",
              "IPY_MODEL_00f849d538a544a7907a9be1e2870cd1"
            ]
          }
        },
        "cfa34636a980489c88c9805d9f4419fb": {
          "model_module": "@jupyter-widgets/base",
          "model_name": "LayoutModel",
          "state": {
            "_view_name": "LayoutView",
            "grid_template_rows": null,
            "right": null,
            "justify_content": null,
            "_view_module": "@jupyter-widgets/base",
            "overflow": null,
            "_model_module_version": "1.2.0",
            "_view_count": null,
            "flex_flow": null,
            "width": null,
            "min_width": null,
            "border": null,
            "align_items": null,
            "bottom": null,
            "_model_module": "@jupyter-widgets/base",
            "top": null,
            "grid_column": null,
            "overflow_y": null,
            "overflow_x": null,
            "grid_auto_flow": null,
            "grid_area": null,
            "grid_template_columns": null,
            "flex": null,
            "_model_name": "LayoutModel",
            "justify_items": null,
            "grid_row": null,
            "max_height": null,
            "align_content": null,
            "visibility": null,
            "align_self": null,
            "height": null,
            "min_height": null,
            "padding": null,
            "grid_auto_rows": null,
            "grid_gap": null,
            "max_width": null,
            "order": null,
            "_view_module_version": "1.2.0",
            "grid_template_areas": null,
            "object_position": null,
            "object_fit": null,
            "grid_auto_columns": null,
            "margin": null,
            "display": null,
            "left": null
          }
        },
        "10f2dff24b174faa9ac1f65962759132": {
          "model_module": "@jupyter-widgets/controls",
          "model_name": "IntProgressModel",
          "state": {
            "_view_name": "ProgressView",
            "style": "IPY_MODEL_e6112c617f6247cc8788d15ee9a4cb1f",
            "_dom_classes": [],
            "description": "",
            "_model_name": "IntProgressModel",
            "bar_style": "success",
            "max": 2200,
            "_view_module": "@jupyter-widgets/controls",
            "_model_module_version": "1.5.0",
            "value": 2200,
            "_view_count": null,
            "_view_module_version": "1.5.0",
            "orientation": "horizontal",
            "min": 0,
            "description_tooltip": null,
            "_model_module": "@jupyter-widgets/controls",
            "layout": "IPY_MODEL_c82e2e2693a147c0b85b108adf29237d"
          }
        },
        "00f849d538a544a7907a9be1e2870cd1": {
          "model_module": "@jupyter-widgets/controls",
          "model_name": "HTMLModel",
          "state": {
            "_view_name": "HTMLView",
            "style": "IPY_MODEL_368250ed918841d58e16fb9767404b17",
            "_dom_classes": [],
            "description": "",
            "_model_name": "HTMLModel",
            "placeholder": "​",
            "_view_module": "@jupyter-widgets/controls",
            "_model_module_version": "1.5.0",
            "value": "100% 2200/2200 [06:52&lt;00:00,  5.37it/s]",
            "_view_count": null,
            "_view_module_version": "1.5.0",
            "description_tooltip": null,
            "_model_module": "@jupyter-widgets/controls",
            "layout": "IPY_MODEL_085a1aaa97e545c185a3a0950183a86d"
          }
        },
        "e6112c617f6247cc8788d15ee9a4cb1f": {
          "model_module": "@jupyter-widgets/controls",
          "model_name": "ProgressStyleModel",
          "state": {
            "_view_name": "StyleView",
            "_model_name": "ProgressStyleModel",
            "description_width": "",
            "_view_module": "@jupyter-widgets/base",
            "_model_module_version": "1.5.0",
            "_view_count": null,
            "_view_module_version": "1.2.0",
            "bar_color": null,
            "_model_module": "@jupyter-widgets/controls"
          }
        },
        "c82e2e2693a147c0b85b108adf29237d": {
          "model_module": "@jupyter-widgets/base",
          "model_name": "LayoutModel",
          "state": {
            "_view_name": "LayoutView",
            "grid_template_rows": null,
            "right": null,
            "justify_content": null,
            "_view_module": "@jupyter-widgets/base",
            "overflow": null,
            "_model_module_version": "1.2.0",
            "_view_count": null,
            "flex_flow": null,
            "width": null,
            "min_width": null,
            "border": null,
            "align_items": null,
            "bottom": null,
            "_model_module": "@jupyter-widgets/base",
            "top": null,
            "grid_column": null,
            "overflow_y": null,
            "overflow_x": null,
            "grid_auto_flow": null,
            "grid_area": null,
            "grid_template_columns": null,
            "flex": null,
            "_model_name": "LayoutModel",
            "justify_items": null,
            "grid_row": null,
            "max_height": null,
            "align_content": null,
            "visibility": null,
            "align_self": null,
            "height": null,
            "min_height": null,
            "padding": null,
            "grid_auto_rows": null,
            "grid_gap": null,
            "max_width": null,
            "order": null,
            "_view_module_version": "1.2.0",
            "grid_template_areas": null,
            "object_position": null,
            "object_fit": null,
            "grid_auto_columns": null,
            "margin": null,
            "display": null,
            "left": null
          }
        },
        "368250ed918841d58e16fb9767404b17": {
          "model_module": "@jupyter-widgets/controls",
          "model_name": "DescriptionStyleModel",
          "state": {
            "_view_name": "StyleView",
            "_model_name": "DescriptionStyleModel",
            "description_width": "",
            "_view_module": "@jupyter-widgets/base",
            "_model_module_version": "1.5.0",
            "_view_count": null,
            "_view_module_version": "1.2.0",
            "_model_module": "@jupyter-widgets/controls"
          }
        },
        "085a1aaa97e545c185a3a0950183a86d": {
          "model_module": "@jupyter-widgets/base",
          "model_name": "LayoutModel",
          "state": {
            "_view_name": "LayoutView",
            "grid_template_rows": null,
            "right": null,
            "justify_content": null,
            "_view_module": "@jupyter-widgets/base",
            "overflow": null,
            "_model_module_version": "1.2.0",
            "_view_count": null,
            "flex_flow": null,
            "width": null,
            "min_width": null,
            "border": null,
            "align_items": null,
            "bottom": null,
            "_model_module": "@jupyter-widgets/base",
            "top": null,
            "grid_column": null,
            "overflow_y": null,
            "overflow_x": null,
            "grid_auto_flow": null,
            "grid_area": null,
            "grid_template_columns": null,
            "flex": null,
            "_model_name": "LayoutModel",
            "justify_items": null,
            "grid_row": null,
            "max_height": null,
            "align_content": null,
            "visibility": null,
            "align_self": null,
            "height": null,
            "min_height": null,
            "padding": null,
            "grid_auto_rows": null,
            "grid_gap": null,
            "max_width": null,
            "order": null,
            "_view_module_version": "1.2.0",
            "grid_template_areas": null,
            "object_position": null,
            "object_fit": null,
            "grid_auto_columns": null,
            "margin": null,
            "display": null,
            "left": null
          }
        },
        "047b8b39bcf144cc9c5b711251fd26da": {
          "model_module": "@jupyter-widgets/controls",
          "model_name": "HBoxModel",
          "state": {
            "_view_name": "HBoxView",
            "_dom_classes": [],
            "_model_name": "HBoxModel",
            "_view_module": "@jupyter-widgets/controls",
            "_model_module_version": "1.5.0",
            "_view_count": null,
            "_view_module_version": "1.5.0",
            "box_style": "",
            "layout": "IPY_MODEL_5d6bf9f5dc7349ec9b9c0c55d0525cb0",
            "_model_module": "@jupyter-widgets/controls",
            "children": [
              "IPY_MODEL_59c68bb904024e3e86273b614bdaaf7a",
              "IPY_MODEL_faf70f41eac942edb70f02e0eadc411d"
            ]
          }
        },
        "5d6bf9f5dc7349ec9b9c0c55d0525cb0": {
          "model_module": "@jupyter-widgets/base",
          "model_name": "LayoutModel",
          "state": {
            "_view_name": "LayoutView",
            "grid_template_rows": null,
            "right": null,
            "justify_content": null,
            "_view_module": "@jupyter-widgets/base",
            "overflow": null,
            "_model_module_version": "1.2.0",
            "_view_count": null,
            "flex_flow": null,
            "width": null,
            "min_width": null,
            "border": null,
            "align_items": null,
            "bottom": null,
            "_model_module": "@jupyter-widgets/base",
            "top": null,
            "grid_column": null,
            "overflow_y": null,
            "overflow_x": null,
            "grid_auto_flow": null,
            "grid_area": null,
            "grid_template_columns": null,
            "flex": null,
            "_model_name": "LayoutModel",
            "justify_items": null,
            "grid_row": null,
            "max_height": null,
            "align_content": null,
            "visibility": null,
            "align_self": null,
            "height": null,
            "min_height": null,
            "padding": null,
            "grid_auto_rows": null,
            "grid_gap": null,
            "max_width": null,
            "order": null,
            "_view_module_version": "1.2.0",
            "grid_template_areas": null,
            "object_position": null,
            "object_fit": null,
            "grid_auto_columns": null,
            "margin": null,
            "display": null,
            "left": null
          }
        },
        "59c68bb904024e3e86273b614bdaaf7a": {
          "model_module": "@jupyter-widgets/controls",
          "model_name": "IntProgressModel",
          "state": {
            "_view_name": "ProgressView",
            "style": "IPY_MODEL_25f7d8c53cd8473a93f444f20f440e7b",
            "_dom_classes": [],
            "description": "",
            "_model_name": "IntProgressModel",
            "bar_style": "success",
            "max": 2200,
            "_view_module": "@jupyter-widgets/controls",
            "_model_module_version": "1.5.0",
            "value": 2200,
            "_view_count": null,
            "_view_module_version": "1.5.0",
            "orientation": "horizontal",
            "min": 0,
            "description_tooltip": null,
            "_model_module": "@jupyter-widgets/controls",
            "layout": "IPY_MODEL_833fed91ef734891adbcb7235b2c2917"
          }
        },
        "faf70f41eac942edb70f02e0eadc411d": {
          "model_module": "@jupyter-widgets/controls",
          "model_name": "HTMLModel",
          "state": {
            "_view_name": "HTMLView",
            "style": "IPY_MODEL_f688a3157695450b9d46e25ac9348fe4",
            "_dom_classes": [],
            "description": "",
            "_model_name": "HTMLModel",
            "placeholder": "​",
            "_view_module": "@jupyter-widgets/controls",
            "_model_module_version": "1.5.0",
            "value": "100% 2200/2200 [06:52&lt;00:00,  5.31it/s]",
            "_view_count": null,
            "_view_module_version": "1.5.0",
            "description_tooltip": null,
            "_model_module": "@jupyter-widgets/controls",
            "layout": "IPY_MODEL_cb43253c1ce54a1a88679d5d840d7db4"
          }
        },
        "25f7d8c53cd8473a93f444f20f440e7b": {
          "model_module": "@jupyter-widgets/controls",
          "model_name": "ProgressStyleModel",
          "state": {
            "_view_name": "StyleView",
            "_model_name": "ProgressStyleModel",
            "description_width": "",
            "_view_module": "@jupyter-widgets/base",
            "_model_module_version": "1.5.0",
            "_view_count": null,
            "_view_module_version": "1.2.0",
            "bar_color": null,
            "_model_module": "@jupyter-widgets/controls"
          }
        },
        "833fed91ef734891adbcb7235b2c2917": {
          "model_module": "@jupyter-widgets/base",
          "model_name": "LayoutModel",
          "state": {
            "_view_name": "LayoutView",
            "grid_template_rows": null,
            "right": null,
            "justify_content": null,
            "_view_module": "@jupyter-widgets/base",
            "overflow": null,
            "_model_module_version": "1.2.0",
            "_view_count": null,
            "flex_flow": null,
            "width": null,
            "min_width": null,
            "border": null,
            "align_items": null,
            "bottom": null,
            "_model_module": "@jupyter-widgets/base",
            "top": null,
            "grid_column": null,
            "overflow_y": null,
            "overflow_x": null,
            "grid_auto_flow": null,
            "grid_area": null,
            "grid_template_columns": null,
            "flex": null,
            "_model_name": "LayoutModel",
            "justify_items": null,
            "grid_row": null,
            "max_height": null,
            "align_content": null,
            "visibility": null,
            "align_self": null,
            "height": null,
            "min_height": null,
            "padding": null,
            "grid_auto_rows": null,
            "grid_gap": null,
            "max_width": null,
            "order": null,
            "_view_module_version": "1.2.0",
            "grid_template_areas": null,
            "object_position": null,
            "object_fit": null,
            "grid_auto_columns": null,
            "margin": null,
            "display": null,
            "left": null
          }
        },
        "f688a3157695450b9d46e25ac9348fe4": {
          "model_module": "@jupyter-widgets/controls",
          "model_name": "DescriptionStyleModel",
          "state": {
            "_view_name": "StyleView",
            "_model_name": "DescriptionStyleModel",
            "description_width": "",
            "_view_module": "@jupyter-widgets/base",
            "_model_module_version": "1.5.0",
            "_view_count": null,
            "_view_module_version": "1.2.0",
            "_model_module": "@jupyter-widgets/controls"
          }
        },
        "cb43253c1ce54a1a88679d5d840d7db4": {
          "model_module": "@jupyter-widgets/base",
          "model_name": "LayoutModel",
          "state": {
            "_view_name": "LayoutView",
            "grid_template_rows": null,
            "right": null,
            "justify_content": null,
            "_view_module": "@jupyter-widgets/base",
            "overflow": null,
            "_model_module_version": "1.2.0",
            "_view_count": null,
            "flex_flow": null,
            "width": null,
            "min_width": null,
            "border": null,
            "align_items": null,
            "bottom": null,
            "_model_module": "@jupyter-widgets/base",
            "top": null,
            "grid_column": null,
            "overflow_y": null,
            "overflow_x": null,
            "grid_auto_flow": null,
            "grid_area": null,
            "grid_template_columns": null,
            "flex": null,
            "_model_name": "LayoutModel",
            "justify_items": null,
            "grid_row": null,
            "max_height": null,
            "align_content": null,
            "visibility": null,
            "align_self": null,
            "height": null,
            "min_height": null,
            "padding": null,
            "grid_auto_rows": null,
            "grid_gap": null,
            "max_width": null,
            "order": null,
            "_view_module_version": "1.2.0",
            "grid_template_areas": null,
            "object_position": null,
            "object_fit": null,
            "grid_auto_columns": null,
            "margin": null,
            "display": null,
            "left": null
          }
        },
        "60b6e4a4d1024e36a2455052aec96804": {
          "model_module": "@jupyter-widgets/controls",
          "model_name": "HBoxModel",
          "state": {
            "_view_name": "HBoxView",
            "_dom_classes": [],
            "_model_name": "HBoxModel",
            "_view_module": "@jupyter-widgets/controls",
            "_model_module_version": "1.5.0",
            "_view_count": null,
            "_view_module_version": "1.5.0",
            "box_style": "",
            "layout": "IPY_MODEL_9bafa91e8f2a42b58a216755e3028241",
            "_model_module": "@jupyter-widgets/controls",
            "children": [
              "IPY_MODEL_924993aa5aee4e4aadc3ee4d6a6ac0ea",
              "IPY_MODEL_e6187482de444ea1ad21df112acb62e5"
            ]
          }
        },
        "9bafa91e8f2a42b58a216755e3028241": {
          "model_module": "@jupyter-widgets/base",
          "model_name": "LayoutModel",
          "state": {
            "_view_name": "LayoutView",
            "grid_template_rows": null,
            "right": null,
            "justify_content": null,
            "_view_module": "@jupyter-widgets/base",
            "overflow": null,
            "_model_module_version": "1.2.0",
            "_view_count": null,
            "flex_flow": null,
            "width": null,
            "min_width": null,
            "border": null,
            "align_items": null,
            "bottom": null,
            "_model_module": "@jupyter-widgets/base",
            "top": null,
            "grid_column": null,
            "overflow_y": null,
            "overflow_x": null,
            "grid_auto_flow": null,
            "grid_area": null,
            "grid_template_columns": null,
            "flex": null,
            "_model_name": "LayoutModel",
            "justify_items": null,
            "grid_row": null,
            "max_height": null,
            "align_content": null,
            "visibility": null,
            "align_self": null,
            "height": null,
            "min_height": null,
            "padding": null,
            "grid_auto_rows": null,
            "grid_gap": null,
            "max_width": null,
            "order": null,
            "_view_module_version": "1.2.0",
            "grid_template_areas": null,
            "object_position": null,
            "object_fit": null,
            "grid_auto_columns": null,
            "margin": null,
            "display": null,
            "left": null
          }
        },
        "924993aa5aee4e4aadc3ee4d6a6ac0ea": {
          "model_module": "@jupyter-widgets/controls",
          "model_name": "IntProgressModel",
          "state": {
            "_view_name": "ProgressView",
            "style": "IPY_MODEL_5ed9836b40ba426aa7d9b9bf3317c768",
            "_dom_classes": [],
            "description": "",
            "_model_name": "IntProgressModel",
            "bar_style": "success",
            "max": 2200,
            "_view_module": "@jupyter-widgets/controls",
            "_model_module_version": "1.5.0",
            "value": 2200,
            "_view_count": null,
            "_view_module_version": "1.5.0",
            "orientation": "horizontal",
            "min": 0,
            "description_tooltip": null,
            "_model_module": "@jupyter-widgets/controls",
            "layout": "IPY_MODEL_9fe99f865c9c4185bec51c7a6c347662"
          }
        },
        "e6187482de444ea1ad21df112acb62e5": {
          "model_module": "@jupyter-widgets/controls",
          "model_name": "HTMLModel",
          "state": {
            "_view_name": "HTMLView",
            "style": "IPY_MODEL_518c54ddf55147428a14c90e148b8f15",
            "_dom_classes": [],
            "description": "",
            "_model_name": "HTMLModel",
            "placeholder": "​",
            "_view_module": "@jupyter-widgets/controls",
            "_model_module_version": "1.5.0",
            "value": "100% 2200/2200 [06:53&lt;00:00,  5.37it/s]",
            "_view_count": null,
            "_view_module_version": "1.5.0",
            "description_tooltip": null,
            "_model_module": "@jupyter-widgets/controls",
            "layout": "IPY_MODEL_cd7c1f75cf38411dad6ea3c6202aa1b5"
          }
        },
        "5ed9836b40ba426aa7d9b9bf3317c768": {
          "model_module": "@jupyter-widgets/controls",
          "model_name": "ProgressStyleModel",
          "state": {
            "_view_name": "StyleView",
            "_model_name": "ProgressStyleModel",
            "description_width": "",
            "_view_module": "@jupyter-widgets/base",
            "_model_module_version": "1.5.0",
            "_view_count": null,
            "_view_module_version": "1.2.0",
            "bar_color": null,
            "_model_module": "@jupyter-widgets/controls"
          }
        },
        "9fe99f865c9c4185bec51c7a6c347662": {
          "model_module": "@jupyter-widgets/base",
          "model_name": "LayoutModel",
          "state": {
            "_view_name": "LayoutView",
            "grid_template_rows": null,
            "right": null,
            "justify_content": null,
            "_view_module": "@jupyter-widgets/base",
            "overflow": null,
            "_model_module_version": "1.2.0",
            "_view_count": null,
            "flex_flow": null,
            "width": null,
            "min_width": null,
            "border": null,
            "align_items": null,
            "bottom": null,
            "_model_module": "@jupyter-widgets/base",
            "top": null,
            "grid_column": null,
            "overflow_y": null,
            "overflow_x": null,
            "grid_auto_flow": null,
            "grid_area": null,
            "grid_template_columns": null,
            "flex": null,
            "_model_name": "LayoutModel",
            "justify_items": null,
            "grid_row": null,
            "max_height": null,
            "align_content": null,
            "visibility": null,
            "align_self": null,
            "height": null,
            "min_height": null,
            "padding": null,
            "grid_auto_rows": null,
            "grid_gap": null,
            "max_width": null,
            "order": null,
            "_view_module_version": "1.2.0",
            "grid_template_areas": null,
            "object_position": null,
            "object_fit": null,
            "grid_auto_columns": null,
            "margin": null,
            "display": null,
            "left": null
          }
        },
        "518c54ddf55147428a14c90e148b8f15": {
          "model_module": "@jupyter-widgets/controls",
          "model_name": "DescriptionStyleModel",
          "state": {
            "_view_name": "StyleView",
            "_model_name": "DescriptionStyleModel",
            "description_width": "",
            "_view_module": "@jupyter-widgets/base",
            "_model_module_version": "1.5.0",
            "_view_count": null,
            "_view_module_version": "1.2.0",
            "_model_module": "@jupyter-widgets/controls"
          }
        },
        "cd7c1f75cf38411dad6ea3c6202aa1b5": {
          "model_module": "@jupyter-widgets/base",
          "model_name": "LayoutModel",
          "state": {
            "_view_name": "LayoutView",
            "grid_template_rows": null,
            "right": null,
            "justify_content": null,
            "_view_module": "@jupyter-widgets/base",
            "overflow": null,
            "_model_module_version": "1.2.0",
            "_view_count": null,
            "flex_flow": null,
            "width": null,
            "min_width": null,
            "border": null,
            "align_items": null,
            "bottom": null,
            "_model_module": "@jupyter-widgets/base",
            "top": null,
            "grid_column": null,
            "overflow_y": null,
            "overflow_x": null,
            "grid_auto_flow": null,
            "grid_area": null,
            "grid_template_columns": null,
            "flex": null,
            "_model_name": "LayoutModel",
            "justify_items": null,
            "grid_row": null,
            "max_height": null,
            "align_content": null,
            "visibility": null,
            "align_self": null,
            "height": null,
            "min_height": null,
            "padding": null,
            "grid_auto_rows": null,
            "grid_gap": null,
            "max_width": null,
            "order": null,
            "_view_module_version": "1.2.0",
            "grid_template_areas": null,
            "object_position": null,
            "object_fit": null,
            "grid_auto_columns": null,
            "margin": null,
            "display": null,
            "left": null
          }
        },
        "ee89b38e89a7467c84c6a5e1d25f4cc3": {
          "model_module": "@jupyter-widgets/controls",
          "model_name": "HBoxModel",
          "state": {
            "_view_name": "HBoxView",
            "_dom_classes": [],
            "_model_name": "HBoxModel",
            "_view_module": "@jupyter-widgets/controls",
            "_model_module_version": "1.5.0",
            "_view_count": null,
            "_view_module_version": "1.5.0",
            "box_style": "",
            "layout": "IPY_MODEL_4aa2fda81faa4c1bab065c0d050ce97b",
            "_model_module": "@jupyter-widgets/controls",
            "children": [
              "IPY_MODEL_0f61c1c9d64143c39e4bd4a938f238c2",
              "IPY_MODEL_beaddd95021b41d48bb2b9eca40a9cd1"
            ]
          }
        },
        "4aa2fda81faa4c1bab065c0d050ce97b": {
          "model_module": "@jupyter-widgets/base",
          "model_name": "LayoutModel",
          "state": {
            "_view_name": "LayoutView",
            "grid_template_rows": null,
            "right": null,
            "justify_content": null,
            "_view_module": "@jupyter-widgets/base",
            "overflow": null,
            "_model_module_version": "1.2.0",
            "_view_count": null,
            "flex_flow": null,
            "width": null,
            "min_width": null,
            "border": null,
            "align_items": null,
            "bottom": null,
            "_model_module": "@jupyter-widgets/base",
            "top": null,
            "grid_column": null,
            "overflow_y": null,
            "overflow_x": null,
            "grid_auto_flow": null,
            "grid_area": null,
            "grid_template_columns": null,
            "flex": null,
            "_model_name": "LayoutModel",
            "justify_items": null,
            "grid_row": null,
            "max_height": null,
            "align_content": null,
            "visibility": null,
            "align_self": null,
            "height": null,
            "min_height": null,
            "padding": null,
            "grid_auto_rows": null,
            "grid_gap": null,
            "max_width": null,
            "order": null,
            "_view_module_version": "1.2.0",
            "grid_template_areas": null,
            "object_position": null,
            "object_fit": null,
            "grid_auto_columns": null,
            "margin": null,
            "display": null,
            "left": null
          }
        },
        "0f61c1c9d64143c39e4bd4a938f238c2": {
          "model_module": "@jupyter-widgets/controls",
          "model_name": "IntProgressModel",
          "state": {
            "_view_name": "ProgressView",
            "style": "IPY_MODEL_7d2f83d9927c41c18ade1f9e398cbd0a",
            "_dom_classes": [],
            "description": "",
            "_model_name": "IntProgressModel",
            "bar_style": "success",
            "max": 2200,
            "_view_module": "@jupyter-widgets/controls",
            "_model_module_version": "1.5.0",
            "value": 2200,
            "_view_count": null,
            "_view_module_version": "1.5.0",
            "orientation": "horizontal",
            "min": 0,
            "description_tooltip": null,
            "_model_module": "@jupyter-widgets/controls",
            "layout": "IPY_MODEL_30349fa2130343389953a99fd914e2b4"
          }
        },
        "beaddd95021b41d48bb2b9eca40a9cd1": {
          "model_module": "@jupyter-widgets/controls",
          "model_name": "HTMLModel",
          "state": {
            "_view_name": "HTMLView",
            "style": "IPY_MODEL_3ca26894fc704af58863f1c07860b23c",
            "_dom_classes": [],
            "description": "",
            "_model_name": "HTMLModel",
            "placeholder": "​",
            "_view_module": "@jupyter-widgets/controls",
            "_model_module_version": "1.5.0",
            "value": "100% 2200/2200 [06:56&lt;00:00,  5.30it/s]",
            "_view_count": null,
            "_view_module_version": "1.5.0",
            "description_tooltip": null,
            "_model_module": "@jupyter-widgets/controls",
            "layout": "IPY_MODEL_55836585277544ab90e81914bcfac7fe"
          }
        },
        "7d2f83d9927c41c18ade1f9e398cbd0a": {
          "model_module": "@jupyter-widgets/controls",
          "model_name": "ProgressStyleModel",
          "state": {
            "_view_name": "StyleView",
            "_model_name": "ProgressStyleModel",
            "description_width": "",
            "_view_module": "@jupyter-widgets/base",
            "_model_module_version": "1.5.0",
            "_view_count": null,
            "_view_module_version": "1.2.0",
            "bar_color": null,
            "_model_module": "@jupyter-widgets/controls"
          }
        },
        "30349fa2130343389953a99fd914e2b4": {
          "model_module": "@jupyter-widgets/base",
          "model_name": "LayoutModel",
          "state": {
            "_view_name": "LayoutView",
            "grid_template_rows": null,
            "right": null,
            "justify_content": null,
            "_view_module": "@jupyter-widgets/base",
            "overflow": null,
            "_model_module_version": "1.2.0",
            "_view_count": null,
            "flex_flow": null,
            "width": null,
            "min_width": null,
            "border": null,
            "align_items": null,
            "bottom": null,
            "_model_module": "@jupyter-widgets/base",
            "top": null,
            "grid_column": null,
            "overflow_y": null,
            "overflow_x": null,
            "grid_auto_flow": null,
            "grid_area": null,
            "grid_template_columns": null,
            "flex": null,
            "_model_name": "LayoutModel",
            "justify_items": null,
            "grid_row": null,
            "max_height": null,
            "align_content": null,
            "visibility": null,
            "align_self": null,
            "height": null,
            "min_height": null,
            "padding": null,
            "grid_auto_rows": null,
            "grid_gap": null,
            "max_width": null,
            "order": null,
            "_view_module_version": "1.2.0",
            "grid_template_areas": null,
            "object_position": null,
            "object_fit": null,
            "grid_auto_columns": null,
            "margin": null,
            "display": null,
            "left": null
          }
        },
        "3ca26894fc704af58863f1c07860b23c": {
          "model_module": "@jupyter-widgets/controls",
          "model_name": "DescriptionStyleModel",
          "state": {
            "_view_name": "StyleView",
            "_model_name": "DescriptionStyleModel",
            "description_width": "",
            "_view_module": "@jupyter-widgets/base",
            "_model_module_version": "1.5.0",
            "_view_count": null,
            "_view_module_version": "1.2.0",
            "_model_module": "@jupyter-widgets/controls"
          }
        },
        "55836585277544ab90e81914bcfac7fe": {
          "model_module": "@jupyter-widgets/base",
          "model_name": "LayoutModel",
          "state": {
            "_view_name": "LayoutView",
            "grid_template_rows": null,
            "right": null,
            "justify_content": null,
            "_view_module": "@jupyter-widgets/base",
            "overflow": null,
            "_model_module_version": "1.2.0",
            "_view_count": null,
            "flex_flow": null,
            "width": null,
            "min_width": null,
            "border": null,
            "align_items": null,
            "bottom": null,
            "_model_module": "@jupyter-widgets/base",
            "top": null,
            "grid_column": null,
            "overflow_y": null,
            "overflow_x": null,
            "grid_auto_flow": null,
            "grid_area": null,
            "grid_template_columns": null,
            "flex": null,
            "_model_name": "LayoutModel",
            "justify_items": null,
            "grid_row": null,
            "max_height": null,
            "align_content": null,
            "visibility": null,
            "align_self": null,
            "height": null,
            "min_height": null,
            "padding": null,
            "grid_auto_rows": null,
            "grid_gap": null,
            "max_width": null,
            "order": null,
            "_view_module_version": "1.2.0",
            "grid_template_areas": null,
            "object_position": null,
            "object_fit": null,
            "grid_auto_columns": null,
            "margin": null,
            "display": null,
            "left": null
          }
        },
        "6fe24b63ce9e4b62aa59b0df1b07b1cf": {
          "model_module": "@jupyter-widgets/controls",
          "model_name": "HBoxModel",
          "state": {
            "_view_name": "HBoxView",
            "_dom_classes": [],
            "_model_name": "HBoxModel",
            "_view_module": "@jupyter-widgets/controls",
            "_model_module_version": "1.5.0",
            "_view_count": null,
            "_view_module_version": "1.5.0",
            "box_style": "",
            "layout": "IPY_MODEL_8b8552571dc44d7da25195c61151b083",
            "_model_module": "@jupyter-widgets/controls",
            "children": [
              "IPY_MODEL_a38fadf23ca740f0b38699e516fc1506",
              "IPY_MODEL_6d8882a528914c90b70d9976d971c2cc"
            ]
          }
        },
        "8b8552571dc44d7da25195c61151b083": {
          "model_module": "@jupyter-widgets/base",
          "model_name": "LayoutModel",
          "state": {
            "_view_name": "LayoutView",
            "grid_template_rows": null,
            "right": null,
            "justify_content": null,
            "_view_module": "@jupyter-widgets/base",
            "overflow": null,
            "_model_module_version": "1.2.0",
            "_view_count": null,
            "flex_flow": null,
            "width": null,
            "min_width": null,
            "border": null,
            "align_items": null,
            "bottom": null,
            "_model_module": "@jupyter-widgets/base",
            "top": null,
            "grid_column": null,
            "overflow_y": null,
            "overflow_x": null,
            "grid_auto_flow": null,
            "grid_area": null,
            "grid_template_columns": null,
            "flex": null,
            "_model_name": "LayoutModel",
            "justify_items": null,
            "grid_row": null,
            "max_height": null,
            "align_content": null,
            "visibility": null,
            "align_self": null,
            "height": null,
            "min_height": null,
            "padding": null,
            "grid_auto_rows": null,
            "grid_gap": null,
            "max_width": null,
            "order": null,
            "_view_module_version": "1.2.0",
            "grid_template_areas": null,
            "object_position": null,
            "object_fit": null,
            "grid_auto_columns": null,
            "margin": null,
            "display": null,
            "left": null
          }
        },
        "a38fadf23ca740f0b38699e516fc1506": {
          "model_module": "@jupyter-widgets/controls",
          "model_name": "IntProgressModel",
          "state": {
            "_view_name": "ProgressView",
            "style": "IPY_MODEL_6195bbdd34ea4ee68d567d58517bcbdc",
            "_dom_classes": [],
            "description": "",
            "_model_name": "IntProgressModel",
            "bar_style": "success",
            "max": 2200,
            "_view_module": "@jupyter-widgets/controls",
            "_model_module_version": "1.5.0",
            "value": 2200,
            "_view_count": null,
            "_view_module_version": "1.5.0",
            "orientation": "horizontal",
            "min": 0,
            "description_tooltip": null,
            "_model_module": "@jupyter-widgets/controls",
            "layout": "IPY_MODEL_92929aada58f452da2fbd9e42dc5b2b6"
          }
        },
        "6d8882a528914c90b70d9976d971c2cc": {
          "model_module": "@jupyter-widgets/controls",
          "model_name": "HTMLModel",
          "state": {
            "_view_name": "HTMLView",
            "style": "IPY_MODEL_38b0503e4c564b09a65b230c7a15d01d",
            "_dom_classes": [],
            "description": "",
            "_model_name": "HTMLModel",
            "placeholder": "​",
            "_view_module": "@jupyter-widgets/controls",
            "_model_module_version": "1.5.0",
            "value": "100% 2200/2200 [06:56&lt;00:00,  5.16it/s]",
            "_view_count": null,
            "_view_module_version": "1.5.0",
            "description_tooltip": null,
            "_model_module": "@jupyter-widgets/controls",
            "layout": "IPY_MODEL_fdbf3ce2b8704fee9b2d6b29d8755e40"
          }
        },
        "6195bbdd34ea4ee68d567d58517bcbdc": {
          "model_module": "@jupyter-widgets/controls",
          "model_name": "ProgressStyleModel",
          "state": {
            "_view_name": "StyleView",
            "_model_name": "ProgressStyleModel",
            "description_width": "",
            "_view_module": "@jupyter-widgets/base",
            "_model_module_version": "1.5.0",
            "_view_count": null,
            "_view_module_version": "1.2.0",
            "bar_color": null,
            "_model_module": "@jupyter-widgets/controls"
          }
        },
        "92929aada58f452da2fbd9e42dc5b2b6": {
          "model_module": "@jupyter-widgets/base",
          "model_name": "LayoutModel",
          "state": {
            "_view_name": "LayoutView",
            "grid_template_rows": null,
            "right": null,
            "justify_content": null,
            "_view_module": "@jupyter-widgets/base",
            "overflow": null,
            "_model_module_version": "1.2.0",
            "_view_count": null,
            "flex_flow": null,
            "width": null,
            "min_width": null,
            "border": null,
            "align_items": null,
            "bottom": null,
            "_model_module": "@jupyter-widgets/base",
            "top": null,
            "grid_column": null,
            "overflow_y": null,
            "overflow_x": null,
            "grid_auto_flow": null,
            "grid_area": null,
            "grid_template_columns": null,
            "flex": null,
            "_model_name": "LayoutModel",
            "justify_items": null,
            "grid_row": null,
            "max_height": null,
            "align_content": null,
            "visibility": null,
            "align_self": null,
            "height": null,
            "min_height": null,
            "padding": null,
            "grid_auto_rows": null,
            "grid_gap": null,
            "max_width": null,
            "order": null,
            "_view_module_version": "1.2.0",
            "grid_template_areas": null,
            "object_position": null,
            "object_fit": null,
            "grid_auto_columns": null,
            "margin": null,
            "display": null,
            "left": null
          }
        },
        "38b0503e4c564b09a65b230c7a15d01d": {
          "model_module": "@jupyter-widgets/controls",
          "model_name": "DescriptionStyleModel",
          "state": {
            "_view_name": "StyleView",
            "_model_name": "DescriptionStyleModel",
            "description_width": "",
            "_view_module": "@jupyter-widgets/base",
            "_model_module_version": "1.5.0",
            "_view_count": null,
            "_view_module_version": "1.2.0",
            "_model_module": "@jupyter-widgets/controls"
          }
        },
        "fdbf3ce2b8704fee9b2d6b29d8755e40": {
          "model_module": "@jupyter-widgets/base",
          "model_name": "LayoutModel",
          "state": {
            "_view_name": "LayoutView",
            "grid_template_rows": null,
            "right": null,
            "justify_content": null,
            "_view_module": "@jupyter-widgets/base",
            "overflow": null,
            "_model_module_version": "1.2.0",
            "_view_count": null,
            "flex_flow": null,
            "width": null,
            "min_width": null,
            "border": null,
            "align_items": null,
            "bottom": null,
            "_model_module": "@jupyter-widgets/base",
            "top": null,
            "grid_column": null,
            "overflow_y": null,
            "overflow_x": null,
            "grid_auto_flow": null,
            "grid_area": null,
            "grid_template_columns": null,
            "flex": null,
            "_model_name": "LayoutModel",
            "justify_items": null,
            "grid_row": null,
            "max_height": null,
            "align_content": null,
            "visibility": null,
            "align_self": null,
            "height": null,
            "min_height": null,
            "padding": null,
            "grid_auto_rows": null,
            "grid_gap": null,
            "max_width": null,
            "order": null,
            "_view_module_version": "1.2.0",
            "grid_template_areas": null,
            "object_position": null,
            "object_fit": null,
            "grid_auto_columns": null,
            "margin": null,
            "display": null,
            "left": null
          }
        },
        "e6b762234ed54e20a79f07923a40fe0f": {
          "model_module": "@jupyter-widgets/controls",
          "model_name": "HBoxModel",
          "state": {
            "_view_name": "HBoxView",
            "_dom_classes": [],
            "_model_name": "HBoxModel",
            "_view_module": "@jupyter-widgets/controls",
            "_model_module_version": "1.5.0",
            "_view_count": null,
            "_view_module_version": "1.5.0",
            "box_style": "",
            "layout": "IPY_MODEL_818c5f7f2a7445588ab012e7f6997e1c",
            "_model_module": "@jupyter-widgets/controls",
            "children": [
              "IPY_MODEL_a5954299456b43f3a8151e001d7fba36",
              "IPY_MODEL_68ac582f189541f2887232a829eb9f0f"
            ]
          }
        },
        "818c5f7f2a7445588ab012e7f6997e1c": {
          "model_module": "@jupyter-widgets/base",
          "model_name": "LayoutModel",
          "state": {
            "_view_name": "LayoutView",
            "grid_template_rows": null,
            "right": null,
            "justify_content": null,
            "_view_module": "@jupyter-widgets/base",
            "overflow": null,
            "_model_module_version": "1.2.0",
            "_view_count": null,
            "flex_flow": null,
            "width": null,
            "min_width": null,
            "border": null,
            "align_items": null,
            "bottom": null,
            "_model_module": "@jupyter-widgets/base",
            "top": null,
            "grid_column": null,
            "overflow_y": null,
            "overflow_x": null,
            "grid_auto_flow": null,
            "grid_area": null,
            "grid_template_columns": null,
            "flex": null,
            "_model_name": "LayoutModel",
            "justify_items": null,
            "grid_row": null,
            "max_height": null,
            "align_content": null,
            "visibility": null,
            "align_self": null,
            "height": null,
            "min_height": null,
            "padding": null,
            "grid_auto_rows": null,
            "grid_gap": null,
            "max_width": null,
            "order": null,
            "_view_module_version": "1.2.0",
            "grid_template_areas": null,
            "object_position": null,
            "object_fit": null,
            "grid_auto_columns": null,
            "margin": null,
            "display": null,
            "left": null
          }
        },
        "a5954299456b43f3a8151e001d7fba36": {
          "model_module": "@jupyter-widgets/controls",
          "model_name": "IntProgressModel",
          "state": {
            "_view_name": "ProgressView",
            "style": "IPY_MODEL_48cac27dd5654eb287187e91b38904ac",
            "_dom_classes": [],
            "description": "",
            "_model_name": "IntProgressModel",
            "bar_style": "success",
            "max": 2200,
            "_view_module": "@jupyter-widgets/controls",
            "_model_module_version": "1.5.0",
            "value": 2200,
            "_view_count": null,
            "_view_module_version": "1.5.0",
            "orientation": "horizontal",
            "min": 0,
            "description_tooltip": null,
            "_model_module": "@jupyter-widgets/controls",
            "layout": "IPY_MODEL_dde5ec525a1e4191846723e405c0f956"
          }
        },
        "68ac582f189541f2887232a829eb9f0f": {
          "model_module": "@jupyter-widgets/controls",
          "model_name": "HTMLModel",
          "state": {
            "_view_name": "HTMLView",
            "style": "IPY_MODEL_c20d3e40169a492f8b06f5f8c3daaecc",
            "_dom_classes": [],
            "description": "",
            "_model_name": "HTMLModel",
            "placeholder": "​",
            "_view_module": "@jupyter-widgets/controls",
            "_model_module_version": "1.5.0",
            "value": "100% 2200/2200 [06:56&lt;00:00,  5.34it/s]",
            "_view_count": null,
            "_view_module_version": "1.5.0",
            "description_tooltip": null,
            "_model_module": "@jupyter-widgets/controls",
            "layout": "IPY_MODEL_56c74ec4ed92411f88de5a087a33f7cb"
          }
        },
        "48cac27dd5654eb287187e91b38904ac": {
          "model_module": "@jupyter-widgets/controls",
          "model_name": "ProgressStyleModel",
          "state": {
            "_view_name": "StyleView",
            "_model_name": "ProgressStyleModel",
            "description_width": "",
            "_view_module": "@jupyter-widgets/base",
            "_model_module_version": "1.5.0",
            "_view_count": null,
            "_view_module_version": "1.2.0",
            "bar_color": null,
            "_model_module": "@jupyter-widgets/controls"
          }
        },
        "dde5ec525a1e4191846723e405c0f956": {
          "model_module": "@jupyter-widgets/base",
          "model_name": "LayoutModel",
          "state": {
            "_view_name": "LayoutView",
            "grid_template_rows": null,
            "right": null,
            "justify_content": null,
            "_view_module": "@jupyter-widgets/base",
            "overflow": null,
            "_model_module_version": "1.2.0",
            "_view_count": null,
            "flex_flow": null,
            "width": null,
            "min_width": null,
            "border": null,
            "align_items": null,
            "bottom": null,
            "_model_module": "@jupyter-widgets/base",
            "top": null,
            "grid_column": null,
            "overflow_y": null,
            "overflow_x": null,
            "grid_auto_flow": null,
            "grid_area": null,
            "grid_template_columns": null,
            "flex": null,
            "_model_name": "LayoutModel",
            "justify_items": null,
            "grid_row": null,
            "max_height": null,
            "align_content": null,
            "visibility": null,
            "align_self": null,
            "height": null,
            "min_height": null,
            "padding": null,
            "grid_auto_rows": null,
            "grid_gap": null,
            "max_width": null,
            "order": null,
            "_view_module_version": "1.2.0",
            "grid_template_areas": null,
            "object_position": null,
            "object_fit": null,
            "grid_auto_columns": null,
            "margin": null,
            "display": null,
            "left": null
          }
        },
        "c20d3e40169a492f8b06f5f8c3daaecc": {
          "model_module": "@jupyter-widgets/controls",
          "model_name": "DescriptionStyleModel",
          "state": {
            "_view_name": "StyleView",
            "_model_name": "DescriptionStyleModel",
            "description_width": "",
            "_view_module": "@jupyter-widgets/base",
            "_model_module_version": "1.5.0",
            "_view_count": null,
            "_view_module_version": "1.2.0",
            "_model_module": "@jupyter-widgets/controls"
          }
        },
        "56c74ec4ed92411f88de5a087a33f7cb": {
          "model_module": "@jupyter-widgets/base",
          "model_name": "LayoutModel",
          "state": {
            "_view_name": "LayoutView",
            "grid_template_rows": null,
            "right": null,
            "justify_content": null,
            "_view_module": "@jupyter-widgets/base",
            "overflow": null,
            "_model_module_version": "1.2.0",
            "_view_count": null,
            "flex_flow": null,
            "width": null,
            "min_width": null,
            "border": null,
            "align_items": null,
            "bottom": null,
            "_model_module": "@jupyter-widgets/base",
            "top": null,
            "grid_column": null,
            "overflow_y": null,
            "overflow_x": null,
            "grid_auto_flow": null,
            "grid_area": null,
            "grid_template_columns": null,
            "flex": null,
            "_model_name": "LayoutModel",
            "justify_items": null,
            "grid_row": null,
            "max_height": null,
            "align_content": null,
            "visibility": null,
            "align_self": null,
            "height": null,
            "min_height": null,
            "padding": null,
            "grid_auto_rows": null,
            "grid_gap": null,
            "max_width": null,
            "order": null,
            "_view_module_version": "1.2.0",
            "grid_template_areas": null,
            "object_position": null,
            "object_fit": null,
            "grid_auto_columns": null,
            "margin": null,
            "display": null,
            "left": null
          }
        },
        "7703fc27565e43e9ac59acceba056dde": {
          "model_module": "@jupyter-widgets/controls",
          "model_name": "HBoxModel",
          "state": {
            "_view_name": "HBoxView",
            "_dom_classes": [],
            "_model_name": "HBoxModel",
            "_view_module": "@jupyter-widgets/controls",
            "_model_module_version": "1.5.0",
            "_view_count": null,
            "_view_module_version": "1.5.0",
            "box_style": "",
            "layout": "IPY_MODEL_c1ff71f54e5b4cdfbdccaf98e22203aa",
            "_model_module": "@jupyter-widgets/controls",
            "children": [
              "IPY_MODEL_7fd9a127e1ab4de09e4bbb141abfbbec",
              "IPY_MODEL_23105cf89979461581cb405d53cbef30"
            ]
          }
        },
        "c1ff71f54e5b4cdfbdccaf98e22203aa": {
          "model_module": "@jupyter-widgets/base",
          "model_name": "LayoutModel",
          "state": {
            "_view_name": "LayoutView",
            "grid_template_rows": null,
            "right": null,
            "justify_content": null,
            "_view_module": "@jupyter-widgets/base",
            "overflow": null,
            "_model_module_version": "1.2.0",
            "_view_count": null,
            "flex_flow": null,
            "width": null,
            "min_width": null,
            "border": null,
            "align_items": null,
            "bottom": null,
            "_model_module": "@jupyter-widgets/base",
            "top": null,
            "grid_column": null,
            "overflow_y": null,
            "overflow_x": null,
            "grid_auto_flow": null,
            "grid_area": null,
            "grid_template_columns": null,
            "flex": null,
            "_model_name": "LayoutModel",
            "justify_items": null,
            "grid_row": null,
            "max_height": null,
            "align_content": null,
            "visibility": null,
            "align_self": null,
            "height": null,
            "min_height": null,
            "padding": null,
            "grid_auto_rows": null,
            "grid_gap": null,
            "max_width": null,
            "order": null,
            "_view_module_version": "1.2.0",
            "grid_template_areas": null,
            "object_position": null,
            "object_fit": null,
            "grid_auto_columns": null,
            "margin": null,
            "display": null,
            "left": null
          }
        },
        "7fd9a127e1ab4de09e4bbb141abfbbec": {
          "model_module": "@jupyter-widgets/controls",
          "model_name": "IntProgressModel",
          "state": {
            "_view_name": "ProgressView",
            "style": "IPY_MODEL_620f8407bb7443d48a205042be55c9e0",
            "_dom_classes": [],
            "description": "",
            "_model_name": "IntProgressModel",
            "bar_style": "success",
            "max": 5,
            "_view_module": "@jupyter-widgets/controls",
            "_model_module_version": "1.5.0",
            "value": 5,
            "_view_count": null,
            "_view_module_version": "1.5.0",
            "orientation": "horizontal",
            "min": 0,
            "description_tooltip": null,
            "_model_module": "@jupyter-widgets/controls",
            "layout": "IPY_MODEL_aedeac5d5bb449088e2dae10ed0ef39c"
          }
        },
        "23105cf89979461581cb405d53cbef30": {
          "model_module": "@jupyter-widgets/controls",
          "model_name": "HTMLModel",
          "state": {
            "_view_name": "HTMLView",
            "style": "IPY_MODEL_cc1f646088bb4b6e8734e4b801949f7e",
            "_dom_classes": [],
            "description": "",
            "_model_name": "HTMLModel",
            "placeholder": "​",
            "_view_module": "@jupyter-widgets/controls",
            "_model_module_version": "1.5.0",
            "value": "100% 5/5 [00:06&lt;00:00,  1.27s/it]",
            "_view_count": null,
            "_view_module_version": "1.5.0",
            "description_tooltip": null,
            "_model_module": "@jupyter-widgets/controls",
            "layout": "IPY_MODEL_e5508cc43ff64e77bb6c1d1c000a5ba1"
          }
        },
        "620f8407bb7443d48a205042be55c9e0": {
          "model_module": "@jupyter-widgets/controls",
          "model_name": "ProgressStyleModel",
          "state": {
            "_view_name": "StyleView",
            "_model_name": "ProgressStyleModel",
            "description_width": "",
            "_view_module": "@jupyter-widgets/base",
            "_model_module_version": "1.5.0",
            "_view_count": null,
            "_view_module_version": "1.2.0",
            "bar_color": null,
            "_model_module": "@jupyter-widgets/controls"
          }
        },
        "aedeac5d5bb449088e2dae10ed0ef39c": {
          "model_module": "@jupyter-widgets/base",
          "model_name": "LayoutModel",
          "state": {
            "_view_name": "LayoutView",
            "grid_template_rows": null,
            "right": null,
            "justify_content": null,
            "_view_module": "@jupyter-widgets/base",
            "overflow": null,
            "_model_module_version": "1.2.0",
            "_view_count": null,
            "flex_flow": null,
            "width": null,
            "min_width": null,
            "border": null,
            "align_items": null,
            "bottom": null,
            "_model_module": "@jupyter-widgets/base",
            "top": null,
            "grid_column": null,
            "overflow_y": null,
            "overflow_x": null,
            "grid_auto_flow": null,
            "grid_area": null,
            "grid_template_columns": null,
            "flex": null,
            "_model_name": "LayoutModel",
            "justify_items": null,
            "grid_row": null,
            "max_height": null,
            "align_content": null,
            "visibility": null,
            "align_self": null,
            "height": null,
            "min_height": null,
            "padding": null,
            "grid_auto_rows": null,
            "grid_gap": null,
            "max_width": null,
            "order": null,
            "_view_module_version": "1.2.0",
            "grid_template_areas": null,
            "object_position": null,
            "object_fit": null,
            "grid_auto_columns": null,
            "margin": null,
            "display": null,
            "left": null
          }
        },
        "cc1f646088bb4b6e8734e4b801949f7e": {
          "model_module": "@jupyter-widgets/controls",
          "model_name": "DescriptionStyleModel",
          "state": {
            "_view_name": "StyleView",
            "_model_name": "DescriptionStyleModel",
            "description_width": "",
            "_view_module": "@jupyter-widgets/base",
            "_model_module_version": "1.5.0",
            "_view_count": null,
            "_view_module_version": "1.2.0",
            "_model_module": "@jupyter-widgets/controls"
          }
        },
        "e5508cc43ff64e77bb6c1d1c000a5ba1": {
          "model_module": "@jupyter-widgets/base",
          "model_name": "LayoutModel",
          "state": {
            "_view_name": "LayoutView",
            "grid_template_rows": null,
            "right": null,
            "justify_content": null,
            "_view_module": "@jupyter-widgets/base",
            "overflow": null,
            "_model_module_version": "1.2.0",
            "_view_count": null,
            "flex_flow": null,
            "width": null,
            "min_width": null,
            "border": null,
            "align_items": null,
            "bottom": null,
            "_model_module": "@jupyter-widgets/base",
            "top": null,
            "grid_column": null,
            "overflow_y": null,
            "overflow_x": null,
            "grid_auto_flow": null,
            "grid_area": null,
            "grid_template_columns": null,
            "flex": null,
            "_model_name": "LayoutModel",
            "justify_items": null,
            "grid_row": null,
            "max_height": null,
            "align_content": null,
            "visibility": null,
            "align_self": null,
            "height": null,
            "min_height": null,
            "padding": null,
            "grid_auto_rows": null,
            "grid_gap": null,
            "max_width": null,
            "order": null,
            "_view_module_version": "1.2.0",
            "grid_template_areas": null,
            "object_position": null,
            "object_fit": null,
            "grid_auto_columns": null,
            "margin": null,
            "display": null,
            "left": null
          }
        }
      }
    }
  },
  "cells": [
    {
      "cell_type": "code",
      "metadata": {
        "id": "v2ZcIHg8e6Fb",
        "colab_type": "code",
        "colab": {}
      },
      "source": [
        "!pip install landsatxplore\n",
        "!pip install gdal\n",
        "!pip install rasterio"
      ],
      "execution_count": 0,
      "outputs": []
    },
    {
      "cell_type": "markdown",
      "metadata": {
        "id": "KqDp6XZIolru",
        "colab_type": "text"
      },
      "source": [
        "\n",
        "\n",
        "---\n",
        "\n"
      ]
    },
    {
      "cell_type": "markdown",
      "metadata": {
        "id": "ERrjpJvLoo_7",
        "colab_type": "text"
      },
      "source": [
        "**IMPORT LIBRARIES**"
      ]
    },
    {
      "cell_type": "code",
      "metadata": {
        "id": "XomWAZrCZNBy",
        "colab_type": "code",
        "colab": {}
      },
      "source": [
        "import rasterio\n",
        "from rasterio.plot import show\n",
        "import gdal\n",
        "from gdalconst import GA_ReadOnly \n",
        "import numpy as np\n",
        "import matplotlib.pyplot as plt\n",
        "from tqdm import tqdm_notebook as tqdm\n",
        "import subprocess\n",
        "IMG=2200"
      ],
      "execution_count": 0,
      "outputs": []
    },
    {
      "cell_type": "markdown",
      "metadata": {
        "id": "-KYfg4ntowEv",
        "colab_type": "text"
      },
      "source": [
        "\n",
        "\n",
        "---\n",
        "\n"
      ]
    },
    {
      "cell_type": "markdown",
      "metadata": {
        "id": "n26TQ8aDkE4Z",
        "colab_type": "text"
      },
      "source": [
        "**DOWNLOAD REFERENCE DATA SET**"
      ]
    },
    {
      "cell_type": "code",
      "metadata": {
        "id": "JZiQhdmXkCWc",
        "colab_type": "code",
        "colab": {}
      },
      "source": [
        "!wget https://land.copernicus.eu/land-files/7ac95361f9ac3cecdf37785bc183ff02dd765a16.zip\n",
        "!unzip /content/7ac95361f9ac3cecdf37785bc183ff02dd765a16.zip\n",
        "!unzip /content/clc2018_clc2018_v2018_20_raster100m.zip"
      ],
      "execution_count": 0,
      "outputs": []
    },
    {
      "cell_type": "markdown",
      "metadata": {
        "id": "y4pqwphspfCJ",
        "colab_type": "text"
      },
      "source": [
        "**TRANSFORM REFERENCE DATA**"
      ]
    },
    {
      "cell_type": "code",
      "metadata": {
        "id": "sqiLhKtxwXpJ",
        "colab_type": "code",
        "outputId": "1e5b575a-722e-4fa5-86fc-5ce359eac2bc",
        "colab": {
          "base_uri": "https://localhost:8080/",
          "height": 101
        }
      },
      "source": [
        "!gdalwarp -co \"COMPRESS=DEFLATE\" -t_srs EPSG:32618  '/content/clc2018_clc2018_v2018_20_raster100m/CLC2018_CLC2018_V2018_20.tif' europe-clc.tif"
      ],
      "execution_count": 0,
      "outputs": [
        {
          "output_type": "stream",
          "text": [
            "Creating output file that is 54709P x 82959L.\n",
            "Processing input file /content/clc2018_clc2018_v2018_20_raster100m/CLC2018_CLC2018_V2018_20.tif.\n",
            "Using internal nodata values (e.g. -32768) for image /content/clc2018_clc2018_v2018_20_raster100m/CLC2018_CLC2018_V2018_20.tif.\n",
            "Copying nodata values from source /content/clc2018_clc2018_v2018_20_raster100m/CLC2018_CLC2018_V2018_20.tif to destination europe-clc.tif.\n",
            "0...10...20...30...40...50...60...70...80...90...100 - done.\n"
          ],
          "name": "stdout"
        }
      ]
    },
    {
      "cell_type": "markdown",
      "metadata": {
        "id": "ncy5hH9Ap6HL",
        "colab_type": "text"
      },
      "source": [
        "\n",
        "\n",
        "---\n",
        "\n"
      ]
    },
    {
      "cell_type": "markdown",
      "metadata": {
        "id": "UXs_tIo8p7Cb",
        "colab_type": "text"
      },
      "source": [
        "**DOWNLOAD TEMPORAL SCENES OF WEST EUROPE**"
      ]
    },
    {
      "cell_type": "code",
      "metadata": {
        "id": "R2wiPXemiz2E",
        "colab_type": "code",
        "colab": {}
      },
      "source": [
        "from landsatxplore.earthexplorer import EarthExplorer\n",
        "ee = EarthExplorer('dtanmay08', '9Gn_cq6PETKJ#Qd')\n",
        "ee.download(scene_id='LC08_L1TP_201024_20180901_20180912_01_T1', output_dir='./data/scene1')\n",
        "ee.download(scene_id='LC08_L1TP_201024_20180629_20180716_01_T1', output_dir='./data/scene2')\n",
        "ee.download(scene_id='LC08_L1TP_201024_20170610_20170627_01_T1', output_dir='./data/scene3')\n",
        "ee.logout()\n",
        "\n"
      ],
      "execution_count": 0,
      "outputs": []
    },
    {
      "cell_type": "markdown",
      "metadata": {
        "id": "7C9cp7paqXlt",
        "colab_type": "text"
      },
      "source": [
        "\n",
        "\n",
        "---\n",
        "\n"
      ]
    },
    {
      "cell_type": "markdown",
      "metadata": {
        "id": "BsrQ_i1NqYeY",
        "colab_type": "text"
      },
      "source": [
        "**PREPROCESS SCENES**"
      ]
    },
    {
      "cell_type": "code",
      "metadata": {
        "id": "Q4mZ8rbR2fuC",
        "colab_type": "code",
        "colab": {}
      },
      "source": [
        "!tar xvzf '/content/data/scene1/LC08_L1TP_201024_20180901_20180912_01_T1.tar.gz' -C './data/scene1'\n",
        "!tar xvzf '/content/data/scene2/LC08_L1TP_201024_20180629_20180716_01_T1.tar.gz' -C './data/scene2'\n",
        "!tar xvzf '/content/data/scene3/LC08_L1TP_201024_20170610_20170627_01_T1.tar.gz' -C './data/scene3'"
      ],
      "execution_count": 0,
      "outputs": []
    },
    {
      "cell_type": "code",
      "metadata": {
        "id": "YkRc5zcARc-W",
        "colab_type": "code",
        "colab": {}
      },
      "source": [
        "!gdalwarp -co \"COMPRESS=DEFLATE\" -t_srs EPSG:32631  /content/clc2018_clc2018_v2018_20_raster100m/CLC2018_CLC2018_V2018_20.tif europe.tif"
      ],
      "execution_count": 0,
      "outputs": []
    },
    {
      "cell_type": "code",
      "metadata": {
        "id": "RXb8rEuiRdNm",
        "colab_type": "code",
        "colab": {}
      },
      "source": [
        "!gdalinfo europe.tif"
      ],
      "execution_count": 0,
      "outputs": []
    },
    {
      "cell_type": "code",
      "metadata": {
        "id": "FHpq2CgJRdKe",
        "colab_type": "code",
        "colab": {}
      },
      "source": [
        "data=gdal.Open('/content/data/scene1/LC08_L1TP_201024_20180901_20180912_01_T1_B1.TIF',GA_ReadOnly) \n",
        "geoTransform=data.GetGeoTransform() \n",
        "minx=geoTransform[0] \n",
        "maxy=geoTransform[3] \n",
        "maxx = minx + geoTransform[1] * data.RasterXSize \n",
        "miny = maxy + geoTransform[5] * data.RasterYSize \n",
        "subprocess.call('gdal_translate -projwin ' + ' '.join([str(x) for x in [minx, maxy, maxx, miny]]) + ' -of GTiff europe.tif img_out.tif', shell=True) "
      ],
      "execution_count": 0,
      "outputs": []
    },
    {
      "cell_type": "code",
      "metadata": {
        "id": "EGspQK55RdFj",
        "colab_type": "code",
        "outputId": "194bc3a1-7694-4099-f2ea-0d6811ecd8f8",
        "colab": {
          "base_uri": "https://localhost:8080/",
          "height": 84
        }
      },
      "source": [
        "!gdal_translate -co QUALITY=100 -co PROGRESSIVE=ON -outsize 2200 2200 -r bilinear '/content/img_out.tif' 'Y.tif'"
      ],
      "execution_count": 0,
      "outputs": [
        {
          "output_type": "stream",
          "text": [
            "Input file size is 2262, 2287\n",
            "Warning 6: driver GTiff does not support creation option QUALITY\n",
            "Warning 6: driver GTiff does not support creation option PROGRESSIVE\n",
            "0...10...20...30...40...50...60...70...80...90...100 - done.\n"
          ],
          "name": "stdout"
        }
      ]
    },
    {
      "cell_type": "markdown",
      "metadata": {
        "id": "o1n9tLoWYwRt",
        "colab_type": "text"
      },
      "source": [
        "SCENE 1 PREPROCESSING"
      ]
    },
    {
      "cell_type": "code",
      "metadata": {
        "id": "yn9chtqDWWrO",
        "colab_type": "code",
        "colab": {}
      },
      "source": [
        "!gdal_translate -co QUALITY=100 -co PROGRESSIVE=ON -outsize 2200 2200 -r bilinear '/content/data/scene1/LC08_L1TP_201024_20180901_20180912_01_T1_B2.TIF' 's1b2.tif'\n",
        "!gdal_translate -co QUALITY=100 -co PROGRESSIVE=ON -outsize 2200 2200 -r bilinear '/content/data/scene1/LC08_L1TP_201024_20180901_20180912_01_T1_B3.TIF' 's1b3.tif'\n",
        "!gdal_translate -co QUALITY=100 -co PROGRESSIVE=ON -outsize 2200 2200 -r bilinear '/content/data/scene1/LC08_L1TP_201024_20180901_20180912_01_T1_B4.TIF' 's1b4.tif'\n",
        "!gdal_translate -co QUALITY=100 -co PROGRESSIVE=ON -outsize 2200 2200 -r bilinear '/content/data/scene1/LC08_L1TP_201024_20180901_20180912_01_T1_B5.TIF' 's1b5.tif'\n",
        "!gdal_translate -co QUALITY=100 -co PROGRESSIVE=ON -outsize 2200 2200 -r bilinear '/content/data/scene1/LC08_L1TP_201024_20180901_20180912_01_T1_B6.TIF' 's1b6.tif'\n",
        "!gdal_translate -co QUALITY=100 -co PROGRESSIVE=ON -outsize 2200 2200 -r bilinear '/content/data/scene1/LC08_L1TP_201024_20180901_20180912_01_T1_B7.TIF' 's1b7.tif'"
      ],
      "execution_count": 0,
      "outputs": []
    },
    {
      "cell_type": "markdown",
      "metadata": {
        "id": "Fkz6I-M5X_0l",
        "colab_type": "text"
      },
      "source": [
        "SCENE 2 PREPROCESSING"
      ]
    },
    {
      "cell_type": "code",
      "metadata": {
        "id": "V9z8XrvsXIdn",
        "colab_type": "code",
        "colab": {}
      },
      "source": [
        "!gdal_translate -co QUALITY=100 -co PROGRESSIVE=ON -outsize 2200 2200 -r bilinear '/content/data/scene2/LC08_L1TP_201024_20180629_20180716_01_T1_B2.TIF' 's2b2.tif'\n",
        "!gdal_translate -co QUALITY=100 -co PROGRESSIVE=ON -outsize 2200 2200 -r bilinear '/content/data/scene2/LC08_L1TP_201024_20180629_20180716_01_T1_B3.TIF' 's2b3.tif'\n",
        "!gdal_translate -co QUALITY=100 -co PROGRESSIVE=ON -outsize 2200 2200 -r bilinear '/content/data/scene2/LC08_L1TP_201024_20180629_20180716_01_T1_B4.TIF' 's2b4.tif'\n",
        "!gdal_translate -co QUALITY=100 -co PROGRESSIVE=ON -outsize 2200 2200 -r bilinear '/content/data/scene2/LC08_L1TP_201024_20180629_20180716_01_T1_B5.TIF' 's2b5.tif'\n",
        "!gdal_translate -co QUALITY=100 -co PROGRESSIVE=ON -outsize 2200 2200 -r bilinear '/content/data/scene2/LC08_L1TP_201024_20180629_20180716_01_T1_B6.TIF' 's2b6.tif'\n",
        "!gdal_translate -co QUALITY=100 -co PROGRESSIVE=ON -outsize 2200 2200 -r bilinear '/content/data/scene2/LC08_L1TP_201024_20180629_20180716_01_T1_B7.TIF' 's2b7.tif'"
      ],
      "execution_count": 0,
      "outputs": []
    },
    {
      "cell_type": "markdown",
      "metadata": {
        "id": "TB-9A3F5YEFb",
        "colab_type": "text"
      },
      "source": [
        "SCENE 3 PREPROCESSING"
      ]
    },
    {
      "cell_type": "code",
      "metadata": {
        "id": "v1Ki05QaYGKO",
        "colab_type": "code",
        "outputId": "4d7baf46-4a18-4d1f-c724-b9f65e118210",
        "colab": {
          "base_uri": "https://localhost:8080/",
          "height": 420
        }
      },
      "source": [
        "!gdal_translate -co QUALITY=100 -co PROGRESSIVE=ON -outsize 2200 2200 -r bilinear '/content/data/scene3/LC08_L1TP_201024_20170610_20170627_01_T1_B2.TIF' 's3b2.tif'\n",
        "!gdal_translate -co QUALITY=100 -co PROGRESSIVE=ON -outsize 2200 2200 -r bilinear '/content/data/scene3/LC08_L1TP_201024_20170610_20170627_01_T1_B3.TIF' 's3b3.tif'\n",
        "!gdal_translate -co QUALITY=100 -co PROGRESSIVE=ON -outsize 2200 2200 -r bilinear '/content/data/scene3/LC08_L1TP_201024_20170610_20170627_01_T1_B4.TIF' 's3b4.tif'\n",
        "!gdal_translate -co QUALITY=100 -co PROGRESSIVE=ON -outsize 2200 2200 -r bilinear '/content/data/scene3/LC08_L1TP_201024_20170610_20170627_01_T1_B5.TIF' 's3b5.tif'\n",
        "!gdal_translate -co QUALITY=100 -co PROGRESSIVE=ON -outsize 2200 2200 -r bilinear '/content/data/scene3/LC08_L1TP_201024_20170610_20170627_01_T1_B6.TIF' 's3b6.tif'\n",
        "!gdal_translate -co QUALITY=100 -co PROGRESSIVE=ON -outsize 2200 2200 -r bilinear '/content/data/scene3/LC08_L1TP_201024_20170610_20170627_01_T1_B7.TIF' 's3b7.tif'"
      ],
      "execution_count": 0,
      "outputs": [
        {
          "output_type": "stream",
          "text": [
            "Input file size is 8091, 8171\n",
            "Warning 6: driver GTiff does not support creation option QUALITY\n",
            "Warning 6: driver GTiff does not support creation option PROGRESSIVE\n",
            "0...10...20...30...40...50...60...70...80...90...100 - done.\n",
            "Input file size is 8091, 8171\n",
            "Warning 6: driver GTiff does not support creation option QUALITY\n",
            "Warning 6: driver GTiff does not support creation option PROGRESSIVE\n",
            "0...10...20...30...40...50...60...70...80...90...100 - done.\n",
            "Input file size is 8091, 8171\n",
            "Warning 6: driver GTiff does not support creation option QUALITY\n",
            "Warning 6: driver GTiff does not support creation option PROGRESSIVE\n",
            "0...10...20...30...40...50...60...70...80...90...100 - done.\n",
            "Input file size is 8091, 8171\n",
            "Warning 6: driver GTiff does not support creation option QUALITY\n",
            "Warning 6: driver GTiff does not support creation option PROGRESSIVE\n",
            "0...10...20...30...40...50...60...70...80...90...100 - done.\n",
            "Input file size is 8091, 8171\n",
            "Warning 6: driver GTiff does not support creation option QUALITY\n",
            "Warning 6: driver GTiff does not support creation option PROGRESSIVE\n",
            "0...10...20...30...40...50...60...70...80...90...100 - done.\n",
            "Input file size is 8091, 8171\n",
            "Warning 6: driver GTiff does not support creation option QUALITY\n",
            "Warning 6: driver GTiff does not support creation option PROGRESSIVE\n",
            "0...10...20...30...40...50...60...70...80...90...100 - done.\n"
          ],
          "name": "stdout"
        }
      ]
    },
    {
      "cell_type": "markdown",
      "metadata": {
        "id": "7trWUiYUrnF5",
        "colab_type": "text"
      },
      "source": [
        "\n",
        "\n",
        "---\n",
        "\n"
      ]
    },
    {
      "cell_type": "markdown",
      "metadata": {
        "id": "AzenEZ8bZGHq",
        "colab_type": "text"
      },
      "source": [
        "**HELPER** **FUNCTIONS**"
      ]
    },
    {
      "cell_type": "code",
      "metadata": {
        "id": "nMUtteXFXIl3",
        "colab_type": "code",
        "colab": {}
      },
      "source": [
        "#CALCULATE SPECTRAL INDICES LIKE NDVI, NDBI etc..\n",
        "def calculate_spectral_index(band1,band2):\n",
        "  ndbi=np.where((band1+band2)==0.,0,(band1-band2)/(band1+band2))\n",
        "  return ndbi\n",
        "\n",
        "def read_band_data(fileName):\n",
        "        a=gdal.Open(fileName)\n",
        "        a1=a.GetRasterBand(1).ReadAsArray().astype(dtype='float')\n",
        "        return a1\n"
      ],
      "execution_count": 0,
      "outputs": []
    },
    {
      "cell_type": "code",
      "metadata": {
        "id": "3HXBMV0wXIhf",
        "colab_type": "code",
        "colab": {}
      },
      "source": [
        "#CALCULATE SPECTRAL INDICES FOR A SINGLE SCENE\n",
        "def calculate_all_indices_for_a_scene(root_name):\n",
        "        temp_list=[]\n",
        "        b2=read_band_data((root_name+'b'+str(2)+'.tif'))\n",
        "        b3=read_band_data((root_name+'b'+str(3)+'.tif'))\n",
        "        b4=read_band_data((root_name+'b'+str(4)+'.tif'))\n",
        "        b5=read_band_data((root_name+'b'+str(5)+'.tif'))\n",
        "        b6=read_band_data((root_name+'b'+str(6)+'.tif'))\n",
        "        b7=read_band_data((root_name+'b'+str(7)+'.tif'))\n",
        "\n",
        "        temp_list.append(calculate_spectral_index(b6,b5))\n",
        "        temp_list.append(calculate_spectral_index(b3,b5))\n",
        "        temp_list.append(calculate_spectral_index(b5,b4))\n",
        "        temp_list.append(calculate_spectral_index(b6,b7))\n",
        "        temp_list.append(calculate_spectral_index(b4,b2))\n",
        "        temp_list.append(calculate_spectral_index(b3,b2))\n",
        "\n",
        "        return temp_list"
      ],
      "execution_count": 0,
      "outputs": []
    },
    {
      "cell_type": "code",
      "metadata": {
        "id": "mMAFPZnw3bGf",
        "colab_type": "code",
        "colab": {}
      },
      "source": [
        "scene1_indices=calculate_all_indices_for_a_scene('s1')\n",
        "scene2_indices=calculate_all_indices_for_a_scene('s2')\n",
        "scene3_indices=calculate_all_indices_for_a_scene('s3')"
      ],
      "execution_count": 0,
      "outputs": []
    },
    {
      "cell_type": "code",
      "metadata": {
        "id": "1zczynFCZEc0",
        "colab_type": "code",
        "colab": {}
      },
      "source": [
        "#CALCULATE TEMPORAL STATISTICS LIKE MEAN, MIN, MAX etc..\n",
        "def calc_temporal_statistics(scene1,scene2,scene3):\n",
        "  temp_min = np.zeros(shape=(IMG,IMG))\n",
        "  temp_max = np.zeros(shape=(IMG,IMG))\n",
        "  temp_mean = np.zeros(shape=(IMG,IMG))\n",
        "  temp_std = np.zeros(shape=(IMG,IMG))\n",
        "  temp_mean_slope = np.zeros(shape=(IMG,IMG))\n",
        "\n",
        "  for i in tqdm(range(0,IMG)):\n",
        "    for j in range(0,IMG):\n",
        "      x=scene1[i][j]\n",
        "      y=scene2[i][j]\n",
        "      z=scene3[i][j]\n",
        "\n",
        "      temp_min[i][j]=np.amin([x,y,z])\n",
        "      temp_max[i][j]=np.amax([x,y,z])\n",
        "      temp_mean[i][j]=np.mean([x,y,z])\n",
        "      temp_std[i][j]=np.std([x,y,z])  \n",
        "      temp_mean_slope[i][j]=np.average(np.diff([x,y,z]))\n",
        "      \n",
        "  return (temp_min,temp_max,temp_mean,temp_std,temp_mean_slope)\n"
      ],
      "execution_count": 0,
      "outputs": []
    },
    {
      "cell_type": "markdown",
      "metadata": {
        "id": "EWPgK4qcsnKc",
        "colab_type": "text"
      },
      "source": [
        "\n",
        "\n",
        "---\n",
        "\n"
      ]
    },
    {
      "cell_type": "markdown",
      "metadata": {
        "id": "Ir0L4dxqsoGp",
        "colab_type": "text"
      },
      "source": [
        "**COMPUTE FEATURES BASED ON TEMPORAL CHARACTERSITCS OF DIFFERENT SCENES**"
      ]
    },
    {
      "cell_type": "code",
      "metadata": {
        "id": "fhY9YsGKZEig",
        "colab_type": "code",
        "outputId": "982126dd-aa5b-4b39-b80e-b494897f3fbe",
        "colab": {
          "base_uri": "https://localhost:8080/",
          "height": 66,
          "referenced_widgets": [
            "b7786fa167e84a9b928f4c3da3e67f23",
            "cfa34636a980489c88c9805d9f4419fb",
            "10f2dff24b174faa9ac1f65962759132",
            "00f849d538a544a7907a9be1e2870cd1",
            "e6112c617f6247cc8788d15ee9a4cb1f",
            "c82e2e2693a147c0b85b108adf29237d",
            "368250ed918841d58e16fb9767404b17",
            "085a1aaa97e545c185a3a0950183a86d"
          ]
        }
      },
      "source": [
        "ndbi_statistics=calc_temporal_statistics(scene1_indices[0],scene2_indices[0],scene3_indices[0])"
      ],
      "execution_count": 7,
      "outputs": [
        {
          "output_type": "display_data",
          "data": {
            "application/vnd.jupyter.widget-view+json": {
              "model_id": "b7786fa167e84a9b928f4c3da3e67f23",
              "version_minor": 0,
              "version_major": 2
            },
            "text/plain": [
              "HBox(children=(IntProgress(value=0, max=2200), HTML(value='')))"
            ]
          },
          "metadata": {
            "tags": []
          }
        },
        {
          "output_type": "stream",
          "text": [
            "\n"
          ],
          "name": "stdout"
        }
      ]
    },
    {
      "cell_type": "code",
      "metadata": {
        "id": "r2yYnqwIojt7",
        "colab_type": "code",
        "outputId": "3a90474e-1f29-487f-d731-0e23731a6d30",
        "colab": {
          "base_uri": "https://localhost:8080/",
          "height": 66,
          "referenced_widgets": [
            "047b8b39bcf144cc9c5b711251fd26da",
            "5d6bf9f5dc7349ec9b9c0c55d0525cb0",
            "59c68bb904024e3e86273b614bdaaf7a",
            "faf70f41eac942edb70f02e0eadc411d",
            "25f7d8c53cd8473a93f444f20f440e7b",
            "833fed91ef734891adbcb7235b2c2917",
            "f688a3157695450b9d46e25ac9348fe4",
            "cb43253c1ce54a1a88679d5d840d7db4"
          ]
        }
      },
      "source": [
        "mndwi_statistics=calc_temporal_statistics(scene1_indices[1],scene2_indices[1],scene3_indices[1])"
      ],
      "execution_count": 8,
      "outputs": [
        {
          "output_type": "display_data",
          "data": {
            "application/vnd.jupyter.widget-view+json": {
              "model_id": "047b8b39bcf144cc9c5b711251fd26da",
              "version_minor": 0,
              "version_major": 2
            },
            "text/plain": [
              "HBox(children=(IntProgress(value=0, max=2200), HTML(value='')))"
            ]
          },
          "metadata": {
            "tags": []
          }
        },
        {
          "output_type": "stream",
          "text": [
            "\n"
          ],
          "name": "stdout"
        }
      ]
    },
    {
      "cell_type": "code",
      "metadata": {
        "id": "7pHJiyEGoj8y",
        "colab_type": "code",
        "outputId": "52176965-a0fd-4db0-fe9c-1ab344dcbbd1",
        "colab": {
          "base_uri": "https://localhost:8080/",
          "height": 66,
          "referenced_widgets": [
            "60b6e4a4d1024e36a2455052aec96804",
            "9bafa91e8f2a42b58a216755e3028241",
            "924993aa5aee4e4aadc3ee4d6a6ac0ea",
            "e6187482de444ea1ad21df112acb62e5",
            "5ed9836b40ba426aa7d9b9bf3317c768",
            "9fe99f865c9c4185bec51c7a6c347662",
            "518c54ddf55147428a14c90e148b8f15",
            "cd7c1f75cf38411dad6ea3c6202aa1b5"
          ]
        }
      },
      "source": [
        "ndvi_statistics=calc_temporal_statistics(scene1_indices[2],scene2_indices[2],scene3_indices[2])"
      ],
      "execution_count": 9,
      "outputs": [
        {
          "output_type": "display_data",
          "data": {
            "application/vnd.jupyter.widget-view+json": {
              "model_id": "60b6e4a4d1024e36a2455052aec96804",
              "version_minor": 0,
              "version_major": 2
            },
            "text/plain": [
              "HBox(children=(IntProgress(value=0, max=2200), HTML(value='')))"
            ]
          },
          "metadata": {
            "tags": []
          }
        },
        {
          "output_type": "stream",
          "text": [
            "\n"
          ],
          "name": "stdout"
        }
      ]
    },
    {
      "cell_type": "code",
      "metadata": {
        "id": "hzaccrvJokF3",
        "colab_type": "code",
        "outputId": "9365fbc3-d121-4e62-890e-61e5c6c223f5",
        "colab": {
          "base_uri": "https://localhost:8080/",
          "height": 66,
          "referenced_widgets": [
            "ee89b38e89a7467c84c6a5e1d25f4cc3",
            "4aa2fda81faa4c1bab065c0d050ce97b",
            "0f61c1c9d64143c39e4bd4a938f238c2",
            "beaddd95021b41d48bb2b9eca40a9cd1",
            "7d2f83d9927c41c18ade1f9e398cbd0a",
            "30349fa2130343389953a99fd914e2b4",
            "3ca26894fc704af58863f1c07860b23c",
            "55836585277544ab90e81914bcfac7fe"
          ]
        }
      },
      "source": [
        "ndmir_statistics=calc_temporal_statistics(scene1_indices[3],scene2_indices[3],scene3_indices[3])"
      ],
      "execution_count": 10,
      "outputs": [
        {
          "output_type": "display_data",
          "data": {
            "application/vnd.jupyter.widget-view+json": {
              "model_id": "ee89b38e89a7467c84c6a5e1d25f4cc3",
              "version_minor": 0,
              "version_major": 2
            },
            "text/plain": [
              "HBox(children=(IntProgress(value=0, max=2200), HTML(value='')))"
            ]
          },
          "metadata": {
            "tags": []
          }
        },
        {
          "output_type": "stream",
          "text": [
            "\n"
          ],
          "name": "stdout"
        }
      ]
    },
    {
      "cell_type": "code",
      "metadata": {
        "id": "anhKY7_PokOX",
        "colab_type": "code",
        "outputId": "ab1370dd-57d9-441a-c823-c0839a52a08f",
        "colab": {
          "base_uri": "https://localhost:8080/",
          "height": 66,
          "referenced_widgets": [
            "6fe24b63ce9e4b62aa59b0df1b07b1cf",
            "8b8552571dc44d7da25195c61151b083",
            "a38fadf23ca740f0b38699e516fc1506",
            "6d8882a528914c90b70d9976d971c2cc",
            "6195bbdd34ea4ee68d567d58517bcbdc",
            "92929aada58f452da2fbd9e42dc5b2b6",
            "38b0503e4c564b09a65b230c7a15d01d",
            "fdbf3ce2b8704fee9b2d6b29d8755e40"
          ]
        }
      },
      "source": [
        "ndrb_statistics=calc_temporal_statistics(scene1_indices[4],scene2_indices[4],scene3_indices[4])"
      ],
      "execution_count": 11,
      "outputs": [
        {
          "output_type": "display_data",
          "data": {
            "application/vnd.jupyter.widget-view+json": {
              "model_id": "6fe24b63ce9e4b62aa59b0df1b07b1cf",
              "version_minor": 0,
              "version_major": 2
            },
            "text/plain": [
              "HBox(children=(IntProgress(value=0, max=2200), HTML(value='')))"
            ]
          },
          "metadata": {
            "tags": []
          }
        },
        {
          "output_type": "stream",
          "text": [
            "\n"
          ],
          "name": "stdout"
        }
      ]
    },
    {
      "cell_type": "code",
      "metadata": {
        "id": "mHlPygWCo0b8",
        "colab_type": "code",
        "outputId": "9b8e230d-f60f-4ffc-9973-ac450c7698a8",
        "colab": {
          "base_uri": "https://localhost:8080/",
          "height": 66,
          "referenced_widgets": [
            "e6b762234ed54e20a79f07923a40fe0f",
            "818c5f7f2a7445588ab012e7f6997e1c",
            "a5954299456b43f3a8151e001d7fba36",
            "68ac582f189541f2887232a829eb9f0f",
            "48cac27dd5654eb287187e91b38904ac",
            "dde5ec525a1e4191846723e405c0f956",
            "c20d3e40169a492f8b06f5f8c3daaecc",
            "56c74ec4ed92411f88de5a087a33f7cb"
          ]
        }
      },
      "source": [
        "ndgb_statistics=calc_temporal_statistics(scene1_indices[5],scene2_indices[5],scene3_indices[5])"
      ],
      "execution_count": 12,
      "outputs": [
        {
          "output_type": "display_data",
          "data": {
            "application/vnd.jupyter.widget-view+json": {
              "model_id": "e6b762234ed54e20a79f07923a40fe0f",
              "version_minor": 0,
              "version_major": 2
            },
            "text/plain": [
              "HBox(children=(IntProgress(value=0, max=2200), HTML(value='')))"
            ]
          },
          "metadata": {
            "tags": []
          }
        },
        {
          "output_type": "stream",
          "text": [
            "\n"
          ],
          "name": "stdout"
        }
      ]
    },
    {
      "cell_type": "markdown",
      "metadata": {
        "id": "rujfAHZzo3CQ",
        "colab_type": "text"
      },
      "source": [
        "**EXAMPLE: VISUALIZING TEMPORAL MAX OF NDBI**"
      ]
    },
    {
      "cell_type": "code",
      "metadata": {
        "id": "vwkHbgKtZEn6",
        "colab_type": "code",
        "outputId": "2e7890cc-88ce-44b9-e051-1e6dc68b2840",
        "colab": {
          "base_uri": "https://localhost:8080/",
          "height": 286
        }
      },
      "source": [
        "plt.imshow(ndbi_statistics[2]) "
      ],
      "execution_count": 39,
      "outputs": [
        {
          "output_type": "execute_result",
          "data": {
            "text/plain": [
              "<matplotlib.image.AxesImage at 0x7fc7593f47b8>"
            ]
          },
          "metadata": {
            "tags": []
          },
          "execution_count": 39
        },
        {
          "output_type": "display_data",
          "data": {
            "image/png": "[encoded data removed]",
            "text/plain": [
              "<Figure size 432x288 with 1 Axes>"
            ]
          },
          "metadata": {
            "tags": []
          }
        }
      ]
    },
    {
      "cell_type": "markdown",
      "metadata": {
        "id": "WQgdZocAtfco",
        "colab_type": "text"
      },
      "source": [
        "\n",
        "\n",
        "---\n",
        "\n"
      ]
    },
    {
      "cell_type": "markdown",
      "metadata": {
        "id": "__BiV1LotgV-",
        "colab_type": "text"
      },
      "source": [
        "**PREPARING TRAINING DATA**"
      ]
    },
    {
      "cell_type": "code",
      "metadata": {
        "id": "APNfZTH_AkXJ",
        "colab_type": "code",
        "outputId": "6d4074e2-1168-43a9-ff5b-cb77fc6f7930",
        "colab": {
          "base_uri": "https://localhost:8080/",
          "height": 50
        }
      },
      "source": [
        "tif2=gdal.Open('Y.tif')\n",
        "Y_raster = tif2.GetRasterBand(1).ReadAsArray()\n",
        "Y_raster[Y_raster <= 150] = 0\n",
        "Y_raster[Y_raster > 150] = 255\n",
        "print(\"UNIQUE CLASSES: \", np.unique(Y_raster))\n",
        "Y_list=Y_raster.flatten().tolist()\n",
        "y=np.reshape(Y_list,(IMG*IMG,1))\n",
        "print(y.shape)"
      ],
      "execution_count": 14,
      "outputs": [
        {
          "output_type": "stream",
          "text": [
            "UNIQUE CLASSES:  [  0 255]\n",
            "(4840000, 1)\n"
          ],
          "name": "stdout"
        }
      ]
    },
    {
      "cell_type": "code",
      "metadata": {
        "id": "EdYjfkpkZEt4",
        "colab_type": "code",
        "outputId": "58a41db4-c8b8-41cf-d8cd-e5f5e93bffdb",
        "colab": {
          "base_uri": "https://localhost:8080/",
          "height": 66,
          "referenced_widgets": [
            "7703fc27565e43e9ac59acceba056dde",
            "c1ff71f54e5b4cdfbdccaf98e22203aa",
            "7fd9a127e1ab4de09e4bbb141abfbbec",
            "23105cf89979461581cb405d53cbef30",
            "620f8407bb7443d48a205042be55c9e0",
            "aedeac5d5bb449088e2dae10ed0ef39c",
            "cc1f646088bb4b6e8734e4b801949f7e",
            "e5508cc43ff64e77bb6c1d1c000a5ba1"
          ]
        }
      },
      "source": [
        "records=[]\n",
        "for i in tqdm(range(0,5)):\n",
        "          records.append(ndbi_statistics[i].flatten().tolist())\n",
        "          records.append(mndwi_statistics[i].flatten().tolist())\n",
        "          records.append(ndvi_statistics[i].flatten().tolist())\n",
        "          records.append(ndmir_statistics[i].flatten().tolist())\n",
        "          records.append(ndrb_statistics[i].flatten().tolist())\n",
        "          records.append(ndgb_statistics[i].flatten().tolist())\n"
      ],
      "execution_count": 17,
      "outputs": [
        {
          "output_type": "display_data",
          "data": {
            "application/vnd.jupyter.widget-view+json": {
              "model_id": "7703fc27565e43e9ac59acceba056dde",
              "version_minor": 0,
              "version_major": 2
            },
            "text/plain": [
              "HBox(children=(IntProgress(value=0, max=5), HTML(value='')))"
            ]
          },
          "metadata": {
            "tags": []
          }
        },
        {
          "output_type": "stream",
          "text": [
            "\n"
          ],
          "name": "stdout"
        }
      ]
    },
    {
      "cell_type": "code",
      "metadata": {
        "id": "DCRBqxTs6-69",
        "colab_type": "code",
        "colab": {}
      },
      "source": [
        "record=np.column_stack(records)\n",
        "X=np.append(record, y, axis=1)\n",
        "print('FULL TRAINING DATA SHAPE: ')\n",
        "print(X.shape)\n"
      ],
      "execution_count": 0,
      "outputs": []
    },
    {
      "cell_type": "code",
      "metadata": {
        "id": "TT2Fp7NR8GF9",
        "colab_type": "code",
        "colab": {}
      },
      "source": [
        "#np.savetxt('X.csv',record[np.random.choice(np.shape(X)[0], 1000, replace=False), :],delimiter=\",\")"
      ],
      "execution_count": 0,
      "outputs": []
    },
    {
      "cell_type": "code",
      "metadata": {
        "id": "jZ7h2HAlTHWU",
        "colab_type": "code",
        "colab": {}
      },
      "source": [
        "X_small=X[np.random.choice(np.shape(X)[0], 10000, replace=False), :]\n",
        "X_train=X_small[:,0:30]\n",
        "Y_train=X_small[:,30]"
      ],
      "execution_count": 0,
      "outputs": []
    },
    {
      "cell_type": "markdown",
      "metadata": {
        "id": "yg-Z1goXuRJG",
        "colab_type": "text"
      },
      "source": [
        "\n",
        "\n",
        "---\n",
        "\n"
      ]
    },
    {
      "cell_type": "markdown",
      "metadata": {
        "id": "0shhi6ehR_RF",
        "colab_type": "text"
      },
      "source": [
        "**CLASSIFICATION SUPPORT VECTOR MACHINE - RBF KERNEL**"
      ]
    },
    {
      "cell_type": "markdown",
      "metadata": {
        "id": "VuSXgMogupRP",
        "colab_type": "text"
      },
      "source": [
        "TRAINING"
      ]
    },
    {
      "cell_type": "code",
      "metadata": {
        "id": "2Kf6auIsZFFH",
        "colab_type": "code",
        "colab": {
          "base_uri": "https://localhost:8080/",
          "height": 84
        },
        "outputId": "c06e4bc9-e3f2-4771-a1bf-d94c8bdcf66f"
      },
      "source": [
        "from sklearn.svm import SVC\n",
        "svclassifier = SVC(kernel='rbf',C=500,gamma=100)\n",
        "svclassifier.fit(X_train, Y_train)"
      ],
      "execution_count": 28,
      "outputs": [
        {
          "output_type": "execute_result",
          "data": {
            "text/plain": [
              "SVC(C=500, cache_size=200, class_weight=None, coef0=0.0,\n",
              "    decision_function_shape='ovr', degree=3, gamma=100, kernel='rbf',\n",
              "    max_iter=-1, probability=False, random_state=None, shrinking=True,\n",
              "    tol=0.001, verbose=False)"
            ]
          },
          "metadata": {
            "tags": []
          },
          "execution_count": 28
        }
      ]
    },
    {
      "cell_type": "markdown",
      "metadata": {
        "id": "Ai8LA7PsuzZ0",
        "colab_type": "text"
      },
      "source": [
        "PREDICTIONS"
      ]
    },
    {
      "cell_type": "code",
      "metadata": {
        "id": "mvnV_cJBu0ww",
        "colab_type": "code",
        "colab": {}
      },
      "source": [
        "Y_pred = svclassifier.predict(X[:,0:30])"
      ],
      "execution_count": 0,
      "outputs": []
    },
    {
      "cell_type": "markdown",
      "metadata": {
        "id": "Wx-li3Kju3hH",
        "colab_type": "text"
      },
      "source": [
        "METRICS"
      ]
    },
    {
      "cell_type": "code",
      "metadata": {
        "id": "anBVKraKSsgJ",
        "colab_type": "code",
        "outputId": "b6fcb1d7-d880-440f-b972-673305d65b01",
        "colab": {
          "base_uri": "https://localhost:8080/",
          "height": 168
        }
      },
      "source": [
        "from sklearn.metrics import classification_report\n",
        "print(classification_report(X[:,30], Y_pred))"
      ],
      "execution_count": 40,
      "outputs": [
        {
          "output_type": "stream",
          "text": [
            "              precision    recall  f1-score   support\n",
            "\n",
            "         0.0       0.73      0.37      0.49    880598\n",
            "       255.0       0.87      0.97      0.92   3959402\n",
            "\n",
            "    accuracy                           0.86   4840000\n",
            "   macro avg       0.80      0.67      0.70   4840000\n",
            "weighted avg       0.85      0.86      0.84   4840000\n",
            "\n"
          ],
          "name": "stdout"
        }
      ]
    },
    {
      "cell_type": "markdown",
      "metadata": {
        "id": "7GCaXyanvEny",
        "colab_type": "text"
      },
      "source": [
        "\n",
        "\n",
        "---\n",
        "\n"
      ]
    },
    {
      "cell_type": "markdown",
      "metadata": {
        "id": "86xmSFNlvGb3",
        "colab_type": "text"
      },
      "source": [
        "**VISUALIZATION OF RESULTS - HUMAN SETTLEMENT - WEST EUROPE AREA**"
      ]
    },
    {
      "cell_type": "markdown",
      "metadata": {
        "id": "LMU13kbZ05-u",
        "colab_type": "text"
      },
      "source": [
        "ORIGINAL RGB IMAGE"
      ]
    },
    {
      "cell_type": "code",
      "metadata": {
        "id": "93s76rq5ZFLv",
        "colab_type": "code",
        "colab": {
          "base_uri": "https://localhost:8080/",
          "height": 286
        },
        "outputId": "58556e35-797d-4b47-b43e-361f6bdb0834"
      },
      "source": [
        "s4=gdal.Open('s2b4.tif')\n",
        "red = s4.GetRasterBand(1).ReadAsArray()\n",
        "r=red.astype(dtype='int')\n",
        "\n",
        "s3 = gdal.Open('s2b3.tif')\n",
        "green = s3.GetRasterBand(1).ReadAsArray()\n",
        "g=green.astype(dtype='int')\n",
        "\n",
        "s2 = gdal.Open('s2b2.tif')\n",
        "blue = s2.GetRasterBand(1).ReadAsArray()\n",
        "b=blue.astype(dtype='int')\n",
        "\n",
        "def normalize(array):\n",
        "    array_min, array_max = array.min(), array.max()\n",
        "    return ((array - array_min)/(array_max - array_min))\n",
        "redn = normalize(r)\n",
        "greenn = normalize(g)\n",
        "bluen = normalize(b)\n",
        "\n",
        "rgb = np.dstack((redn, greenn, bluen))\n",
        "\n",
        "# Let's see how our color composite looks like\n",
        "plt.imshow(rgb)"
      ],
      "execution_count": 56,
      "outputs": [
        {
          "output_type": "execute_result",
          "data": {
            "text/plain": [
              "<matplotlib.image.AxesImage at 0x7fc758d1c400>"
            ]
          },
          "metadata": {
            "tags": []
          },
          "execution_count": 56
        },
        {
          "output_type": "display_data",
          "data": {
            "image/png": "[encoded data removed]",
            "text/plain": [
              "<Figure size 432x288 with 1 Axes>"
            ]
          },
          "metadata": {
            "tags": []
          }
        }
      ]
    },
    {
      "cell_type": "markdown",
      "metadata": {
        "id": "zwGfrvX20_XM",
        "colab_type": "text"
      },
      "source": [
        "CLASSIFICATION RESULTS : BLACK=BUILT UP, WHITE=OTHERS"
      ]
    },
    {
      "cell_type": "code",
      "metadata": {
        "id": "ULNtkFpCZFIf",
        "colab_type": "code",
        "outputId": "46248366-c5a6-476a-e1b5-0fb3bba50fb9",
        "colab": {
          "base_uri": "https://localhost:8080/",
          "height": 286
        }
      },
      "source": [
        "plt.gray()\n",
        "plt.imshow(np.reshape(Y_pred,(2200,2200)))"
      ],
      "execution_count": 32,
      "outputs": [
        {
          "output_type": "execute_result",
          "data": {
            "text/plain": [
              "<matplotlib.image.AxesImage at 0x7fc7595e47b8>"
            ]
          },
          "metadata": {
            "tags": []
          },
          "execution_count": 32
        },
        {
          "output_type": "display_data",
          "data": {
            "image/png": "[encoded data removed]",
            "text/plain": [
              "<Figure size 432x288 with 1 Axes>"
            ]
          },
          "metadata": {
            "tags": []
          }
        }
      ]
    }
  ]
}