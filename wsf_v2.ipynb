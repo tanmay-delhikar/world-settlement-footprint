{
  "nbformat": 4,
  "nbformat_minor": 0,
  "metadata": {
    "colab": {
      "name": "wsf-v2.ipynb",
      "provenance": [],
      "collapsed_sections": [],
      "machine_shape": "hm"
    },
    "kernelspec": {
      "name": "python3",
      "display_name": "Python 3"
    },
    "widgets": {
      "application/vnd.jupyter.widget-state+json": {
        "338efcd484c447a9806df25cbda8fd94": {
          "model_module": "@jupyter-widgets/controls",
          "model_name": "HBoxModel",
          "state": {
            "_view_name": "HBoxView",
            "_dom_classes": [],
            "_model_name": "HBoxModel",
            "_view_module": "@jupyter-widgets/controls",
            "_model_module_version": "1.5.0",
            "_view_count": null,
            "_view_module_version": "1.5.0",
            "box_style": "",
            "layout": "IPY_MODEL_6db6ffaf9bff4960924763397ec4beff",
            "_model_module": "@jupyter-widgets/controls",
            "children": [
              "IPY_MODEL_f50c69e2038c4b5388d23155949ac4b6",
              "IPY_MODEL_d14764e12ef34575b5a25930b5524e18"
            ]
          }
        },
        "6db6ffaf9bff4960924763397ec4beff": {
          "model_module": "@jupyter-widgets/base",
          "model_name": "LayoutModel",
          "state": {
            "_view_name": "LayoutView",
            "grid_template_rows": null,
            "right": null,
            "justify_content": null,
            "_view_module": "@jupyter-widgets/base",
            "overflow": null,
            "_model_module_version": "1.2.0",
            "_view_count": null,
            "flex_flow": null,
            "width": null,
            "min_width": null,
            "border": null,
            "align_items": null,
            "bottom": null,
            "_model_module": "@jupyter-widgets/base",
            "top": null,
            "grid_column": null,
            "overflow_y": null,
            "overflow_x": null,
            "grid_auto_flow": null,
            "grid_area": null,
            "grid_template_columns": null,
            "flex": null,
            "_model_name": "LayoutModel",
            "justify_items": null,
            "grid_row": null,
            "max_height": null,
            "align_content": null,
            "visibility": null,
            "align_self": null,
            "height": null,
            "min_height": null,
            "padding": null,
            "grid_auto_rows": null,
            "grid_gap": null,
            "max_width": null,
            "order": null,
            "_view_module_version": "1.2.0",
            "grid_template_areas": null,
            "object_position": null,
            "object_fit": null,
            "grid_auto_columns": null,
            "margin": null,
            "display": null,
            "left": null
          }
        },
        "f50c69e2038c4b5388d23155949ac4b6": {
          "model_module": "@jupyter-widgets/controls",
          "model_name": "IntProgressModel",
          "state": {
            "_view_name": "ProgressView",
            "style": "IPY_MODEL_b089a193a50844278bd1f640de1bc440",
            "_dom_classes": [],
            "description": "",
            "_model_name": "IntProgressModel",
            "bar_style": "success",
            "max": 2200,
            "_view_module": "@jupyter-widgets/controls",
            "_model_module_version": "1.5.0",
            "value": 2200,
            "_view_count": null,
            "_view_module_version": "1.5.0",
            "orientation": "horizontal",
            "min": 0,
            "description_tooltip": null,
            "_model_module": "@jupyter-widgets/controls",
            "layout": "IPY_MODEL_7176bfee82834320965f1d2cd4859396"
          }
        },
        "d14764e12ef34575b5a25930b5524e18": {
          "model_module": "@jupyter-widgets/controls",
          "model_name": "HTMLModel",
          "state": {
            "_view_name": "HTMLView",
            "style": "IPY_MODEL_5dc680dc8db6416db101466d21abd719",
            "_dom_classes": [],
            "description": "",
            "_model_name": "HTMLModel",
            "placeholder": "​",
            "_view_module": "@jupyter-widgets/controls",
            "_model_module_version": "1.5.0",
            "value": "100% 2200/2200 [06:41&lt;00:00,  6.20it/s]",
            "_view_count": null,
            "_view_module_version": "1.5.0",
            "description_tooltip": null,
            "_model_module": "@jupyter-widgets/controls",
            "layout": "IPY_MODEL_1225ee39537f4b93807fba28d72f35de"
          }
        },
        "b089a193a50844278bd1f640de1bc440": {
          "model_module": "@jupyter-widgets/controls",
          "model_name": "ProgressStyleModel",
          "state": {
            "_view_name": "StyleView",
            "_model_name": "ProgressStyleModel",
            "description_width": "",
            "_view_module": "@jupyter-widgets/base",
            "_model_module_version": "1.5.0",
            "_view_count": null,
            "_view_module_version": "1.2.0",
            "bar_color": null,
            "_model_module": "@jupyter-widgets/controls"
          }
        },
        "7176bfee82834320965f1d2cd4859396": {
          "model_module": "@jupyter-widgets/base",
          "model_name": "LayoutModel",
          "state": {
            "_view_name": "LayoutView",
            "grid_template_rows": null,
            "right": null,
            "justify_content": null,
            "_view_module": "@jupyter-widgets/base",
            "overflow": null,
            "_model_module_version": "1.2.0",
            "_view_count": null,
            "flex_flow": null,
            "width": null,
            "min_width": null,
            "border": null,
            "align_items": null,
            "bottom": null,
            "_model_module": "@jupyter-widgets/base",
            "top": null,
            "grid_column": null,
            "overflow_y": null,
            "overflow_x": null,
            "grid_auto_flow": null,
            "grid_area": null,
            "grid_template_columns": null,
            "flex": null,
            "_model_name": "LayoutModel",
            "justify_items": null,
            "grid_row": null,
            "max_height": null,
            "align_content": null,
            "visibility": null,
            "align_self": null,
            "height": null,
            "min_height": null,
            "padding": null,
            "grid_auto_rows": null,
            "grid_gap": null,
            "max_width": null,
            "order": null,
            "_view_module_version": "1.2.0",
            "grid_template_areas": null,
            "object_position": null,
            "object_fit": null,
            "grid_auto_columns": null,
            "margin": null,
            "display": null,
            "left": null
          }
        },
        "5dc680dc8db6416db101466d21abd719": {
          "model_module": "@jupyter-widgets/controls",
          "model_name": "DescriptionStyleModel",
          "state": {
            "_view_name": "StyleView",
            "_model_name": "DescriptionStyleModel",
            "description_width": "",
            "_view_module": "@jupyter-widgets/base",
            "_model_module_version": "1.5.0",
            "_view_count": null,
            "_view_module_version": "1.2.0",
            "_model_module": "@jupyter-widgets/controls"
          }
        },
        "1225ee39537f4b93807fba28d72f35de": {
          "model_module": "@jupyter-widgets/base",
          "model_name": "LayoutModel",
          "state": {
            "_view_name": "LayoutView",
            "grid_template_rows": null,
            "right": null,
            "justify_content": null,
            "_view_module": "@jupyter-widgets/base",
            "overflow": null,
            "_model_module_version": "1.2.0",
            "_view_count": null,
            "flex_flow": null,
            "width": null,
            "min_width": null,
            "border": null,
            "align_items": null,
            "bottom": null,
            "_model_module": "@jupyter-widgets/base",
            "top": null,
            "grid_column": null,
            "overflow_y": null,
            "overflow_x": null,
            "grid_auto_flow": null,
            "grid_area": null,
            "grid_template_columns": null,
            "flex": null,
            "_model_name": "LayoutModel",
            "justify_items": null,
            "grid_row": null,
            "max_height": null,
            "align_content": null,
            "visibility": null,
            "align_self": null,
            "height": null,
            "min_height": null,
            "padding": null,
            "grid_auto_rows": null,
            "grid_gap": null,
            "max_width": null,
            "order": null,
            "_view_module_version": "1.2.0",
            "grid_template_areas": null,
            "object_position": null,
            "object_fit": null,
            "grid_auto_columns": null,
            "margin": null,
            "display": null,
            "left": null
          }
        },
        "5a2f71f9e54244c7b383fd0f2fea26ae": {
          "model_module": "@jupyter-widgets/controls",
          "model_name": "HBoxModel",
          "state": {
            "_view_name": "HBoxView",
            "_dom_classes": [],
            "_model_name": "HBoxModel",
            "_view_module": "@jupyter-widgets/controls",
            "_model_module_version": "1.5.0",
            "_view_count": null,
            "_view_module_version": "1.5.0",
            "box_style": "",
            "layout": "IPY_MODEL_7908c5143ca44514a3cec269fef60645",
            "_model_module": "@jupyter-widgets/controls",
            "children": [
              "IPY_MODEL_71abcdd7b8fe44eea8cc12baf1215609",
              "IPY_MODEL_919c8528850246a48c71aab3466c1f5a"
            ]
          }
        },
        "7908c5143ca44514a3cec269fef60645": {
          "model_module": "@jupyter-widgets/base",
          "model_name": "LayoutModel",
          "state": {
            "_view_name": "LayoutView",
            "grid_template_rows": null,
            "right": null,
            "justify_content": null,
            "_view_module": "@jupyter-widgets/base",
            "overflow": null,
            "_model_module_version": "1.2.0",
            "_view_count": null,
            "flex_flow": null,
            "width": null,
            "min_width": null,
            "border": null,
            "align_items": null,
            "bottom": null,
            "_model_module": "@jupyter-widgets/base",
            "top": null,
            "grid_column": null,
            "overflow_y": null,
            "overflow_x": null,
            "grid_auto_flow": null,
            "grid_area": null,
            "grid_template_columns": null,
            "flex": null,
            "_model_name": "LayoutModel",
            "justify_items": null,
            "grid_row": null,
            "max_height": null,
            "align_content": null,
            "visibility": null,
            "align_self": null,
            "height": null,
            "min_height": null,
            "padding": null,
            "grid_auto_rows": null,
            "grid_gap": null,
            "max_width": null,
            "order": null,
            "_view_module_version": "1.2.0",
            "grid_template_areas": null,
            "object_position": null,
            "object_fit": null,
            "grid_auto_columns": null,
            "margin": null,
            "display": null,
            "left": null
          }
        },
        "71abcdd7b8fe44eea8cc12baf1215609": {
          "model_module": "@jupyter-widgets/controls",
          "model_name": "IntProgressModel",
          "state": {
            "_view_name": "ProgressView",
            "style": "IPY_MODEL_c5a4c042564b41e19828c86d9d1f7994",
            "_dom_classes": [],
            "description": "",
            "_model_name": "IntProgressModel",
            "bar_style": "success",
            "max": 2200,
            "_view_module": "@jupyter-widgets/controls",
            "_model_module_version": "1.5.0",
            "value": 2200,
            "_view_count": null,
            "_view_module_version": "1.5.0",
            "orientation": "horizontal",
            "min": 0,
            "description_tooltip": null,
            "_model_module": "@jupyter-widgets/controls",
            "layout": "IPY_MODEL_762bb84131b2415590dee16ef8183634"
          }
        },
        "919c8528850246a48c71aab3466c1f5a": {
          "model_module": "@jupyter-widgets/controls",
          "model_name": "HTMLModel",
          "state": {
            "_view_name": "HTMLView",
            "style": "IPY_MODEL_c6072fd0bd82491d8f74793716ef2821",
            "_dom_classes": [],
            "description": "",
            "_model_name": "HTMLModel",
            "placeholder": "​",
            "_view_module": "@jupyter-widgets/controls",
            "_model_module_version": "1.5.0",
            "value": "100% 2200/2200 [06:38&lt;00:00,  5.41it/s]",
            "_view_count": null,
            "_view_module_version": "1.5.0",
            "description_tooltip": null,
            "_model_module": "@jupyter-widgets/controls",
            "layout": "IPY_MODEL_a75aa263149e421abce3bd412073e105"
          }
        },
        "c5a4c042564b41e19828c86d9d1f7994": {
          "model_module": "@jupyter-widgets/controls",
          "model_name": "ProgressStyleModel",
          "state": {
            "_view_name": "StyleView",
            "_model_name": "ProgressStyleModel",
            "description_width": "",
            "_view_module": "@jupyter-widgets/base",
            "_model_module_version": "1.5.0",
            "_view_count": null,
            "_view_module_version": "1.2.0",
            "bar_color": null,
            "_model_module": "@jupyter-widgets/controls"
          }
        },
        "762bb84131b2415590dee16ef8183634": {
          "model_module": "@jupyter-widgets/base",
          "model_name": "LayoutModel",
          "state": {
            "_view_name": "LayoutView",
            "grid_template_rows": null,
            "right": null,
            "justify_content": null,
            "_view_module": "@jupyter-widgets/base",
            "overflow": null,
            "_model_module_version": "1.2.0",
            "_view_count": null,
            "flex_flow": null,
            "width": null,
            "min_width": null,
            "border": null,
            "align_items": null,
            "bottom": null,
            "_model_module": "@jupyter-widgets/base",
            "top": null,
            "grid_column": null,
            "overflow_y": null,
            "overflow_x": null,
            "grid_auto_flow": null,
            "grid_area": null,
            "grid_template_columns": null,
            "flex": null,
            "_model_name": "LayoutModel",
            "justify_items": null,
            "grid_row": null,
            "max_height": null,
            "align_content": null,
            "visibility": null,
            "align_self": null,
            "height": null,
            "min_height": null,
            "padding": null,
            "grid_auto_rows": null,
            "grid_gap": null,
            "max_width": null,
            "order": null,
            "_view_module_version": "1.2.0",
            "grid_template_areas": null,
            "object_position": null,
            "object_fit": null,
            "grid_auto_columns": null,
            "margin": null,
            "display": null,
            "left": null
          }
        },
        "c6072fd0bd82491d8f74793716ef2821": {
          "model_module": "@jupyter-widgets/controls",
          "model_name": "DescriptionStyleModel",
          "state": {
            "_view_name": "StyleView",
            "_model_name": "DescriptionStyleModel",
            "description_width": "",
            "_view_module": "@jupyter-widgets/base",
            "_model_module_version": "1.5.0",
            "_view_count": null,
            "_view_module_version": "1.2.0",
            "_model_module": "@jupyter-widgets/controls"
          }
        },
        "a75aa263149e421abce3bd412073e105": {
          "model_module": "@jupyter-widgets/base",
          "model_name": "LayoutModel",
          "state": {
            "_view_name": "LayoutView",
            "grid_template_rows": null,
            "right": null,
            "justify_content": null,
            "_view_module": "@jupyter-widgets/base",
            "overflow": null,
            "_model_module_version": "1.2.0",
            "_view_count": null,
            "flex_flow": null,
            "width": null,
            "min_width": null,
            "border": null,
            "align_items": null,
            "bottom": null,
            "_model_module": "@jupyter-widgets/base",
            "top": null,
            "grid_column": null,
            "overflow_y": null,
            "overflow_x": null,
            "grid_auto_flow": null,
            "grid_area": null,
            "grid_template_columns": null,
            "flex": null,
            "_model_name": "LayoutModel",
            "justify_items": null,
            "grid_row": null,
            "max_height": null,
            "align_content": null,
            "visibility": null,
            "align_self": null,
            "height": null,
            "min_height": null,
            "padding": null,
            "grid_auto_rows": null,
            "grid_gap": null,
            "max_width": null,
            "order": null,
            "_view_module_version": "1.2.0",
            "grid_template_areas": null,
            "object_position": null,
            "object_fit": null,
            "grid_auto_columns": null,
            "margin": null,
            "display": null,
            "left": null
          }
        },
        "77fd60dfbd4a4f2dbde5501e535aec91": {
          "model_module": "@jupyter-widgets/controls",
          "model_name": "HBoxModel",
          "state": {
            "_view_name": "HBoxView",
            "_dom_classes": [],
            "_model_name": "HBoxModel",
            "_view_module": "@jupyter-widgets/controls",
            "_model_module_version": "1.5.0",
            "_view_count": null,
            "_view_module_version": "1.5.0",
            "box_style": "",
            "layout": "IPY_MODEL_da9ca305d0dc483b83aca8349571ffea",
            "_model_module": "@jupyter-widgets/controls",
            "children": [
              "IPY_MODEL_5a0ac7ae9b524b4a856ea738e58e2518",
              "IPY_MODEL_2010c04d73ba4c86a017072a3eae087a"
            ]
          }
        },
        "da9ca305d0dc483b83aca8349571ffea": {
          "model_module": "@jupyter-widgets/base",
          "model_name": "LayoutModel",
          "state": {
            "_view_name": "LayoutView",
            "grid_template_rows": null,
            "right": null,
            "justify_content": null,
            "_view_module": "@jupyter-widgets/base",
            "overflow": null,
            "_model_module_version": "1.2.0",
            "_view_count": null,
            "flex_flow": null,
            "width": null,
            "min_width": null,
            "border": null,
            "align_items": null,
            "bottom": null,
            "_model_module": "@jupyter-widgets/base",
            "top": null,
            "grid_column": null,
            "overflow_y": null,
            "overflow_x": null,
            "grid_auto_flow": null,
            "grid_area": null,
            "grid_template_columns": null,
            "flex": null,
            "_model_name": "LayoutModel",
            "justify_items": null,
            "grid_row": null,
            "max_height": null,
            "align_content": null,
            "visibility": null,
            "align_self": null,
            "height": null,
            "min_height": null,
            "padding": null,
            "grid_auto_rows": null,
            "grid_gap": null,
            "max_width": null,
            "order": null,
            "_view_module_version": "1.2.0",
            "grid_template_areas": null,
            "object_position": null,
            "object_fit": null,
            "grid_auto_columns": null,
            "margin": null,
            "display": null,
            "left": null
          }
        },
        "5a0ac7ae9b524b4a856ea738e58e2518": {
          "model_module": "@jupyter-widgets/controls",
          "model_name": "IntProgressModel",
          "state": {
            "_view_name": "ProgressView",
            "style": "IPY_MODEL_62306cae233b40c6899ae54dbb720bf6",
            "_dom_classes": [],
            "description": "",
            "_model_name": "IntProgressModel",
            "bar_style": "success",
            "max": 2200,
            "_view_module": "@jupyter-widgets/controls",
            "_model_module_version": "1.5.0",
            "value": 2200,
            "_view_count": null,
            "_view_module_version": "1.5.0",
            "orientation": "horizontal",
            "min": 0,
            "description_tooltip": null,
            "_model_module": "@jupyter-widgets/controls",
            "layout": "IPY_MODEL_66272bc1112743cbb6f2e0ea327a645f"
          }
        },
        "2010c04d73ba4c86a017072a3eae087a": {
          "model_module": "@jupyter-widgets/controls",
          "model_name": "HTMLModel",
          "state": {
            "_view_name": "HTMLView",
            "style": "IPY_MODEL_65e96df1ab0d4882a2aef2233e37f599",
            "_dom_classes": [],
            "description": "",
            "_model_name": "HTMLModel",
            "placeholder": "​",
            "_view_module": "@jupyter-widgets/controls",
            "_model_module_version": "1.5.0",
            "value": "100% 2200/2200 [06:39&lt;00:00,  5.31it/s]",
            "_view_count": null,
            "_view_module_version": "1.5.0",
            "description_tooltip": null,
            "_model_module": "@jupyter-widgets/controls",
            "layout": "IPY_MODEL_834bfa9091da46c2a47e88d9a441bca4"
          }
        },
        "62306cae233b40c6899ae54dbb720bf6": {
          "model_module": "@jupyter-widgets/controls",
          "model_name": "ProgressStyleModel",
          "state": {
            "_view_name": "StyleView",
            "_model_name": "ProgressStyleModel",
            "description_width": "",
            "_view_module": "@jupyter-widgets/base",
            "_model_module_version": "1.5.0",
            "_view_count": null,
            "_view_module_version": "1.2.0",
            "bar_color": null,
            "_model_module": "@jupyter-widgets/controls"
          }
        },
        "66272bc1112743cbb6f2e0ea327a645f": {
          "model_module": "@jupyter-widgets/base",
          "model_name": "LayoutModel",
          "state": {
            "_view_name": "LayoutView",
            "grid_template_rows": null,
            "right": null,
            "justify_content": null,
            "_view_module": "@jupyter-widgets/base",
            "overflow": null,
            "_model_module_version": "1.2.0",
            "_view_count": null,
            "flex_flow": null,
            "width": null,
            "min_width": null,
            "border": null,
            "align_items": null,
            "bottom": null,
            "_model_module": "@jupyter-widgets/base",
            "top": null,
            "grid_column": null,
            "overflow_y": null,
            "overflow_x": null,
            "grid_auto_flow": null,
            "grid_area": null,
            "grid_template_columns": null,
            "flex": null,
            "_model_name": "LayoutModel",
            "justify_items": null,
            "grid_row": null,
            "max_height": null,
            "align_content": null,
            "visibility": null,
            "align_self": null,
            "height": null,
            "min_height": null,
            "padding": null,
            "grid_auto_rows": null,
            "grid_gap": null,
            "max_width": null,
            "order": null,
            "_view_module_version": "1.2.0",
            "grid_template_areas": null,
            "object_position": null,
            "object_fit": null,
            "grid_auto_columns": null,
            "margin": null,
            "display": null,
            "left": null
          }
        },
        "65e96df1ab0d4882a2aef2233e37f599": {
          "model_module": "@jupyter-widgets/controls",
          "model_name": "DescriptionStyleModel",
          "state": {
            "_view_name": "StyleView",
            "_model_name": "DescriptionStyleModel",
            "description_width": "",
            "_view_module": "@jupyter-widgets/base",
            "_model_module_version": "1.5.0",
            "_view_count": null,
            "_view_module_version": "1.2.0",
            "_model_module": "@jupyter-widgets/controls"
          }
        },
        "834bfa9091da46c2a47e88d9a441bca4": {
          "model_module": "@jupyter-widgets/base",
          "model_name": "LayoutModel",
          "state": {
            "_view_name": "LayoutView",
            "grid_template_rows": null,
            "right": null,
            "justify_content": null,
            "_view_module": "@jupyter-widgets/base",
            "overflow": null,
            "_model_module_version": "1.2.0",
            "_view_count": null,
            "flex_flow": null,
            "width": null,
            "min_width": null,
            "border": null,
            "align_items": null,
            "bottom": null,
            "_model_module": "@jupyter-widgets/base",
            "top": null,
            "grid_column": null,
            "overflow_y": null,
            "overflow_x": null,
            "grid_auto_flow": null,
            "grid_area": null,
            "grid_template_columns": null,
            "flex": null,
            "_model_name": "LayoutModel",
            "justify_items": null,
            "grid_row": null,
            "max_height": null,
            "align_content": null,
            "visibility": null,
            "align_self": null,
            "height": null,
            "min_height": null,
            "padding": null,
            "grid_auto_rows": null,
            "grid_gap": null,
            "max_width": null,
            "order": null,
            "_view_module_version": "1.2.0",
            "grid_template_areas": null,
            "object_position": null,
            "object_fit": null,
            "grid_auto_columns": null,
            "margin": null,
            "display": null,
            "left": null
          }
        },
        "e1302099abc94c6b822669cad6332e20": {
          "model_module": "@jupyter-widgets/controls",
          "model_name": "HBoxModel",
          "state": {
            "_view_name": "HBoxView",
            "_dom_classes": [],
            "_model_name": "HBoxModel",
            "_view_module": "@jupyter-widgets/controls",
            "_model_module_version": "1.5.0",
            "_view_count": null,
            "_view_module_version": "1.5.0",
            "box_style": "",
            "layout": "IPY_MODEL_37b8025bb1ce496780b8f071eab523ad",
            "_model_module": "@jupyter-widgets/controls",
            "children": [
              "IPY_MODEL_9facdc2634bf4280929146927aee7c45",
              "IPY_MODEL_3c3e57903fb94815b2de407649b8b8ae"
            ]
          }
        },
        "37b8025bb1ce496780b8f071eab523ad": {
          "model_module": "@jupyter-widgets/base",
          "model_name": "LayoutModel",
          "state": {
            "_view_name": "LayoutView",
            "grid_template_rows": null,
            "right": null,
            "justify_content": null,
            "_view_module": "@jupyter-widgets/base",
            "overflow": null,
            "_model_module_version": "1.2.0",
            "_view_count": null,
            "flex_flow": null,
            "width": null,
            "min_width": null,
            "border": null,
            "align_items": null,
            "bottom": null,
            "_model_module": "@jupyter-widgets/base",
            "top": null,
            "grid_column": null,
            "overflow_y": null,
            "overflow_x": null,
            "grid_auto_flow": null,
            "grid_area": null,
            "grid_template_columns": null,
            "flex": null,
            "_model_name": "LayoutModel",
            "justify_items": null,
            "grid_row": null,
            "max_height": null,
            "align_content": null,
            "visibility": null,
            "align_self": null,
            "height": null,
            "min_height": null,
            "padding": null,
            "grid_auto_rows": null,
            "grid_gap": null,
            "max_width": null,
            "order": null,
            "_view_module_version": "1.2.0",
            "grid_template_areas": null,
            "object_position": null,
            "object_fit": null,
            "grid_auto_columns": null,
            "margin": null,
            "display": null,
            "left": null
          }
        },
        "9facdc2634bf4280929146927aee7c45": {
          "model_module": "@jupyter-widgets/controls",
          "model_name": "IntProgressModel",
          "state": {
            "_view_name": "ProgressView",
            "style": "IPY_MODEL_a54a995f90004c97884616521dfd776f",
            "_dom_classes": [],
            "description": "",
            "_model_name": "IntProgressModel",
            "bar_style": "success",
            "max": 2200,
            "_view_module": "@jupyter-widgets/controls",
            "_model_module_version": "1.5.0",
            "value": 2200,
            "_view_count": null,
            "_view_module_version": "1.5.0",
            "orientation": "horizontal",
            "min": 0,
            "description_tooltip": null,
            "_model_module": "@jupyter-widgets/controls",
            "layout": "IPY_MODEL_4894fb0dc2e344f0a7a854ff36dc313a"
          }
        },
        "3c3e57903fb94815b2de407649b8b8ae": {
          "model_module": "@jupyter-widgets/controls",
          "model_name": "HTMLModel",
          "state": {
            "_view_name": "HTMLView",
            "style": "IPY_MODEL_042b715a2b654bfbb54a896a9f1471d2",
            "_dom_classes": [],
            "description": "",
            "_model_name": "HTMLModel",
            "placeholder": "​",
            "_view_module": "@jupyter-widgets/controls",
            "_model_module_version": "1.5.0",
            "value": "100% 2200/2200 [06:40&lt;00:00,  5.61it/s]",
            "_view_count": null,
            "_view_module_version": "1.5.0",
            "description_tooltip": null,
            "_model_module": "@jupyter-widgets/controls",
            "layout": "IPY_MODEL_e0f1a1ffa14b43d1a14df6b9a0438890"
          }
        },
        "a54a995f90004c97884616521dfd776f": {
          "model_module": "@jupyter-widgets/controls",
          "model_name": "ProgressStyleModel",
          "state": {
            "_view_name": "StyleView",
            "_model_name": "ProgressStyleModel",
            "description_width": "",
            "_view_module": "@jupyter-widgets/base",
            "_model_module_version": "1.5.0",
            "_view_count": null,
            "_view_module_version": "1.2.0",
            "bar_color": null,
            "_model_module": "@jupyter-widgets/controls"
          }
        },
        "4894fb0dc2e344f0a7a854ff36dc313a": {
          "model_module": "@jupyter-widgets/base",
          "model_name": "LayoutModel",
          "state": {
            "_view_name": "LayoutView",
            "grid_template_rows": null,
            "right": null,
            "justify_content": null,
            "_view_module": "@jupyter-widgets/base",
            "overflow": null,
            "_model_module_version": "1.2.0",
            "_view_count": null,
            "flex_flow": null,
            "width": null,
            "min_width": null,
            "border": null,
            "align_items": null,
            "bottom": null,
            "_model_module": "@jupyter-widgets/base",
            "top": null,
            "grid_column": null,
            "overflow_y": null,
            "overflow_x": null,
            "grid_auto_flow": null,
            "grid_area": null,
            "grid_template_columns": null,
            "flex": null,
            "_model_name": "LayoutModel",
            "justify_items": null,
            "grid_row": null,
            "max_height": null,
            "align_content": null,
            "visibility": null,
            "align_self": null,
            "height": null,
            "min_height": null,
            "padding": null,
            "grid_auto_rows": null,
            "grid_gap": null,
            "max_width": null,
            "order": null,
            "_view_module_version": "1.2.0",
            "grid_template_areas": null,
            "object_position": null,
            "object_fit": null,
            "grid_auto_columns": null,
            "margin": null,
            "display": null,
            "left": null
          }
        },
        "042b715a2b654bfbb54a896a9f1471d2": {
          "model_module": "@jupyter-widgets/controls",
          "model_name": "DescriptionStyleModel",
          "state": {
            "_view_name": "StyleView",
            "_model_name": "DescriptionStyleModel",
            "description_width": "",
            "_view_module": "@jupyter-widgets/base",
            "_model_module_version": "1.5.0",
            "_view_count": null,
            "_view_module_version": "1.2.0",
            "_model_module": "@jupyter-widgets/controls"
          }
        },
        "e0f1a1ffa14b43d1a14df6b9a0438890": {
          "model_module": "@jupyter-widgets/base",
          "model_name": "LayoutModel",
          "state": {
            "_view_name": "LayoutView",
            "grid_template_rows": null,
            "right": null,
            "justify_content": null,
            "_view_module": "@jupyter-widgets/base",
            "overflow": null,
            "_model_module_version": "1.2.0",
            "_view_count": null,
            "flex_flow": null,
            "width": null,
            "min_width": null,
            "border": null,
            "align_items": null,
            "bottom": null,
            "_model_module": "@jupyter-widgets/base",
            "top": null,
            "grid_column": null,
            "overflow_y": null,
            "overflow_x": null,
            "grid_auto_flow": null,
            "grid_area": null,
            "grid_template_columns": null,
            "flex": null,
            "_model_name": "LayoutModel",
            "justify_items": null,
            "grid_row": null,
            "max_height": null,
            "align_content": null,
            "visibility": null,
            "align_self": null,
            "height": null,
            "min_height": null,
            "padding": null,
            "grid_auto_rows": null,
            "grid_gap": null,
            "max_width": null,
            "order": null,
            "_view_module_version": "1.2.0",
            "grid_template_areas": null,
            "object_position": null,
            "object_fit": null,
            "grid_auto_columns": null,
            "margin": null,
            "display": null,
            "left": null
          }
        },
        "5c0d037cc4dc44db9467203f68a235fc": {
          "model_module": "@jupyter-widgets/controls",
          "model_name": "HBoxModel",
          "state": {
            "_view_name": "HBoxView",
            "_dom_classes": [],
            "_model_name": "HBoxModel",
            "_view_module": "@jupyter-widgets/controls",
            "_model_module_version": "1.5.0",
            "_view_count": null,
            "_view_module_version": "1.5.0",
            "box_style": "",
            "layout": "IPY_MODEL_c2c73c397d7148ca8a069f6fa9880b5b",
            "_model_module": "@jupyter-widgets/controls",
            "children": [
              "IPY_MODEL_30c8d43264224486b264ab536e156d1a",
              "IPY_MODEL_5a619175e31e42d4abba8f83c72bd16d"
            ]
          }
        },
        "c2c73c397d7148ca8a069f6fa9880b5b": {
          "model_module": "@jupyter-widgets/base",
          "model_name": "LayoutModel",
          "state": {
            "_view_name": "LayoutView",
            "grid_template_rows": null,
            "right": null,
            "justify_content": null,
            "_view_module": "@jupyter-widgets/base",
            "overflow": null,
            "_model_module_version": "1.2.0",
            "_view_count": null,
            "flex_flow": null,
            "width": null,
            "min_width": null,
            "border": null,
            "align_items": null,
            "bottom": null,
            "_model_module": "@jupyter-widgets/base",
            "top": null,
            "grid_column": null,
            "overflow_y": null,
            "overflow_x": null,
            "grid_auto_flow": null,
            "grid_area": null,
            "grid_template_columns": null,
            "flex": null,
            "_model_name": "LayoutModel",
            "justify_items": null,
            "grid_row": null,
            "max_height": null,
            "align_content": null,
            "visibility": null,
            "align_self": null,
            "height": null,
            "min_height": null,
            "padding": null,
            "grid_auto_rows": null,
            "grid_gap": null,
            "max_width": null,
            "order": null,
            "_view_module_version": "1.2.0",
            "grid_template_areas": null,
            "object_position": null,
            "object_fit": null,
            "grid_auto_columns": null,
            "margin": null,
            "display": null,
            "left": null
          }
        },
        "30c8d43264224486b264ab536e156d1a": {
          "model_module": "@jupyter-widgets/controls",
          "model_name": "IntProgressModel",
          "state": {
            "_view_name": "ProgressView",
            "style": "IPY_MODEL_c4f9c88ffb6c4adf9791e7ecd4e92514",
            "_dom_classes": [],
            "description": "",
            "_model_name": "IntProgressModel",
            "bar_style": "success",
            "max": 2200,
            "_view_module": "@jupyter-widgets/controls",
            "_model_module_version": "1.5.0",
            "value": 2200,
            "_view_count": null,
            "_view_module_version": "1.5.0",
            "orientation": "horizontal",
            "min": 0,
            "description_tooltip": null,
            "_model_module": "@jupyter-widgets/controls",
            "layout": "IPY_MODEL_e5cf26c5b0b74d8ba83003ddb1df9784"
          }
        },
        "5a619175e31e42d4abba8f83c72bd16d": {
          "model_module": "@jupyter-widgets/controls",
          "model_name": "HTMLModel",
          "state": {
            "_view_name": "HTMLView",
            "style": "IPY_MODEL_70e8cc3ba9ef485b98b2dc897901d690",
            "_dom_classes": [],
            "description": "",
            "_model_name": "HTMLModel",
            "placeholder": "​",
            "_view_module": "@jupyter-widgets/controls",
            "_model_module_version": "1.5.0",
            "value": "100% 2200/2200 [06:42&lt;00:00,  5.30it/s]",
            "_view_count": null,
            "_view_module_version": "1.5.0",
            "description_tooltip": null,
            "_model_module": "@jupyter-widgets/controls",
            "layout": "IPY_MODEL_7cdf114105ac4a4f940aa5690e748023"
          }
        },
        "c4f9c88ffb6c4adf9791e7ecd4e92514": {
          "model_module": "@jupyter-widgets/controls",
          "model_name": "ProgressStyleModel",
          "state": {
            "_view_name": "StyleView",
            "_model_name": "ProgressStyleModel",
            "description_width": "",
            "_view_module": "@jupyter-widgets/base",
            "_model_module_version": "1.5.0",
            "_view_count": null,
            "_view_module_version": "1.2.0",
            "bar_color": null,
            "_model_module": "@jupyter-widgets/controls"
          }
        },
        "e5cf26c5b0b74d8ba83003ddb1df9784": {
          "model_module": "@jupyter-widgets/base",
          "model_name": "LayoutModel",
          "state": {
            "_view_name": "LayoutView",
            "grid_template_rows": null,
            "right": null,
            "justify_content": null,
            "_view_module": "@jupyter-widgets/base",
            "overflow": null,
            "_model_module_version": "1.2.0",
            "_view_count": null,
            "flex_flow": null,
            "width": null,
            "min_width": null,
            "border": null,
            "align_items": null,
            "bottom": null,
            "_model_module": "@jupyter-widgets/base",
            "top": null,
            "grid_column": null,
            "overflow_y": null,
            "overflow_x": null,
            "grid_auto_flow": null,
            "grid_area": null,
            "grid_template_columns": null,
            "flex": null,
            "_model_name": "LayoutModel",
            "justify_items": null,
            "grid_row": null,
            "max_height": null,
            "align_content": null,
            "visibility": null,
            "align_self": null,
            "height": null,
            "min_height": null,
            "padding": null,
            "grid_auto_rows": null,
            "grid_gap": null,
            "max_width": null,
            "order": null,
            "_view_module_version": "1.2.0",
            "grid_template_areas": null,
            "object_position": null,
            "object_fit": null,
            "grid_auto_columns": null,
            "margin": null,
            "display": null,
            "left": null
          }
        },
        "70e8cc3ba9ef485b98b2dc897901d690": {
          "model_module": "@jupyter-widgets/controls",
          "model_name": "DescriptionStyleModel",
          "state": {
            "_view_name": "StyleView",
            "_model_name": "DescriptionStyleModel",
            "description_width": "",
            "_view_module": "@jupyter-widgets/base",
            "_model_module_version": "1.5.0",
            "_view_count": null,
            "_view_module_version": "1.2.0",
            "_model_module": "@jupyter-widgets/controls"
          }
        },
        "7cdf114105ac4a4f940aa5690e748023": {
          "model_module": "@jupyter-widgets/base",
          "model_name": "LayoutModel",
          "state": {
            "_view_name": "LayoutView",
            "grid_template_rows": null,
            "right": null,
            "justify_content": null,
            "_view_module": "@jupyter-widgets/base",
            "overflow": null,
            "_model_module_version": "1.2.0",
            "_view_count": null,
            "flex_flow": null,
            "width": null,
            "min_width": null,
            "border": null,
            "align_items": null,
            "bottom": null,
            "_model_module": "@jupyter-widgets/base",
            "top": null,
            "grid_column": null,
            "overflow_y": null,
            "overflow_x": null,
            "grid_auto_flow": null,
            "grid_area": null,
            "grid_template_columns": null,
            "flex": null,
            "_model_name": "LayoutModel",
            "justify_items": null,
            "grid_row": null,
            "max_height": null,
            "align_content": null,
            "visibility": null,
            "align_self": null,
            "height": null,
            "min_height": null,
            "padding": null,
            "grid_auto_rows": null,
            "grid_gap": null,
            "max_width": null,
            "order": null,
            "_view_module_version": "1.2.0",
            "grid_template_areas": null,
            "object_position": null,
            "object_fit": null,
            "grid_auto_columns": null,
            "margin": null,
            "display": null,
            "left": null
          }
        },
        "893acdfe15d040b0adf5f351203bdebf": {
          "model_module": "@jupyter-widgets/controls",
          "model_name": "HBoxModel",
          "state": {
            "_view_name": "HBoxView",
            "_dom_classes": [],
            "_model_name": "HBoxModel",
            "_view_module": "@jupyter-widgets/controls",
            "_model_module_version": "1.5.0",
            "_view_count": null,
            "_view_module_version": "1.5.0",
            "box_style": "",
            "layout": "IPY_MODEL_768a51c5547d4408ad392f958bd60f60",
            "_model_module": "@jupyter-widgets/controls",
            "children": [
              "IPY_MODEL_dce5db60230343c1a812df741b590756",
              "IPY_MODEL_809ebffb488b462f8d4252991192ad83"
            ]
          }
        },
        "768a51c5547d4408ad392f958bd60f60": {
          "model_module": "@jupyter-widgets/base",
          "model_name": "LayoutModel",
          "state": {
            "_view_name": "LayoutView",
            "grid_template_rows": null,
            "right": null,
            "justify_content": null,
            "_view_module": "@jupyter-widgets/base",
            "overflow": null,
            "_model_module_version": "1.2.0",
            "_view_count": null,
            "flex_flow": null,
            "width": null,
            "min_width": null,
            "border": null,
            "align_items": null,
            "bottom": null,
            "_model_module": "@jupyter-widgets/base",
            "top": null,
            "grid_column": null,
            "overflow_y": null,
            "overflow_x": null,
            "grid_auto_flow": null,
            "grid_area": null,
            "grid_template_columns": null,
            "flex": null,
            "_model_name": "LayoutModel",
            "justify_items": null,
            "grid_row": null,
            "max_height": null,
            "align_content": null,
            "visibility": null,
            "align_self": null,
            "height": null,
            "min_height": null,
            "padding": null,
            "grid_auto_rows": null,
            "grid_gap": null,
            "max_width": null,
            "order": null,
            "_view_module_version": "1.2.0",
            "grid_template_areas": null,
            "object_position": null,
            "object_fit": null,
            "grid_auto_columns": null,
            "margin": null,
            "display": null,
            "left": null
          }
        },
        "dce5db60230343c1a812df741b590756": {
          "model_module": "@jupyter-widgets/controls",
          "model_name": "IntProgressModel",
          "state": {
            "_view_name": "ProgressView",
            "style": "IPY_MODEL_ea06f488f50947e78d198bcd8ee87253",
            "_dom_classes": [],
            "description": "",
            "_model_name": "IntProgressModel",
            "bar_style": "success",
            "max": 2200,
            "_view_module": "@jupyter-widgets/controls",
            "_model_module_version": "1.5.0",
            "value": 2200,
            "_view_count": null,
            "_view_module_version": "1.5.0",
            "orientation": "horizontal",
            "min": 0,
            "description_tooltip": null,
            "_model_module": "@jupyter-widgets/controls",
            "layout": "IPY_MODEL_197866efa45541839e820678b8ae68a2"
          }
        },
        "809ebffb488b462f8d4252991192ad83": {
          "model_module": "@jupyter-widgets/controls",
          "model_name": "HTMLModel",
          "state": {
            "_view_name": "HTMLView",
            "style": "IPY_MODEL_62a62833939a494eb162f26659e12d70",
            "_dom_classes": [],
            "description": "",
            "_model_name": "HTMLModel",
            "placeholder": "​",
            "_view_module": "@jupyter-widgets/controls",
            "_model_module_version": "1.5.0",
            "value": "100% 2200/2200 [06:37&lt;00:00,  5.32it/s]",
            "_view_count": null,
            "_view_module_version": "1.5.0",
            "description_tooltip": null,
            "_model_module": "@jupyter-widgets/controls",
            "layout": "IPY_MODEL_90dc5c32668749168d9fd41f535d2fe4"
          }
        },
        "ea06f488f50947e78d198bcd8ee87253": {
          "model_module": "@jupyter-widgets/controls",
          "model_name": "ProgressStyleModel",
          "state": {
            "_view_name": "StyleView",
            "_model_name": "ProgressStyleModel",
            "description_width": "",
            "_view_module": "@jupyter-widgets/base",
            "_model_module_version": "1.5.0",
            "_view_count": null,
            "_view_module_version": "1.2.0",
            "bar_color": null,
            "_model_module": "@jupyter-widgets/controls"
          }
        },
        "197866efa45541839e820678b8ae68a2": {
          "model_module": "@jupyter-widgets/base",
          "model_name": "LayoutModel",
          "state": {
            "_view_name": "LayoutView",
            "grid_template_rows": null,
            "right": null,
            "justify_content": null,
            "_view_module": "@jupyter-widgets/base",
            "overflow": null,
            "_model_module_version": "1.2.0",
            "_view_count": null,
            "flex_flow": null,
            "width": null,
            "min_width": null,
            "border": null,
            "align_items": null,
            "bottom": null,
            "_model_module": "@jupyter-widgets/base",
            "top": null,
            "grid_column": null,
            "overflow_y": null,
            "overflow_x": null,
            "grid_auto_flow": null,
            "grid_area": null,
            "grid_template_columns": null,
            "flex": null,
            "_model_name": "LayoutModel",
            "justify_items": null,
            "grid_row": null,
            "max_height": null,
            "align_content": null,
            "visibility": null,
            "align_self": null,
            "height": null,
            "min_height": null,
            "padding": null,
            "grid_auto_rows": null,
            "grid_gap": null,
            "max_width": null,
            "order": null,
            "_view_module_version": "1.2.0",
            "grid_template_areas": null,
            "object_position": null,
            "object_fit": null,
            "grid_auto_columns": null,
            "margin": null,
            "display": null,
            "left": null
          }
        },
        "62a62833939a494eb162f26659e12d70": {
          "model_module": "@jupyter-widgets/controls",
          "model_name": "DescriptionStyleModel",
          "state": {
            "_view_name": "StyleView",
            "_model_name": "DescriptionStyleModel",
            "description_width": "",
            "_view_module": "@jupyter-widgets/base",
            "_model_module_version": "1.5.0",
            "_view_count": null,
            "_view_module_version": "1.2.0",
            "_model_module": "@jupyter-widgets/controls"
          }
        },
        "90dc5c32668749168d9fd41f535d2fe4": {
          "model_module": "@jupyter-widgets/base",
          "model_name": "LayoutModel",
          "state": {
            "_view_name": "LayoutView",
            "grid_template_rows": null,
            "right": null,
            "justify_content": null,
            "_view_module": "@jupyter-widgets/base",
            "overflow": null,
            "_model_module_version": "1.2.0",
            "_view_count": null,
            "flex_flow": null,
            "width": null,
            "min_width": null,
            "border": null,
            "align_items": null,
            "bottom": null,
            "_model_module": "@jupyter-widgets/base",
            "top": null,
            "grid_column": null,
            "overflow_y": null,
            "overflow_x": null,
            "grid_auto_flow": null,
            "grid_area": null,
            "grid_template_columns": null,
            "flex": null,
            "_model_name": "LayoutModel",
            "justify_items": null,
            "grid_row": null,
            "max_height": null,
            "align_content": null,
            "visibility": null,
            "align_self": null,
            "height": null,
            "min_height": null,
            "padding": null,
            "grid_auto_rows": null,
            "grid_gap": null,
            "max_width": null,
            "order": null,
            "_view_module_version": "1.2.0",
            "grid_template_areas": null,
            "object_position": null,
            "object_fit": null,
            "grid_auto_columns": null,
            "margin": null,
            "display": null,
            "left": null
          }
        },
        "a998c229130c49b5b7db3c7f623bdeff": {
          "model_module": "@jupyter-widgets/controls",
          "model_name": "HBoxModel",
          "state": {
            "_view_name": "HBoxView",
            "_dom_classes": [],
            "_model_name": "HBoxModel",
            "_view_module": "@jupyter-widgets/controls",
            "_model_module_version": "1.5.0",
            "_view_count": null,
            "_view_module_version": "1.5.0",
            "box_style": "",
            "layout": "IPY_MODEL_e058f192ed144d1fb52980ad1295145e",
            "_model_module": "@jupyter-widgets/controls",
            "children": [
              "IPY_MODEL_ed00062b795b490faf4edd0928cf37d9",
              "IPY_MODEL_e3b84f8ce2a44409af9609e0cb08c65c"
            ]
          }
        },
        "e058f192ed144d1fb52980ad1295145e": {
          "model_module": "@jupyter-widgets/base",
          "model_name": "LayoutModel",
          "state": {
            "_view_name": "LayoutView",
            "grid_template_rows": null,
            "right": null,
            "justify_content": null,
            "_view_module": "@jupyter-widgets/base",
            "overflow": null,
            "_model_module_version": "1.2.0",
            "_view_count": null,
            "flex_flow": null,
            "width": null,
            "min_width": null,
            "border": null,
            "align_items": null,
            "bottom": null,
            "_model_module": "@jupyter-widgets/base",
            "top": null,
            "grid_column": null,
            "overflow_y": null,
            "overflow_x": null,
            "grid_auto_flow": null,
            "grid_area": null,
            "grid_template_columns": null,
            "flex": null,
            "_model_name": "LayoutModel",
            "justify_items": null,
            "grid_row": null,
            "max_height": null,
            "align_content": null,
            "visibility": null,
            "align_self": null,
            "height": null,
            "min_height": null,
            "padding": null,
            "grid_auto_rows": null,
            "grid_gap": null,
            "max_width": null,
            "order": null,
            "_view_module_version": "1.2.0",
            "grid_template_areas": null,
            "object_position": null,
            "object_fit": null,
            "grid_auto_columns": null,
            "margin": null,
            "display": null,
            "left": null
          }
        },
        "ed00062b795b490faf4edd0928cf37d9": {
          "model_module": "@jupyter-widgets/controls",
          "model_name": "IntProgressModel",
          "state": {
            "_view_name": "ProgressView",
            "style": "IPY_MODEL_93df9cdf648e4e72a5b3c1b6f2fe0ca3",
            "_dom_classes": [],
            "description": "",
            "_model_name": "IntProgressModel",
            "bar_style": "success",
            "max": 5,
            "_view_module": "@jupyter-widgets/controls",
            "_model_module_version": "1.5.0",
            "value": 5,
            "_view_count": null,
            "_view_module_version": "1.5.0",
            "orientation": "horizontal",
            "min": 0,
            "description_tooltip": null,
            "_model_module": "@jupyter-widgets/controls",
            "layout": "IPY_MODEL_9be5893b94124e95a05b67c66bea6332"
          }
        },
        "e3b84f8ce2a44409af9609e0cb08c65c": {
          "model_module": "@jupyter-widgets/controls",
          "model_name": "HTMLModel",
          "state": {
            "_view_name": "HTMLView",
            "style": "IPY_MODEL_93c1ad832c604bfda6f523a960f26dfa",
            "_dom_classes": [],
            "description": "",
            "_model_name": "HTMLModel",
            "placeholder": "​",
            "_view_module": "@jupyter-widgets/controls",
            "_model_module_version": "1.5.0",
            "value": "100% 5/5 [00:06&lt;00:00,  1.39s/it]",
            "_view_count": null,
            "_view_module_version": "1.5.0",
            "description_tooltip": null,
            "_model_module": "@jupyter-widgets/controls",
            "layout": "IPY_MODEL_f932df2e2f864f5999172991895c75a4"
          }
        },
        "93df9cdf648e4e72a5b3c1b6f2fe0ca3": {
          "model_module": "@jupyter-widgets/controls",
          "model_name": "ProgressStyleModel",
          "state": {
            "_view_name": "StyleView",
            "_model_name": "ProgressStyleModel",
            "description_width": "",
            "_view_module": "@jupyter-widgets/base",
            "_model_module_version": "1.5.0",
            "_view_count": null,
            "_view_module_version": "1.2.0",
            "bar_color": null,
            "_model_module": "@jupyter-widgets/controls"
          }
        },
        "9be5893b94124e95a05b67c66bea6332": {
          "model_module": "@jupyter-widgets/base",
          "model_name": "LayoutModel",
          "state": {
            "_view_name": "LayoutView",
            "grid_template_rows": null,
            "right": null,
            "justify_content": null,
            "_view_module": "@jupyter-widgets/base",
            "overflow": null,
            "_model_module_version": "1.2.0",
            "_view_count": null,
            "flex_flow": null,
            "width": null,
            "min_width": null,
            "border": null,
            "align_items": null,
            "bottom": null,
            "_model_module": "@jupyter-widgets/base",
            "top": null,
            "grid_column": null,
            "overflow_y": null,
            "overflow_x": null,
            "grid_auto_flow": null,
            "grid_area": null,
            "grid_template_columns": null,
            "flex": null,
            "_model_name": "LayoutModel",
            "justify_items": null,
            "grid_row": null,
            "max_height": null,
            "align_content": null,
            "visibility": null,
            "align_self": null,
            "height": null,
            "min_height": null,
            "padding": null,
            "grid_auto_rows": null,
            "grid_gap": null,
            "max_width": null,
            "order": null,
            "_view_module_version": "1.2.0",
            "grid_template_areas": null,
            "object_position": null,
            "object_fit": null,
            "grid_auto_columns": null,
            "margin": null,
            "display": null,
            "left": null
          }
        },
        "93c1ad832c604bfda6f523a960f26dfa": {
          "model_module": "@jupyter-widgets/controls",
          "model_name": "DescriptionStyleModel",
          "state": {
            "_view_name": "StyleView",
            "_model_name": "DescriptionStyleModel",
            "description_width": "",
            "_view_module": "@jupyter-widgets/base",
            "_model_module_version": "1.5.0",
            "_view_count": null,
            "_view_module_version": "1.2.0",
            "_model_module": "@jupyter-widgets/controls"
          }
        },
        "f932df2e2f864f5999172991895c75a4": {
          "model_module": "@jupyter-widgets/base",
          "model_name": "LayoutModel",
          "state": {
            "_view_name": "LayoutView",
            "grid_template_rows": null,
            "right": null,
            "justify_content": null,
            "_view_module": "@jupyter-widgets/base",
            "overflow": null,
            "_model_module_version": "1.2.0",
            "_view_count": null,
            "flex_flow": null,
            "width": null,
            "min_width": null,
            "border": null,
            "align_items": null,
            "bottom": null,
            "_model_module": "@jupyter-widgets/base",
            "top": null,
            "grid_column": null,
            "overflow_y": null,
            "overflow_x": null,
            "grid_auto_flow": null,
            "grid_area": null,
            "grid_template_columns": null,
            "flex": null,
            "_model_name": "LayoutModel",
            "justify_items": null,
            "grid_row": null,
            "max_height": null,
            "align_content": null,
            "visibility": null,
            "align_self": null,
            "height": null,
            "min_height": null,
            "padding": null,
            "grid_auto_rows": null,
            "grid_gap": null,
            "max_width": null,
            "order": null,
            "_view_module_version": "1.2.0",
            "grid_template_areas": null,
            "object_position": null,
            "object_fit": null,
            "grid_auto_columns": null,
            "margin": null,
            "display": null,
            "left": null
          }
        },
        "a5d1a15e071f4b14b62c17078360d3a9": {
          "model_module": "@jupyter-widgets/controls",
          "model_name": "HBoxModel",
          "state": {
            "_view_name": "HBoxView",
            "_dom_classes": [],
            "_model_name": "HBoxModel",
            "_view_module": "@jupyter-widgets/controls",
            "_model_module_version": "1.5.0",
            "_view_count": null,
            "_view_module_version": "1.5.0",
            "box_style": "",
            "layout": "IPY_MODEL_d608b0a8e2ee401f986849097974af21",
            "_model_module": "@jupyter-widgets/controls",
            "children": [
              "IPY_MODEL_7d8cb1ce58e646bfa881325ba07f2669",
              "IPY_MODEL_1613798b3eb5463d8fca315507352ec3"
            ]
          }
        },
        "d608b0a8e2ee401f986849097974af21": {
          "model_module": "@jupyter-widgets/base",
          "model_name": "LayoutModel",
          "state": {
            "_view_name": "LayoutView",
            "grid_template_rows": null,
            "right": null,
            "justify_content": null,
            "_view_module": "@jupyter-widgets/base",
            "overflow": null,
            "_model_module_version": "1.2.0",
            "_view_count": null,
            "flex_flow": null,
            "width": null,
            "min_width": null,
            "border": null,
            "align_items": null,
            "bottom": null,
            "_model_module": "@jupyter-widgets/base",
            "top": null,
            "grid_column": null,
            "overflow_y": null,
            "overflow_x": null,
            "grid_auto_flow": null,
            "grid_area": null,
            "grid_template_columns": null,
            "flex": null,
            "_model_name": "LayoutModel",
            "justify_items": null,
            "grid_row": null,
            "max_height": null,
            "align_content": null,
            "visibility": null,
            "align_self": null,
            "height": null,
            "min_height": null,
            "padding": null,
            "grid_auto_rows": null,
            "grid_gap": null,
            "max_width": null,
            "order": null,
            "_view_module_version": "1.2.0",
            "grid_template_areas": null,
            "object_position": null,
            "object_fit": null,
            "grid_auto_columns": null,
            "margin": null,
            "display": null,
            "left": null
          }
        },
        "7d8cb1ce58e646bfa881325ba07f2669": {
          "model_module": "@jupyter-widgets/controls",
          "model_name": "IntProgressModel",
          "state": {
            "_view_name": "ProgressView",
            "style": "IPY_MODEL_2ccbbaa0307444d78b0846c3a2a42edd",
            "_dom_classes": [],
            "description": "",
            "_model_name": "IntProgressModel",
            "bar_style": "success",
            "max": 2200,
            "_view_module": "@jupyter-widgets/controls",
            "_model_module_version": "1.5.0",
            "value": 2200,
            "_view_count": null,
            "_view_module_version": "1.5.0",
            "orientation": "horizontal",
            "min": 0,
            "description_tooltip": null,
            "_model_module": "@jupyter-widgets/controls",
            "layout": "IPY_MODEL_4f7e73e4f64440fe8b6a3377a8f6ba1c"
          }
        },
        "1613798b3eb5463d8fca315507352ec3": {
          "model_module": "@jupyter-widgets/controls",
          "model_name": "HTMLModel",
          "state": {
            "_view_name": "HTMLView",
            "style": "IPY_MODEL_52b25244474040a3b49f426677d35c24",
            "_dom_classes": [],
            "description": "",
            "_model_name": "HTMLModel",
            "placeholder": "​",
            "_view_module": "@jupyter-widgets/controls",
            "_model_module_version": "1.5.0",
            "value": "100% 2200/2200 [06:43&lt;00:00,  5.12it/s]",
            "_view_count": null,
            "_view_module_version": "1.5.0",
            "description_tooltip": null,
            "_model_module": "@jupyter-widgets/controls",
            "layout": "IPY_MODEL_6926ecff9b6a42109ac1a4f93f7b7467"
          }
        },
        "2ccbbaa0307444d78b0846c3a2a42edd": {
          "model_module": "@jupyter-widgets/controls",
          "model_name": "ProgressStyleModel",
          "state": {
            "_view_name": "StyleView",
            "_model_name": "ProgressStyleModel",
            "description_width": "",
            "_view_module": "@jupyter-widgets/base",
            "_model_module_version": "1.5.0",
            "_view_count": null,
            "_view_module_version": "1.2.0",
            "bar_color": null,
            "_model_module": "@jupyter-widgets/controls"
          }
        },
        "4f7e73e4f64440fe8b6a3377a8f6ba1c": {
          "model_module": "@jupyter-widgets/base",
          "model_name": "LayoutModel",
          "state": {
            "_view_name": "LayoutView",
            "grid_template_rows": null,
            "right": null,
            "justify_content": null,
            "_view_module": "@jupyter-widgets/base",
            "overflow": null,
            "_model_module_version": "1.2.0",
            "_view_count": null,
            "flex_flow": null,
            "width": null,
            "min_width": null,
            "border": null,
            "align_items": null,
            "bottom": null,
            "_model_module": "@jupyter-widgets/base",
            "top": null,
            "grid_column": null,
            "overflow_y": null,
            "overflow_x": null,
            "grid_auto_flow": null,
            "grid_area": null,
            "grid_template_columns": null,
            "flex": null,
            "_model_name": "LayoutModel",
            "justify_items": null,
            "grid_row": null,
            "max_height": null,
            "align_content": null,
            "visibility": null,
            "align_self": null,
            "height": null,
            "min_height": null,
            "padding": null,
            "grid_auto_rows": null,
            "grid_gap": null,
            "max_width": null,
            "order": null,
            "_view_module_version": "1.2.0",
            "grid_template_areas": null,
            "object_position": null,
            "object_fit": null,
            "grid_auto_columns": null,
            "margin": null,
            "display": null,
            "left": null
          }
        },
        "52b25244474040a3b49f426677d35c24": {
          "model_module": "@jupyter-widgets/controls",
          "model_name": "DescriptionStyleModel",
          "state": {
            "_view_name": "StyleView",
            "_model_name": "DescriptionStyleModel",
            "description_width": "",
            "_view_module": "@jupyter-widgets/base",
            "_model_module_version": "1.5.0",
            "_view_count": null,
            "_view_module_version": "1.2.0",
            "_model_module": "@jupyter-widgets/controls"
          }
        },
        "6926ecff9b6a42109ac1a4f93f7b7467": {
          "model_module": "@jupyter-widgets/base",
          "model_name": "LayoutModel",
          "state": {
            "_view_name": "LayoutView",
            "grid_template_rows": null,
            "right": null,
            "justify_content": null,
            "_view_module": "@jupyter-widgets/base",
            "overflow": null,
            "_model_module_version": "1.2.0",
            "_view_count": null,
            "flex_flow": null,
            "width": null,
            "min_width": null,
            "border": null,
            "align_items": null,
            "bottom": null,
            "_model_module": "@jupyter-widgets/base",
            "top": null,
            "grid_column": null,
            "overflow_y": null,
            "overflow_x": null,
            "grid_auto_flow": null,
            "grid_area": null,
            "grid_template_columns": null,
            "flex": null,
            "_model_name": "LayoutModel",
            "justify_items": null,
            "grid_row": null,
            "max_height": null,
            "align_content": null,
            "visibility": null,
            "align_self": null,
            "height": null,
            "min_height": null,
            "padding": null,
            "grid_auto_rows": null,
            "grid_gap": null,
            "max_width": null,
            "order": null,
            "_view_module_version": "1.2.0",
            "grid_template_areas": null,
            "object_position": null,
            "object_fit": null,
            "grid_auto_columns": null,
            "margin": null,
            "display": null,
            "left": null
          }
        },
        "91aa64da913846b28c83b7af267f9e1f": {
          "model_module": "@jupyter-widgets/controls",
          "model_name": "HBoxModel",
          "state": {
            "_view_name": "HBoxView",
            "_dom_classes": [],
            "_model_name": "HBoxModel",
            "_view_module": "@jupyter-widgets/controls",
            "_model_module_version": "1.5.0",
            "_view_count": null,
            "_view_module_version": "1.5.0",
            "box_style": "",
            "layout": "IPY_MODEL_f73d59de846a4735ab41c8f26d1e2e5d",
            "_model_module": "@jupyter-widgets/controls",
            "children": [
              "IPY_MODEL_94d6880290a14806b7eb934479fac9d4",
              "IPY_MODEL_a43999672d684aeeb0b9b8371aaa9cae"
            ]
          }
        },
        "f73d59de846a4735ab41c8f26d1e2e5d": {
          "model_module": "@jupyter-widgets/base",
          "model_name": "LayoutModel",
          "state": {
            "_view_name": "LayoutView",
            "grid_template_rows": null,
            "right": null,
            "justify_content": null,
            "_view_module": "@jupyter-widgets/base",
            "overflow": null,
            "_model_module_version": "1.2.0",
            "_view_count": null,
            "flex_flow": null,
            "width": null,
            "min_width": null,
            "border": null,
            "align_items": null,
            "bottom": null,
            "_model_module": "@jupyter-widgets/base",
            "top": null,
            "grid_column": null,
            "overflow_y": null,
            "overflow_x": null,
            "grid_auto_flow": null,
            "grid_area": null,
            "grid_template_columns": null,
            "flex": null,
            "_model_name": "LayoutModel",
            "justify_items": null,
            "grid_row": null,
            "max_height": null,
            "align_content": null,
            "visibility": null,
            "align_self": null,
            "height": null,
            "min_height": null,
            "padding": null,
            "grid_auto_rows": null,
            "grid_gap": null,
            "max_width": null,
            "order": null,
            "_view_module_version": "1.2.0",
            "grid_template_areas": null,
            "object_position": null,
            "object_fit": null,
            "grid_auto_columns": null,
            "margin": null,
            "display": null,
            "left": null
          }
        },
        "94d6880290a14806b7eb934479fac9d4": {
          "model_module": "@jupyter-widgets/controls",
          "model_name": "IntProgressModel",
          "state": {
            "_view_name": "ProgressView",
            "style": "IPY_MODEL_3fbe1471695648898c9b0e4981abd722",
            "_dom_classes": [],
            "description": "",
            "_model_name": "IntProgressModel",
            "bar_style": "success",
            "max": 2200,
            "_view_module": "@jupyter-widgets/controls",
            "_model_module_version": "1.5.0",
            "value": 2200,
            "_view_count": null,
            "_view_module_version": "1.5.0",
            "orientation": "horizontal",
            "min": 0,
            "description_tooltip": null,
            "_model_module": "@jupyter-widgets/controls",
            "layout": "IPY_MODEL_eed8c53b508847fe8d8bba3a583b13d0"
          }
        },
        "a43999672d684aeeb0b9b8371aaa9cae": {
          "model_module": "@jupyter-widgets/controls",
          "model_name": "HTMLModel",
          "state": {
            "_view_name": "HTMLView",
            "style": "IPY_MODEL_4e1d38e7a4874189b59d16f19a6a31df",
            "_dom_classes": [],
            "description": "",
            "_model_name": "HTMLModel",
            "placeholder": "​",
            "_view_module": "@jupyter-widgets/controls",
            "_model_module_version": "1.5.0",
            "value": "100% 2200/2200 [06:40&lt;00:00,  5.28it/s]",
            "_view_count": null,
            "_view_module_version": "1.5.0",
            "description_tooltip": null,
            "_model_module": "@jupyter-widgets/controls",
            "layout": "IPY_MODEL_b4da41c9ffe1471a97767174083e4f3b"
          }
        },
        "3fbe1471695648898c9b0e4981abd722": {
          "model_module": "@jupyter-widgets/controls",
          "model_name": "ProgressStyleModel",
          "state": {
            "_view_name": "StyleView",
            "_model_name": "ProgressStyleModel",
            "description_width": "",
            "_view_module": "@jupyter-widgets/base",
            "_model_module_version": "1.5.0",
            "_view_count": null,
            "_view_module_version": "1.2.0",
            "bar_color": null,
            "_model_module": "@jupyter-widgets/controls"
          }
        },
        "eed8c53b508847fe8d8bba3a583b13d0": {
          "model_module": "@jupyter-widgets/base",
          "model_name": "LayoutModel",
          "state": {
            "_view_name": "LayoutView",
            "grid_template_rows": null,
            "right": null,
            "justify_content": null,
            "_view_module": "@jupyter-widgets/base",
            "overflow": null,
            "_model_module_version": "1.2.0",
            "_view_count": null,
            "flex_flow": null,
            "width": null,
            "min_width": null,
            "border": null,
            "align_items": null,
            "bottom": null,
            "_model_module": "@jupyter-widgets/base",
            "top": null,
            "grid_column": null,
            "overflow_y": null,
            "overflow_x": null,
            "grid_auto_flow": null,
            "grid_area": null,
            "grid_template_columns": null,
            "flex": null,
            "_model_name": "LayoutModel",
            "justify_items": null,
            "grid_row": null,
            "max_height": null,
            "align_content": null,
            "visibility": null,
            "align_self": null,
            "height": null,
            "min_height": null,
            "padding": null,
            "grid_auto_rows": null,
            "grid_gap": null,
            "max_width": null,
            "order": null,
            "_view_module_version": "1.2.0",
            "grid_template_areas": null,
            "object_position": null,
            "object_fit": null,
            "grid_auto_columns": null,
            "margin": null,
            "display": null,
            "left": null
          }
        },
        "4e1d38e7a4874189b59d16f19a6a31df": {
          "model_module": "@jupyter-widgets/controls",
          "model_name": "DescriptionStyleModel",
          "state": {
            "_view_name": "StyleView",
            "_model_name": "DescriptionStyleModel",
            "description_width": "",
            "_view_module": "@jupyter-widgets/base",
            "_model_module_version": "1.5.0",
            "_view_count": null,
            "_view_module_version": "1.2.0",
            "_model_module": "@jupyter-widgets/controls"
          }
        },
        "b4da41c9ffe1471a97767174083e4f3b": {
          "model_module": "@jupyter-widgets/base",
          "model_name": "LayoutModel",
          "state": {
            "_view_name": "LayoutView",
            "grid_template_rows": null,
            "right": null,
            "justify_content": null,
            "_view_module": "@jupyter-widgets/base",
            "overflow": null,
            "_model_module_version": "1.2.0",
            "_view_count": null,
            "flex_flow": null,
            "width": null,
            "min_width": null,
            "border": null,
            "align_items": null,
            "bottom": null,
            "_model_module": "@jupyter-widgets/base",
            "top": null,
            "grid_column": null,
            "overflow_y": null,
            "overflow_x": null,
            "grid_auto_flow": null,
            "grid_area": null,
            "grid_template_columns": null,
            "flex": null,
            "_model_name": "LayoutModel",
            "justify_items": null,
            "grid_row": null,
            "max_height": null,
            "align_content": null,
            "visibility": null,
            "align_self": null,
            "height": null,
            "min_height": null,
            "padding": null,
            "grid_auto_rows": null,
            "grid_gap": null,
            "max_width": null,
            "order": null,
            "_view_module_version": "1.2.0",
            "grid_template_areas": null,
            "object_position": null,
            "object_fit": null,
            "grid_auto_columns": null,
            "margin": null,
            "display": null,
            "left": null
          }
        },
        "01e275e178e7415dafbb5d98b2d057e3": {
          "model_module": "@jupyter-widgets/controls",
          "model_name": "HBoxModel",
          "state": {
            "_view_name": "HBoxView",
            "_dom_classes": [],
            "_model_name": "HBoxModel",
            "_view_module": "@jupyter-widgets/controls",
            "_model_module_version": "1.5.0",
            "_view_count": null,
            "_view_module_version": "1.5.0",
            "box_style": "",
            "layout": "IPY_MODEL_ce9a905300694a0590ebc3f6d8dac529",
            "_model_module": "@jupyter-widgets/controls",
            "children": [
              "IPY_MODEL_e66f585f639a44c197a067df43101dbd",
              "IPY_MODEL_2b90aea3689e4935bf8f6d55b7d19766"
            ]
          }
        },
        "ce9a905300694a0590ebc3f6d8dac529": {
          "model_module": "@jupyter-widgets/base",
          "model_name": "LayoutModel",
          "state": {
            "_view_name": "LayoutView",
            "grid_template_rows": null,
            "right": null,
            "justify_content": null,
            "_view_module": "@jupyter-widgets/base",
            "overflow": null,
            "_model_module_version": "1.2.0",
            "_view_count": null,
            "flex_flow": null,
            "width": null,
            "min_width": null,
            "border": null,
            "align_items": null,
            "bottom": null,
            "_model_module": "@jupyter-widgets/base",
            "top": null,
            "grid_column": null,
            "overflow_y": null,
            "overflow_x": null,
            "grid_auto_flow": null,
            "grid_area": null,
            "grid_template_columns": null,
            "flex": null,
            "_model_name": "LayoutModel",
            "justify_items": null,
            "grid_row": null,
            "max_height": null,
            "align_content": null,
            "visibility": null,
            "align_self": null,
            "height": null,
            "min_height": null,
            "padding": null,
            "grid_auto_rows": null,
            "grid_gap": null,
            "max_width": null,
            "order": null,
            "_view_module_version": "1.2.0",
            "grid_template_areas": null,
            "object_position": null,
            "object_fit": null,
            "grid_auto_columns": null,
            "margin": null,
            "display": null,
            "left": null
          }
        },
        "e66f585f639a44c197a067df43101dbd": {
          "model_module": "@jupyter-widgets/controls",
          "model_name": "IntProgressModel",
          "state": {
            "_view_name": "ProgressView",
            "style": "IPY_MODEL_23dbce1d501c45f483fc62de00cfb95e",
            "_dom_classes": [],
            "description": "",
            "_model_name": "IntProgressModel",
            "bar_style": "success",
            "max": 2200,
            "_view_module": "@jupyter-widgets/controls",
            "_model_module_version": "1.5.0",
            "value": 2200,
            "_view_count": null,
            "_view_module_version": "1.5.0",
            "orientation": "horizontal",
            "min": 0,
            "description_tooltip": null,
            "_model_module": "@jupyter-widgets/controls",
            "layout": "IPY_MODEL_76cd01ddaba5489a8880d41d0af4d23e"
          }
        },
        "2b90aea3689e4935bf8f6d55b7d19766": {
          "model_module": "@jupyter-widgets/controls",
          "model_name": "HTMLModel",
          "state": {
            "_view_name": "HTMLView",
            "style": "IPY_MODEL_6e66e7f3409f41598ed863136bde537a",
            "_dom_classes": [],
            "description": "",
            "_model_name": "HTMLModel",
            "placeholder": "​",
            "_view_module": "@jupyter-widgets/controls",
            "_model_module_version": "1.5.0",
            "value": "100% 2200/2200 [06:37&lt;00:00,  5.54it/s]",
            "_view_count": null,
            "_view_module_version": "1.5.0",
            "description_tooltip": null,
            "_model_module": "@jupyter-widgets/controls",
            "layout": "IPY_MODEL_58ee724ab85949f4acc84357aaa6d9ea"
          }
        },
        "23dbce1d501c45f483fc62de00cfb95e": {
          "model_module": "@jupyter-widgets/controls",
          "model_name": "ProgressStyleModel",
          "state": {
            "_view_name": "StyleView",
            "_model_name": "ProgressStyleModel",
            "description_width": "",
            "_view_module": "@jupyter-widgets/base",
            "_model_module_version": "1.5.0",
            "_view_count": null,
            "_view_module_version": "1.2.0",
            "bar_color": null,
            "_model_module": "@jupyter-widgets/controls"
          }
        },
        "76cd01ddaba5489a8880d41d0af4d23e": {
          "model_module": "@jupyter-widgets/base",
          "model_name": "LayoutModel",
          "state": {
            "_view_name": "LayoutView",
            "grid_template_rows": null,
            "right": null,
            "justify_content": null,
            "_view_module": "@jupyter-widgets/base",
            "overflow": null,
            "_model_module_version": "1.2.0",
            "_view_count": null,
            "flex_flow": null,
            "width": null,
            "min_width": null,
            "border": null,
            "align_items": null,
            "bottom": null,
            "_model_module": "@jupyter-widgets/base",
            "top": null,
            "grid_column": null,
            "overflow_y": null,
            "overflow_x": null,
            "grid_auto_flow": null,
            "grid_area": null,
            "grid_template_columns": null,
            "flex": null,
            "_model_name": "LayoutModel",
            "justify_items": null,
            "grid_row": null,
            "max_height": null,
            "align_content": null,
            "visibility": null,
            "align_self": null,
            "height": null,
            "min_height": null,
            "padding": null,
            "grid_auto_rows": null,
            "grid_gap": null,
            "max_width": null,
            "order": null,
            "_view_module_version": "1.2.0",
            "grid_template_areas": null,
            "object_position": null,
            "object_fit": null,
            "grid_auto_columns": null,
            "margin": null,
            "display": null,
            "left": null
          }
        },
        "6e66e7f3409f41598ed863136bde537a": {
          "model_module": "@jupyter-widgets/controls",
          "model_name": "DescriptionStyleModel",
          "state": {
            "_view_name": "StyleView",
            "_model_name": "DescriptionStyleModel",
            "description_width": "",
            "_view_module": "@jupyter-widgets/base",
            "_model_module_version": "1.5.0",
            "_view_count": null,
            "_view_module_version": "1.2.0",
            "_model_module": "@jupyter-widgets/controls"
          }
        },
        "58ee724ab85949f4acc84357aaa6d9ea": {
          "model_module": "@jupyter-widgets/base",
          "model_name": "LayoutModel",
          "state": {
            "_view_name": "LayoutView",
            "grid_template_rows": null,
            "right": null,
            "justify_content": null,
            "_view_module": "@jupyter-widgets/base",
            "overflow": null,
            "_model_module_version": "1.2.0",
            "_view_count": null,
            "flex_flow": null,
            "width": null,
            "min_width": null,
            "border": null,
            "align_items": null,
            "bottom": null,
            "_model_module": "@jupyter-widgets/base",
            "top": null,
            "grid_column": null,
            "overflow_y": null,
            "overflow_x": null,
            "grid_auto_flow": null,
            "grid_area": null,
            "grid_template_columns": null,
            "flex": null,
            "_model_name": "LayoutModel",
            "justify_items": null,
            "grid_row": null,
            "max_height": null,
            "align_content": null,
            "visibility": null,
            "align_self": null,
            "height": null,
            "min_height": null,
            "padding": null,
            "grid_auto_rows": null,
            "grid_gap": null,
            "max_width": null,
            "order": null,
            "_view_module_version": "1.2.0",
            "grid_template_areas": null,
            "object_position": null,
            "object_fit": null,
            "grid_auto_columns": null,
            "margin": null,
            "display": null,
            "left": null
          }
        },
        "da4d0ede22604106ae17dd6c5e968ab6": {
          "model_module": "@jupyter-widgets/controls",
          "model_name": "HBoxModel",
          "state": {
            "_view_name": "HBoxView",
            "_dom_classes": [],
            "_model_name": "HBoxModel",
            "_view_module": "@jupyter-widgets/controls",
            "_model_module_version": "1.5.0",
            "_view_count": null,
            "_view_module_version": "1.5.0",
            "box_style": "",
            "layout": "IPY_MODEL_56ee83e71d234f4788c2d4a1a0d3bd8d",
            "_model_module": "@jupyter-widgets/controls",
            "children": [
              "IPY_MODEL_f60e69ab11a84b0b87555118a0dedc9d",
              "IPY_MODEL_bf49022f5cb34b07ba0a5c52f48872d4"
            ]
          }
        },
        "56ee83e71d234f4788c2d4a1a0d3bd8d": {
          "model_module": "@jupyter-widgets/base",
          "model_name": "LayoutModel",
          "state": {
            "_view_name": "LayoutView",
            "grid_template_rows": null,
            "right": null,
            "justify_content": null,
            "_view_module": "@jupyter-widgets/base",
            "overflow": null,
            "_model_module_version": "1.2.0",
            "_view_count": null,
            "flex_flow": null,
            "width": null,
            "min_width": null,
            "border": null,
            "align_items": null,
            "bottom": null,
            "_model_module": "@jupyter-widgets/base",
            "top": null,
            "grid_column": null,
            "overflow_y": null,
            "overflow_x": null,
            "grid_auto_flow": null,
            "grid_area": null,
            "grid_template_columns": null,
            "flex": null,
            "_model_name": "LayoutModel",
            "justify_items": null,
            "grid_row": null,
            "max_height": null,
            "align_content": null,
            "visibility": null,
            "align_self": null,
            "height": null,
            "min_height": null,
            "padding": null,
            "grid_auto_rows": null,
            "grid_gap": null,
            "max_width": null,
            "order": null,
            "_view_module_version": "1.2.0",
            "grid_template_areas": null,
            "object_position": null,
            "object_fit": null,
            "grid_auto_columns": null,
            "margin": null,
            "display": null,
            "left": null
          }
        },
        "f60e69ab11a84b0b87555118a0dedc9d": {
          "model_module": "@jupyter-widgets/controls",
          "model_name": "IntProgressModel",
          "state": {
            "_view_name": "ProgressView",
            "style": "IPY_MODEL_ffc7ce0ae50a4dbb9d1baa975c83a01b",
            "_dom_classes": [],
            "description": "",
            "_model_name": "IntProgressModel",
            "bar_style": "success",
            "max": 2200,
            "_view_module": "@jupyter-widgets/controls",
            "_model_module_version": "1.5.0",
            "value": 2200,
            "_view_count": null,
            "_view_module_version": "1.5.0",
            "orientation": "horizontal",
            "min": 0,
            "description_tooltip": null,
            "_model_module": "@jupyter-widgets/controls",
            "layout": "IPY_MODEL_f895ad6fe7334cf28d57ac4f96f09a29"
          }
        },
        "bf49022f5cb34b07ba0a5c52f48872d4": {
          "model_module": "@jupyter-widgets/controls",
          "model_name": "HTMLModel",
          "state": {
            "_view_name": "HTMLView",
            "style": "IPY_MODEL_2c9a7c4002d34ae5b05fe6a553c811c4",
            "_dom_classes": [],
            "description": "",
            "_model_name": "HTMLModel",
            "placeholder": "​",
            "_view_module": "@jupyter-widgets/controls",
            "_model_module_version": "1.5.0",
            "value": "100% 2200/2200 [06:40&lt;00:00,  5.98it/s]",
            "_view_count": null,
            "_view_module_version": "1.5.0",
            "description_tooltip": null,
            "_model_module": "@jupyter-widgets/controls",
            "layout": "IPY_MODEL_33e4a5c0a0cd481093a22e1f429eef38"
          }
        },
        "ffc7ce0ae50a4dbb9d1baa975c83a01b": {
          "model_module": "@jupyter-widgets/controls",
          "model_name": "ProgressStyleModel",
          "state": {
            "_view_name": "StyleView",
            "_model_name": "ProgressStyleModel",
            "description_width": "",
            "_view_module": "@jupyter-widgets/base",
            "_model_module_version": "1.5.0",
            "_view_count": null,
            "_view_module_version": "1.2.0",
            "bar_color": null,
            "_model_module": "@jupyter-widgets/controls"
          }
        },
        "f895ad6fe7334cf28d57ac4f96f09a29": {
          "model_module": "@jupyter-widgets/base",
          "model_name": "LayoutModel",
          "state": {
            "_view_name": "LayoutView",
            "grid_template_rows": null,
            "right": null,
            "justify_content": null,
            "_view_module": "@jupyter-widgets/base",
            "overflow": null,
            "_model_module_version": "1.2.0",
            "_view_count": null,
            "flex_flow": null,
            "width": null,
            "min_width": null,
            "border": null,
            "align_items": null,
            "bottom": null,
            "_model_module": "@jupyter-widgets/base",
            "top": null,
            "grid_column": null,
            "overflow_y": null,
            "overflow_x": null,
            "grid_auto_flow": null,
            "grid_area": null,
            "grid_template_columns": null,
            "flex": null,
            "_model_name": "LayoutModel",
            "justify_items": null,
            "grid_row": null,
            "max_height": null,
            "align_content": null,
            "visibility": null,
            "align_self": null,
            "height": null,
            "min_height": null,
            "padding": null,
            "grid_auto_rows": null,
            "grid_gap": null,
            "max_width": null,
            "order": null,
            "_view_module_version": "1.2.0",
            "grid_template_areas": null,
            "object_position": null,
            "object_fit": null,
            "grid_auto_columns": null,
            "margin": null,
            "display": null,
            "left": null
          }
        },
        "2c9a7c4002d34ae5b05fe6a553c811c4": {
          "model_module": "@jupyter-widgets/controls",
          "model_name": "DescriptionStyleModel",
          "state": {
            "_view_name": "StyleView",
            "_model_name": "DescriptionStyleModel",
            "description_width": "",
            "_view_module": "@jupyter-widgets/base",
            "_model_module_version": "1.5.0",
            "_view_count": null,
            "_view_module_version": "1.2.0",
            "_model_module": "@jupyter-widgets/controls"
          }
        },
        "33e4a5c0a0cd481093a22e1f429eef38": {
          "model_module": "@jupyter-widgets/base",
          "model_name": "LayoutModel",
          "state": {
            "_view_name": "LayoutView",
            "grid_template_rows": null,
            "right": null,
            "justify_content": null,
            "_view_module": "@jupyter-widgets/base",
            "overflow": null,
            "_model_module_version": "1.2.0",
            "_view_count": null,
            "flex_flow": null,
            "width": null,
            "min_width": null,
            "border": null,
            "align_items": null,
            "bottom": null,
            "_model_module": "@jupyter-widgets/base",
            "top": null,
            "grid_column": null,
            "overflow_y": null,
            "overflow_x": null,
            "grid_auto_flow": null,
            "grid_area": null,
            "grid_template_columns": null,
            "flex": null,
            "_model_name": "LayoutModel",
            "justify_items": null,
            "grid_row": null,
            "max_height": null,
            "align_content": null,
            "visibility": null,
            "align_self": null,
            "height": null,
            "min_height": null,
            "padding": null,
            "grid_auto_rows": null,
            "grid_gap": null,
            "max_width": null,
            "order": null,
            "_view_module_version": "1.2.0",
            "grid_template_areas": null,
            "object_position": null,
            "object_fit": null,
            "grid_auto_columns": null,
            "margin": null,
            "display": null,
            "left": null
          }
        },
        "5ebf04216d5740478b5c7c784b10edf1": {
          "model_module": "@jupyter-widgets/controls",
          "model_name": "HBoxModel",
          "state": {
            "_view_name": "HBoxView",
            "_dom_classes": [],
            "_model_name": "HBoxModel",
            "_view_module": "@jupyter-widgets/controls",
            "_model_module_version": "1.5.0",
            "_view_count": null,
            "_view_module_version": "1.5.0",
            "box_style": "",
            "layout": "IPY_MODEL_592d6e33d9bc4aaeb9f3d15467e6c282",
            "_model_module": "@jupyter-widgets/controls",
            "children": [
              "IPY_MODEL_6732bebf13c644e49b87c4587c8e555c",
              "IPY_MODEL_ad2377756fe14b30b15cf506e1a70ed7"
            ]
          }
        },
        "592d6e33d9bc4aaeb9f3d15467e6c282": {
          "model_module": "@jupyter-widgets/base",
          "model_name": "LayoutModel",
          "state": {
            "_view_name": "LayoutView",
            "grid_template_rows": null,
            "right": null,
            "justify_content": null,
            "_view_module": "@jupyter-widgets/base",
            "overflow": null,
            "_model_module_version": "1.2.0",
            "_view_count": null,
            "flex_flow": null,
            "width": null,
            "min_width": null,
            "border": null,
            "align_items": null,
            "bottom": null,
            "_model_module": "@jupyter-widgets/base",
            "top": null,
            "grid_column": null,
            "overflow_y": null,
            "overflow_x": null,
            "grid_auto_flow": null,
            "grid_area": null,
            "grid_template_columns": null,
            "flex": null,
            "_model_name": "LayoutModel",
            "justify_items": null,
            "grid_row": null,
            "max_height": null,
            "align_content": null,
            "visibility": null,
            "align_self": null,
            "height": null,
            "min_height": null,
            "padding": null,
            "grid_auto_rows": null,
            "grid_gap": null,
            "max_width": null,
            "order": null,
            "_view_module_version": "1.2.0",
            "grid_template_areas": null,
            "object_position": null,
            "object_fit": null,
            "grid_auto_columns": null,
            "margin": null,
            "display": null,
            "left": null
          }
        },
        "6732bebf13c644e49b87c4587c8e555c": {
          "model_module": "@jupyter-widgets/controls",
          "model_name": "IntProgressModel",
          "state": {
            "_view_name": "ProgressView",
            "style": "IPY_MODEL_35333c252c9e4631aa368047060cc039",
            "_dom_classes": [],
            "description": "",
            "_model_name": "IntProgressModel",
            "bar_style": "success",
            "max": 2200,
            "_view_module": "@jupyter-widgets/controls",
            "_model_module_version": "1.5.0",
            "value": 2200,
            "_view_count": null,
            "_view_module_version": "1.5.0",
            "orientation": "horizontal",
            "min": 0,
            "description_tooltip": null,
            "_model_module": "@jupyter-widgets/controls",
            "layout": "IPY_MODEL_c014d9a5615447e09e7fb3c71a226ae8"
          }
        },
        "ad2377756fe14b30b15cf506e1a70ed7": {
          "model_module": "@jupyter-widgets/controls",
          "model_name": "HTMLModel",
          "state": {
            "_view_name": "HTMLView",
            "style": "IPY_MODEL_1a32d28c43a44cab8f45e63af39ad1b1",
            "_dom_classes": [],
            "description": "",
            "_model_name": "HTMLModel",
            "placeholder": "​",
            "_view_module": "@jupyter-widgets/controls",
            "_model_module_version": "1.5.0",
            "value": "100% 2200/2200 [06:34&lt;00:00,  5.44it/s]",
            "_view_count": null,
            "_view_module_version": "1.5.0",
            "description_tooltip": null,
            "_model_module": "@jupyter-widgets/controls",
            "layout": "IPY_MODEL_2dbca2bd3fa8412483bec5e539d01e21"
          }
        },
        "35333c252c9e4631aa368047060cc039": {
          "model_module": "@jupyter-widgets/controls",
          "model_name": "ProgressStyleModel",
          "state": {
            "_view_name": "StyleView",
            "_model_name": "ProgressStyleModel",
            "description_width": "",
            "_view_module": "@jupyter-widgets/base",
            "_model_module_version": "1.5.0",
            "_view_count": null,
            "_view_module_version": "1.2.0",
            "bar_color": null,
            "_model_module": "@jupyter-widgets/controls"
          }
        },
        "c014d9a5615447e09e7fb3c71a226ae8": {
          "model_module": "@jupyter-widgets/base",
          "model_name": "LayoutModel",
          "state": {
            "_view_name": "LayoutView",
            "grid_template_rows": null,
            "right": null,
            "justify_content": null,
            "_view_module": "@jupyter-widgets/base",
            "overflow": null,
            "_model_module_version": "1.2.0",
            "_view_count": null,
            "flex_flow": null,
            "width": null,
            "min_width": null,
            "border": null,
            "align_items": null,
            "bottom": null,
            "_model_module": "@jupyter-widgets/base",
            "top": null,
            "grid_column": null,
            "overflow_y": null,
            "overflow_x": null,
            "grid_auto_flow": null,
            "grid_area": null,
            "grid_template_columns": null,
            "flex": null,
            "_model_name": "LayoutModel",
            "justify_items": null,
            "grid_row": null,
            "max_height": null,
            "align_content": null,
            "visibility": null,
            "align_self": null,
            "height": null,
            "min_height": null,
            "padding": null,
            "grid_auto_rows": null,
            "grid_gap": null,
            "max_width": null,
            "order": null,
            "_view_module_version": "1.2.0",
            "grid_template_areas": null,
            "object_position": null,
            "object_fit": null,
            "grid_auto_columns": null,
            "margin": null,
            "display": null,
            "left": null
          }
        },
        "1a32d28c43a44cab8f45e63af39ad1b1": {
          "model_module": "@jupyter-widgets/controls",
          "model_name": "DescriptionStyleModel",
          "state": {
            "_view_name": "StyleView",
            "_model_name": "DescriptionStyleModel",
            "description_width": "",
            "_view_module": "@jupyter-widgets/base",
            "_model_module_version": "1.5.0",
            "_view_count": null,
            "_view_module_version": "1.2.0",
            "_model_module": "@jupyter-widgets/controls"
          }
        },
        "2dbca2bd3fa8412483bec5e539d01e21": {
          "model_module": "@jupyter-widgets/base",
          "model_name": "LayoutModel",
          "state": {
            "_view_name": "LayoutView",
            "grid_template_rows": null,
            "right": null,
            "justify_content": null,
            "_view_module": "@jupyter-widgets/base",
            "overflow": null,
            "_model_module_version": "1.2.0",
            "_view_count": null,
            "flex_flow": null,
            "width": null,
            "min_width": null,
            "border": null,
            "align_items": null,
            "bottom": null,
            "_model_module": "@jupyter-widgets/base",
            "top": null,
            "grid_column": null,
            "overflow_y": null,
            "overflow_x": null,
            "grid_auto_flow": null,
            "grid_area": null,
            "grid_template_columns": null,
            "flex": null,
            "_model_name": "LayoutModel",
            "justify_items": null,
            "grid_row": null,
            "max_height": null,
            "align_content": null,
            "visibility": null,
            "align_self": null,
            "height": null,
            "min_height": null,
            "padding": null,
            "grid_auto_rows": null,
            "grid_gap": null,
            "max_width": null,
            "order": null,
            "_view_module_version": "1.2.0",
            "grid_template_areas": null,
            "object_position": null,
            "object_fit": null,
            "grid_auto_columns": null,
            "margin": null,
            "display": null,
            "left": null
          }
        },
        "a1ca85768ff44b81aeb552dcc2ac7222": {
          "model_module": "@jupyter-widgets/controls",
          "model_name": "HBoxModel",
          "state": {
            "_view_name": "HBoxView",
            "_dom_classes": [],
            "_model_name": "HBoxModel",
            "_view_module": "@jupyter-widgets/controls",
            "_model_module_version": "1.5.0",
            "_view_count": null,
            "_view_module_version": "1.5.0",
            "box_style": "",
            "layout": "IPY_MODEL_3ed6ec81fd9d49dbbf831d0a77315859",
            "_model_module": "@jupyter-widgets/controls",
            "children": [
              "IPY_MODEL_3e5c0154352b4da6a2481065cea1fcc8",
              "IPY_MODEL_66b649aace7c45e59443e70d631da93f"
            ]
          }
        },
        "3ed6ec81fd9d49dbbf831d0a77315859": {
          "model_module": "@jupyter-widgets/base",
          "model_name": "LayoutModel",
          "state": {
            "_view_name": "LayoutView",
            "grid_template_rows": null,
            "right": null,
            "justify_content": null,
            "_view_module": "@jupyter-widgets/base",
            "overflow": null,
            "_model_module_version": "1.2.0",
            "_view_count": null,
            "flex_flow": null,
            "width": null,
            "min_width": null,
            "border": null,
            "align_items": null,
            "bottom": null,
            "_model_module": "@jupyter-widgets/base",
            "top": null,
            "grid_column": null,
            "overflow_y": null,
            "overflow_x": null,
            "grid_auto_flow": null,
            "grid_area": null,
            "grid_template_columns": null,
            "flex": null,
            "_model_name": "LayoutModel",
            "justify_items": null,
            "grid_row": null,
            "max_height": null,
            "align_content": null,
            "visibility": null,
            "align_self": null,
            "height": null,
            "min_height": null,
            "padding": null,
            "grid_auto_rows": null,
            "grid_gap": null,
            "max_width": null,
            "order": null,
            "_view_module_version": "1.2.0",
            "grid_template_areas": null,
            "object_position": null,
            "object_fit": null,
            "grid_auto_columns": null,
            "margin": null,
            "display": null,
            "left": null
          }
        },
        "3e5c0154352b4da6a2481065cea1fcc8": {
          "model_module": "@jupyter-widgets/controls",
          "model_name": "IntProgressModel",
          "state": {
            "_view_name": "ProgressView",
            "style": "IPY_MODEL_2b7329df26c344e99c76e4fb1f8dcdaa",
            "_dom_classes": [],
            "description": "",
            "_model_name": "IntProgressModel",
            "bar_style": "success",
            "max": 2200,
            "_view_module": "@jupyter-widgets/controls",
            "_model_module_version": "1.5.0",
            "value": 2200,
            "_view_count": null,
            "_view_module_version": "1.5.0",
            "orientation": "horizontal",
            "min": 0,
            "description_tooltip": null,
            "_model_module": "@jupyter-widgets/controls",
            "layout": "IPY_MODEL_a141c81f21b7449db4e2d45349ab3642"
          }
        },
        "66b649aace7c45e59443e70d631da93f": {
          "model_module": "@jupyter-widgets/controls",
          "model_name": "HTMLModel",
          "state": {
            "_view_name": "HTMLView",
            "style": "IPY_MODEL_ece4ba5c828e4355a55be5e4c4227c0c",
            "_dom_classes": [],
            "description": "",
            "_model_name": "HTMLModel",
            "placeholder": "​",
            "_view_module": "@jupyter-widgets/controls",
            "_model_module_version": "1.5.0",
            "value": "100% 2200/2200 [06:39&lt;00:00,  2.74it/s]",
            "_view_count": null,
            "_view_module_version": "1.5.0",
            "description_tooltip": null,
            "_model_module": "@jupyter-widgets/controls",
            "layout": "IPY_MODEL_1d3c992200f34508b99c86001016b578"
          }
        },
        "2b7329df26c344e99c76e4fb1f8dcdaa": {
          "model_module": "@jupyter-widgets/controls",
          "model_name": "ProgressStyleModel",
          "state": {
            "_view_name": "StyleView",
            "_model_name": "ProgressStyleModel",
            "description_width": "",
            "_view_module": "@jupyter-widgets/base",
            "_model_module_version": "1.5.0",
            "_view_count": null,
            "_view_module_version": "1.2.0",
            "bar_color": null,
            "_model_module": "@jupyter-widgets/controls"
          }
        },
        "a141c81f21b7449db4e2d45349ab3642": {
          "model_module": "@jupyter-widgets/base",
          "model_name": "LayoutModel",
          "state": {
            "_view_name": "LayoutView",
            "grid_template_rows": null,
            "right": null,
            "justify_content": null,
            "_view_module": "@jupyter-widgets/base",
            "overflow": null,
            "_model_module_version": "1.2.0",
            "_view_count": null,
            "flex_flow": null,
            "width": null,
            "min_width": null,
            "border": null,
            "align_items": null,
            "bottom": null,
            "_model_module": "@jupyter-widgets/base",
            "top": null,
            "grid_column": null,
            "overflow_y": null,
            "overflow_x": null,
            "grid_auto_flow": null,
            "grid_area": null,
            "grid_template_columns": null,
            "flex": null,
            "_model_name": "LayoutModel",
            "justify_items": null,
            "grid_row": null,
            "max_height": null,
            "align_content": null,
            "visibility": null,
            "align_self": null,
            "height": null,
            "min_height": null,
            "padding": null,
            "grid_auto_rows": null,
            "grid_gap": null,
            "max_width": null,
            "order": null,
            "_view_module_version": "1.2.0",
            "grid_template_areas": null,
            "object_position": null,
            "object_fit": null,
            "grid_auto_columns": null,
            "margin": null,
            "display": null,
            "left": null
          }
        },
        "ece4ba5c828e4355a55be5e4c4227c0c": {
          "model_module": "@jupyter-widgets/controls",
          "model_name": "DescriptionStyleModel",
          "state": {
            "_view_name": "StyleView",
            "_model_name": "DescriptionStyleModel",
            "description_width": "",
            "_view_module": "@jupyter-widgets/base",
            "_model_module_version": "1.5.0",
            "_view_count": null,
            "_view_module_version": "1.2.0",
            "_model_module": "@jupyter-widgets/controls"
          }
        },
        "1d3c992200f34508b99c86001016b578": {
          "model_module": "@jupyter-widgets/base",
          "model_name": "LayoutModel",
          "state": {
            "_view_name": "LayoutView",
            "grid_template_rows": null,
            "right": null,
            "justify_content": null,
            "_view_module": "@jupyter-widgets/base",
            "overflow": null,
            "_model_module_version": "1.2.0",
            "_view_count": null,
            "flex_flow": null,
            "width": null,
            "min_width": null,
            "border": null,
            "align_items": null,
            "bottom": null,
            "_model_module": "@jupyter-widgets/base",
            "top": null,
            "grid_column": null,
            "overflow_y": null,
            "overflow_x": null,
            "grid_auto_flow": null,
            "grid_area": null,
            "grid_template_columns": null,
            "flex": null,
            "_model_name": "LayoutModel",
            "justify_items": null,
            "grid_row": null,
            "max_height": null,
            "align_content": null,
            "visibility": null,
            "align_self": null,
            "height": null,
            "min_height": null,
            "padding": null,
            "grid_auto_rows": null,
            "grid_gap": null,
            "max_width": null,
            "order": null,
            "_view_module_version": "1.2.0",
            "grid_template_areas": null,
            "object_position": null,
            "object_fit": null,
            "grid_auto_columns": null,
            "margin": null,
            "display": null,
            "left": null
          }
        },
        "7876fff8653949978bb6dbc5039be1ee": {
          "model_module": "@jupyter-widgets/controls",
          "model_name": "HBoxModel",
          "state": {
            "_view_name": "HBoxView",
            "_dom_classes": [],
            "_model_name": "HBoxModel",
            "_view_module": "@jupyter-widgets/controls",
            "_model_module_version": "1.5.0",
            "_view_count": null,
            "_view_module_version": "1.5.0",
            "box_style": "",
            "layout": "IPY_MODEL_f331a750a1ff441aaa443a47efdcd188",
            "_model_module": "@jupyter-widgets/controls",
            "children": [
              "IPY_MODEL_c72a075b293c429abb53166c1243500f",
              "IPY_MODEL_d13e664542404746a94b593ea7091a62"
            ]
          }
        },
        "f331a750a1ff441aaa443a47efdcd188": {
          "model_module": "@jupyter-widgets/base",
          "model_name": "LayoutModel",
          "state": {
            "_view_name": "LayoutView",
            "grid_template_rows": null,
            "right": null,
            "justify_content": null,
            "_view_module": "@jupyter-widgets/base",
            "overflow": null,
            "_model_module_version": "1.2.0",
            "_view_count": null,
            "flex_flow": null,
            "width": null,
            "min_width": null,
            "border": null,
            "align_items": null,
            "bottom": null,
            "_model_module": "@jupyter-widgets/base",
            "top": null,
            "grid_column": null,
            "overflow_y": null,
            "overflow_x": null,
            "grid_auto_flow": null,
            "grid_area": null,
            "grid_template_columns": null,
            "flex": null,
            "_model_name": "LayoutModel",
            "justify_items": null,
            "grid_row": null,
            "max_height": null,
            "align_content": null,
            "visibility": null,
            "align_self": null,
            "height": null,
            "min_height": null,
            "padding": null,
            "grid_auto_rows": null,
            "grid_gap": null,
            "max_width": null,
            "order": null,
            "_view_module_version": "1.2.0",
            "grid_template_areas": null,
            "object_position": null,
            "object_fit": null,
            "grid_auto_columns": null,
            "margin": null,
            "display": null,
            "left": null
          }
        },
        "c72a075b293c429abb53166c1243500f": {
          "model_module": "@jupyter-widgets/controls",
          "model_name": "IntProgressModel",
          "state": {
            "_view_name": "ProgressView",
            "style": "IPY_MODEL_3f8139a98418413bb7d4cf2fb8f611ac",
            "_dom_classes": [],
            "description": "",
            "_model_name": "IntProgressModel",
            "bar_style": "success",
            "max": 5,
            "_view_module": "@jupyter-widgets/controls",
            "_model_module_version": "1.5.0",
            "value": 5,
            "_view_count": null,
            "_view_module_version": "1.5.0",
            "orientation": "horizontal",
            "min": 0,
            "description_tooltip": null,
            "_model_module": "@jupyter-widgets/controls",
            "layout": "IPY_MODEL_23900607de5a461c8b3f3d00299b0ab5"
          }
        },
        "d13e664542404746a94b593ea7091a62": {
          "model_module": "@jupyter-widgets/controls",
          "model_name": "HTMLModel",
          "state": {
            "_view_name": "HTMLView",
            "style": "IPY_MODEL_66db48e9314048efa30f866031b78112",
            "_dom_classes": [],
            "description": "",
            "_model_name": "HTMLModel",
            "placeholder": "​",
            "_view_module": "@jupyter-widgets/controls",
            "_model_module_version": "1.5.0",
            "value": "100% 5/5 [00:13&lt;00:00,  2.38s/it]",
            "_view_count": null,
            "_view_module_version": "1.5.0",
            "description_tooltip": null,
            "_model_module": "@jupyter-widgets/controls",
            "layout": "IPY_MODEL_49e6b3b3f4dd4ec3a6c182eaa400a3eb"
          }
        },
        "3f8139a98418413bb7d4cf2fb8f611ac": {
          "model_module": "@jupyter-widgets/controls",
          "model_name": "ProgressStyleModel",
          "state": {
            "_view_name": "StyleView",
            "_model_name": "ProgressStyleModel",
            "description_width": "",
            "_view_module": "@jupyter-widgets/base",
            "_model_module_version": "1.5.0",
            "_view_count": null,
            "_view_module_version": "1.2.0",
            "bar_color": null,
            "_model_module": "@jupyter-widgets/controls"
          }
        },
        "23900607de5a461c8b3f3d00299b0ab5": {
          "model_module": "@jupyter-widgets/base",
          "model_name": "LayoutModel",
          "state": {
            "_view_name": "LayoutView",
            "grid_template_rows": null,
            "right": null,
            "justify_content": null,
            "_view_module": "@jupyter-widgets/base",
            "overflow": null,
            "_model_module_version": "1.2.0",
            "_view_count": null,
            "flex_flow": null,
            "width": null,
            "min_width": null,
            "border": null,
            "align_items": null,
            "bottom": null,
            "_model_module": "@jupyter-widgets/base",
            "top": null,
            "grid_column": null,
            "overflow_y": null,
            "overflow_x": null,
            "grid_auto_flow": null,
            "grid_area": null,
            "grid_template_columns": null,
            "flex": null,
            "_model_name": "LayoutModel",
            "justify_items": null,
            "grid_row": null,
            "max_height": null,
            "align_content": null,
            "visibility": null,
            "align_self": null,
            "height": null,
            "min_height": null,
            "padding": null,
            "grid_auto_rows": null,
            "grid_gap": null,
            "max_width": null,
            "order": null,
            "_view_module_version": "1.2.0",
            "grid_template_areas": null,
            "object_position": null,
            "object_fit": null,
            "grid_auto_columns": null,
            "margin": null,
            "display": null,
            "left": null
          }
        },
        "66db48e9314048efa30f866031b78112": {
          "model_module": "@jupyter-widgets/controls",
          "model_name": "DescriptionStyleModel",
          "state": {
            "_view_name": "StyleView",
            "_model_name": "DescriptionStyleModel",
            "description_width": "",
            "_view_module": "@jupyter-widgets/base",
            "_model_module_version": "1.5.0",
            "_view_count": null,
            "_view_module_version": "1.2.0",
            "_model_module": "@jupyter-widgets/controls"
          }
        },
        "49e6b3b3f4dd4ec3a6c182eaa400a3eb": {
          "model_module": "@jupyter-widgets/base",
          "model_name": "LayoutModel",
          "state": {
            "_view_name": "LayoutView",
            "grid_template_rows": null,
            "right": null,
            "justify_content": null,
            "_view_module": "@jupyter-widgets/base",
            "overflow": null,
            "_model_module_version": "1.2.0",
            "_view_count": null,
            "flex_flow": null,
            "width": null,
            "min_width": null,
            "border": null,
            "align_items": null,
            "bottom": null,
            "_model_module": "@jupyter-widgets/base",
            "top": null,
            "grid_column": null,
            "overflow_y": null,
            "overflow_x": null,
            "grid_auto_flow": null,
            "grid_area": null,
            "grid_template_columns": null,
            "flex": null,
            "_model_name": "LayoutModel",
            "justify_items": null,
            "grid_row": null,
            "max_height": null,
            "align_content": null,
            "visibility": null,
            "align_self": null,
            "height": null,
            "min_height": null,
            "padding": null,
            "grid_auto_rows": null,
            "grid_gap": null,
            "max_width": null,
            "order": null,
            "_view_module_version": "1.2.0",
            "grid_template_areas": null,
            "object_position": null,
            "object_fit": null,
            "grid_auto_columns": null,
            "margin": null,
            "display": null,
            "left": null
          }
        }
      }
    }
  },
  "cells": [
    {
      "cell_type": "code",
      "metadata": {
        "id": "v2ZcIHg8e6Fb",
        "colab_type": "code",
        "colab": {}
      },
      "source": [
        "!pip install landsatxplore\n",
        "!pip install gdal\n",
        "!pip install rasterio"
      ],
      "execution_count": 0,
      "outputs": []
    },
    {
      "cell_type": "code",
      "metadata": {
        "id": "9WllTVVByK2t",
        "colab_type": "code",
        "colab": {}
      },
      "source": [
        "!mkdir data\n",
        "!mkdir data/scene1\n",
        "!mkdir data/scene2\n",
        "!mkdir data/scene3"
      ],
      "execution_count": 0,
      "outputs": []
    },
    {
      "cell_type": "markdown",
      "metadata": {
        "id": "KqDp6XZIolru",
        "colab_type": "text"
      },
      "source": [
        "\n",
        "\n",
        "---\n",
        "\n"
      ]
    },
    {
      "cell_type": "markdown",
      "metadata": {
        "id": "ERrjpJvLoo_7",
        "colab_type": "text"
      },
      "source": [
        "**IMPORT LIBRARIES**"
      ]
    },
    {
      "cell_type": "code",
      "metadata": {
        "id": "XomWAZrCZNBy",
        "colab_type": "code",
        "colab": {}
      },
      "source": [
        "import rasterio\n",
        "from rasterio.plot import show\n",
        "import gdal\n",
        "from gdalconst import GA_ReadOnly \n",
        "import numpy as np\n",
        "import matplotlib.pyplot as plt\n",
        "from tqdm import tqdm_notebook as tqdm\n",
        "import subprocess\n",
        "IMG=2200\n",
        "import cv2"
      ],
      "execution_count": 0,
      "outputs": []
    },
    {
      "cell_type": "markdown",
      "metadata": {
        "id": "-KYfg4ntowEv",
        "colab_type": "text"
      },
      "source": [
        "\n",
        "\n",
        "---\n",
        "\n"
      ]
    },
    {
      "cell_type": "markdown",
      "metadata": {
        "id": "n26TQ8aDkE4Z",
        "colab_type": "text"
      },
      "source": [
        "**DOWNLOAD REFERENCE DATA SET**"
      ]
    },
    {
      "cell_type": "code",
      "metadata": {
        "id": "JZiQhdmXkCWc",
        "colab_type": "code",
        "colab": {
          "base_uri": "https://localhost:8080/",
          "height": 1000
        },
        "outputId": "b607e3a6-e454-449a-da03-05ae6e204a2b"
      },
      "source": [
        "!wget https://land.copernicus.eu/land-files/7ac95361f9ac3cecdf37785bc183ff02dd765a16.zip\n",
        "!unzip /content/7ac95361f9ac3cecdf37785bc183ff02dd765a16.zip\n",
        "!unzip /content/clc2018_clc2018_v2018_20_raster100m.zip"
      ],
      "execution_count": 5,
      "outputs": [
        {
          "output_type": "stream",
          "text": [
            "--2019-12-26 15:48:06--  https://land.copernicus.eu/land-files/7ac95361f9ac3cecdf37785bc183ff02dd765a16.zip\n",
            "Resolving land.copernicus.eu (land.copernicus.eu)... 34.247.152.136\n",
            "Connecting to land.copernicus.eu (land.copernicus.eu)|34.247.152.136|:443... connected.\n",
            "HTTP request sent, awaiting response... 200 OK\n",
            "Length: 221703454 (211M) [application/zip]\n",
            "Saving to: ‘7ac95361f9ac3cecdf37785bc183ff02dd765a16.zip’\n",
            "\n",
            "7ac95361f9ac3cecdf3 100%[===================>] 211.43M  6.22MB/s    in 16s     \n",
            "\n",
            "2019-12-26 15:48:24 (12.8 MB/s) - ‘7ac95361f9ac3cecdf37785bc183ff02dd765a16.zip’ saved [221703454/221703454]\n",
            "\n",
            "Archive:  /content/7ac95361f9ac3cecdf37785bc183ff02dd765a16.zip\n",
            " extracting: clc2018_clc2018_v2018_20_raster100m.zip  \n",
            "Archive:  /content/clc2018_clc2018_v2018_20_raster100m.zip\n",
            "  inflating: clc2018_clc2018_v2018_20_raster100m/CLC2018_CLC2018_V2018_20.txt  \n",
            "  inflating: clc2018_clc2018_v2018_20_raster100m/CLC2018_CLC2018_V2018_20.tif  \n",
            "  inflating: clc2018_clc2018_v2018_20_raster100m/CLC2018_CLC2018_V2018_20.tif.aux.xml  \n",
            "  inflating: clc2018_clc2018_v2018_20_raster100m/CLC2018_CLC2018_V2018_20.tif.clr  \n",
            "  inflating: clc2018_clc2018_v2018_20_raster100m/CLC2018_CLC2018_V2018_20.tif.ovr  \n",
            "  inflating: clc2018_clc2018_v2018_20_raster100m/CLC2018_CLC2018_V2018_20.tif.vat.cpg  \n",
            "  inflating: clc2018_clc2018_v2018_20_raster100m/CLC2018_CLC2018_V2018_20.tif.vat.dbf  \n",
            "  inflating: clc2018_clc2018_v2018_20_raster100m/CLC2018_CLC2018_V2018_20.tif.vat.dbf.xml  \n",
            "  inflating: clc2018_clc2018_v2018_20_raster100m/French_DOMs/CLC2018_CLC2018_V2018_20_FR_REU.tif.xml  \n",
            "  inflating: clc2018_clc2018_v2018_20_raster100m/French_DOMs/CLC2018_CLC2018_V2018_20_FR_GLP.tfw  \n",
            "  inflating: clc2018_clc2018_v2018_20_raster100m/French_DOMs/CLC2018_CLC2018_V2018_20_FR_GLP.tif  \n",
            "  inflating: clc2018_clc2018_v2018_20_raster100m/French_DOMs/CLC2018_CLC2018_V2018_20_FR_GLP.tif.aux.xml  \n",
            "  inflating: clc2018_clc2018_v2018_20_raster100m/French_DOMs/CLC2018_CLC2018_V2018_20_FR_GLP.tif.clr  \n",
            "  inflating: clc2018_clc2018_v2018_20_raster100m/French_DOMs/CLC2018_CLC2018_V2018_20_FR_GLP.tif.ovr  \n",
            "  inflating: clc2018_clc2018_v2018_20_raster100m/French_DOMs/CLC2018_CLC2018_V2018_20_FR_GLP.tif.vat.cpg  \n",
            "  inflating: clc2018_clc2018_v2018_20_raster100m/French_DOMs/CLC2018_CLC2018_V2018_20_FR_GLP.tif.vat.dbf  \n",
            "  inflating: clc2018_clc2018_v2018_20_raster100m/French_DOMs/CLC2018_CLC2018_V2018_20_FR_GLP.tif.xml  \n",
            "  inflating: clc2018_clc2018_v2018_20_raster100m/French_DOMs/CLC2018_CLC2018_V2018_20_FR_GUF.tfw  \n",
            "  inflating: clc2018_clc2018_v2018_20_raster100m/French_DOMs/CLC2018_CLC2018_V2018_20_FR_GUF.tif  \n",
            "  inflating: clc2018_clc2018_v2018_20_raster100m/French_DOMs/CLC2018_CLC2018_V2018_20_FR_GUF.tif.aux.xml  \n",
            "  inflating: clc2018_clc2018_v2018_20_raster100m/French_DOMs/CLC2018_CLC2018_V2018_20_FR_GUF.tif.clr  \n",
            "  inflating: clc2018_clc2018_v2018_20_raster100m/French_DOMs/CLC2018_CLC2018_V2018_20_FR_GUF.tif.ovr  \n",
            "  inflating: clc2018_clc2018_v2018_20_raster100m/French_DOMs/CLC2018_CLC2018_V2018_20_FR_GUF.tif.vat.cpg  \n",
            "  inflating: clc2018_clc2018_v2018_20_raster100m/French_DOMs/CLC2018_CLC2018_V2018_20_FR_GUF.tif.vat.dbf  \n",
            "  inflating: clc2018_clc2018_v2018_20_raster100m/French_DOMs/CLC2018_CLC2018_V2018_20_FR_GUF.tif.xml  \n",
            "  inflating: clc2018_clc2018_v2018_20_raster100m/French_DOMs/CLC2018_CLC2018_V2018_20_FR_MTQ.tfw  \n",
            "  inflating: clc2018_clc2018_v2018_20_raster100m/French_DOMs/CLC2018_CLC2018_V2018_20_FR_MTQ.tif  \n",
            "  inflating: clc2018_clc2018_v2018_20_raster100m/French_DOMs/CLC2018_CLC2018_V2018_20_FR_MTQ.tif.aux.xml  \n",
            "  inflating: clc2018_clc2018_v2018_20_raster100m/French_DOMs/CLC2018_CLC2018_V2018_20_FR_MTQ.tif.clr  \n",
            "  inflating: clc2018_clc2018_v2018_20_raster100m/French_DOMs/CLC2018_CLC2018_V2018_20_FR_MTQ.tif.ovr  \n",
            "  inflating: clc2018_clc2018_v2018_20_raster100m/French_DOMs/CLC2018_CLC2018_V2018_20_FR_MTQ.tif.vat.cpg  \n",
            "  inflating: clc2018_clc2018_v2018_20_raster100m/French_DOMs/CLC2018_CLC2018_V2018_20_FR_MTQ.tif.vat.dbf  \n",
            "  inflating: clc2018_clc2018_v2018_20_raster100m/French_DOMs/CLC2018_CLC2018_V2018_20_FR_MTQ.tif.xml  \n",
            "  inflating: clc2018_clc2018_v2018_20_raster100m/French_DOMs/CLC2018_CLC2018_V2018_20_FR_MYT.tfw  \n",
            "  inflating: clc2018_clc2018_v2018_20_raster100m/French_DOMs/CLC2018_CLC2018_V2018_20_FR_MYT.tif  \n",
            "  inflating: clc2018_clc2018_v2018_20_raster100m/French_DOMs/CLC2018_CLC2018_V2018_20_FR_MYT.tif.aux.xml  \n",
            "  inflating: clc2018_clc2018_v2018_20_raster100m/French_DOMs/CLC2018_CLC2018_V2018_20_FR_MYT.tif.clr  \n",
            "  inflating: clc2018_clc2018_v2018_20_raster100m/French_DOMs/CLC2018_CLC2018_V2018_20_FR_MYT.tif.ovr  \n",
            "  inflating: clc2018_clc2018_v2018_20_raster100m/French_DOMs/CLC2018_CLC2018_V2018_20_FR_MYT.tif.vat.cpg  \n",
            "  inflating: clc2018_clc2018_v2018_20_raster100m/French_DOMs/CLC2018_CLC2018_V2018_20_FR_MYT.tif.vat.dbf  \n",
            "  inflating: clc2018_clc2018_v2018_20_raster100m/French_DOMs/CLC2018_CLC2018_V2018_20_FR_MYT.tif.xml  \n",
            "  inflating: clc2018_clc2018_v2018_20_raster100m/French_DOMs/CLC2018_CLC2018_V2018_20_FR_REU.tfw  \n",
            "  inflating: clc2018_clc2018_v2018_20_raster100m/French_DOMs/CLC2018_CLC2018_V2018_20_FR_REU.tif  \n",
            "  inflating: clc2018_clc2018_v2018_20_raster100m/French_DOMs/CLC2018_CLC2018_V2018_20_FR_REU.tif.aux.xml  \n",
            "  inflating: clc2018_clc2018_v2018_20_raster100m/French_DOMs/CLC2018_CLC2018_V2018_20_FR_REU.tif.clr  \n",
            "  inflating: clc2018_clc2018_v2018_20_raster100m/French_DOMs/CLC2018_CLC2018_V2018_20_FR_REU.tif.ovr  \n",
            "  inflating: clc2018_clc2018_v2018_20_raster100m/French_DOMs/CLC2018_CLC2018_V2018_20_FR_REU.tif.vat.cpg  \n",
            "  inflating: clc2018_clc2018_v2018_20_raster100m/French_DOMs/CLC2018_CLC2018_V2018_20_FR_REU.tif.vat.dbf  \n",
            "  inflating: clc2018_clc2018_v2018_20_raster100m/readme_CLC2018_CLC2018_V2018_20.txt  \n",
            "  inflating: clc2018_clc2018_v2018_20_raster100m/readme_V20_raster_100m.txt  \n",
            "  inflating: clc2018_clc2018_v2018_20_raster100m/CLC_country_coverage_v20.pdf  \n",
            "  inflating: clc2018_clc2018_v2018_20_raster100m/Naming_convention_description.txt  \n",
            "  inflating: clc2018_clc2018_v2018_20_raster100m/CLC_country_coverage_v20.xls  \n",
            "  inflating: clc2018_clc2018_v2018_20_raster100m/Metadata/CLC2018_CLC2018_V2018_20_FR_REU.xml  \n",
            "  inflating: clc2018_clc2018_v2018_20_raster100m/Metadata/CLC2018_CLC2018_V2018_20.xml  \n",
            "  inflating: clc2018_clc2018_v2018_20_raster100m/Metadata/CLC2018_CLC2018_V2018_20_FR_GLP.xml  \n",
            "  inflating: clc2018_clc2018_v2018_20_raster100m/Metadata/CLC2018_CLC2018_V2018_20_FR_GUF.xml  \n",
            "  inflating: clc2018_clc2018_v2018_20_raster100m/Metadata/CLC2018_CLC2018_V2018_20_FR_MTQ.xml  \n",
            "  inflating: clc2018_clc2018_v2018_20_raster100m/Metadata/CLC2018_CLC2018_V2018_20_FR_MYT.xml  \n",
            "  inflating: clc2018_clc2018_v2018_20_raster100m/Legend/CLC2018_CLC2018_V2018_20.tif.lyr  \n",
            "  inflating: clc2018_clc2018_v2018_20_raster100m/Legend/CLC2018_CLC2018_V2018_20_QGIS.txt  \n",
            "  inflating: clc2018_clc2018_v2018_20_raster100m/French_DOMs/Legend/CLC2018_CLC2018_V2018_20_FR_GLP.tif.lyr  \n",
            "  inflating: clc2018_clc2018_v2018_20_raster100m/French_DOMs/Legend/CLC2018_CLC2018_V2018_20_FR_GUF.tif.lyr  \n",
            "  inflating: clc2018_clc2018_v2018_20_raster100m/French_DOMs/Legend/CLC2018_CLC2018_V2018_20_FR_MTQ.tif.lyr  \n",
            "  inflating: clc2018_clc2018_v2018_20_raster100m/French_DOMs/Legend/CLC2018_CLC2018_V2018_20_FR_MYT.tif.lyr  \n",
            "  inflating: clc2018_clc2018_v2018_20_raster100m/French_DOMs/Legend/CLC2018_CLC2018_V2018_20_FR_REU.tif.lyr  \n",
            "  inflating: clc2018_clc2018_v2018_20_raster100m/French_DOMs/Legend/CLC2018_CLC2018_V2018_20_QGIS.txt  \n"
          ],
          "name": "stdout"
        }
      ]
    },
    {
      "cell_type": "markdown",
      "metadata": {
        "id": "y4pqwphspfCJ",
        "colab_type": "text"
      },
      "source": [
        "**TRANSFORM REFERENCE DATA**"
      ]
    },
    {
      "cell_type": "code",
      "metadata": {
        "id": "sqiLhKtxwXpJ",
        "colab_type": "code",
        "outputId": "5bdad9fc-f502-4a0c-976b-41428342b451",
        "colab": {
          "base_uri": "https://localhost:8080/",
          "height": 101
        }
      },
      "source": [
        "!gdalwarp -co \"COMPRESS=DEFLATE\" -t_srs EPSG:32618  '/content/clc2018_clc2018_v2018_20_raster100m/CLC2018_CLC2018_V2018_20.tif' europe-clc.tif"
      ],
      "execution_count": 6,
      "outputs": [
        {
          "output_type": "stream",
          "text": [
            "Creating output file that is 54709P x 82959L.\n",
            "Processing input file /content/clc2018_clc2018_v2018_20_raster100m/CLC2018_CLC2018_V2018_20.tif.\n",
            "Using internal nodata values (e.g. -32768) for image /content/clc2018_clc2018_v2018_20_raster100m/CLC2018_CLC2018_V2018_20.tif.\n",
            "Copying nodata values from source /content/clc2018_clc2018_v2018_20_raster100m/CLC2018_CLC2018_V2018_20.tif to destination europe-clc.tif.\n",
            "0...10...20...30...40...50...60...70...80...90...100 - done.\n"
          ],
          "name": "stdout"
        }
      ]
    },
    {
      "cell_type": "markdown",
      "metadata": {
        "id": "ncy5hH9Ap6HL",
        "colab_type": "text"
      },
      "source": [
        "\n",
        "\n",
        "---\n",
        "\n"
      ]
    },
    {
      "cell_type": "markdown",
      "metadata": {
        "id": "UXs_tIo8p7Cb",
        "colab_type": "text"
      },
      "source": [
        "**DOWNLOAD TEMPORAL SCENES OF LONDON REGION-WEST EUROPE**"
      ]
    },
    {
      "cell_type": "code",
      "metadata": {
        "id": "R2wiPXemiz2E",
        "colab_type": "code",
        "outputId": "d18de1bb-10fb-40a0-8a30-6faea1ac02b4",
        "colab": {
          "base_uri": "https://localhost:8080/",
          "height": 84
        }
      },
      "source": [
        "from landsatxplore.earthexplorer import EarthExplorer\n",
        "ee = EarthExplorer('uname', 'pwd')\n",
        "ee.download(scene_id='LC08_L1TP_201024_20180901_20180912_01_T1', output_dir='./data/scene1')\n",
        "ee.download(scene_id='LC08_L1TP_201024_20180629_20180716_01_T1', output_dir='./data/scene2')\n",
        "ee.download(scene_id='LC08_L1TP_201024_20170610_20170627_01_T1', output_dir='./data/scene3')\n",
        "\n"
      ],
      "execution_count": 7,
      "outputs": [
        {
          "output_type": "stream",
          "text": [
            "878MB [01:56, 7.91MB/s]                           \n",
            "902MB [06:33, 2.40MB/s]                           \n",
            "911MB [06:52, 2.31MB/s]                           \n"
          ],
          "name": "stderr"
        },
        {
          "output_type": "execute_result",
          "data": {
            "text/plain": [
              "'./data/scene3/LC08_L1TP_201024_20170610_20170627_01_T1.tar.gz'"
            ]
          },
          "metadata": {
            "tags": []
          },
          "execution_count": 7
        }
      ]
    },
    {
      "cell_type": "code",
      "metadata": {
        "id": "JotkdKOF87_w",
        "colab_type": "code",
        "colab": {}
      },
      "source": [
        "ee.logout()\n"
      ],
      "execution_count": 0,
      "outputs": []
    },
    {
      "cell_type": "markdown",
      "metadata": {
        "id": "7C9cp7paqXlt",
        "colab_type": "text"
      },
      "source": [
        "\n",
        "\n",
        "---\n",
        "\n"
      ]
    },
    {
      "cell_type": "markdown",
      "metadata": {
        "id": "BsrQ_i1NqYeY",
        "colab_type": "text"
      },
      "source": [
        "**PREPROCESS SCENES**"
      ]
    },
    {
      "cell_type": "code",
      "metadata": {
        "id": "Q4mZ8rbR2fuC",
        "colab_type": "code",
        "outputId": "418fd17d-aebe-4bd3-a454-2ba14c23f71e",
        "colab": {
          "base_uri": "https://localhost:8080/",
          "height": 722
        }
      },
      "source": [
        "!tar xvzf '/content/data/scene1/LC08_L1TP_201024_20180901_20180912_01_T1.tar.gz' -C './data/scene1'\n",
        "!tar xvzf '/content/data/scene2/LC08_L1TP_201024_20180629_20180716_01_T1.tar.gz' -C './data/scene2'\n",
        "!tar xvzf '/content/data/scene3/LC08_L1TP_201024_20170610_20170627_01_T1.tar.gz' -C './data/scene3'"
      ],
      "execution_count": 9,
      "outputs": [
        {
          "output_type": "stream",
          "text": [
            "LC08_L1TP_201024_20180901_20180912_01_T1_B1.TIF\n",
            "LC08_L1TP_201024_20180901_20180912_01_T1_B2.TIF\n",
            "LC08_L1TP_201024_20180901_20180912_01_T1_B3.TIF\n",
            "LC08_L1TP_201024_20180901_20180912_01_T1_B4.TIF\n",
            "LC08_L1TP_201024_20180901_20180912_01_T1_B5.TIF\n",
            "LC08_L1TP_201024_20180901_20180912_01_T1_B6.TIF\n",
            "LC08_L1TP_201024_20180901_20180912_01_T1_B7.TIF\n",
            "LC08_L1TP_201024_20180901_20180912_01_T1_B8.TIF\n",
            "LC08_L1TP_201024_20180901_20180912_01_T1_B9.TIF\n",
            "LC08_L1TP_201024_20180901_20180912_01_T1_B10.TIF\n",
            "LC08_L1TP_201024_20180901_20180912_01_T1_B11.TIF\n",
            "LC08_L1TP_201024_20180901_20180912_01_T1_BQA.TIF\n",
            "LC08_L1TP_201024_20180901_20180912_01_T1_ANG.txt\n",
            "LC08_L1TP_201024_20180901_20180912_01_T1_MTL.txt\n",
            "LC08_L1TP_201024_20180629_20180716_01_T1_B1.TIF\n",
            "LC08_L1TP_201024_20180629_20180716_01_T1_B2.TIF\n",
            "LC08_L1TP_201024_20180629_20180716_01_T1_B3.TIF\n",
            "LC08_L1TP_201024_20180629_20180716_01_T1_B4.TIF\n",
            "LC08_L1TP_201024_20180629_20180716_01_T1_B5.TIF\n",
            "LC08_L1TP_201024_20180629_20180716_01_T1_B6.TIF\n",
            "LC08_L1TP_201024_20180629_20180716_01_T1_B7.TIF\n",
            "LC08_L1TP_201024_20180629_20180716_01_T1_B8.TIF\n",
            "LC08_L1TP_201024_20180629_20180716_01_T1_B9.TIF\n",
            "LC08_L1TP_201024_20180629_20180716_01_T1_B10.TIF\n",
            "LC08_L1TP_201024_20180629_20180716_01_T1_B11.TIF\n",
            "LC08_L1TP_201024_20180629_20180716_01_T1_BQA.TIF\n",
            "LC08_L1TP_201024_20180629_20180716_01_T1_ANG.txt\n",
            "LC08_L1TP_201024_20180629_20180716_01_T1_MTL.txt\n",
            "LC08_L1TP_201024_20170610_20170627_01_T1_B1.TIF\n",
            "LC08_L1TP_201024_20170610_20170627_01_T1_B2.TIF\n",
            "LC08_L1TP_201024_20170610_20170627_01_T1_B3.TIF\n",
            "LC08_L1TP_201024_20170610_20170627_01_T1_B4.TIF\n",
            "LC08_L1TP_201024_20170610_20170627_01_T1_B5.TIF\n",
            "LC08_L1TP_201024_20170610_20170627_01_T1_B6.TIF\n",
            "LC08_L1TP_201024_20170610_20170627_01_T1_B7.TIF\n",
            "LC08_L1TP_201024_20170610_20170627_01_T1_B8.TIF\n",
            "LC08_L1TP_201024_20170610_20170627_01_T1_B9.TIF\n",
            "LC08_L1TP_201024_20170610_20170627_01_T1_B10.TIF\n",
            "LC08_L1TP_201024_20170610_20170627_01_T1_B11.TIF\n",
            "LC08_L1TP_201024_20170610_20170627_01_T1_BQA.TIF\n",
            "LC08_L1TP_201024_20170610_20170627_01_T1_ANG.txt\n",
            "LC08_L1TP_201024_20170610_20170627_01_T1_MTL.txt\n"
          ],
          "name": "stdout"
        }
      ]
    },
    {
      "cell_type": "code",
      "metadata": {
        "id": "YkRc5zcARc-W",
        "colab_type": "code",
        "outputId": "61e28b7b-7201-485f-c0d6-ec5cf5af5a68",
        "colab": {
          "base_uri": "https://localhost:8080/",
          "height": 101
        }
      },
      "source": [
        "!gdalwarp -co \"COMPRESS=DEFLATE\" -t_srs EPSG:32631  /content/clc2018_clc2018_v2018_20_raster100m/CLC2018_CLC2018_V2018_20.tif europe.tif"
      ],
      "execution_count": 10,
      "outputs": [
        {
          "output_type": "stream",
          "text": [
            "Creating output file that is 67782P x 53428L.\n",
            "Processing input file /content/clc2018_clc2018_v2018_20_raster100m/CLC2018_CLC2018_V2018_20.tif.\n",
            "Using internal nodata values (e.g. -32768) for image /content/clc2018_clc2018_v2018_20_raster100m/CLC2018_CLC2018_V2018_20.tif.\n",
            "Copying nodata values from source /content/clc2018_clc2018_v2018_20_raster100m/CLC2018_CLC2018_V2018_20.tif to destination europe.tif.\n",
            "0...10...20...30...40...50...60...70...80...90...100 - done.\n"
          ],
          "name": "stdout"
        }
      ]
    },
    {
      "cell_type": "code",
      "metadata": {
        "id": "RXb8rEuiRdNm",
        "colab_type": "code",
        "outputId": "d326606c-e432-4c91-a516-5571bc6a9190",
        "colab": {
          "base_uri": "https://localhost:8080/",
          "height": 756
        }
      },
      "source": [
        "!gdalinfo europe.tif"
      ],
      "execution_count": 11,
      "outputs": [
        {
          "output_type": "stream",
          "text": [
            "Driver: GTiff/GeoTIFF\n",
            "Files: europe.tif\n",
            "Size is 67782, 53428\n",
            "Coordinate System is:\n",
            "PROJCS[\"WGS 84 / UTM zone 31N\",\n",
            "    GEOGCS[\"WGS 84\",\n",
            "        DATUM[\"WGS_1984\",\n",
            "            SPHEROID[\"WGS 84\",6378137,298.257223563,\n",
            "                AUTHORITY[\"EPSG\",\"7030\"]],\n",
            "            AUTHORITY[\"EPSG\",\"6326\"]],\n",
            "        PRIMEM[\"Greenwich\",0,\n",
            "            AUTHORITY[\"EPSG\",\"8901\"]],\n",
            "        UNIT[\"degree\",0.0174532925199433,\n",
            "            AUTHORITY[\"EPSG\",\"9122\"]],\n",
            "        AUTHORITY[\"EPSG\",\"4326\"]],\n",
            "    PROJECTION[\"Transverse_Mercator\"],\n",
            "    PARAMETER[\"latitude_of_origin\",0],\n",
            "    PARAMETER[\"central_meridian\",3],\n",
            "    PARAMETER[\"scale_factor\",0.9996],\n",
            "    PARAMETER[\"false_easting\",500000],\n",
            "    PARAMETER[\"false_northing\",0],\n",
            "    UNIT[\"metre\",1,\n",
            "        AUTHORITY[\"EPSG\",\"9001\"]],\n",
            "    AXIS[\"Easting\",EAST],\n",
            "    AXIS[\"Northing\",NORTH],\n",
            "    AUTHORITY[\"EPSG\",\"32631\"]]\n",
            "Origin = (-2807002.923463668208569,8694832.590992318466306)\n",
            "Pixel Size = (107.181020350150291,-107.181020350150291)\n",
            "Metadata:\n",
            "  AREA_OR_POINT=Area\n",
            "Image Structure Metadata:\n",
            "  COMPRESSION=DEFLATE\n",
            "  INTERLEAVE=BAND\n",
            "Corner Coordinates:\n",
            "Upper Left  (-2807002.923, 8694832.591) ( 66d28'17.91\"W, 59d28'12.50\"N)\n",
            "Lower Left  (-2807002.923, 2968365.036) ( 28d15'43.24\"W, 23d22' 1.08\"N)\n",
            "Upper Right ( 4457940.998, 8694832.591) ( 75d55'53.51\"E, 54d49' 8.04\"N)\n",
            "Lower Right ( 4457940.998, 2968365.036) ( 39d30'57.38\"E, 22d 5'53.96\"N)\n",
            "Center      (  825469.037, 5831598.813) (  7d48' 0.16\"E, 52d32'13.16\"N)\n",
            "Band 1 Block=67782x1 Type=Int16, ColorInterp=Gray\n",
            "  NoData Value=-32768\n",
            "  Metadata:\n",
            "    DESCRIPTION=clc18\n",
            "    RepresentationType=THEMATIC\n"
          ],
          "name": "stdout"
        }
      ]
    },
    {
      "cell_type": "code",
      "metadata": {
        "id": "FHpq2CgJRdKe",
        "colab_type": "code",
        "outputId": "26f3ea61-8567-4003-921e-304b437154c3",
        "colab": {
          "base_uri": "https://localhost:8080/",
          "height": 34
        }
      },
      "source": [
        "data=gdal.Open('/content/data/scene1/LC08_L1TP_201024_20180901_20180912_01_T1_B1.TIF',GA_ReadOnly) \n",
        "geoTransform=data.GetGeoTransform() \n",
        "minx=geoTransform[0] \n",
        "maxy=geoTransform[3] \n",
        "maxx = minx + geoTransform[1] * data.RasterXSize \n",
        "miny = maxy + geoTransform[5] * data.RasterYSize \n",
        "subprocess.call('gdal_translate -projwin ' + ' '.join([str(x) for x in [minx, maxy, maxx, miny]]) + ' -of GTiff europe.tif img_out.tif', shell=True) "
      ],
      "execution_count": 12,
      "outputs": [
        {
          "output_type": "execute_result",
          "data": {
            "text/plain": [
              "0"
            ]
          },
          "metadata": {
            "tags": []
          },
          "execution_count": 12
        }
      ]
    },
    {
      "cell_type": "code",
      "metadata": {
        "id": "EGspQK55RdFj",
        "colab_type": "code",
        "outputId": "edddddab-7c81-4612-9608-c7b1811b98de",
        "colab": {
          "base_uri": "https://localhost:8080/",
          "height": 84
        }
      },
      "source": [
        "!gdal_translate -co QUALITY=100 -co PROGRESSIVE=ON -outsize 2200 2200 -r bilinear '/content/img_out.tif' 'Y.tif'"
      ],
      "execution_count": 13,
      "outputs": [
        {
          "output_type": "stream",
          "text": [
            "Input file size is 2262, 2287\n",
            "Warning 6: driver GTiff does not support creation option QUALITY\n",
            "Warning 6: driver GTiff does not support creation option PROGRESSIVE\n",
            "0...10...20...30...40...50...60...70...80...90...100 - done.\n"
          ],
          "name": "stdout"
        }
      ]
    },
    {
      "cell_type": "markdown",
      "metadata": {
        "id": "o1n9tLoWYwRt",
        "colab_type": "text"
      },
      "source": [
        "SCENE 1 PREPROCESSING"
      ]
    },
    {
      "cell_type": "code",
      "metadata": {
        "id": "yn9chtqDWWrO",
        "colab_type": "code",
        "outputId": "de8c0f6b-ec11-4d17-d3e0-dc6bf192fbce",
        "colab": {
          "base_uri": "https://localhost:8080/",
          "height": 420
        }
      },
      "source": [
        "!gdal_translate -co QUALITY=100 -co PROGRESSIVE=ON -outsize 2200 2200 -r bilinear '/content/data/scene1/LC08_L1TP_201024_20180901_20180912_01_T1_B2.TIF' 's1b2.tif'\n",
        "!gdal_translate -co QUALITY=100 -co PROGRESSIVE=ON -outsize 2200 2200 -r bilinear '/content/data/scene1/LC08_L1TP_201024_20180901_20180912_01_T1_B3.TIF' 's1b3.tif'\n",
        "!gdal_translate -co QUALITY=100 -co PROGRESSIVE=ON -outsize 2200 2200 -r bilinear '/content/data/scene1/LC08_L1TP_201024_20180901_20180912_01_T1_B4.TIF' 's1b4.tif'\n",
        "!gdal_translate -co QUALITY=100 -co PROGRESSIVE=ON -outsize 2200 2200 -r bilinear '/content/data/scene1/LC08_L1TP_201024_20180901_20180912_01_T1_B5.TIF' 's1b5.tif'\n",
        "!gdal_translate -co QUALITY=100 -co PROGRESSIVE=ON -outsize 2200 2200 -r bilinear '/content/data/scene1/LC08_L1TP_201024_20180901_20180912_01_T1_B6.TIF' 's1b6.tif'\n",
        "!gdal_translate -co QUALITY=100 -co PROGRESSIVE=ON -outsize 2200 2200 -r bilinear '/content/data/scene1/LC08_L1TP_201024_20180901_20180912_01_T1_B7.TIF' 's1b7.tif'"
      ],
      "execution_count": 14,
      "outputs": [
        {
          "output_type": "stream",
          "text": [
            "Input file size is 8081, 8171\n",
            "Warning 6: driver GTiff does not support creation option QUALITY\n",
            "Warning 6: driver GTiff does not support creation option PROGRESSIVE\n",
            "0...10...20...30...40...50...60...70...80...90...100 - done.\n",
            "Input file size is 8081, 8171\n",
            "Warning 6: driver GTiff does not support creation option QUALITY\n",
            "Warning 6: driver GTiff does not support creation option PROGRESSIVE\n",
            "0...10...20...30...40...50...60...70...80...90...100 - done.\n",
            "Input file size is 8081, 8171\n",
            "Warning 6: driver GTiff does not support creation option QUALITY\n",
            "Warning 6: driver GTiff does not support creation option PROGRESSIVE\n",
            "0...10...20...30...40...50...60...70...80...90...100 - done.\n",
            "Input file size is 8081, 8171\n",
            "Warning 6: driver GTiff does not support creation option QUALITY\n",
            "Warning 6: driver GTiff does not support creation option PROGRESSIVE\n",
            "0...10...20...30...40...50...60...70...80...90...100 - done.\n",
            "Input file size is 8081, 8171\n",
            "Warning 6: driver GTiff does not support creation option QUALITY\n",
            "Warning 6: driver GTiff does not support creation option PROGRESSIVE\n",
            "0...10...20...30...40...50...60...70...80...90...100 - done.\n",
            "Input file size is 8081, 8171\n",
            "Warning 6: driver GTiff does not support creation option QUALITY\n",
            "Warning 6: driver GTiff does not support creation option PROGRESSIVE\n",
            "0...10...20...30...40...50...60...70...80...90...100 - done.\n"
          ],
          "name": "stdout"
        }
      ]
    },
    {
      "cell_type": "markdown",
      "metadata": {
        "id": "Fkz6I-M5X_0l",
        "colab_type": "text"
      },
      "source": [
        "SCENE 2 PREPROCESSING"
      ]
    },
    {
      "cell_type": "code",
      "metadata": {
        "id": "V9z8XrvsXIdn",
        "colab_type": "code",
        "outputId": "803690df-5f3c-4fdc-9428-d9d35b9ad6a4",
        "colab": {
          "base_uri": "https://localhost:8080/",
          "height": 420
        }
      },
      "source": [
        "!gdal_translate -co QUALITY=100 -co PROGRESSIVE=ON -outsize 2200 2200 -r bilinear '/content/data/scene2/LC08_L1TP_201024_20180629_20180716_01_T1_B2.TIF' 's2b2.tif'\n",
        "!gdal_translate -co QUALITY=100 -co PROGRESSIVE=ON -outsize 2200 2200 -r bilinear '/content/data/scene2/LC08_L1TP_201024_20180629_20180716_01_T1_B3.TIF' 's2b3.tif'\n",
        "!gdal_translate -co QUALITY=100 -co PROGRESSIVE=ON -outsize 2200 2200 -r bilinear '/content/data/scene2/LC08_L1TP_201024_20180629_20180716_01_T1_B4.TIF' 's2b4.tif'\n",
        "!gdal_translate -co QUALITY=100 -co PROGRESSIVE=ON -outsize 2200 2200 -r bilinear '/content/data/scene2/LC08_L1TP_201024_20180629_20180716_01_T1_B5.TIF' 's2b5.tif'\n",
        "!gdal_translate -co QUALITY=100 -co PROGRESSIVE=ON -outsize 2200 2200 -r bilinear '/content/data/scene2/LC08_L1TP_201024_20180629_20180716_01_T1_B6.TIF' 's2b6.tif'\n",
        "!gdal_translate -co QUALITY=100 -co PROGRESSIVE=ON -outsize 2200 2200 -r bilinear '/content/data/scene2/LC08_L1TP_201024_20180629_20180716_01_T1_B7.TIF' 's2b7.tif'"
      ],
      "execution_count": 15,
      "outputs": [
        {
          "output_type": "stream",
          "text": [
            "Input file size is 8081, 8171\n",
            "Warning 6: driver GTiff does not support creation option QUALITY\n",
            "Warning 6: driver GTiff does not support creation option PROGRESSIVE\n",
            "0...10...20...30...40...50...60...70...80...90...100 - done.\n",
            "Input file size is 8081, 8171\n",
            "Warning 6: driver GTiff does not support creation option QUALITY\n",
            "Warning 6: driver GTiff does not support creation option PROGRESSIVE\n",
            "0...10...20...30...40...50...60...70...80...90...100 - done.\n",
            "Input file size is 8081, 8171\n",
            "Warning 6: driver GTiff does not support creation option QUALITY\n",
            "Warning 6: driver GTiff does not support creation option PROGRESSIVE\n",
            "0...10...20...30...40...50...60...70...80...90...100 - done.\n",
            "Input file size is 8081, 8171\n",
            "Warning 6: driver GTiff does not support creation option QUALITY\n",
            "Warning 6: driver GTiff does not support creation option PROGRESSIVE\n",
            "0...10...20...30...40...50...60...70...80...90...100 - done.\n",
            "Input file size is 8081, 8171\n",
            "Warning 6: driver GTiff does not support creation option QUALITY\n",
            "Warning 6: driver GTiff does not support creation option PROGRESSIVE\n",
            "0...10...20...30...40...50...60...70...80...90...100 - done.\n",
            "Input file size is 8081, 8171\n",
            "Warning 6: driver GTiff does not support creation option QUALITY\n",
            "Warning 6: driver GTiff does not support creation option PROGRESSIVE\n",
            "0...10...20...30...40...50...60...70...80...90...100 - done.\n"
          ],
          "name": "stdout"
        }
      ]
    },
    {
      "cell_type": "markdown",
      "metadata": {
        "id": "TB-9A3F5YEFb",
        "colab_type": "text"
      },
      "source": [
        "SCENE 3 PREPROCESSING"
      ]
    },
    {
      "cell_type": "code",
      "metadata": {
        "id": "v1Ki05QaYGKO",
        "colab_type": "code",
        "outputId": "5e0b4e4b-07a2-4c98-88ce-9b7c7463d1b3",
        "colab": {
          "base_uri": "https://localhost:8080/",
          "height": 420
        }
      },
      "source": [
        "!gdal_translate -co QUALITY=100 -co PROGRESSIVE=ON -outsize 2200 2200 -r bilinear '/content/data/scene3/LC08_L1TP_201024_20170610_20170627_01_T1_B2.TIF' 's3b2.tif'\n",
        "!gdal_translate -co QUALITY=100 -co PROGRESSIVE=ON -outsize 2200 2200 -r bilinear '/content/data/scene3/LC08_L1TP_201024_20170610_20170627_01_T1_B3.TIF' 's3b3.tif'\n",
        "!gdal_translate -co QUALITY=100 -co PROGRESSIVE=ON -outsize 2200 2200 -r bilinear '/content/data/scene3/LC08_L1TP_201024_20170610_20170627_01_T1_B4.TIF' 's3b4.tif'\n",
        "!gdal_translate -co QUALITY=100 -co PROGRESSIVE=ON -outsize 2200 2200 -r bilinear '/content/data/scene3/LC08_L1TP_201024_20170610_20170627_01_T1_B5.TIF' 's3b5.tif'\n",
        "!gdal_translate -co QUALITY=100 -co PROGRESSIVE=ON -outsize 2200 2200 -r bilinear '/content/data/scene3/LC08_L1TP_201024_20170610_20170627_01_T1_B6.TIF' 's3b6.tif'\n",
        "!gdal_translate -co QUALITY=100 -co PROGRESSIVE=ON -outsize 2200 2200 -r bilinear '/content/data/scene3/LC08_L1TP_201024_20170610_20170627_01_T1_B7.TIF' 's3b7.tif'"
      ],
      "execution_count": 16,
      "outputs": [
        {
          "output_type": "stream",
          "text": [
            "Input file size is 8091, 8171\n",
            "Warning 6: driver GTiff does not support creation option QUALITY\n",
            "Warning 6: driver GTiff does not support creation option PROGRESSIVE\n",
            "0...10...20...30...40...50...60...70...80...90...100 - done.\n",
            "Input file size is 8091, 8171\n",
            "Warning 6: driver GTiff does not support creation option QUALITY\n",
            "Warning 6: driver GTiff does not support creation option PROGRESSIVE\n",
            "0...10...20...30...40...50...60...70...80...90...100 - done.\n",
            "Input file size is 8091, 8171\n",
            "Warning 6: driver GTiff does not support creation option QUALITY\n",
            "Warning 6: driver GTiff does not support creation option PROGRESSIVE\n",
            "0...10...20...30...40...50...60...70...80...90...100 - done.\n",
            "Input file size is 8091, 8171\n",
            "Warning 6: driver GTiff does not support creation option QUALITY\n",
            "Warning 6: driver GTiff does not support creation option PROGRESSIVE\n",
            "0...10...20...30...40...50...60...70...80...90...100 - done.\n",
            "Input file size is 8091, 8171\n",
            "Warning 6: driver GTiff does not support creation option QUALITY\n",
            "Warning 6: driver GTiff does not support creation option PROGRESSIVE\n",
            "0...10...20...30...40...50...60...70...80...90...100 - done.\n",
            "Input file size is 8091, 8171\n",
            "Warning 6: driver GTiff does not support creation option QUALITY\n",
            "Warning 6: driver GTiff does not support creation option PROGRESSIVE\n",
            "0...10...20...30...40...50...60...70...80...90...100 - done.\n"
          ],
          "name": "stdout"
        }
      ]
    },
    {
      "cell_type": "markdown",
      "metadata": {
        "id": "7trWUiYUrnF5",
        "colab_type": "text"
      },
      "source": [
        "\n",
        "\n",
        "---\n",
        "\n"
      ]
    },
    {
      "cell_type": "markdown",
      "metadata": {
        "id": "AzenEZ8bZGHq",
        "colab_type": "text"
      },
      "source": [
        "**HELPER** **FUNCTIONS**"
      ]
    },
    {
      "cell_type": "code",
      "metadata": {
        "id": "nMUtteXFXIl3",
        "colab_type": "code",
        "colab": {}
      },
      "source": [
        "#CALCULATE SPECTRAL INDICES LIKE NDVI, NDBI etc..\n",
        "def calculate_spectral_index(band1,band2):\n",
        "  ndbi=np.where((band1+band2)==0.,0,(band1-band2)/(band1+band2))\n",
        "  return ndbi\n",
        "\n",
        "def read_band_data(fileName):\n",
        "        a=gdal.Open(fileName)\n",
        "        a1=a.GetRasterBand(1).ReadAsArray().astype(dtype='float')\n",
        "        return a1\n"
      ],
      "execution_count": 0,
      "outputs": []
    },
    {
      "cell_type": "code",
      "metadata": {
        "id": "3HXBMV0wXIhf",
        "colab_type": "code",
        "colab": {}
      },
      "source": [
        "#CALCULATE SPECTRAL INDICES FOR A SINGLE SCENE\n",
        "def calculate_all_indices_for_a_scene(root_name):\n",
        "        temp_list=[]\n",
        "        b2=read_band_data((root_name+'b'+str(2)+'.tif'))\n",
        "        b3=read_band_data((root_name+'b'+str(3)+'.tif'))\n",
        "        b4=read_band_data((root_name+'b'+str(4)+'.tif'))\n",
        "        b5=read_band_data((root_name+'b'+str(5)+'.tif'))\n",
        "        b6=read_band_data((root_name+'b'+str(6)+'.tif'))\n",
        "        b7=read_band_data((root_name+'b'+str(7)+'.tif'))\n",
        "\n",
        "        temp_list.append(calculate_spectral_index(b6,b5))\n",
        "        temp_list.append(calculate_spectral_index(b3,b5))\n",
        "        temp_list.append(calculate_spectral_index(b5,b4))\n",
        "        temp_list.append(calculate_spectral_index(b6,b7))\n",
        "        temp_list.append(calculate_spectral_index(b4,b2))\n",
        "        temp_list.append(calculate_spectral_index(b3,b2))\n",
        "\n",
        "        return temp_list"
      ],
      "execution_count": 0,
      "outputs": []
    },
    {
      "cell_type": "code",
      "metadata": {
        "id": "mMAFPZnw3bGf",
        "colab_type": "code",
        "outputId": "021d4ecd-7a29-45de-b1c8-fe883af7b627",
        "colab": {
          "base_uri": "https://localhost:8080/",
          "height": 50
        }
      },
      "source": [
        "scene1_indices=calculate_all_indices_for_a_scene('s1')\n",
        "scene2_indices=calculate_all_indices_for_a_scene('s2')\n",
        "scene3_indices=calculate_all_indices_for_a_scene('s3')"
      ],
      "execution_count": 19,
      "outputs": [
        {
          "output_type": "stream",
          "text": [
            "/usr/local/lib/python3.6/dist-packages/ipykernel_launcher.py:2: RuntimeWarning: invalid value encountered in true_divide\n",
            "  \n"
          ],
          "name": "stderr"
        }
      ]
    },
    {
      "cell_type": "code",
      "metadata": {
        "id": "1zczynFCZEc0",
        "colab_type": "code",
        "colab": {}
      },
      "source": [
        "#CALCULATE TEMPORAL STATISTICS LIKE MEAN, MIN, MAX etc..\n",
        "def calc_temporal_statistics(scene1,scene2,scene3):\n",
        "  temp_min = np.zeros(shape=(IMG,IMG))\n",
        "  temp_max = np.zeros(shape=(IMG,IMG))\n",
        "  temp_mean = np.zeros(shape=(IMG,IMG))\n",
        "  temp_std = np.zeros(shape=(IMG,IMG))\n",
        "  temp_mean_slope = np.zeros(shape=(IMG,IMG))\n",
        "\n",
        "  for i in tqdm(range(0,IMG)):\n",
        "    for j in range(0,IMG):\n",
        "      x=scene1[i][j]\n",
        "      y=scene2[i][j]\n",
        "      z=scene3[i][j]\n",
        "\n",
        "      temp_min[i][j]=np.amin([x,y,z])\n",
        "      temp_max[i][j]=np.amax([x,y,z])\n",
        "      temp_mean[i][j]=np.mean([x,y,z])\n",
        "      temp_std[i][j]=np.std([x,y,z])  \n",
        "      temp_mean_slope[i][j]=np.average(np.diff([x,y,z]))\n",
        "      \n",
        "  return (temp_min,temp_max,temp_mean,temp_std,temp_mean_slope)\n"
      ],
      "execution_count": 0,
      "outputs": []
    },
    {
      "cell_type": "markdown",
      "metadata": {
        "id": "EWPgK4qcsnKc",
        "colab_type": "text"
      },
      "source": [
        "\n",
        "\n",
        "---\n",
        "\n"
      ]
    },
    {
      "cell_type": "markdown",
      "metadata": {
        "id": "Ir0L4dxqsoGp",
        "colab_type": "text"
      },
      "source": [
        "**COMPUTE FEATURES BASED ON TEMPORAL CHARACTERSITCS OF DIFFERENT SCENES**"
      ]
    },
    {
      "cell_type": "code",
      "metadata": {
        "id": "fhY9YsGKZEig",
        "colab_type": "code",
        "outputId": "b736f535-8cd5-4eaa-a2bd-ba5fc4d47fa8",
        "colab": {
          "base_uri": "https://localhost:8080/",
          "height": 66,
          "referenced_widgets": [
            "338efcd484c447a9806df25cbda8fd94",
            "6db6ffaf9bff4960924763397ec4beff",
            "f50c69e2038c4b5388d23155949ac4b6",
            "d14764e12ef34575b5a25930b5524e18",
            "b089a193a50844278bd1f640de1bc440",
            "7176bfee82834320965f1d2cd4859396",
            "5dc680dc8db6416db101466d21abd719",
            "1225ee39537f4b93807fba28d72f35de"
          ]
        }
      },
      "source": [
        "ndbi_statistics=calc_temporal_statistics(scene1_indices[0],scene2_indices[0],scene3_indices[0])"
      ],
      "execution_count": 21,
      "outputs": [
        {
          "output_type": "display_data",
          "data": {
            "application/vnd.jupyter.widget-view+json": {
              "model_id": "338efcd484c447a9806df25cbda8fd94",
              "version_minor": 0,
              "version_major": 2
            },
            "text/plain": [
              "HBox(children=(IntProgress(value=0, max=2200), HTML(value='')))"
            ]
          },
          "metadata": {
            "tags": []
          }
        },
        {
          "output_type": "stream",
          "text": [
            "\n"
          ],
          "name": "stdout"
        }
      ]
    },
    {
      "cell_type": "code",
      "metadata": {
        "id": "r2yYnqwIojt7",
        "colab_type": "code",
        "outputId": "cefe9553-6297-44cc-d672-3d0a650fe2f2",
        "colab": {
          "base_uri": "https://localhost:8080/",
          "height": 66,
          "referenced_widgets": [
            "5a2f71f9e54244c7b383fd0f2fea26ae",
            "7908c5143ca44514a3cec269fef60645",
            "71abcdd7b8fe44eea8cc12baf1215609",
            "919c8528850246a48c71aab3466c1f5a",
            "c5a4c042564b41e19828c86d9d1f7994",
            "762bb84131b2415590dee16ef8183634",
            "c6072fd0bd82491d8f74793716ef2821",
            "a75aa263149e421abce3bd412073e105"
          ]
        }
      },
      "source": [
        "mndwi_statistics=calc_temporal_statistics(scene1_indices[1],scene2_indices[1],scene3_indices[1])"
      ],
      "execution_count": 22,
      "outputs": [
        {
          "output_type": "display_data",
          "data": {
            "application/vnd.jupyter.widget-view+json": {
              "model_id": "5a2f71f9e54244c7b383fd0f2fea26ae",
              "version_minor": 0,
              "version_major": 2
            },
            "text/plain": [
              "HBox(children=(IntProgress(value=0, max=2200), HTML(value='')))"
            ]
          },
          "metadata": {
            "tags": []
          }
        },
        {
          "output_type": "stream",
          "text": [
            "\n"
          ],
          "name": "stdout"
        }
      ]
    },
    {
      "cell_type": "code",
      "metadata": {
        "id": "7pHJiyEGoj8y",
        "colab_type": "code",
        "outputId": "56f3e6a4-dc3f-4529-b895-59899ed8cce7",
        "colab": {
          "base_uri": "https://localhost:8080/",
          "height": 66,
          "referenced_widgets": [
            "77fd60dfbd4a4f2dbde5501e535aec91",
            "da9ca305d0dc483b83aca8349571ffea",
            "5a0ac7ae9b524b4a856ea738e58e2518",
            "2010c04d73ba4c86a017072a3eae087a",
            "62306cae233b40c6899ae54dbb720bf6",
            "66272bc1112743cbb6f2e0ea327a645f",
            "65e96df1ab0d4882a2aef2233e37f599",
            "834bfa9091da46c2a47e88d9a441bca4"
          ]
        }
      },
      "source": [
        "ndvi_statistics=calc_temporal_statistics(scene1_indices[2],scene2_indices[2],scene3_indices[2])"
      ],
      "execution_count": 23,
      "outputs": [
        {
          "output_type": "display_data",
          "data": {
            "application/vnd.jupyter.widget-view+json": {
              "model_id": "77fd60dfbd4a4f2dbde5501e535aec91",
              "version_minor": 0,
              "version_major": 2
            },
            "text/plain": [
              "HBox(children=(IntProgress(value=0, max=2200), HTML(value='')))"
            ]
          },
          "metadata": {
            "tags": []
          }
        },
        {
          "output_type": "stream",
          "text": [
            "\n"
          ],
          "name": "stdout"
        }
      ]
    },
    {
      "cell_type": "code",
      "metadata": {
        "id": "hzaccrvJokF3",
        "colab_type": "code",
        "outputId": "0e654f69-28d0-4ab5-d4ac-86dfc28e1fc2",
        "colab": {
          "base_uri": "https://localhost:8080/",
          "height": 66,
          "referenced_widgets": [
            "e1302099abc94c6b822669cad6332e20",
            "37b8025bb1ce496780b8f071eab523ad",
            "9facdc2634bf4280929146927aee7c45",
            "3c3e57903fb94815b2de407649b8b8ae",
            "a54a995f90004c97884616521dfd776f",
            "4894fb0dc2e344f0a7a854ff36dc313a",
            "042b715a2b654bfbb54a896a9f1471d2",
            "e0f1a1ffa14b43d1a14df6b9a0438890"
          ]
        }
      },
      "source": [
        "ndmir_statistics=calc_temporal_statistics(scene1_indices[3],scene2_indices[3],scene3_indices[3])"
      ],
      "execution_count": 24,
      "outputs": [
        {
          "output_type": "display_data",
          "data": {
            "application/vnd.jupyter.widget-view+json": {
              "model_id": "e1302099abc94c6b822669cad6332e20",
              "version_minor": 0,
              "version_major": 2
            },
            "text/plain": [
              "HBox(children=(IntProgress(value=0, max=2200), HTML(value='')))"
            ]
          },
          "metadata": {
            "tags": []
          }
        },
        {
          "output_type": "stream",
          "text": [
            "\n"
          ],
          "name": "stdout"
        }
      ]
    },
    {
      "cell_type": "code",
      "metadata": {
        "id": "anhKY7_PokOX",
        "colab_type": "code",
        "outputId": "23cd3879-54d7-4e6b-89a5-ff3ad92e138d",
        "colab": {
          "base_uri": "https://localhost:8080/",
          "height": 66,
          "referenced_widgets": [
            "5c0d037cc4dc44db9467203f68a235fc",
            "c2c73c397d7148ca8a069f6fa9880b5b",
            "30c8d43264224486b264ab536e156d1a",
            "5a619175e31e42d4abba8f83c72bd16d",
            "c4f9c88ffb6c4adf9791e7ecd4e92514",
            "e5cf26c5b0b74d8ba83003ddb1df9784",
            "70e8cc3ba9ef485b98b2dc897901d690",
            "7cdf114105ac4a4f940aa5690e748023"
          ]
        }
      },
      "source": [
        "ndrb_statistics=calc_temporal_statistics(scene1_indices[4],scene2_indices[4],scene3_indices[4])"
      ],
      "execution_count": 25,
      "outputs": [
        {
          "output_type": "display_data",
          "data": {
            "application/vnd.jupyter.widget-view+json": {
              "model_id": "5c0d037cc4dc44db9467203f68a235fc",
              "version_minor": 0,
              "version_major": 2
            },
            "text/plain": [
              "HBox(children=(IntProgress(value=0, max=2200), HTML(value='')))"
            ]
          },
          "metadata": {
            "tags": []
          }
        },
        {
          "output_type": "stream",
          "text": [
            "\n"
          ],
          "name": "stdout"
        }
      ]
    },
    {
      "cell_type": "code",
      "metadata": {
        "id": "mHlPygWCo0b8",
        "colab_type": "code",
        "outputId": "f8243d5d-4c5f-42d9-8341-bc8a36b22492",
        "colab": {
          "base_uri": "https://localhost:8080/",
          "height": 66,
          "referenced_widgets": [
            "893acdfe15d040b0adf5f351203bdebf",
            "768a51c5547d4408ad392f958bd60f60",
            "dce5db60230343c1a812df741b590756",
            "809ebffb488b462f8d4252991192ad83",
            "ea06f488f50947e78d198bcd8ee87253",
            "197866efa45541839e820678b8ae68a2",
            "62a62833939a494eb162f26659e12d70",
            "90dc5c32668749168d9fd41f535d2fe4"
          ]
        }
      },
      "source": [
        "ndgb_statistics=calc_temporal_statistics(scene1_indices[5],scene2_indices[5],scene3_indices[5])"
      ],
      "execution_count": 26,
      "outputs": [
        {
          "output_type": "display_data",
          "data": {
            "application/vnd.jupyter.widget-view+json": {
              "model_id": "893acdfe15d040b0adf5f351203bdebf",
              "version_minor": 0,
              "version_major": 2
            },
            "text/plain": [
              "HBox(children=(IntProgress(value=0, max=2200), HTML(value='')))"
            ]
          },
          "metadata": {
            "tags": []
          }
        },
        {
          "output_type": "stream",
          "text": [
            "\n"
          ],
          "name": "stdout"
        }
      ]
    },
    {
      "cell_type": "markdown",
      "metadata": {
        "id": "rujfAHZzo3CQ",
        "colab_type": "text"
      },
      "source": [
        "**EXAMPLE: VISUALIZING TEMPORAL MAX OF NDBI**"
      ]
    },
    {
      "cell_type": "code",
      "metadata": {
        "id": "vwkHbgKtZEn6",
        "colab_type": "code",
        "outputId": "9290a5f9-2f45-46b2-bc4b-b7daea79b628",
        "colab": {
          "base_uri": "https://localhost:8080/",
          "height": 286
        }
      },
      "source": [
        "plt.imshow(ndbi_statistics[1]) "
      ],
      "execution_count": 27,
      "outputs": [
        {
          "output_type": "execute_result",
          "data": {
            "text/plain": [
              "<matplotlib.image.AxesImage at 0x7fd3eb85d898>"
            ]
          },
          "metadata": {
            "tags": []
          },
          "execution_count": 27
        },
        {
          "output_type": "display_data",
          "data": {
            "image/png": "[encoded data removed]",
            "text/plain": [
              "<Figure size 432x288 with 1 Axes>"
            ]
          },
          "metadata": {
            "tags": []
          }
        }
      ]
    },
    {
      "cell_type": "markdown",
      "metadata": {
        "id": "WQgdZocAtfco",
        "colab_type": "text"
      },
      "source": [
        "\n",
        "\n",
        "---\n",
        "\n"
      ]
    },
    {
      "cell_type": "markdown",
      "metadata": {
        "id": "__BiV1LotgV-",
        "colab_type": "text"
      },
      "source": [
        "**PREPARING TRAINING DATA - LONDON REGION, WEST EUROPE**"
      ]
    },
    {
      "cell_type": "code",
      "metadata": {
        "id": "APNfZTH_AkXJ",
        "colab_type": "code",
        "outputId": "8f32c966-a027-4406-bd89-49a30bc03d7d",
        "colab": {
          "base_uri": "https://localhost:8080/",
          "height": 50
        }
      },
      "source": [
        "tif2=gdal.Open('Y.tif')\n",
        "Y_raster = tif2.GetRasterBand(1).ReadAsArray()\n",
        "Y_raster[Y_raster <= 100] = 999\n",
        "Y_raster[(Y_raster > 100)&(Y_raster <= 150)] = 0\n",
        "Y_raster[Y_raster > 150] = 255\n",
        "print(\"UNIQUE CLASSES: \", np.unique(Y_raster))\n",
        "Y_list=Y_raster.flatten().tolist()\n",
        "y=np.reshape(Y_list,(IMG*IMG,1))\n",
        "print(y.shape)"
      ],
      "execution_count": 28,
      "outputs": [
        {
          "output_type": "stream",
          "text": [
            "UNIQUE CLASSES:  [  0 255]\n",
            "(4840000, 1)\n"
          ],
          "name": "stdout"
        }
      ]
    },
    {
      "cell_type": "code",
      "metadata": {
        "id": "EdYjfkpkZEt4",
        "colab_type": "code",
        "outputId": "07521d2d-9067-4606-cc9c-f3f9f89df808",
        "colab": {
          "base_uri": "https://localhost:8080/",
          "height": 66,
          "referenced_widgets": [
            "a998c229130c49b5b7db3c7f623bdeff",
            "e058f192ed144d1fb52980ad1295145e",
            "ed00062b795b490faf4edd0928cf37d9",
            "e3b84f8ce2a44409af9609e0cb08c65c",
            "93df9cdf648e4e72a5b3c1b6f2fe0ca3",
            "9be5893b94124e95a05b67c66bea6332",
            "93c1ad832c604bfda6f523a960f26dfa",
            "f932df2e2f864f5999172991895c75a4"
          ]
        }
      },
      "source": [
        "records=[]\n",
        "for i in tqdm(range(0,5)):\n",
        "          records.append(ndbi_statistics[i].flatten().tolist())\n",
        "          records.append(mndwi_statistics[i].flatten().tolist())\n",
        "          records.append(ndvi_statistics[i].flatten().tolist())\n",
        "          records.append(ndmir_statistics[i].flatten().tolist())\n",
        "          records.append(ndrb_statistics[i].flatten().tolist())\n",
        "          records.append(ndgb_statistics[i].flatten().tolist())\n"
      ],
      "execution_count": 29,
      "outputs": [
        {
          "output_type": "display_data",
          "data": {
            "application/vnd.jupyter.widget-view+json": {
              "model_id": "a998c229130c49b5b7db3c7f623bdeff",
              "version_minor": 0,
              "version_major": 2
            },
            "text/plain": [
              "HBox(children=(IntProgress(value=0, max=5), HTML(value='')))"
            ]
          },
          "metadata": {
            "tags": []
          }
        },
        {
          "output_type": "stream",
          "text": [
            "\n"
          ],
          "name": "stdout"
        }
      ]
    },
    {
      "cell_type": "code",
      "metadata": {
        "id": "DCRBqxTs6-69",
        "colab_type": "code",
        "outputId": "20f525e8-cbf5-4433-f48b-2f8d55ff75ce",
        "colab": {
          "base_uri": "https://localhost:8080/",
          "height": 50
        }
      },
      "source": [
        "record=np.column_stack(records)\n",
        "X=np.append(record, y, axis=1)\n",
        "print('FULL TRAINING DATA SHAPE: ')\n",
        "print(X.shape)\n"
      ],
      "execution_count": 30,
      "outputs": [
        {
          "output_type": "stream",
          "text": [
            "FULL TRAINING DATA SHAPE: \n",
            "(4840000, 31)\n"
          ],
          "name": "stdout"
        }
      ]
    },
    {
      "cell_type": "code",
      "metadata": {
        "id": "jZ7h2HAlTHWU",
        "colab_type": "code",
        "colab": {}
      },
      "source": [
        "X_small=X[np.random.choice(np.shape(X)[0],5000, replace=False), :]\n",
        "X_train=X_small[:,0:30]\n",
        "Y_train=X_small[:,30]"
      ],
      "execution_count": 0,
      "outputs": []
    },
    {
      "cell_type": "markdown",
      "metadata": {
        "id": "yg-Z1goXuRJG",
        "colab_type": "text"
      },
      "source": [
        "\n",
        "\n",
        "---\n",
        "\n"
      ]
    },
    {
      "cell_type": "markdown",
      "metadata": {
        "id": "0shhi6ehR_RF",
        "colab_type": "text"
      },
      "source": [
        "**CLASSIFICATION :  SUPPORT VECTOR MACHINE - RBF KERNEL**"
      ]
    },
    {
      "cell_type": "markdown",
      "metadata": {
        "id": "VuSXgMogupRP",
        "colab_type": "text"
      },
      "source": [
        "TRAINING"
      ]
    },
    {
      "cell_type": "code",
      "metadata": {
        "id": "2Kf6auIsZFFH",
        "colab_type": "code",
        "outputId": "dad09d71-c6f3-4ad9-a868-f45d33859326",
        "colab": {
          "base_uri": "https://localhost:8080/",
          "height": 272
        }
      },
      "source": [
        "from sklearn.svm import SVC\n",
        "from sklearn.model_selection import GridSearchCV\n",
        "\n",
        "parameter_candidates = [\n",
        "  {'C': [0.1,1, 10,30,50, 100,500, 1000], 'gamma': [0.001, 0.0001,10,20,50,100,500], 'kernel': ['rbf']}\n",
        "]\n",
        "\n",
        "classifier = GridSearchCV(SVC(), param_grid=parameter_candidates)\n",
        "classifier.fit(X_train, Y_train)   \n"
      ],
      "execution_count": 36,
      "outputs": [
        {
          "output_type": "stream",
          "text": [
            "/usr/local/lib/python3.6/dist-packages/sklearn/model_selection/_split.py:1978: FutureWarning: The default value of cv will change from 3 to 5 in version 0.22. Specify it explicitly to silence this warning.\n",
            "  warnings.warn(CV_WARNING, FutureWarning)\n"
          ],
          "name": "stderr"
        },
        {
          "output_type": "execute_result",
          "data": {
            "text/plain": [
              "GridSearchCV(cv='warn', error_score='raise-deprecating',\n",
              "             estimator=SVC(C=1.0, cache_size=200, class_weight=None, coef0=0.0,\n",
              "                           decision_function_shape='ovr', degree=3,\n",
              "                           gamma='auto_deprecated', kernel='rbf', max_iter=-1,\n",
              "                           probability=False, random_state=None, shrinking=True,\n",
              "                           tol=0.001, verbose=False),\n",
              "             iid='warn', n_jobs=None,\n",
              "             param_grid=[{'C': [0.1, 1, 10, 30, 50, 100, 500, 1000],\n",
              "                          'gamma': [0.001, 0.0001, 10, 20, 50, 100, 500],\n",
              "                          'kernel': ['rbf']}],\n",
              "             pre_dispatch='2*n_jobs', refit=True, return_train_score=False,\n",
              "             scoring=None, verbose=0)"
            ]
          },
          "metadata": {
            "tags": []
          },
          "execution_count": 36
        }
      ]
    },
    {
      "cell_type": "code",
      "metadata": {
        "id": "DSPCsQSvZtJL",
        "colab_type": "code",
        "outputId": "3fb582fe-837d-44ef-9cfe-f06acb62a3bc",
        "colab": {
          "base_uri": "https://localhost:8080/",
          "height": 67
        }
      },
      "source": [
        "print('Best score:', classifier.best_score_) \n",
        "print('Best C value:',classifier.best_estimator_.C) \n",
        "print('Best Gamma value:',classifier.best_estimator_.gamma)"
      ],
      "execution_count": 63,
      "outputs": [
        {
          "output_type": "stream",
          "text": [
            "Best score: 0.9274\n",
            "Best C value: 10\n",
            "Best Gamma value: 10\n"
          ],
          "name": "stdout"
        }
      ]
    },
    {
      "cell_type": "code",
      "metadata": {
        "id": "RU32K-v3Wdew",
        "colab_type": "code",
        "colab": {
          "base_uri": "https://localhost:8080/",
          "height": 84
        },
        "outputId": "c678e241-2eb5-4d92-ba7b-7364a9b5def7"
      },
      "source": [
        "from sklearn.svm import SVC\n",
        "svclassifier = SVC(kernel='rbf',C=classifier.best_estimator_.C,gamma=classifier.best_estimator_.gamma)\n",
        "svclassifier.fit(X_train, Y_train)"
      ],
      "execution_count": 38,
      "outputs": [
        {
          "output_type": "execute_result",
          "data": {
            "text/plain": [
              "SVC(C=10, cache_size=200, class_weight=None, coef0=0.0,\n",
              "    decision_function_shape='ovr', degree=3, gamma=10, kernel='rbf',\n",
              "    max_iter=-1, probability=False, random_state=None, shrinking=True,\n",
              "    tol=0.001, verbose=False)"
            ]
          },
          "metadata": {
            "tags": []
          },
          "execution_count": 38
        }
      ]
    },
    {
      "cell_type": "code",
      "metadata": {
        "id": "mvnV_cJBu0ww",
        "colab_type": "code",
        "colab": {}
      },
      "source": [
        "Y_pred = svclassifier.predict(X[:,0:30])"
      ],
      "execution_count": 0,
      "outputs": []
    },
    {
      "cell_type": "markdown",
      "metadata": {
        "id": "Wx-li3Kju3hH",
        "colab_type": "text"
      },
      "source": [
        "METRICS ON TRAINING DATA"
      ]
    },
    {
      "cell_type": "code",
      "metadata": {
        "id": "anBVKraKSsgJ",
        "colab_type": "code",
        "outputId": "0f3fc745-4c73-42a7-c8ed-7d35953132fe",
        "colab": {
          "base_uri": "https://localhost:8080/",
          "height": 168
        }
      },
      "source": [
        "from sklearn.metrics import classification_report\n",
        "print(classification_report(X[:,30], Y_pred))"
      ],
      "execution_count": 40,
      "outputs": [
        {
          "output_type": "stream",
          "text": [
            "              precision    recall  f1-score   support\n",
            "\n",
            "         0.0       0.80      0.44      0.56    513523\n",
            "       255.0       0.94      0.99      0.96   4326477\n",
            "\n",
            "    accuracy                           0.93   4840000\n",
            "   macro avg       0.87      0.71      0.76   4840000\n",
            "weighted avg       0.92      0.93      0.92   4840000\n",
            "\n"
          ],
          "name": "stdout"
        }
      ]
    },
    {
      "cell_type": "markdown",
      "metadata": {
        "id": "7GCaXyanvEny",
        "colab_type": "text"
      },
      "source": [
        "\n",
        "\n",
        "---\n",
        "\n"
      ]
    },
    {
      "cell_type": "markdown",
      "metadata": {
        "id": "86xmSFNlvGb3",
        "colab_type": "text"
      },
      "source": [
        "**VISUALIZATION OF HUMAN SETTLEMENT**"
      ]
    },
    {
      "cell_type": "markdown",
      "metadata": {
        "id": "LMU13kbZ05-u",
        "colab_type": "text"
      },
      "source": [
        "ORIGINAL RGB IMAGE"
      ]
    },
    {
      "cell_type": "code",
      "metadata": {
        "id": "93s76rq5ZFLv",
        "colab_type": "code",
        "outputId": "b37adbb5-6d6b-41b2-b819-044730716863",
        "colab": {
          "base_uri": "https://localhost:8080/",
          "height": 286
        }
      },
      "source": [
        "s4=gdal.Open('s2b4.tif')\n",
        "red = s4.GetRasterBand(1).ReadAsArray()\n",
        "r=red.astype(dtype='int')\n",
        "\n",
        "s3 = gdal.Open('s2b3.tif')\n",
        "green = s3.GetRasterBand(1).ReadAsArray()\n",
        "g=green.astype(dtype='int')\n",
        "\n",
        "s2 = gdal.Open('s2b2.tif')\n",
        "blue = s2.GetRasterBand(1).ReadAsArray()\n",
        "b=blue.astype(dtype='int')\n",
        "\n",
        "def normalize(array):\n",
        "    array_min, array_max = array.min(), array.max()\n",
        "    return ((array - array_min)/(array_max - array_min))\n",
        "redn = normalize(r)\n",
        "greenn = normalize(g)\n",
        "bluen = normalize(b)\n",
        "rgb = np.dstack((redn, greenn, bluen))\n",
        "plt.imshow(rgb)"
      ],
      "execution_count": 41,
      "outputs": [
        {
          "output_type": "execute_result",
          "data": {
            "text/plain": [
              "<matplotlib.image.AxesImage at 0x7fd3029b07b8>"
            ]
          },
          "metadata": {
            "tags": []
          },
          "execution_count": 41
        },
        {
          "output_type": "display_data",
          "data": {
            "image/png": "[encoded data removed]",
            "text/plain": [
              "<Figure size 432x288 with 1 Axes>"
            ]
          },
          "metadata": {
            "tags": []
          }
        }
      ]
    },
    {
      "cell_type": "markdown",
      "metadata": {
        "id": "zwGfrvX20_XM",
        "colab_type": "text"
      },
      "source": [
        "CLASSIFICATION RESULTS : BLACK=BUILT UP, WHITE=OTHERS"
      ]
    },
    {
      "cell_type": "code",
      "metadata": {
        "id": "ULNtkFpCZFIf",
        "colab_type": "code",
        "outputId": "ad7854e6-53f7-4bb4-c511-562eaa5faa2b",
        "colab": {
          "base_uri": "https://localhost:8080/",
          "height": 286
        }
      },
      "source": [
        "plt.gray()\n",
        "plt.imshow(np.reshape(Y_pred,(2200,2200)))"
      ],
      "execution_count": 42,
      "outputs": [
        {
          "output_type": "execute_result",
          "data": {
            "text/plain": [
              "<matplotlib.image.AxesImage at 0x7fd30291c080>"
            ]
          },
          "metadata": {
            "tags": []
          },
          "execution_count": 42
        },
        {
          "output_type": "display_data",
          "data": {
            "image/png": "[encoded data removed]",
            "text/plain": [
              "<Figure size 432x288 with 1 Axes>"
            ]
          },
          "metadata": {
            "tags": []
          }
        }
      ]
    },
    {
      "cell_type": "markdown",
      "metadata": {
        "id": "cQG5yqkGwvMz",
        "colab_type": "text"
      },
      "source": [
        "**TEST DATA - BANGALORE REGION, INDIA (UNSEEN DATA)**"
      ]
    },
    {
      "cell_type": "code",
      "metadata": {
        "id": "aKj1BmuCw-dv",
        "colab_type": "code",
        "colab": {}
      },
      "source": [
        "!mkdir test-data\n",
        "!mkdir test-data/scene1\n",
        "!mkdir test-data/scene2\n",
        "!mkdir test-data/scene3"
      ],
      "execution_count": 0,
      "outputs": []
    },
    {
      "cell_type": "code",
      "metadata": {
        "id": "hRgn7rv1wzjU",
        "colab_type": "code",
        "outputId": "80a961b5-759e-4985-dbaf-77ca00152304",
        "colab": {
          "base_uri": "https://localhost:8080/",
          "height": 84
        }
      },
      "source": [
        "from landsatxplore.earthexplorer import EarthExplorer\n",
        "ee = EarthExplorer('uname', 'pwd')\n",
        "ee.download(scene_id='LC08_L1TP_144051_20190516_20190521_01_T1', output_dir='./test-data/scene1')\n",
        "ee.download(scene_id='LC08_L1TP_144051_20190108_20190130_01_T1', output_dir='./test-data/scene2')\n",
        "ee.download(scene_id='LC08_L1TP_144051_20170408_20170414_01_T1', output_dir='./test-data/scene3')"
      ],
      "execution_count": 44,
      "outputs": [
        {
          "output_type": "stream",
          "text": [
            "923MB [06:24, 2.52MB/s]                          \n",
            "900MB [11:55, 1.32MB/s]                           \n",
            "910MB [09:53, 1.61MB/s]                           \n"
          ],
          "name": "stderr"
        },
        {
          "output_type": "execute_result",
          "data": {
            "text/plain": [
              "'./test-data/scene3/LC08_L1TP_144051_20170408_20170414_01_T1.tar.gz'"
            ]
          },
          "metadata": {
            "tags": []
          },
          "execution_count": 44
        }
      ]
    },
    {
      "cell_type": "code",
      "metadata": {
        "id": "RHdGLgUuyAFd",
        "colab_type": "code",
        "colab": {}
      },
      "source": [
        "ee.logout()"
      ],
      "execution_count": 0,
      "outputs": []
    },
    {
      "cell_type": "code",
      "metadata": {
        "id": "qvFvn13MzIxN",
        "colab_type": "code",
        "outputId": "9231805a-adcb-40cd-d39a-a0877f1e7f62",
        "colab": {
          "base_uri": "https://localhost:8080/",
          "height": 722
        }
      },
      "source": [
        "!tar xvzf '/content/test-data/scene1/LC08_L1TP_144051_20190516_20190521_01_T1.tar.gz' -C './test-data/scene1'\n",
        "!tar xvzf '/content/test-data/scene2/LC08_L1TP_144051_20190108_20190130_01_T1.tar.gz' -C './test-data/scene2'\n",
        "!tar xvzf '/content/test-data/scene3/LC08_L1TP_144051_20170408_20170414_01_T1.tar.gz' -C './test-data/scene3'"
      ],
      "execution_count": 46,
      "outputs": [
        {
          "output_type": "stream",
          "text": [
            "LC08_L1TP_144051_20190516_20190521_01_T1_B1.TIF\n",
            "LC08_L1TP_144051_20190516_20190521_01_T1_B2.TIF\n",
            "LC08_L1TP_144051_20190516_20190521_01_T1_B3.TIF\n",
            "LC08_L1TP_144051_20190516_20190521_01_T1_B4.TIF\n",
            "LC08_L1TP_144051_20190516_20190521_01_T1_B5.TIF\n",
            "LC08_L1TP_144051_20190516_20190521_01_T1_B6.TIF\n",
            "LC08_L1TP_144051_20190516_20190521_01_T1_B7.TIF\n",
            "LC08_L1TP_144051_20190516_20190521_01_T1_B8.TIF\n",
            "LC08_L1TP_144051_20190516_20190521_01_T1_B9.TIF\n",
            "LC08_L1TP_144051_20190516_20190521_01_T1_B10.TIF\n",
            "LC08_L1TP_144051_20190516_20190521_01_T1_B11.TIF\n",
            "LC08_L1TP_144051_20190516_20190521_01_T1_BQA.TIF\n",
            "LC08_L1TP_144051_20190516_20190521_01_T1_ANG.txt\n",
            "LC08_L1TP_144051_20190516_20190521_01_T1_MTL.txt\n",
            "LC08_L1TP_144051_20190108_20190130_01_T1_B1.TIF\n",
            "LC08_L1TP_144051_20190108_20190130_01_T1_B2.TIF\n",
            "LC08_L1TP_144051_20190108_20190130_01_T1_B3.TIF\n",
            "LC08_L1TP_144051_20190108_20190130_01_T1_B4.TIF\n",
            "LC08_L1TP_144051_20190108_20190130_01_T1_B5.TIF\n",
            "LC08_L1TP_144051_20190108_20190130_01_T1_B6.TIF\n",
            "LC08_L1TP_144051_20190108_20190130_01_T1_B7.TIF\n",
            "LC08_L1TP_144051_20190108_20190130_01_T1_B8.TIF\n",
            "LC08_L1TP_144051_20190108_20190130_01_T1_B9.TIF\n",
            "LC08_L1TP_144051_20190108_20190130_01_T1_B10.TIF\n",
            "LC08_L1TP_144051_20190108_20190130_01_T1_B11.TIF\n",
            "LC08_L1TP_144051_20190108_20190130_01_T1_BQA.TIF\n",
            "LC08_L1TP_144051_20190108_20190130_01_T1_ANG.txt\n",
            "LC08_L1TP_144051_20190108_20190130_01_T1_MTL.txt\n",
            "LC08_L1TP_144051_20170408_20170414_01_T1_B1.TIF\n",
            "LC08_L1TP_144051_20170408_20170414_01_T1_B2.TIF\n",
            "LC08_L1TP_144051_20170408_20170414_01_T1_B3.TIF\n",
            "LC08_L1TP_144051_20170408_20170414_01_T1_B4.TIF\n",
            "LC08_L1TP_144051_20170408_20170414_01_T1_B5.TIF\n",
            "LC08_L1TP_144051_20170408_20170414_01_T1_B6.TIF\n",
            "LC08_L1TP_144051_20170408_20170414_01_T1_B7.TIF\n",
            "LC08_L1TP_144051_20170408_20170414_01_T1_B8.TIF\n",
            "LC08_L1TP_144051_20170408_20170414_01_T1_B9.TIF\n",
            "LC08_L1TP_144051_20170408_20170414_01_T1_B10.TIF\n",
            "LC08_L1TP_144051_20170408_20170414_01_T1_B11.TIF\n",
            "LC08_L1TP_144051_20170408_20170414_01_T1_BQA.TIF\n",
            "LC08_L1TP_144051_20170408_20170414_01_T1_ANG.txt\n",
            "LC08_L1TP_144051_20170408_20170414_01_T1_MTL.txt\n"
          ],
          "name": "stdout"
        }
      ]
    },
    {
      "cell_type": "markdown",
      "metadata": {
        "colab_type": "text",
        "id": "e66cAqKM0f39"
      },
      "source": [
        "SCENE 1 PREPROCESSING"
      ]
    },
    {
      "cell_type": "code",
      "metadata": {
        "colab_type": "code",
        "id": "Arqt2CjE0f4D",
        "outputId": "f20d768c-b002-40a5-bfac-752fe2fbe622",
        "colab": {
          "base_uri": "https://localhost:8080/",
          "height": 420
        }
      },
      "source": [
        "!gdal_translate -co QUALITY=100 -co PROGRESSIVE=ON -outsize 2200 2200 -r bilinear '/content/test-data/scene1/LC08_L1TP_144051_20190516_20190521_01_T1_B2.TIF' 'test-s1b2.tif'\n",
        "!gdal_translate -co QUALITY=100 -co PROGRESSIVE=ON -outsize 2200 2200 -r bilinear '/content/test-data/scene1/LC08_L1TP_144051_20190516_20190521_01_T1_B3.TIF' 'test-s1b3.tif'\n",
        "!gdal_translate -co QUALITY=100 -co PROGRESSIVE=ON -outsize 2200 2200 -r bilinear '/content/test-data/scene1/LC08_L1TP_144051_20190516_20190521_01_T1_B4.TIF' 'test-s1b4.tif'\n",
        "!gdal_translate -co QUALITY=100 -co PROGRESSIVE=ON -outsize 2200 2200 -r bilinear '/content/test-data/scene1/LC08_L1TP_144051_20190516_20190521_01_T1_B5.TIF' 'test-s1b5.tif'\n",
        "!gdal_translate -co QUALITY=100 -co PROGRESSIVE=ON -outsize 2200 2200 -r bilinear '/content/test-data/scene1/LC08_L1TP_144051_20190516_20190521_01_T1_B6.TIF' 'test-s1b6.tif'\n",
        "!gdal_translate -co QUALITY=100 -co PROGRESSIVE=ON -outsize 2200 2200 -r bilinear '/content/test-data/scene1/LC08_L1TP_144051_20190516_20190521_01_T1_B7.TIF' 'test-s1b7.tif'"
      ],
      "execution_count": 47,
      "outputs": [
        {
          "output_type": "stream",
          "text": [
            "Input file size is 7561, 7711\n",
            "Warning 6: driver GTiff does not support creation option QUALITY\n",
            "Warning 6: driver GTiff does not support creation option PROGRESSIVE\n",
            "0...10...20...30...40...50...60...70...80...90...100 - done.\n",
            "Input file size is 7561, 7711\n",
            "Warning 6: driver GTiff does not support creation option QUALITY\n",
            "Warning 6: driver GTiff does not support creation option PROGRESSIVE\n",
            "0...10...20...30...40...50...60...70...80...90...100 - done.\n",
            "Input file size is 7561, 7711\n",
            "Warning 6: driver GTiff does not support creation option QUALITY\n",
            "Warning 6: driver GTiff does not support creation option PROGRESSIVE\n",
            "0...10...20...30...40...50...60...70...80...90...100 - done.\n",
            "Input file size is 7561, 7711\n",
            "Warning 6: driver GTiff does not support creation option QUALITY\n",
            "Warning 6: driver GTiff does not support creation option PROGRESSIVE\n",
            "0...10...20...30...40...50...60...70...80...90...100 - done.\n",
            "Input file size is 7561, 7711\n",
            "Warning 6: driver GTiff does not support creation option QUALITY\n",
            "Warning 6: driver GTiff does not support creation option PROGRESSIVE\n",
            "0...10...20...30...40...50...60...70...80...90...100 - done.\n",
            "Input file size is 7561, 7711\n",
            "Warning 6: driver GTiff does not support creation option QUALITY\n",
            "Warning 6: driver GTiff does not support creation option PROGRESSIVE\n",
            "0...10...20...30...40...50...60...70...80...90...100 - done.\n"
          ],
          "name": "stdout"
        }
      ]
    },
    {
      "cell_type": "markdown",
      "metadata": {
        "colab_type": "text",
        "id": "OYXM1He90f4F"
      },
      "source": [
        "SCENE 2 PREPROCESSING"
      ]
    },
    {
      "cell_type": "code",
      "metadata": {
        "colab_type": "code",
        "id": "AtqEsy2P0f4G",
        "outputId": "070c791a-3c54-4ce3-d760-a494d43e9c6f",
        "colab": {
          "base_uri": "https://localhost:8080/",
          "height": 420
        }
      },
      "source": [
        "!gdal_translate -co QUALITY=100 -co PROGRESSIVE=ON -outsize 2200 2200 -r bilinear '/content/test-data/scene2/LC08_L1TP_144051_20190108_20190130_01_T1_B2.TIF' 'test-s2b2.tif'\n",
        "!gdal_translate -co QUALITY=100 -co PROGRESSIVE=ON -outsize 2200 2200 -r bilinear '/content/test-data/scene2/LC08_L1TP_144051_20190108_20190130_01_T1_B3.TIF' 'test-s2b3.tif'\n",
        "!gdal_translate -co QUALITY=100 -co PROGRESSIVE=ON -outsize 2200 2200 -r bilinear '/content/test-data/scene2/LC08_L1TP_144051_20190108_20190130_01_T1_B4.TIF' 'test-s2b4.tif'\n",
        "!gdal_translate -co QUALITY=100 -co PROGRESSIVE=ON -outsize 2200 2200 -r bilinear '/content/test-data/scene2/LC08_L1TP_144051_20190108_20190130_01_T1_B5.TIF' 'test-s2b5.tif'\n",
        "!gdal_translate -co QUALITY=100 -co PROGRESSIVE=ON -outsize 2200 2200 -r bilinear '/content/test-data/scene2/LC08_L1TP_144051_20190108_20190130_01_T1_B6.TIF' 'test-s2b6.tif'\n",
        "!gdal_translate -co QUALITY=100 -co PROGRESSIVE=ON -outsize 2200 2200 -r bilinear '/content/test-data/scene2/LC08_L1TP_144051_20190108_20190130_01_T1_B7.TIF' 'test-s2b7.tif'"
      ],
      "execution_count": 48,
      "outputs": [
        {
          "output_type": "stream",
          "text": [
            "Input file size is 7541, 7711\n",
            "Warning 6: driver GTiff does not support creation option QUALITY\n",
            "Warning 6: driver GTiff does not support creation option PROGRESSIVE\n",
            "0...10...20...30...40...50...60...70...80...90...100 - done.\n",
            "Input file size is 7541, 7711\n",
            "Warning 6: driver GTiff does not support creation option QUALITY\n",
            "Warning 6: driver GTiff does not support creation option PROGRESSIVE\n",
            "0...10...20...30...40...50...60...70...80...90...100 - done.\n",
            "Input file size is 7541, 7711\n",
            "Warning 6: driver GTiff does not support creation option QUALITY\n",
            "Warning 6: driver GTiff does not support creation option PROGRESSIVE\n",
            "0...10...20...30...40...50...60...70...80...90...100 - done.\n",
            "Input file size is 7541, 7711\n",
            "Warning 6: driver GTiff does not support creation option QUALITY\n",
            "Warning 6: driver GTiff does not support creation option PROGRESSIVE\n",
            "0...10...20...30...40...50...60...70...80...90...100 - done.\n",
            "Input file size is 7541, 7711\n",
            "Warning 6: driver GTiff does not support creation option QUALITY\n",
            "Warning 6: driver GTiff does not support creation option PROGRESSIVE\n",
            "0...10...20...30...40...50...60...70...80...90...100 - done.\n",
            "Input file size is 7541, 7711\n",
            "Warning 6: driver GTiff does not support creation option QUALITY\n",
            "Warning 6: driver GTiff does not support creation option PROGRESSIVE\n",
            "0...10...20...30...40...50...60...70...80...90...100 - done.\n"
          ],
          "name": "stdout"
        }
      ]
    },
    {
      "cell_type": "markdown",
      "metadata": {
        "colab_type": "text",
        "id": "D5uajomf0f4H"
      },
      "source": [
        "SCENE 3 PREPROCESSING"
      ]
    },
    {
      "cell_type": "code",
      "metadata": {
        "colab_type": "code",
        "id": "ceAa-Dje0f4I",
        "outputId": "e44d036b-6ac6-445a-f782-4b89739ea2ce",
        "colab": {
          "base_uri": "https://localhost:8080/",
          "height": 420
        }
      },
      "source": [
        "!gdal_translate -co QUALITY=100 -co PROGRESSIVE=ON -outsize 2200 2200 -r bilinear '/content/test-data/scene3/LC08_L1TP_144051_20170408_20170414_01_T1_B2.TIF' 'test-s3b2.tif'\n",
        "!gdal_translate -co QUALITY=100 -co PROGRESSIVE=ON -outsize 2200 2200 -r bilinear '/content/test-data/scene3/LC08_L1TP_144051_20170408_20170414_01_T1_B3.TIF' 'test-s3b3.tif'\n",
        "!gdal_translate -co QUALITY=100 -co PROGRESSIVE=ON -outsize 2200 2200 -r bilinear '/content/test-data/scene3/LC08_L1TP_144051_20170408_20170414_01_T1_B4.TIF' 'test-s3b4.tif'\n",
        "!gdal_translate -co QUALITY=100 -co PROGRESSIVE=ON -outsize 2200 2200 -r bilinear '/content/test-data/scene3/LC08_L1TP_144051_20170408_20170414_01_T1_B5.TIF' 'test-s3b5.tif'\n",
        "!gdal_translate -co QUALITY=100 -co PROGRESSIVE=ON -outsize 2200 2200 -r bilinear '/content/test-data/scene3/LC08_L1TP_144051_20170408_20170414_01_T1_B6.TIF' 'test-s3b6.tif'\n",
        "!gdal_translate -co QUALITY=100 -co PROGRESSIVE=ON -outsize 2200 2200 -r bilinear '/content/test-data/scene3/LC08_L1TP_144051_20170408_20170414_01_T1_B7.TIF' 'test-s3b7.tif'"
      ],
      "execution_count": 49,
      "outputs": [
        {
          "output_type": "stream",
          "text": [
            "Input file size is 7551, 7711\n",
            "Warning 6: driver GTiff does not support creation option QUALITY\n",
            "Warning 6: driver GTiff does not support creation option PROGRESSIVE\n",
            "0...10...20...30...40...50...60...70...80...90...100 - done.\n",
            "Input file size is 7551, 7711\n",
            "Warning 6: driver GTiff does not support creation option QUALITY\n",
            "Warning 6: driver GTiff does not support creation option PROGRESSIVE\n",
            "0...10...20...30...40...50...60...70...80...90...100 - done.\n",
            "Input file size is 7551, 7711\n",
            "Warning 6: driver GTiff does not support creation option QUALITY\n",
            "Warning 6: driver GTiff does not support creation option PROGRESSIVE\n",
            "0...10...20...30...40...50...60...70...80...90...100 - done.\n",
            "Input file size is 7551, 7711\n",
            "Warning 6: driver GTiff does not support creation option QUALITY\n",
            "Warning 6: driver GTiff does not support creation option PROGRESSIVE\n",
            "0...10...20...30...40...50...60...70...80...90...100 - done.\n",
            "Input file size is 7551, 7711\n",
            "Warning 6: driver GTiff does not support creation option QUALITY\n",
            "Warning 6: driver GTiff does not support creation option PROGRESSIVE\n",
            "0...10...20...30...40...50...60...70...80...90...100 - done.\n",
            "Input file size is 7551, 7711\n",
            "Warning 6: driver GTiff does not support creation option QUALITY\n",
            "Warning 6: driver GTiff does not support creation option PROGRESSIVE\n",
            "0...10...20...30...40...50...60...70...80...90...100 - done.\n"
          ],
          "name": "stdout"
        }
      ]
    },
    {
      "cell_type": "code",
      "metadata": {
        "id": "iDRa3-lx3_Ll",
        "colab_type": "code",
        "outputId": "51a205a4-406d-4cc4-e13c-656833061d40",
        "colab": {
          "base_uri": "https://localhost:8080/",
          "height": 286
        }
      },
      "source": [
        "s4=gdal.Open('test-s1b4.tif')\n",
        "red = s4.GetRasterBand(1).ReadAsArray()\n",
        "r=red.astype(dtype='int')\n",
        "\n",
        "s3 = gdal.Open('test-s1b3.tif')\n",
        "green = s3.GetRasterBand(1).ReadAsArray()\n",
        "g=green.astype(dtype='int')\n",
        "\n",
        "s2 = gdal.Open('test-s1b2.tif')\n",
        "blue = s2.GetRasterBand(1).ReadAsArray()\n",
        "b=blue.astype(dtype='int')\n",
        "\n",
        "def normalize(array):\n",
        "    array_min, array_max = array.min(), array.max()\n",
        "    return ((array - array_min)/(array_max - array_min))\n",
        "redn = normalize(r)\n",
        "greenn = normalize(g)\n",
        "bluen = normalize(b)\n",
        "rgb = np.dstack((redn, greenn, bluen))\n",
        "plt.imshow(rgb)\n"
      ],
      "execution_count": 51,
      "outputs": [
        {
          "output_type": "execute_result",
          "data": {
            "text/plain": [
              "<matplotlib.image.AxesImage at 0x7fd3028661d0>"
            ]
          },
          "metadata": {
            "tags": []
          },
          "execution_count": 51
        },
        {
          "output_type": "display_data",
          "data": {
            "image/png": "[encoded data removed]",
            "text/plain": [
              "<Figure size 432x288 with 1 Axes>"
            ]
          },
          "metadata": {
            "tags": []
          }
        }
      ]
    },
    {
      "cell_type": "code",
      "metadata": {
        "id": "NHunsOTr4n3x",
        "colab_type": "code",
        "outputId": "947676dc-bcf8-4e37-cd53-6f48e8ff0cb3",
        "colab": {
          "base_uri": "https://localhost:8080/",
          "height": 50
        }
      },
      "source": [
        "test_scene1_indices=calculate_all_indices_for_a_scene('test-s1')\n",
        "test_scene2_indices=calculate_all_indices_for_a_scene('test-s2')\n",
        "test_scene3_indices=calculate_all_indices_for_a_scene('test-s3')"
      ],
      "execution_count": 52,
      "outputs": [
        {
          "output_type": "stream",
          "text": [
            "/usr/local/lib/python3.6/dist-packages/ipykernel_launcher.py:2: RuntimeWarning: invalid value encountered in true_divide\n",
            "  \n"
          ],
          "name": "stderr"
        }
      ]
    },
    {
      "cell_type": "code",
      "metadata": {
        "id": "9b2-3nnq5Upx",
        "colab_type": "code",
        "outputId": "0e1ee177-5a94-4222-8229-fc52bd50ee38",
        "colab": {
          "base_uri": "https://localhost:8080/",
          "height": 310,
          "referenced_widgets": [
            "a5d1a15e071f4b14b62c17078360d3a9",
            "d608b0a8e2ee401f986849097974af21",
            "7d8cb1ce58e646bfa881325ba07f2669",
            "1613798b3eb5463d8fca315507352ec3",
            "2ccbbaa0307444d78b0846c3a2a42edd",
            "4f7e73e4f64440fe8b6a3377a8f6ba1c",
            "52b25244474040a3b49f426677d35c24",
            "6926ecff9b6a42109ac1a4f93f7b7467",
            "91aa64da913846b28c83b7af267f9e1f",
            "f73d59de846a4735ab41c8f26d1e2e5d",
            "94d6880290a14806b7eb934479fac9d4",
            "a43999672d684aeeb0b9b8371aaa9cae",
            "3fbe1471695648898c9b0e4981abd722",
            "eed8c53b508847fe8d8bba3a583b13d0",
            "4e1d38e7a4874189b59d16f19a6a31df",
            "b4da41c9ffe1471a97767174083e4f3b",
            "01e275e178e7415dafbb5d98b2d057e3",
            "ce9a905300694a0590ebc3f6d8dac529",
            "e66f585f639a44c197a067df43101dbd",
            "2b90aea3689e4935bf8f6d55b7d19766",
            "23dbce1d501c45f483fc62de00cfb95e",
            "76cd01ddaba5489a8880d41d0af4d23e",
            "6e66e7f3409f41598ed863136bde537a",
            "58ee724ab85949f4acc84357aaa6d9ea",
            "da4d0ede22604106ae17dd6c5e968ab6",
            "56ee83e71d234f4788c2d4a1a0d3bd8d",
            "f60e69ab11a84b0b87555118a0dedc9d",
            "bf49022f5cb34b07ba0a5c52f48872d4",
            "ffc7ce0ae50a4dbb9d1baa975c83a01b",
            "f895ad6fe7334cf28d57ac4f96f09a29",
            "2c9a7c4002d34ae5b05fe6a553c811c4",
            "33e4a5c0a0cd481093a22e1f429eef38",
            "5ebf04216d5740478b5c7c784b10edf1",
            "592d6e33d9bc4aaeb9f3d15467e6c282",
            "6732bebf13c644e49b87c4587c8e555c",
            "ad2377756fe14b30b15cf506e1a70ed7",
            "35333c252c9e4631aa368047060cc039",
            "c014d9a5615447e09e7fb3c71a226ae8",
            "1a32d28c43a44cab8f45e63af39ad1b1",
            "2dbca2bd3fa8412483bec5e539d01e21",
            "a1ca85768ff44b81aeb552dcc2ac7222",
            "3ed6ec81fd9d49dbbf831d0a77315859",
            "3e5c0154352b4da6a2481065cea1fcc8",
            "66b649aace7c45e59443e70d631da93f",
            "2b7329df26c344e99c76e4fb1f8dcdaa",
            "a141c81f21b7449db4e2d45349ab3642",
            "ece4ba5c828e4355a55be5e4c4227c0c",
            "1d3c992200f34508b99c86001016b578"
          ]
        }
      },
      "source": [
        "test_ndbi_statistics=calc_temporal_statistics(test_scene1_indices[0],test_scene2_indices[0],test_scene3_indices[0])\n",
        "test_mndwi_statistics=calc_temporal_statistics(test_scene1_indices[1],test_scene2_indices[1],test_scene3_indices[1])\n",
        "test_ndvi_statistics=calc_temporal_statistics(test_scene1_indices[2],test_scene2_indices[2],test_scene3_indices[2])\n",
        "test_ndmir_statistics=calc_temporal_statistics(test_scene1_indices[3],test_scene2_indices[3],test_scene3_indices[3])\n",
        "test_ndrb_statistics=calc_temporal_statistics(test_scene1_indices[4],test_scene2_indices[4],test_scene3_indices[4])\n",
        "test_ndgb_statistics=calc_temporal_statistics(test_scene1_indices[5],test_scene2_indices[5],test_scene3_indices[5])"
      ],
      "execution_count": 53,
      "outputs": [
        {
          "output_type": "display_data",
          "data": {
            "application/vnd.jupyter.widget-view+json": {
              "model_id": "a5d1a15e071f4b14b62c17078360d3a9",
              "version_minor": 0,
              "version_major": 2
            },
            "text/plain": [
              "HBox(children=(IntProgress(value=0, max=2200), HTML(value='')))"
            ]
          },
          "metadata": {
            "tags": []
          }
        },
        {
          "output_type": "stream",
          "text": [
            "\n"
          ],
          "name": "stdout"
        },
        {
          "output_type": "display_data",
          "data": {
            "application/vnd.jupyter.widget-view+json": {
              "model_id": "91aa64da913846b28c83b7af267f9e1f",
              "version_minor": 0,
              "version_major": 2
            },
            "text/plain": [
              "HBox(children=(IntProgress(value=0, max=2200), HTML(value='')))"
            ]
          },
          "metadata": {
            "tags": []
          }
        },
        {
          "output_type": "stream",
          "text": [
            "\n"
          ],
          "name": "stdout"
        },
        {
          "output_type": "display_data",
          "data": {
            "application/vnd.jupyter.widget-view+json": {
              "model_id": "01e275e178e7415dafbb5d98b2d057e3",
              "version_minor": 0,
              "version_major": 2
            },
            "text/plain": [
              "HBox(children=(IntProgress(value=0, max=2200), HTML(value='')))"
            ]
          },
          "metadata": {
            "tags": []
          }
        },
        {
          "output_type": "stream",
          "text": [
            "\n"
          ],
          "name": "stdout"
        },
        {
          "output_type": "display_data",
          "data": {
            "application/vnd.jupyter.widget-view+json": {
              "model_id": "da4d0ede22604106ae17dd6c5e968ab6",
              "version_minor": 0,
              "version_major": 2
            },
            "text/plain": [
              "HBox(children=(IntProgress(value=0, max=2200), HTML(value='')))"
            ]
          },
          "metadata": {
            "tags": []
          }
        },
        {
          "output_type": "stream",
          "text": [
            "\n"
          ],
          "name": "stdout"
        },
        {
          "output_type": "display_data",
          "data": {
            "application/vnd.jupyter.widget-view+json": {
              "model_id": "5ebf04216d5740478b5c7c784b10edf1",
              "version_minor": 0,
              "version_major": 2
            },
            "text/plain": [
              "HBox(children=(IntProgress(value=0, max=2200), HTML(value='')))"
            ]
          },
          "metadata": {
            "tags": []
          }
        },
        {
          "output_type": "stream",
          "text": [
            "\n"
          ],
          "name": "stdout"
        },
        {
          "output_type": "display_data",
          "data": {
            "application/vnd.jupyter.widget-view+json": {
              "model_id": "a1ca85768ff44b81aeb552dcc2ac7222",
              "version_minor": 0,
              "version_major": 2
            },
            "text/plain": [
              "HBox(children=(IntProgress(value=0, max=2200), HTML(value='')))"
            ]
          },
          "metadata": {
            "tags": []
          }
        },
        {
          "output_type": "stream",
          "text": [
            "\n"
          ],
          "name": "stdout"
        }
      ]
    },
    {
      "cell_type": "markdown",
      "metadata": {
        "id": "O5yIm8Vvn7Ou",
        "colab_type": "text"
      },
      "source": [
        "**VISUALIZING NDBI OF BANGALORE REGION, INDIA**"
      ]
    },
    {
      "cell_type": "code",
      "metadata": {
        "id": "GkuryD0q5akg",
        "colab_type": "code",
        "outputId": "82d2433f-d7b5-483d-eff7-e4cd9f89dc42",
        "colab": {
          "base_uri": "https://localhost:8080/",
          "height": 286
        }
      },
      "source": [
        "plt.imshow(test_ndbi_statistics[1]) "
      ],
      "execution_count": 54,
      "outputs": [
        {
          "output_type": "execute_result",
          "data": {
            "text/plain": [
              "<matplotlib.image.AxesImage at 0x7fd302771710>"
            ]
          },
          "metadata": {
            "tags": []
          },
          "execution_count": 54
        },
        {
          "output_type": "display_data",
          "data": {
            "image/png": "[encoded data removed]",
            "text/plain": [
              "<Figure size 432x288 with 1 Axes>"
            ]
          },
          "metadata": {
            "tags": []
          }
        }
      ]
    },
    {
      "cell_type": "code",
      "metadata": {
        "id": "1JJT9mo2NEH-",
        "colab_type": "code",
        "outputId": "ad5aebc4-4fbd-4104-ff01-3ab525a8ffc9",
        "colab": {
          "base_uri": "https://localhost:8080/",
          "height": 66,
          "referenced_widgets": [
            "7876fff8653949978bb6dbc5039be1ee",
            "f331a750a1ff441aaa443a47efdcd188",
            "c72a075b293c429abb53166c1243500f",
            "d13e664542404746a94b593ea7091a62",
            "3f8139a98418413bb7d4cf2fb8f611ac",
            "23900607de5a461c8b3f3d00299b0ab5",
            "66db48e9314048efa30f866031b78112",
            "49e6b3b3f4dd4ec3a6c182eaa400a3eb"
          ]
        }
      },
      "source": [
        "test_records=[]\n",
        "for i in tqdm(range(0,5)):\n",
        "          test_records.append(test_ndbi_statistics[i].flatten().tolist())\n",
        "          test_records.append(test_mndwi_statistics[i].flatten().tolist())\n",
        "          test_records.append(test_ndvi_statistics[i].flatten().tolist())\n",
        "          test_records.append(test_ndmir_statistics[i].flatten().tolist())\n",
        "          test_records.append(test_ndrb_statistics[i].flatten().tolist())\n",
        "          test_records.append(test_ndgb_statistics[i].flatten().tolist())"
      ],
      "execution_count": 55,
      "outputs": [
        {
          "output_type": "display_data",
          "data": {
            "application/vnd.jupyter.widget-view+json": {
              "model_id": "7876fff8653949978bb6dbc5039be1ee",
              "version_minor": 0,
              "version_major": 2
            },
            "text/plain": [
              "HBox(children=(IntProgress(value=0, max=5), HTML(value='')))"
            ]
          },
          "metadata": {
            "tags": []
          }
        },
        {
          "output_type": "stream",
          "text": [
            "\n"
          ],
          "name": "stdout"
        }
      ]
    },
    {
      "cell_type": "code",
      "metadata": {
        "id": "Fnt1YspeNY6-",
        "colab_type": "code",
        "outputId": "07f84464-c009-4343-cb06-2b1681ec3e63",
        "colab": {
          "base_uri": "https://localhost:8080/",
          "height": 50
        }
      },
      "source": [
        "test_record=np.column_stack(test_records)\n",
        "print('FULL TESTING DATA SHAPE: ')\n",
        "print(test_record.shape)"
      ],
      "execution_count": 56,
      "outputs": [
        {
          "output_type": "stream",
          "text": [
            "FULL TESTING DATA SHAPE: \n",
            "(4840000, 30)\n"
          ],
          "name": "stdout"
        }
      ]
    },
    {
      "cell_type": "code",
      "metadata": {
        "id": "EFpu-cDJN4Wl",
        "colab_type": "code",
        "colab": {}
      },
      "source": [
        "preds = svclassifier.predict(test_record)"
      ],
      "execution_count": 0,
      "outputs": []
    },
    {
      "cell_type": "markdown",
      "metadata": {
        "id": "3SqUq8gjoM1A",
        "colab_type": "text"
      },
      "source": [
        "**FINAL PREDICTION On UNSEEN DATA - BANGALORE REGION,INDIA**"
      ]
    },
    {
      "cell_type": "code",
      "metadata": {
        "id": "LzHe284aOgR-",
        "colab_type": "code",
        "outputId": "7d828690-8e08-4b4f-aaac-6a09c7b1e330",
        "colab": {
          "base_uri": "https://localhost:8080/",
          "height": 286
        }
      },
      "source": [
        "plt.gray()\n",
        "plt.imshow(np.reshape(preds,(2200,2200)))"
      ],
      "execution_count": 58,
      "outputs": [
        {
          "output_type": "execute_result",
          "data": {
            "text/plain": [
              "<matplotlib.image.AxesImage at 0x7fd22f6f6ac8>"
            ]
          },
          "metadata": {
            "tags": []
          },
          "execution_count": 58
        },
        {
          "output_type": "display_data",
          "data": {
            "image/png": "[encoded data removed]",
            "text/plain": [
              "<Figure size 432x288 with 1 Axes>"
            ]
          },
          "metadata": {
            "tags": []
          }
        }
      ]
    },
    {
      "cell_type": "code",
      "metadata": {
        "id": "a3Ys_T3jcKTx",
        "colab_type": "code",
        "outputId": "78b12489-b1b0-41f2-c2b5-d05c2600c249",
        "colab": {
          "base_uri": "https://localhost:8080/",
          "height": 34
        }
      },
      "source": [
        "cv2.imwrite(\"prediction.tif\",np.reshape(preds,(2200,2200)))"
      ],
      "execution_count": 59,
      "outputs": [
        {
          "output_type": "execute_result",
          "data": {
            "text/plain": [
              "True"
            ]
          },
          "metadata": {
            "tags": []
          },
          "execution_count": 59
        }
      ]
    }
  ]
}