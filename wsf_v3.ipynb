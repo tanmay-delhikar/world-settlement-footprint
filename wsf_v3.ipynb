{
  "nbformat": 4,
  "nbformat_minor": 0,
  "metadata": {
    "colab": {
      "name": "wsf-v3.ipynb",
      "provenance": [],
      "collapsed_sections": [],
      "machine_shape": "hm"
    },
    "kernelspec": {
      "name": "python3",
      "display_name": "Python 3"
    },
    "widgets": {
      "application/vnd.jupyter.widget-state+json": {
        "12504d9900d34487b34dd05d6584010b": {
          "model_module": "@jupyter-widgets/controls",
          "model_name": "HBoxModel",
          "state": {
            "_view_name": "HBoxView",
            "_dom_classes": [],
            "_model_name": "HBoxModel",
            "_view_module": "@jupyter-widgets/controls",
            "_model_module_version": "1.5.0",
            "_view_count": null,
            "_view_module_version": "1.5.0",
            "box_style": "",
            "layout": "IPY_MODEL_bfdd909b697d44d6bf94a7f1cdc02662",
            "_model_module": "@jupyter-widgets/controls",
            "children": [
              "IPY_MODEL_1f1ca8b602b8449a86d9cb0132753aa9",
              "IPY_MODEL_b197de7b010445ca821175506ea2d6ef"
            ]
          }
        },
        "bfdd909b697d44d6bf94a7f1cdc02662": {
          "model_module": "@jupyter-widgets/base",
          "model_name": "LayoutModel",
          "state": {
            "_view_name": "LayoutView",
            "grid_template_rows": null,
            "right": null,
            "justify_content": null,
            "_view_module": "@jupyter-widgets/base",
            "overflow": null,
            "_model_module_version": "1.2.0",
            "_view_count": null,
            "flex_flow": null,
            "width": null,
            "min_width": null,
            "border": null,
            "align_items": null,
            "bottom": null,
            "_model_module": "@jupyter-widgets/base",
            "top": null,
            "grid_column": null,
            "overflow_y": null,
            "overflow_x": null,
            "grid_auto_flow": null,
            "grid_area": null,
            "grid_template_columns": null,
            "flex": null,
            "_model_name": "LayoutModel",
            "justify_items": null,
            "grid_row": null,
            "max_height": null,
            "align_content": null,
            "visibility": null,
            "align_self": null,
            "height": null,
            "min_height": null,
            "padding": null,
            "grid_auto_rows": null,
            "grid_gap": null,
            "max_width": null,
            "order": null,
            "_view_module_version": "1.2.0",
            "grid_template_areas": null,
            "object_position": null,
            "object_fit": null,
            "grid_auto_columns": null,
            "margin": null,
            "display": null,
            "left": null
          }
        },
        "1f1ca8b602b8449a86d9cb0132753aa9": {
          "model_module": "@jupyter-widgets/controls",
          "model_name": "IntProgressModel",
          "state": {
            "_view_name": "ProgressView",
            "style": "IPY_MODEL_983fb1dbce164f8489a653f074142194",
            "_dom_classes": [],
            "description": "",
            "_model_name": "IntProgressModel",
            "bar_style": "success",
            "max": 1,
            "_view_module": "@jupyter-widgets/controls",
            "_model_module_version": "1.5.0",
            "value": 1,
            "_view_count": null,
            "_view_module_version": "1.5.0",
            "orientation": "horizontal",
            "min": 0,
            "description_tooltip": null,
            "_model_module": "@jupyter-widgets/controls",
            "layout": "IPY_MODEL_8d0d73aa24da4a02aece3ed9a342ca62"
          }
        },
        "b197de7b010445ca821175506ea2d6ef": {
          "model_module": "@jupyter-widgets/controls",
          "model_name": "HTMLModel",
          "state": {
            "_view_name": "HTMLView",
            "style": "IPY_MODEL_7261b45d036044b3b3712769c51d21ff",
            "_dom_classes": [],
            "description": "",
            "_model_name": "HTMLModel",
            "placeholder": "​",
            "_view_module": "@jupyter-widgets/controls",
            "_model_module_version": "1.5.0",
            "value": "1000000it [04:19, 3859.82it/s]",
            "_view_count": null,
            "_view_module_version": "1.5.0",
            "description_tooltip": null,
            "_model_module": "@jupyter-widgets/controls",
            "layout": "IPY_MODEL_41f60dcd887548eeac9c8fc78c09a515"
          }
        },
        "983fb1dbce164f8489a653f074142194": {
          "model_module": "@jupyter-widgets/controls",
          "model_name": "ProgressStyleModel",
          "state": {
            "_view_name": "StyleView",
            "_model_name": "ProgressStyleModel",
            "description_width": "",
            "_view_module": "@jupyter-widgets/base",
            "_model_module_version": "1.5.0",
            "_view_count": null,
            "_view_module_version": "1.2.0",
            "bar_color": null,
            "_model_module": "@jupyter-widgets/controls"
          }
        },
        "8d0d73aa24da4a02aece3ed9a342ca62": {
          "model_module": "@jupyter-widgets/base",
          "model_name": "LayoutModel",
          "state": {
            "_view_name": "LayoutView",
            "grid_template_rows": null,
            "right": null,
            "justify_content": null,
            "_view_module": "@jupyter-widgets/base",
            "overflow": null,
            "_model_module_version": "1.2.0",
            "_view_count": null,
            "flex_flow": null,
            "width": null,
            "min_width": null,
            "border": null,
            "align_items": null,
            "bottom": null,
            "_model_module": "@jupyter-widgets/base",
            "top": null,
            "grid_column": null,
            "overflow_y": null,
            "overflow_x": null,
            "grid_auto_flow": null,
            "grid_area": null,
            "grid_template_columns": null,
            "flex": null,
            "_model_name": "LayoutModel",
            "justify_items": null,
            "grid_row": null,
            "max_height": null,
            "align_content": null,
            "visibility": null,
            "align_self": null,
            "height": null,
            "min_height": null,
            "padding": null,
            "grid_auto_rows": null,
            "grid_gap": null,
            "max_width": null,
            "order": null,
            "_view_module_version": "1.2.0",
            "grid_template_areas": null,
            "object_position": null,
            "object_fit": null,
            "grid_auto_columns": null,
            "margin": null,
            "display": null,
            "left": null
          }
        },
        "7261b45d036044b3b3712769c51d21ff": {
          "model_module": "@jupyter-widgets/controls",
          "model_name": "DescriptionStyleModel",
          "state": {
            "_view_name": "StyleView",
            "_model_name": "DescriptionStyleModel",
            "description_width": "",
            "_view_module": "@jupyter-widgets/base",
            "_model_module_version": "1.5.0",
            "_view_count": null,
            "_view_module_version": "1.2.0",
            "_model_module": "@jupyter-widgets/controls"
          }
        },
        "41f60dcd887548eeac9c8fc78c09a515": {
          "model_module": "@jupyter-widgets/base",
          "model_name": "LayoutModel",
          "state": {
            "_view_name": "LayoutView",
            "grid_template_rows": null,
            "right": null,
            "justify_content": null,
            "_view_module": "@jupyter-widgets/base",
            "overflow": null,
            "_model_module_version": "1.2.0",
            "_view_count": null,
            "flex_flow": null,
            "width": null,
            "min_width": null,
            "border": null,
            "align_items": null,
            "bottom": null,
            "_model_module": "@jupyter-widgets/base",
            "top": null,
            "grid_column": null,
            "overflow_y": null,
            "overflow_x": null,
            "grid_auto_flow": null,
            "grid_area": null,
            "grid_template_columns": null,
            "flex": null,
            "_model_name": "LayoutModel",
            "justify_items": null,
            "grid_row": null,
            "max_height": null,
            "align_content": null,
            "visibility": null,
            "align_self": null,
            "height": null,
            "min_height": null,
            "padding": null,
            "grid_auto_rows": null,
            "grid_gap": null,
            "max_width": null,
            "order": null,
            "_view_module_version": "1.2.0",
            "grid_template_areas": null,
            "object_position": null,
            "object_fit": null,
            "grid_auto_columns": null,
            "margin": null,
            "display": null,
            "left": null
          }
        },
        "a09f1dd3c4fb47898b9295fa43636e91": {
          "model_module": "@jupyter-widgets/controls",
          "model_name": "HBoxModel",
          "state": {
            "_view_name": "HBoxView",
            "_dom_classes": [],
            "_model_name": "HBoxModel",
            "_view_module": "@jupyter-widgets/controls",
            "_model_module_version": "1.5.0",
            "_view_count": null,
            "_view_module_version": "1.5.0",
            "box_style": "",
            "layout": "IPY_MODEL_3a7665a1bc7a4a4fa17b43f91e41c4d7",
            "_model_module": "@jupyter-widgets/controls",
            "children": [
              "IPY_MODEL_017d14710a194e768a0a5bc1404de6b4",
              "IPY_MODEL_35e914a173494e008a17b702d47c2a2f"
            ]
          }
        },
        "3a7665a1bc7a4a4fa17b43f91e41c4d7": {
          "model_module": "@jupyter-widgets/base",
          "model_name": "LayoutModel",
          "state": {
            "_view_name": "LayoutView",
            "grid_template_rows": null,
            "right": null,
            "justify_content": null,
            "_view_module": "@jupyter-widgets/base",
            "overflow": null,
            "_model_module_version": "1.2.0",
            "_view_count": null,
            "flex_flow": null,
            "width": null,
            "min_width": null,
            "border": null,
            "align_items": null,
            "bottom": null,
            "_model_module": "@jupyter-widgets/base",
            "top": null,
            "grid_column": null,
            "overflow_y": null,
            "overflow_x": null,
            "grid_auto_flow": null,
            "grid_area": null,
            "grid_template_columns": null,
            "flex": null,
            "_model_name": "LayoutModel",
            "justify_items": null,
            "grid_row": null,
            "max_height": null,
            "align_content": null,
            "visibility": null,
            "align_self": null,
            "height": null,
            "min_height": null,
            "padding": null,
            "grid_auto_rows": null,
            "grid_gap": null,
            "max_width": null,
            "order": null,
            "_view_module_version": "1.2.0",
            "grid_template_areas": null,
            "object_position": null,
            "object_fit": null,
            "grid_auto_columns": null,
            "margin": null,
            "display": null,
            "left": null
          }
        },
        "017d14710a194e768a0a5bc1404de6b4": {
          "model_module": "@jupyter-widgets/controls",
          "model_name": "IntProgressModel",
          "state": {
            "_view_name": "ProgressView",
            "style": "IPY_MODEL_b1d1f728da354d37a86cd085dcae9de8",
            "_dom_classes": [],
            "description": "",
            "_model_name": "IntProgressModel",
            "bar_style": "success",
            "max": 1,
            "_view_module": "@jupyter-widgets/controls",
            "_model_module_version": "1.5.0",
            "value": 1,
            "_view_count": null,
            "_view_module_version": "1.5.0",
            "orientation": "horizontal",
            "min": 0,
            "description_tooltip": null,
            "_model_module": "@jupyter-widgets/controls",
            "layout": "IPY_MODEL_24118ff899cc4ea18afbed852d31a6e0"
          }
        },
        "35e914a173494e008a17b702d47c2a2f": {
          "model_module": "@jupyter-widgets/controls",
          "model_name": "HTMLModel",
          "state": {
            "_view_name": "HTMLView",
            "style": "IPY_MODEL_9fe42028f2954609a64c4a8841fdc1bd",
            "_dom_classes": [],
            "description": "",
            "_model_name": "HTMLModel",
            "placeholder": "​",
            "_view_module": "@jupyter-widgets/controls",
            "_model_module_version": "1.5.0",
            "value": "1000000it [04:22, 3802.92it/s]",
            "_view_count": null,
            "_view_module_version": "1.5.0",
            "description_tooltip": null,
            "_model_module": "@jupyter-widgets/controls",
            "layout": "IPY_MODEL_ba0f36bef34c4f52ab0be3b1277b1040"
          }
        },
        "b1d1f728da354d37a86cd085dcae9de8": {
          "model_module": "@jupyter-widgets/controls",
          "model_name": "ProgressStyleModel",
          "state": {
            "_view_name": "StyleView",
            "_model_name": "ProgressStyleModel",
            "description_width": "",
            "_view_module": "@jupyter-widgets/base",
            "_model_module_version": "1.5.0",
            "_view_count": null,
            "_view_module_version": "1.2.0",
            "bar_color": null,
            "_model_module": "@jupyter-widgets/controls"
          }
        },
        "24118ff899cc4ea18afbed852d31a6e0": {
          "model_module": "@jupyter-widgets/base",
          "model_name": "LayoutModel",
          "state": {
            "_view_name": "LayoutView",
            "grid_template_rows": null,
            "right": null,
            "justify_content": null,
            "_view_module": "@jupyter-widgets/base",
            "overflow": null,
            "_model_module_version": "1.2.0",
            "_view_count": null,
            "flex_flow": null,
            "width": null,
            "min_width": null,
            "border": null,
            "align_items": null,
            "bottom": null,
            "_model_module": "@jupyter-widgets/base",
            "top": null,
            "grid_column": null,
            "overflow_y": null,
            "overflow_x": null,
            "grid_auto_flow": null,
            "grid_area": null,
            "grid_template_columns": null,
            "flex": null,
            "_model_name": "LayoutModel",
            "justify_items": null,
            "grid_row": null,
            "max_height": null,
            "align_content": null,
            "visibility": null,
            "align_self": null,
            "height": null,
            "min_height": null,
            "padding": null,
            "grid_auto_rows": null,
            "grid_gap": null,
            "max_width": null,
            "order": null,
            "_view_module_version": "1.2.0",
            "grid_template_areas": null,
            "object_position": null,
            "object_fit": null,
            "grid_auto_columns": null,
            "margin": null,
            "display": null,
            "left": null
          }
        },
        "9fe42028f2954609a64c4a8841fdc1bd": {
          "model_module": "@jupyter-widgets/controls",
          "model_name": "DescriptionStyleModel",
          "state": {
            "_view_name": "StyleView",
            "_model_name": "DescriptionStyleModel",
            "description_width": "",
            "_view_module": "@jupyter-widgets/base",
            "_model_module_version": "1.5.0",
            "_view_count": null,
            "_view_module_version": "1.2.0",
            "_model_module": "@jupyter-widgets/controls"
          }
        },
        "ba0f36bef34c4f52ab0be3b1277b1040": {
          "model_module": "@jupyter-widgets/base",
          "model_name": "LayoutModel",
          "state": {
            "_view_name": "LayoutView",
            "grid_template_rows": null,
            "right": null,
            "justify_content": null,
            "_view_module": "@jupyter-widgets/base",
            "overflow": null,
            "_model_module_version": "1.2.0",
            "_view_count": null,
            "flex_flow": null,
            "width": null,
            "min_width": null,
            "border": null,
            "align_items": null,
            "bottom": null,
            "_model_module": "@jupyter-widgets/base",
            "top": null,
            "grid_column": null,
            "overflow_y": null,
            "overflow_x": null,
            "grid_auto_flow": null,
            "grid_area": null,
            "grid_template_columns": null,
            "flex": null,
            "_model_name": "LayoutModel",
            "justify_items": null,
            "grid_row": null,
            "max_height": null,
            "align_content": null,
            "visibility": null,
            "align_self": null,
            "height": null,
            "min_height": null,
            "padding": null,
            "grid_auto_rows": null,
            "grid_gap": null,
            "max_width": null,
            "order": null,
            "_view_module_version": "1.2.0",
            "grid_template_areas": null,
            "object_position": null,
            "object_fit": null,
            "grid_auto_columns": null,
            "margin": null,
            "display": null,
            "left": null
          }
        },
        "a5c1776e59194275b60dffa56023435e": {
          "model_module": "@jupyter-widgets/controls",
          "model_name": "HBoxModel",
          "state": {
            "_view_name": "HBoxView",
            "_dom_classes": [],
            "_model_name": "HBoxModel",
            "_view_module": "@jupyter-widgets/controls",
            "_model_module_version": "1.5.0",
            "_view_count": null,
            "_view_module_version": "1.5.0",
            "box_style": "",
            "layout": "IPY_MODEL_178b94e17d2b44db879d041fd115dbf7",
            "_model_module": "@jupyter-widgets/controls",
            "children": [
              "IPY_MODEL_8f98016ab89143fb917787f5665d725b",
              "IPY_MODEL_de2f98ec04b04f4f9f5aa6bdb3b95547"
            ]
          }
        },
        "178b94e17d2b44db879d041fd115dbf7": {
          "model_module": "@jupyter-widgets/base",
          "model_name": "LayoutModel",
          "state": {
            "_view_name": "LayoutView",
            "grid_template_rows": null,
            "right": null,
            "justify_content": null,
            "_view_module": "@jupyter-widgets/base",
            "overflow": null,
            "_model_module_version": "1.2.0",
            "_view_count": null,
            "flex_flow": null,
            "width": null,
            "min_width": null,
            "border": null,
            "align_items": null,
            "bottom": null,
            "_model_module": "@jupyter-widgets/base",
            "top": null,
            "grid_column": null,
            "overflow_y": null,
            "overflow_x": null,
            "grid_auto_flow": null,
            "grid_area": null,
            "grid_template_columns": null,
            "flex": null,
            "_model_name": "LayoutModel",
            "justify_items": null,
            "grid_row": null,
            "max_height": null,
            "align_content": null,
            "visibility": null,
            "align_self": null,
            "height": null,
            "min_height": null,
            "padding": null,
            "grid_auto_rows": null,
            "grid_gap": null,
            "max_width": null,
            "order": null,
            "_view_module_version": "1.2.0",
            "grid_template_areas": null,
            "object_position": null,
            "object_fit": null,
            "grid_auto_columns": null,
            "margin": null,
            "display": null,
            "left": null
          }
        },
        "8f98016ab89143fb917787f5665d725b": {
          "model_module": "@jupyter-widgets/controls",
          "model_name": "IntProgressModel",
          "state": {
            "_view_name": "ProgressView",
            "style": "IPY_MODEL_4a40150bd39d47bca76cfdf286d062ed",
            "_dom_classes": [],
            "description": "",
            "_model_name": "IntProgressModel",
            "bar_style": "success",
            "max": 1,
            "_view_module": "@jupyter-widgets/controls",
            "_model_module_version": "1.5.0",
            "value": 1,
            "_view_count": null,
            "_view_module_version": "1.5.0",
            "orientation": "horizontal",
            "min": 0,
            "description_tooltip": null,
            "_model_module": "@jupyter-widgets/controls",
            "layout": "IPY_MODEL_4769a70d666d466b85bb979343dfa3b8"
          }
        },
        "de2f98ec04b04f4f9f5aa6bdb3b95547": {
          "model_module": "@jupyter-widgets/controls",
          "model_name": "HTMLModel",
          "state": {
            "_view_name": "HTMLView",
            "style": "IPY_MODEL_6acf9759ebb1408e995421e0ec8b5308",
            "_dom_classes": [],
            "description": "",
            "_model_name": "HTMLModel",
            "placeholder": "​",
            "_view_module": "@jupyter-widgets/controls",
            "_model_module_version": "1.5.0",
            "value": "1000000it [04:22, 3815.74it/s]",
            "_view_count": null,
            "_view_module_version": "1.5.0",
            "description_tooltip": null,
            "_model_module": "@jupyter-widgets/controls",
            "layout": "IPY_MODEL_fa743457f47d4af7a819cf8acc2eff3d"
          }
        },
        "4a40150bd39d47bca76cfdf286d062ed": {
          "model_module": "@jupyter-widgets/controls",
          "model_name": "ProgressStyleModel",
          "state": {
            "_view_name": "StyleView",
            "_model_name": "ProgressStyleModel",
            "description_width": "",
            "_view_module": "@jupyter-widgets/base",
            "_model_module_version": "1.5.0",
            "_view_count": null,
            "_view_module_version": "1.2.0",
            "bar_color": null,
            "_model_module": "@jupyter-widgets/controls"
          }
        },
        "4769a70d666d466b85bb979343dfa3b8": {
          "model_module": "@jupyter-widgets/base",
          "model_name": "LayoutModel",
          "state": {
            "_view_name": "LayoutView",
            "grid_template_rows": null,
            "right": null,
            "justify_content": null,
            "_view_module": "@jupyter-widgets/base",
            "overflow": null,
            "_model_module_version": "1.2.0",
            "_view_count": null,
            "flex_flow": null,
            "width": null,
            "min_width": null,
            "border": null,
            "align_items": null,
            "bottom": null,
            "_model_module": "@jupyter-widgets/base",
            "top": null,
            "grid_column": null,
            "overflow_y": null,
            "overflow_x": null,
            "grid_auto_flow": null,
            "grid_area": null,
            "grid_template_columns": null,
            "flex": null,
            "_model_name": "LayoutModel",
            "justify_items": null,
            "grid_row": null,
            "max_height": null,
            "align_content": null,
            "visibility": null,
            "align_self": null,
            "height": null,
            "min_height": null,
            "padding": null,
            "grid_auto_rows": null,
            "grid_gap": null,
            "max_width": null,
            "order": null,
            "_view_module_version": "1.2.0",
            "grid_template_areas": null,
            "object_position": null,
            "object_fit": null,
            "grid_auto_columns": null,
            "margin": null,
            "display": null,
            "left": null
          }
        },
        "6acf9759ebb1408e995421e0ec8b5308": {
          "model_module": "@jupyter-widgets/controls",
          "model_name": "DescriptionStyleModel",
          "state": {
            "_view_name": "StyleView",
            "_model_name": "DescriptionStyleModel",
            "description_width": "",
            "_view_module": "@jupyter-widgets/base",
            "_model_module_version": "1.5.0",
            "_view_count": null,
            "_view_module_version": "1.2.0",
            "_model_module": "@jupyter-widgets/controls"
          }
        },
        "fa743457f47d4af7a819cf8acc2eff3d": {
          "model_module": "@jupyter-widgets/base",
          "model_name": "LayoutModel",
          "state": {
            "_view_name": "LayoutView",
            "grid_template_rows": null,
            "right": null,
            "justify_content": null,
            "_view_module": "@jupyter-widgets/base",
            "overflow": null,
            "_model_module_version": "1.2.0",
            "_view_count": null,
            "flex_flow": null,
            "width": null,
            "min_width": null,
            "border": null,
            "align_items": null,
            "bottom": null,
            "_model_module": "@jupyter-widgets/base",
            "top": null,
            "grid_column": null,
            "overflow_y": null,
            "overflow_x": null,
            "grid_auto_flow": null,
            "grid_area": null,
            "grid_template_columns": null,
            "flex": null,
            "_model_name": "LayoutModel",
            "justify_items": null,
            "grid_row": null,
            "max_height": null,
            "align_content": null,
            "visibility": null,
            "align_self": null,
            "height": null,
            "min_height": null,
            "padding": null,
            "grid_auto_rows": null,
            "grid_gap": null,
            "max_width": null,
            "order": null,
            "_view_module_version": "1.2.0",
            "grid_template_areas": null,
            "object_position": null,
            "object_fit": null,
            "grid_auto_columns": null,
            "margin": null,
            "display": null,
            "left": null
          }
        },
        "521dd9994de44725ba42e4acfc053d70": {
          "model_module": "@jupyter-widgets/controls",
          "model_name": "HBoxModel",
          "state": {
            "_view_name": "HBoxView",
            "_dom_classes": [],
            "_model_name": "HBoxModel",
            "_view_module": "@jupyter-widgets/controls",
            "_model_module_version": "1.5.0",
            "_view_count": null,
            "_view_module_version": "1.5.0",
            "box_style": "",
            "layout": "IPY_MODEL_e4187ba6451f4aa6ab743181c407d744",
            "_model_module": "@jupyter-widgets/controls",
            "children": [
              "IPY_MODEL_acd27232926543408d188652b8991fd8",
              "IPY_MODEL_dda5746012d340679939b37150a18dbb"
            ]
          }
        },
        "e4187ba6451f4aa6ab743181c407d744": {
          "model_module": "@jupyter-widgets/base",
          "model_name": "LayoutModel",
          "state": {
            "_view_name": "LayoutView",
            "grid_template_rows": null,
            "right": null,
            "justify_content": null,
            "_view_module": "@jupyter-widgets/base",
            "overflow": null,
            "_model_module_version": "1.2.0",
            "_view_count": null,
            "flex_flow": null,
            "width": null,
            "min_width": null,
            "border": null,
            "align_items": null,
            "bottom": null,
            "_model_module": "@jupyter-widgets/base",
            "top": null,
            "grid_column": null,
            "overflow_y": null,
            "overflow_x": null,
            "grid_auto_flow": null,
            "grid_area": null,
            "grid_template_columns": null,
            "flex": null,
            "_model_name": "LayoutModel",
            "justify_items": null,
            "grid_row": null,
            "max_height": null,
            "align_content": null,
            "visibility": null,
            "align_self": null,
            "height": null,
            "min_height": null,
            "padding": null,
            "grid_auto_rows": null,
            "grid_gap": null,
            "max_width": null,
            "order": null,
            "_view_module_version": "1.2.0",
            "grid_template_areas": null,
            "object_position": null,
            "object_fit": null,
            "grid_auto_columns": null,
            "margin": null,
            "display": null,
            "left": null
          }
        },
        "acd27232926543408d188652b8991fd8": {
          "model_module": "@jupyter-widgets/controls",
          "model_name": "IntProgressModel",
          "state": {
            "_view_name": "ProgressView",
            "style": "IPY_MODEL_2e268a5603134fc8858830d16d3ed80d",
            "_dom_classes": [],
            "description": "",
            "_model_name": "IntProgressModel",
            "bar_style": "success",
            "max": 1,
            "_view_module": "@jupyter-widgets/controls",
            "_model_module_version": "1.5.0",
            "value": 1,
            "_view_count": null,
            "_view_module_version": "1.5.0",
            "orientation": "horizontal",
            "min": 0,
            "description_tooltip": null,
            "_model_module": "@jupyter-widgets/controls",
            "layout": "IPY_MODEL_1de38c3bc492439880cad2fcc7e209ff"
          }
        },
        "dda5746012d340679939b37150a18dbb": {
          "model_module": "@jupyter-widgets/controls",
          "model_name": "HTMLModel",
          "state": {
            "_view_name": "HTMLView",
            "style": "IPY_MODEL_10a144a004fe485e9ab755ae52cdc11a",
            "_dom_classes": [],
            "description": "",
            "_model_name": "HTMLModel",
            "placeholder": "​",
            "_view_module": "@jupyter-widgets/controls",
            "_model_module_version": "1.5.0",
            "value": "1000000it [04:23, 3793.82it/s]",
            "_view_count": null,
            "_view_module_version": "1.5.0",
            "description_tooltip": null,
            "_model_module": "@jupyter-widgets/controls",
            "layout": "IPY_MODEL_9c4a6ad23c3b42b4a46536815b0a6dd0"
          }
        },
        "2e268a5603134fc8858830d16d3ed80d": {
          "model_module": "@jupyter-widgets/controls",
          "model_name": "ProgressStyleModel",
          "state": {
            "_view_name": "StyleView",
            "_model_name": "ProgressStyleModel",
            "description_width": "",
            "_view_module": "@jupyter-widgets/base",
            "_model_module_version": "1.5.0",
            "_view_count": null,
            "_view_module_version": "1.2.0",
            "bar_color": null,
            "_model_module": "@jupyter-widgets/controls"
          }
        },
        "1de38c3bc492439880cad2fcc7e209ff": {
          "model_module": "@jupyter-widgets/base",
          "model_name": "LayoutModel",
          "state": {
            "_view_name": "LayoutView",
            "grid_template_rows": null,
            "right": null,
            "justify_content": null,
            "_view_module": "@jupyter-widgets/base",
            "overflow": null,
            "_model_module_version": "1.2.0",
            "_view_count": null,
            "flex_flow": null,
            "width": null,
            "min_width": null,
            "border": null,
            "align_items": null,
            "bottom": null,
            "_model_module": "@jupyter-widgets/base",
            "top": null,
            "grid_column": null,
            "overflow_y": null,
            "overflow_x": null,
            "grid_auto_flow": null,
            "grid_area": null,
            "grid_template_columns": null,
            "flex": null,
            "_model_name": "LayoutModel",
            "justify_items": null,
            "grid_row": null,
            "max_height": null,
            "align_content": null,
            "visibility": null,
            "align_self": null,
            "height": null,
            "min_height": null,
            "padding": null,
            "grid_auto_rows": null,
            "grid_gap": null,
            "max_width": null,
            "order": null,
            "_view_module_version": "1.2.0",
            "grid_template_areas": null,
            "object_position": null,
            "object_fit": null,
            "grid_auto_columns": null,
            "margin": null,
            "display": null,
            "left": null
          }
        },
        "10a144a004fe485e9ab755ae52cdc11a": {
          "model_module": "@jupyter-widgets/controls",
          "model_name": "DescriptionStyleModel",
          "state": {
            "_view_name": "StyleView",
            "_model_name": "DescriptionStyleModel",
            "description_width": "",
            "_view_module": "@jupyter-widgets/base",
            "_model_module_version": "1.5.0",
            "_view_count": null,
            "_view_module_version": "1.2.0",
            "_model_module": "@jupyter-widgets/controls"
          }
        },
        "9c4a6ad23c3b42b4a46536815b0a6dd0": {
          "model_module": "@jupyter-widgets/base",
          "model_name": "LayoutModel",
          "state": {
            "_view_name": "LayoutView",
            "grid_template_rows": null,
            "right": null,
            "justify_content": null,
            "_view_module": "@jupyter-widgets/base",
            "overflow": null,
            "_model_module_version": "1.2.0",
            "_view_count": null,
            "flex_flow": null,
            "width": null,
            "min_width": null,
            "border": null,
            "align_items": null,
            "bottom": null,
            "_model_module": "@jupyter-widgets/base",
            "top": null,
            "grid_column": null,
            "overflow_y": null,
            "overflow_x": null,
            "grid_auto_flow": null,
            "grid_area": null,
            "grid_template_columns": null,
            "flex": null,
            "_model_name": "LayoutModel",
            "justify_items": null,
            "grid_row": null,
            "max_height": null,
            "align_content": null,
            "visibility": null,
            "align_self": null,
            "height": null,
            "min_height": null,
            "padding": null,
            "grid_auto_rows": null,
            "grid_gap": null,
            "max_width": null,
            "order": null,
            "_view_module_version": "1.2.0",
            "grid_template_areas": null,
            "object_position": null,
            "object_fit": null,
            "grid_auto_columns": null,
            "margin": null,
            "display": null,
            "left": null
          }
        },
        "873cc24701754e18960bd8d71d373d1b": {
          "model_module": "@jupyter-widgets/controls",
          "model_name": "HBoxModel",
          "state": {
            "_view_name": "HBoxView",
            "_dom_classes": [],
            "_model_name": "HBoxModel",
            "_view_module": "@jupyter-widgets/controls",
            "_model_module_version": "1.5.0",
            "_view_count": null,
            "_view_module_version": "1.5.0",
            "box_style": "",
            "layout": "IPY_MODEL_0d9460aff31e4131a158b965447b15d1",
            "_model_module": "@jupyter-widgets/controls",
            "children": [
              "IPY_MODEL_a3a3313bcb994712bde68041d92ca9b5",
              "IPY_MODEL_bacf8245053b4bfab5c5ed23076d57b0"
            ]
          }
        },
        "0d9460aff31e4131a158b965447b15d1": {
          "model_module": "@jupyter-widgets/base",
          "model_name": "LayoutModel",
          "state": {
            "_view_name": "LayoutView",
            "grid_template_rows": null,
            "right": null,
            "justify_content": null,
            "_view_module": "@jupyter-widgets/base",
            "overflow": null,
            "_model_module_version": "1.2.0",
            "_view_count": null,
            "flex_flow": null,
            "width": null,
            "min_width": null,
            "border": null,
            "align_items": null,
            "bottom": null,
            "_model_module": "@jupyter-widgets/base",
            "top": null,
            "grid_column": null,
            "overflow_y": null,
            "overflow_x": null,
            "grid_auto_flow": null,
            "grid_area": null,
            "grid_template_columns": null,
            "flex": null,
            "_model_name": "LayoutModel",
            "justify_items": null,
            "grid_row": null,
            "max_height": null,
            "align_content": null,
            "visibility": null,
            "align_self": null,
            "height": null,
            "min_height": null,
            "padding": null,
            "grid_auto_rows": null,
            "grid_gap": null,
            "max_width": null,
            "order": null,
            "_view_module_version": "1.2.0",
            "grid_template_areas": null,
            "object_position": null,
            "object_fit": null,
            "grid_auto_columns": null,
            "margin": null,
            "display": null,
            "left": null
          }
        },
        "a3a3313bcb994712bde68041d92ca9b5": {
          "model_module": "@jupyter-widgets/controls",
          "model_name": "IntProgressModel",
          "state": {
            "_view_name": "ProgressView",
            "style": "IPY_MODEL_0dcfb852bde648679ae9b5585f54961c",
            "_dom_classes": [],
            "description": "",
            "_model_name": "IntProgressModel",
            "bar_style": "success",
            "max": 1,
            "_view_module": "@jupyter-widgets/controls",
            "_model_module_version": "1.5.0",
            "value": 1,
            "_view_count": null,
            "_view_module_version": "1.5.0",
            "orientation": "horizontal",
            "min": 0,
            "description_tooltip": null,
            "_model_module": "@jupyter-widgets/controls",
            "layout": "IPY_MODEL_ce4d644c061e4b8fa2cb98e8424681e5"
          }
        },
        "bacf8245053b4bfab5c5ed23076d57b0": {
          "model_module": "@jupyter-widgets/controls",
          "model_name": "HTMLModel",
          "state": {
            "_view_name": "HTMLView",
            "style": "IPY_MODEL_ec66d66555144d15bbca6854d6ec1731",
            "_dom_classes": [],
            "description": "",
            "_model_name": "HTMLModel",
            "placeholder": "​",
            "_view_module": "@jupyter-widgets/controls",
            "_model_module_version": "1.5.0",
            "value": "1000000it [04:22, 3808.80it/s]",
            "_view_count": null,
            "_view_module_version": "1.5.0",
            "description_tooltip": null,
            "_model_module": "@jupyter-widgets/controls",
            "layout": "IPY_MODEL_cb99c023636e41c2a6a1026ee8f01e6d"
          }
        },
        "0dcfb852bde648679ae9b5585f54961c": {
          "model_module": "@jupyter-widgets/controls",
          "model_name": "ProgressStyleModel",
          "state": {
            "_view_name": "StyleView",
            "_model_name": "ProgressStyleModel",
            "description_width": "",
            "_view_module": "@jupyter-widgets/base",
            "_model_module_version": "1.5.0",
            "_view_count": null,
            "_view_module_version": "1.2.0",
            "bar_color": null,
            "_model_module": "@jupyter-widgets/controls"
          }
        },
        "ce4d644c061e4b8fa2cb98e8424681e5": {
          "model_module": "@jupyter-widgets/base",
          "model_name": "LayoutModel",
          "state": {
            "_view_name": "LayoutView",
            "grid_template_rows": null,
            "right": null,
            "justify_content": null,
            "_view_module": "@jupyter-widgets/base",
            "overflow": null,
            "_model_module_version": "1.2.0",
            "_view_count": null,
            "flex_flow": null,
            "width": null,
            "min_width": null,
            "border": null,
            "align_items": null,
            "bottom": null,
            "_model_module": "@jupyter-widgets/base",
            "top": null,
            "grid_column": null,
            "overflow_y": null,
            "overflow_x": null,
            "grid_auto_flow": null,
            "grid_area": null,
            "grid_template_columns": null,
            "flex": null,
            "_model_name": "LayoutModel",
            "justify_items": null,
            "grid_row": null,
            "max_height": null,
            "align_content": null,
            "visibility": null,
            "align_self": null,
            "height": null,
            "min_height": null,
            "padding": null,
            "grid_auto_rows": null,
            "grid_gap": null,
            "max_width": null,
            "order": null,
            "_view_module_version": "1.2.0",
            "grid_template_areas": null,
            "object_position": null,
            "object_fit": null,
            "grid_auto_columns": null,
            "margin": null,
            "display": null,
            "left": null
          }
        },
        "ec66d66555144d15bbca6854d6ec1731": {
          "model_module": "@jupyter-widgets/controls",
          "model_name": "DescriptionStyleModel",
          "state": {
            "_view_name": "StyleView",
            "_model_name": "DescriptionStyleModel",
            "description_width": "",
            "_view_module": "@jupyter-widgets/base",
            "_model_module_version": "1.5.0",
            "_view_count": null,
            "_view_module_version": "1.2.0",
            "_model_module": "@jupyter-widgets/controls"
          }
        },
        "cb99c023636e41c2a6a1026ee8f01e6d": {
          "model_module": "@jupyter-widgets/base",
          "model_name": "LayoutModel",
          "state": {
            "_view_name": "LayoutView",
            "grid_template_rows": null,
            "right": null,
            "justify_content": null,
            "_view_module": "@jupyter-widgets/base",
            "overflow": null,
            "_model_module_version": "1.2.0",
            "_view_count": null,
            "flex_flow": null,
            "width": null,
            "min_width": null,
            "border": null,
            "align_items": null,
            "bottom": null,
            "_model_module": "@jupyter-widgets/base",
            "top": null,
            "grid_column": null,
            "overflow_y": null,
            "overflow_x": null,
            "grid_auto_flow": null,
            "grid_area": null,
            "grid_template_columns": null,
            "flex": null,
            "_model_name": "LayoutModel",
            "justify_items": null,
            "grid_row": null,
            "max_height": null,
            "align_content": null,
            "visibility": null,
            "align_self": null,
            "height": null,
            "min_height": null,
            "padding": null,
            "grid_auto_rows": null,
            "grid_gap": null,
            "max_width": null,
            "order": null,
            "_view_module_version": "1.2.0",
            "grid_template_areas": null,
            "object_position": null,
            "object_fit": null,
            "grid_auto_columns": null,
            "margin": null,
            "display": null,
            "left": null
          }
        },
        "211d98c6d3714b9c8519f7a2f4006486": {
          "model_module": "@jupyter-widgets/controls",
          "model_name": "HBoxModel",
          "state": {
            "_view_name": "HBoxView",
            "_dom_classes": [],
            "_model_name": "HBoxModel",
            "_view_module": "@jupyter-widgets/controls",
            "_model_module_version": "1.5.0",
            "_view_count": null,
            "_view_module_version": "1.5.0",
            "box_style": "",
            "layout": "IPY_MODEL_82c23ef9baa44ddd8b355c2d08e4e7a9",
            "_model_module": "@jupyter-widgets/controls",
            "children": [
              "IPY_MODEL_9a2d691549554588b302367ee7e16f82",
              "IPY_MODEL_d14f2b77dfe14de489ee90ee43da2be2"
            ]
          }
        },
        "82c23ef9baa44ddd8b355c2d08e4e7a9": {
          "model_module": "@jupyter-widgets/base",
          "model_name": "LayoutModel",
          "state": {
            "_view_name": "LayoutView",
            "grid_template_rows": null,
            "right": null,
            "justify_content": null,
            "_view_module": "@jupyter-widgets/base",
            "overflow": null,
            "_model_module_version": "1.2.0",
            "_view_count": null,
            "flex_flow": null,
            "width": null,
            "min_width": null,
            "border": null,
            "align_items": null,
            "bottom": null,
            "_model_module": "@jupyter-widgets/base",
            "top": null,
            "grid_column": null,
            "overflow_y": null,
            "overflow_x": null,
            "grid_auto_flow": null,
            "grid_area": null,
            "grid_template_columns": null,
            "flex": null,
            "_model_name": "LayoutModel",
            "justify_items": null,
            "grid_row": null,
            "max_height": null,
            "align_content": null,
            "visibility": null,
            "align_self": null,
            "height": null,
            "min_height": null,
            "padding": null,
            "grid_auto_rows": null,
            "grid_gap": null,
            "max_width": null,
            "order": null,
            "_view_module_version": "1.2.0",
            "grid_template_areas": null,
            "object_position": null,
            "object_fit": null,
            "grid_auto_columns": null,
            "margin": null,
            "display": null,
            "left": null
          }
        },
        "9a2d691549554588b302367ee7e16f82": {
          "model_module": "@jupyter-widgets/controls",
          "model_name": "IntProgressModel",
          "state": {
            "_view_name": "ProgressView",
            "style": "IPY_MODEL_dad4cf92ca4240d0b7fbc6244a3a8dc5",
            "_dom_classes": [],
            "description": "",
            "_model_name": "IntProgressModel",
            "bar_style": "success",
            "max": 1,
            "_view_module": "@jupyter-widgets/controls",
            "_model_module_version": "1.5.0",
            "value": 1,
            "_view_count": null,
            "_view_module_version": "1.5.0",
            "orientation": "horizontal",
            "min": 0,
            "description_tooltip": null,
            "_model_module": "@jupyter-widgets/controls",
            "layout": "IPY_MODEL_d58556e3654a450c9d47532d107bada8"
          }
        },
        "d14f2b77dfe14de489ee90ee43da2be2": {
          "model_module": "@jupyter-widgets/controls",
          "model_name": "HTMLModel",
          "state": {
            "_view_name": "HTMLView",
            "style": "IPY_MODEL_a9c986a076144a47909065b2e5f339bd",
            "_dom_classes": [],
            "description": "",
            "_model_name": "HTMLModel",
            "placeholder": "​",
            "_view_module": "@jupyter-widgets/controls",
            "_model_module_version": "1.5.0",
            "value": "1000000it [04:21, 3820.08it/s]",
            "_view_count": null,
            "_view_module_version": "1.5.0",
            "description_tooltip": null,
            "_model_module": "@jupyter-widgets/controls",
            "layout": "IPY_MODEL_ae92bfe006c44304adb0a9e868cbf848"
          }
        },
        "dad4cf92ca4240d0b7fbc6244a3a8dc5": {
          "model_module": "@jupyter-widgets/controls",
          "model_name": "ProgressStyleModel",
          "state": {
            "_view_name": "StyleView",
            "_model_name": "ProgressStyleModel",
            "description_width": "",
            "_view_module": "@jupyter-widgets/base",
            "_model_module_version": "1.5.0",
            "_view_count": null,
            "_view_module_version": "1.2.0",
            "bar_color": null,
            "_model_module": "@jupyter-widgets/controls"
          }
        },
        "d58556e3654a450c9d47532d107bada8": {
          "model_module": "@jupyter-widgets/base",
          "model_name": "LayoutModel",
          "state": {
            "_view_name": "LayoutView",
            "grid_template_rows": null,
            "right": null,
            "justify_content": null,
            "_view_module": "@jupyter-widgets/base",
            "overflow": null,
            "_model_module_version": "1.2.0",
            "_view_count": null,
            "flex_flow": null,
            "width": null,
            "min_width": null,
            "border": null,
            "align_items": null,
            "bottom": null,
            "_model_module": "@jupyter-widgets/base",
            "top": null,
            "grid_column": null,
            "overflow_y": null,
            "overflow_x": null,
            "grid_auto_flow": null,
            "grid_area": null,
            "grid_template_columns": null,
            "flex": null,
            "_model_name": "LayoutModel",
            "justify_items": null,
            "grid_row": null,
            "max_height": null,
            "align_content": null,
            "visibility": null,
            "align_self": null,
            "height": null,
            "min_height": null,
            "padding": null,
            "grid_auto_rows": null,
            "grid_gap": null,
            "max_width": null,
            "order": null,
            "_view_module_version": "1.2.0",
            "grid_template_areas": null,
            "object_position": null,
            "object_fit": null,
            "grid_auto_columns": null,
            "margin": null,
            "display": null,
            "left": null
          }
        },
        "a9c986a076144a47909065b2e5f339bd": {
          "model_module": "@jupyter-widgets/controls",
          "model_name": "DescriptionStyleModel",
          "state": {
            "_view_name": "StyleView",
            "_model_name": "DescriptionStyleModel",
            "description_width": "",
            "_view_module": "@jupyter-widgets/base",
            "_model_module_version": "1.5.0",
            "_view_count": null,
            "_view_module_version": "1.2.0",
            "_model_module": "@jupyter-widgets/controls"
          }
        },
        "ae92bfe006c44304adb0a9e868cbf848": {
          "model_module": "@jupyter-widgets/base",
          "model_name": "LayoutModel",
          "state": {
            "_view_name": "LayoutView",
            "grid_template_rows": null,
            "right": null,
            "justify_content": null,
            "_view_module": "@jupyter-widgets/base",
            "overflow": null,
            "_model_module_version": "1.2.0",
            "_view_count": null,
            "flex_flow": null,
            "width": null,
            "min_width": null,
            "border": null,
            "align_items": null,
            "bottom": null,
            "_model_module": "@jupyter-widgets/base",
            "top": null,
            "grid_column": null,
            "overflow_y": null,
            "overflow_x": null,
            "grid_auto_flow": null,
            "grid_area": null,
            "grid_template_columns": null,
            "flex": null,
            "_model_name": "LayoutModel",
            "justify_items": null,
            "grid_row": null,
            "max_height": null,
            "align_content": null,
            "visibility": null,
            "align_self": null,
            "height": null,
            "min_height": null,
            "padding": null,
            "grid_auto_rows": null,
            "grid_gap": null,
            "max_width": null,
            "order": null,
            "_view_module_version": "1.2.0",
            "grid_template_areas": null,
            "object_position": null,
            "object_fit": null,
            "grid_auto_columns": null,
            "margin": null,
            "display": null,
            "left": null
          }
        },
        "2605a79e5f854421a9622b194d7b8818": {
          "model_module": "@jupyter-widgets/controls",
          "model_name": "HBoxModel",
          "state": {
            "_view_name": "HBoxView",
            "_dom_classes": [],
            "_model_name": "HBoxModel",
            "_view_module": "@jupyter-widgets/controls",
            "_model_module_version": "1.5.0",
            "_view_count": null,
            "_view_module_version": "1.5.0",
            "box_style": "",
            "layout": "IPY_MODEL_172cf89a499d46e88313600b2389cc14",
            "_model_module": "@jupyter-widgets/controls",
            "children": [
              "IPY_MODEL_4eab5a106beb43e1be48e3e9f65d6b6c",
              "IPY_MODEL_519dfb59572a48fc993edae7fd943691"
            ]
          }
        },
        "172cf89a499d46e88313600b2389cc14": {
          "model_module": "@jupyter-widgets/base",
          "model_name": "LayoutModel",
          "state": {
            "_view_name": "LayoutView",
            "grid_template_rows": null,
            "right": null,
            "justify_content": null,
            "_view_module": "@jupyter-widgets/base",
            "overflow": null,
            "_model_module_version": "1.2.0",
            "_view_count": null,
            "flex_flow": null,
            "width": null,
            "min_width": null,
            "border": null,
            "align_items": null,
            "bottom": null,
            "_model_module": "@jupyter-widgets/base",
            "top": null,
            "grid_column": null,
            "overflow_y": null,
            "overflow_x": null,
            "grid_auto_flow": null,
            "grid_area": null,
            "grid_template_columns": null,
            "flex": null,
            "_model_name": "LayoutModel",
            "justify_items": null,
            "grid_row": null,
            "max_height": null,
            "align_content": null,
            "visibility": null,
            "align_self": null,
            "height": null,
            "min_height": null,
            "padding": null,
            "grid_auto_rows": null,
            "grid_gap": null,
            "max_width": null,
            "order": null,
            "_view_module_version": "1.2.0",
            "grid_template_areas": null,
            "object_position": null,
            "object_fit": null,
            "grid_auto_columns": null,
            "margin": null,
            "display": null,
            "left": null
          }
        },
        "4eab5a106beb43e1be48e3e9f65d6b6c": {
          "model_module": "@jupyter-widgets/controls",
          "model_name": "IntProgressModel",
          "state": {
            "_view_name": "ProgressView",
            "style": "IPY_MODEL_cc0f673b6c7d4279a03a64dea73d3f2a",
            "_dom_classes": [],
            "description": "",
            "_model_name": "IntProgressModel",
            "bar_style": "success",
            "max": 5,
            "_view_module": "@jupyter-widgets/controls",
            "_model_module_version": "1.5.0",
            "value": 5,
            "_view_count": null,
            "_view_module_version": "1.5.0",
            "orientation": "horizontal",
            "min": 0,
            "description_tooltip": null,
            "_model_module": "@jupyter-widgets/controls",
            "layout": "IPY_MODEL_80e9a45f1b5f42b293366e5a2b454b5b"
          }
        },
        "519dfb59572a48fc993edae7fd943691": {
          "model_module": "@jupyter-widgets/controls",
          "model_name": "HTMLModel",
          "state": {
            "_view_name": "HTMLView",
            "style": "IPY_MODEL_8eef1b8a69204dd0823420112a92da64",
            "_dom_classes": [],
            "description": "",
            "_model_name": "HTMLModel",
            "placeholder": "​",
            "_view_module": "@jupyter-widgets/controls",
            "_model_module_version": "1.5.0",
            "value": "100% 5/5 [00:01&lt;00:00,  4.37it/s]",
            "_view_count": null,
            "_view_module_version": "1.5.0",
            "description_tooltip": null,
            "_model_module": "@jupyter-widgets/controls",
            "layout": "IPY_MODEL_dad0c13beb174759bdd49aabf8972393"
          }
        },
        "cc0f673b6c7d4279a03a64dea73d3f2a": {
          "model_module": "@jupyter-widgets/controls",
          "model_name": "ProgressStyleModel",
          "state": {
            "_view_name": "StyleView",
            "_model_name": "ProgressStyleModel",
            "description_width": "",
            "_view_module": "@jupyter-widgets/base",
            "_model_module_version": "1.5.0",
            "_view_count": null,
            "_view_module_version": "1.2.0",
            "bar_color": null,
            "_model_module": "@jupyter-widgets/controls"
          }
        },
        "80e9a45f1b5f42b293366e5a2b454b5b": {
          "model_module": "@jupyter-widgets/base",
          "model_name": "LayoutModel",
          "state": {
            "_view_name": "LayoutView",
            "grid_template_rows": null,
            "right": null,
            "justify_content": null,
            "_view_module": "@jupyter-widgets/base",
            "overflow": null,
            "_model_module_version": "1.2.0",
            "_view_count": null,
            "flex_flow": null,
            "width": null,
            "min_width": null,
            "border": null,
            "align_items": null,
            "bottom": null,
            "_model_module": "@jupyter-widgets/base",
            "top": null,
            "grid_column": null,
            "overflow_y": null,
            "overflow_x": null,
            "grid_auto_flow": null,
            "grid_area": null,
            "grid_template_columns": null,
            "flex": null,
            "_model_name": "LayoutModel",
            "justify_items": null,
            "grid_row": null,
            "max_height": null,
            "align_content": null,
            "visibility": null,
            "align_self": null,
            "height": null,
            "min_height": null,
            "padding": null,
            "grid_auto_rows": null,
            "grid_gap": null,
            "max_width": null,
            "order": null,
            "_view_module_version": "1.2.0",
            "grid_template_areas": null,
            "object_position": null,
            "object_fit": null,
            "grid_auto_columns": null,
            "margin": null,
            "display": null,
            "left": null
          }
        },
        "8eef1b8a69204dd0823420112a92da64": {
          "model_module": "@jupyter-widgets/controls",
          "model_name": "DescriptionStyleModel",
          "state": {
            "_view_name": "StyleView",
            "_model_name": "DescriptionStyleModel",
            "description_width": "",
            "_view_module": "@jupyter-widgets/base",
            "_model_module_version": "1.5.0",
            "_view_count": null,
            "_view_module_version": "1.2.0",
            "_model_module": "@jupyter-widgets/controls"
          }
        },
        "dad0c13beb174759bdd49aabf8972393": {
          "model_module": "@jupyter-widgets/base",
          "model_name": "LayoutModel",
          "state": {
            "_view_name": "LayoutView",
            "grid_template_rows": null,
            "right": null,
            "justify_content": null,
            "_view_module": "@jupyter-widgets/base",
            "overflow": null,
            "_model_module_version": "1.2.0",
            "_view_count": null,
            "flex_flow": null,
            "width": null,
            "min_width": null,
            "border": null,
            "align_items": null,
            "bottom": null,
            "_model_module": "@jupyter-widgets/base",
            "top": null,
            "grid_column": null,
            "overflow_y": null,
            "overflow_x": null,
            "grid_auto_flow": null,
            "grid_area": null,
            "grid_template_columns": null,
            "flex": null,
            "_model_name": "LayoutModel",
            "justify_items": null,
            "grid_row": null,
            "max_height": null,
            "align_content": null,
            "visibility": null,
            "align_self": null,
            "height": null,
            "min_height": null,
            "padding": null,
            "grid_auto_rows": null,
            "grid_gap": null,
            "max_width": null,
            "order": null,
            "_view_module_version": "1.2.0",
            "grid_template_areas": null,
            "object_position": null,
            "object_fit": null,
            "grid_auto_columns": null,
            "margin": null,
            "display": null,
            "left": null
          }
        },
        "e14390ace2f64449b785b6a42d74d0cd": {
          "model_module": "@jupyter-widgets/controls",
          "model_name": "HBoxModel",
          "state": {
            "_view_name": "HBoxView",
            "_dom_classes": [],
            "_model_name": "HBoxModel",
            "_view_module": "@jupyter-widgets/controls",
            "_model_module_version": "1.5.0",
            "_view_count": null,
            "_view_module_version": "1.5.0",
            "box_style": "",
            "layout": "IPY_MODEL_b986bd5e850841f18d2c76ae86946159",
            "_model_module": "@jupyter-widgets/controls",
            "children": [
              "IPY_MODEL_d6b577aae4ae48b3828429e82077586a",
              "IPY_MODEL_7ecde3144e4d4814b598ddcb4f953964"
            ]
          }
        },
        "b986bd5e850841f18d2c76ae86946159": {
          "model_module": "@jupyter-widgets/base",
          "model_name": "LayoutModel",
          "state": {
            "_view_name": "LayoutView",
            "grid_template_rows": null,
            "right": null,
            "justify_content": null,
            "_view_module": "@jupyter-widgets/base",
            "overflow": null,
            "_model_module_version": "1.2.0",
            "_view_count": null,
            "flex_flow": null,
            "width": null,
            "min_width": null,
            "border": null,
            "align_items": null,
            "bottom": null,
            "_model_module": "@jupyter-widgets/base",
            "top": null,
            "grid_column": null,
            "overflow_y": null,
            "overflow_x": null,
            "grid_auto_flow": null,
            "grid_area": null,
            "grid_template_columns": null,
            "flex": null,
            "_model_name": "LayoutModel",
            "justify_items": null,
            "grid_row": null,
            "max_height": null,
            "align_content": null,
            "visibility": null,
            "align_self": null,
            "height": null,
            "min_height": null,
            "padding": null,
            "grid_auto_rows": null,
            "grid_gap": null,
            "max_width": null,
            "order": null,
            "_view_module_version": "1.2.0",
            "grid_template_areas": null,
            "object_position": null,
            "object_fit": null,
            "grid_auto_columns": null,
            "margin": null,
            "display": null,
            "left": null
          }
        },
        "d6b577aae4ae48b3828429e82077586a": {
          "model_module": "@jupyter-widgets/controls",
          "model_name": "IntProgressModel",
          "state": {
            "_view_name": "ProgressView",
            "style": "IPY_MODEL_319cfd2866a94b26a172b4605667c7bc",
            "_dom_classes": [],
            "description": "",
            "_model_name": "IntProgressModel",
            "bar_style": "success",
            "max": 5,
            "_view_module": "@jupyter-widgets/controls",
            "_model_module_version": "1.5.0",
            "value": 5,
            "_view_count": null,
            "_view_module_version": "1.5.0",
            "orientation": "horizontal",
            "min": 0,
            "description_tooltip": null,
            "_model_module": "@jupyter-widgets/controls",
            "layout": "IPY_MODEL_d09565b689864c34a7ffa498a639884c"
          }
        },
        "7ecde3144e4d4814b598ddcb4f953964": {
          "model_module": "@jupyter-widgets/controls",
          "model_name": "HTMLModel",
          "state": {
            "_view_name": "HTMLView",
            "style": "IPY_MODEL_40fd97d4c68949b7aa0c01ca9ea66c84",
            "_dom_classes": [],
            "description": "",
            "_model_name": "HTMLModel",
            "placeholder": "​",
            "_view_module": "@jupyter-widgets/controls",
            "_model_module_version": "1.5.0",
            "value": "100% 5/5 [00:06&lt;00:00,  1.27s/it]",
            "_view_count": null,
            "_view_module_version": "1.5.0",
            "description_tooltip": null,
            "_model_module": "@jupyter-widgets/controls",
            "layout": "IPY_MODEL_a7f9c16e32134eacaace914eeea5a5cd"
          }
        },
        "319cfd2866a94b26a172b4605667c7bc": {
          "model_module": "@jupyter-widgets/controls",
          "model_name": "ProgressStyleModel",
          "state": {
            "_view_name": "StyleView",
            "_model_name": "ProgressStyleModel",
            "description_width": "",
            "_view_module": "@jupyter-widgets/base",
            "_model_module_version": "1.5.0",
            "_view_count": null,
            "_view_module_version": "1.2.0",
            "bar_color": null,
            "_model_module": "@jupyter-widgets/controls"
          }
        },
        "d09565b689864c34a7ffa498a639884c": {
          "model_module": "@jupyter-widgets/base",
          "model_name": "LayoutModel",
          "state": {
            "_view_name": "LayoutView",
            "grid_template_rows": null,
            "right": null,
            "justify_content": null,
            "_view_module": "@jupyter-widgets/base",
            "overflow": null,
            "_model_module_version": "1.2.0",
            "_view_count": null,
            "flex_flow": null,
            "width": null,
            "min_width": null,
            "border": null,
            "align_items": null,
            "bottom": null,
            "_model_module": "@jupyter-widgets/base",
            "top": null,
            "grid_column": null,
            "overflow_y": null,
            "overflow_x": null,
            "grid_auto_flow": null,
            "grid_area": null,
            "grid_template_columns": null,
            "flex": null,
            "_model_name": "LayoutModel",
            "justify_items": null,
            "grid_row": null,
            "max_height": null,
            "align_content": null,
            "visibility": null,
            "align_self": null,
            "height": null,
            "min_height": null,
            "padding": null,
            "grid_auto_rows": null,
            "grid_gap": null,
            "max_width": null,
            "order": null,
            "_view_module_version": "1.2.0",
            "grid_template_areas": null,
            "object_position": null,
            "object_fit": null,
            "grid_auto_columns": null,
            "margin": null,
            "display": null,
            "left": null
          }
        },
        "40fd97d4c68949b7aa0c01ca9ea66c84": {
          "model_module": "@jupyter-widgets/controls",
          "model_name": "DescriptionStyleModel",
          "state": {
            "_view_name": "StyleView",
            "_model_name": "DescriptionStyleModel",
            "description_width": "",
            "_view_module": "@jupyter-widgets/base",
            "_model_module_version": "1.5.0",
            "_view_count": null,
            "_view_module_version": "1.2.0",
            "_model_module": "@jupyter-widgets/controls"
          }
        },
        "a7f9c16e32134eacaace914eeea5a5cd": {
          "model_module": "@jupyter-widgets/base",
          "model_name": "LayoutModel",
          "state": {
            "_view_name": "LayoutView",
            "grid_template_rows": null,
            "right": null,
            "justify_content": null,
            "_view_module": "@jupyter-widgets/base",
            "overflow": null,
            "_model_module_version": "1.2.0",
            "_view_count": null,
            "flex_flow": null,
            "width": null,
            "min_width": null,
            "border": null,
            "align_items": null,
            "bottom": null,
            "_model_module": "@jupyter-widgets/base",
            "top": null,
            "grid_column": null,
            "overflow_y": null,
            "overflow_x": null,
            "grid_auto_flow": null,
            "grid_area": null,
            "grid_template_columns": null,
            "flex": null,
            "_model_name": "LayoutModel",
            "justify_items": null,
            "grid_row": null,
            "max_height": null,
            "align_content": null,
            "visibility": null,
            "align_self": null,
            "height": null,
            "min_height": null,
            "padding": null,
            "grid_auto_rows": null,
            "grid_gap": null,
            "max_width": null,
            "order": null,
            "_view_module_version": "1.2.0",
            "grid_template_areas": null,
            "object_position": null,
            "object_fit": null,
            "grid_auto_columns": null,
            "margin": null,
            "display": null,
            "left": null
          }
        }
      }
    }
  },
  "cells": [
    {
      "cell_type": "code",
      "metadata": {
        "id": "v2ZcIHg8e6Fb",
        "colab_type": "code",
        "colab": {}
      },
      "source": [
        "!pip install landsatxplore\n",
        "!pip install gdal\n",
        "!pip install rasterio"
      ],
      "execution_count": 0,
      "outputs": []
    },
    {
      "cell_type": "code",
      "metadata": {
        "id": "9WllTVVByK2t",
        "colab_type": "code",
        "colab": {}
      },
      "source": [
        "!mkdir data\n",
        "!mkdir data/scene1\n",
        "!mkdir data/scene2\n",
        "!mkdir data/scene3"
      ],
      "execution_count": 0,
      "outputs": []
    },
    {
      "cell_type": "markdown",
      "metadata": {
        "id": "KqDp6XZIolru",
        "colab_type": "text"
      },
      "source": [
        "\n",
        "\n",
        "---\n",
        "\n"
      ]
    },
    {
      "cell_type": "markdown",
      "metadata": {
        "id": "ERrjpJvLoo_7",
        "colab_type": "text"
      },
      "source": [
        "**IMPORT LIBRARIES**"
      ]
    },
    {
      "cell_type": "code",
      "metadata": {
        "id": "XomWAZrCZNBy",
        "colab_type": "code",
        "colab": {}
      },
      "source": [
        "import rasterio\n",
        "from rasterio.plot import show\n",
        "import gdal\n",
        "from gdalconst import GA_ReadOnly \n",
        "import numpy as np\n",
        "import matplotlib.pyplot as plt\n",
        "from tqdm import tqdm_notebook as tqdm\n",
        "import subprocess\n",
        "IMG_SIZE=1000\n",
        "BIG_IMG_SIZE=2000\n",
        "import cv2\n",
        "import multiprocessing\n",
        "from sklearn.metrics import classification_report"
      ],
      "execution_count": 0,
      "outputs": []
    },
    {
      "cell_type": "code",
      "metadata": {
        "id": "383uz0qGtIyw",
        "colab_type": "code",
        "colab": {}
      },
      "source": [
        "COORDINATE_SYSTEM='EPSG:32632'"
      ],
      "execution_count": 0,
      "outputs": []
    },
    {
      "cell_type": "markdown",
      "metadata": {
        "id": "aH66e_YJrDmX",
        "colab_type": "text"
      },
      "source": [
        "**HELPER FUNCTIONS**"
      ]
    },
    {
      "cell_type": "code",
      "metadata": {
        "id": "lSxLrr6VrF_S",
        "colab_type": "code",
        "colab": {}
      },
      "source": [
        "def clip_ref_scene(input_file,output_file):\n",
        "  data=gdal.Open(input_file,GA_ReadOnly) \n",
        "  geoTransform=data.GetGeoTransform() \n",
        "  minx=geoTransform[0] \n",
        "  maxy=geoTransform[3] \n",
        "  maxx = minx + geoTransform[1] * data.RasterXSize \n",
        "  miny = maxy + geoTransform[5] * data.RasterYSize \n",
        "  subprocess.call('gdal_translate -projwin ' + ' '.join([str(x) for x in [minx, maxy, maxx, miny]]) + ' -of GTiff europe.tif ' +output_file, shell=True) \n",
        "\n",
        "def resize_scene(input_file,output_file):\n",
        "  subprocess.call('gdal_translate -co QUALITY=100 -co PROGRESSIVE=ON -outsize '+str(IMG_SIZE)+' '+str(IMG_SIZE)+' -r bilinear '+input_file+' '+output_file,shell=True)\n",
        "\n",
        "def change_coordinate_system(inputfile,outputfile):\n",
        "  subprocess.run(['gdalwarp','-co','COMPRESS=DEFLATE','-t_srs',COORDINATE_SYSTEM,inputfile,outputfile])\n",
        "\n",
        "\n",
        "def resize_scene_custom_size(input_file,output_file,xsize,ysize):\n",
        "  subprocess.call('gdal_translate -co QUALITY=100 -co PROGRESSIVE=ON -outsize '+str(xsize)+' '+str(ysize)+' '+input_file+' '+output_file,shell=True)"
      ],
      "execution_count": 0,
      "outputs": []
    },
    {
      "cell_type": "markdown",
      "metadata": {
        "id": "-KYfg4ntowEv",
        "colab_type": "text"
      },
      "source": [
        "\n",
        "\n",
        "---\n",
        "\n"
      ]
    },
    {
      "cell_type": "markdown",
      "metadata": {
        "id": "n26TQ8aDkE4Z",
        "colab_type": "text"
      },
      "source": [
        "**DOWNLOAD REFERENCE DATA SET**"
      ]
    },
    {
      "cell_type": "code",
      "metadata": {
        "id": "JZiQhdmXkCWc",
        "colab_type": "code",
        "colab": {}
      },
      "source": [
        "!wget https://land.copernicus.eu/land-files/7ac95361f9ac3cecdf37785bc183ff02dd765a16.zip\n",
        "!unzip /content/7ac95361f9ac3cecdf37785bc183ff02dd765a16.zip\n",
        "!unzip /content/clc2018_clc2018_v2018_20_raster100m.zip"
      ],
      "execution_count": 0,
      "outputs": []
    },
    {
      "cell_type": "markdown",
      "metadata": {
        "id": "y4pqwphspfCJ",
        "colab_type": "text"
      },
      "source": [
        "**TRANSFORM REFERENCE DATA**"
      ]
    },
    {
      "cell_type": "code",
      "metadata": {
        "id": "nDrZhrJSsPkB",
        "colab_type": "code",
        "colab": {}
      },
      "source": [
        "change_coordinate_system('/content/clc2018_clc2018_v2018_20_raster100m/CLC2018_CLC2018_V2018_20.tif','europe.tif')"
      ],
      "execution_count": 0,
      "outputs": []
    },
    {
      "cell_type": "markdown",
      "metadata": {
        "id": "ncy5hH9Ap6HL",
        "colab_type": "text"
      },
      "source": [
        "\n",
        "\n",
        "---\n",
        "\n"
      ]
    },
    {
      "cell_type": "markdown",
      "metadata": {
        "id": "UXs_tIo8p7Cb",
        "colab_type": "text"
      },
      "source": [
        "**DOWNLOAD TEMPORAL SCENES OF MANNHEIM REGION**"
      ]
    },
    {
      "cell_type": "code",
      "metadata": {
        "id": "R2wiPXemiz2E",
        "colab_type": "code",
        "colab": {
          "base_uri": "https://localhost:8080/",
          "height": 67
        },
        "outputId": "11845b4d-9a33-4ec4-ad58-df93b2e49fd1"
      },
      "source": [
        "from landsatxplore.earthexplorer import EarthExplorer\n",
        "ee = EarthExplorer('uname', 'uname')\n",
        "train11id='LC08_L1TP_195026_20190825_20190903_01_T1'\n",
        "train12id='LC08_L1TP_195026_20180822_20180829_01_T1'\n",
        "train13id='LC08_L1TP_195026_20190419_20190423_01_T1'\n",
        "ee.download(scene_id=train11id, output_dir='./data/scene1')\n",
        "ee.logout()\n",
        "ee = EarthExplorer('uname', 'uname')\n",
        "ee.download(scene_id=train12id, output_dir='./data/scene2')\n",
        "ee.logout()\n",
        "ee = EarthExplorer('uname', 'uname')\n",
        "ee.download(scene_id=train13id, output_dir='./data/scene3')\n",
        "ee.logout()"
      ],
      "execution_count": 8,
      "outputs": [
        {
          "output_type": "stream",
          "text": [
            "930MB [06:42, 2.43MB/s]                           \n",
            "927MB [00:55, 17.6MB/s]                           \n",
            "910MB [01:55, 8.27MB/s]                           \n"
          ],
          "name": "stderr"
        }
      ]
    },
    {
      "cell_type": "markdown",
      "metadata": {
        "id": "7C9cp7paqXlt",
        "colab_type": "text"
      },
      "source": [
        "\n",
        "\n",
        "---\n",
        "\n"
      ]
    },
    {
      "cell_type": "markdown",
      "metadata": {
        "id": "BsrQ_i1NqYeY",
        "colab_type": "text"
      },
      "source": [
        "**PREPROCESS SCENES**"
      ]
    },
    {
      "cell_type": "code",
      "metadata": {
        "id": "Q4mZ8rbR2fuC",
        "colab_type": "code",
        "colab": {}
      },
      "source": [
        "!tar xvzf '/content/data/scene1/LC08_L1TP_195026_20190825_20190903_01_T1.tar.gz' -C './data/scene1'\n",
        "!tar xvzf '/content/data/scene2/LC08_L1TP_195026_20180822_20180829_01_T1.tar.gz' -C './data/scene2'\n",
        "!tar xvzf '/content/data/scene3/LC08_L1TP_195026_20190419_20190423_01_T1.tar.gz' -C './data/scene3'"
      ],
      "execution_count": 0,
      "outputs": []
    },
    {
      "cell_type": "markdown",
      "metadata": {
        "id": "o1n9tLoWYwRt",
        "colab_type": "text"
      },
      "source": [
        "SCENE 1 PREPROCESSING"
      ]
    },
    {
      "cell_type": "code",
      "metadata": {
        "id": "yn9chtqDWWrO",
        "colab_type": "code",
        "colab": {}
      },
      "source": [
        "change_coordinate_system('/content/data/scene1/'+train11id+'_B2.TIF', 's1b2-temp.tif')\n",
        "resize_scene('s1b2-temp.tif', 's1b2.tif')\n",
        "\n",
        "change_coordinate_system('/content/data/scene1/'+train11id+'_B3.TIF', 's1b3-temp.tif')\n",
        "resize_scene('s1b3-temp.tif','s1b3.tif')\n",
        "\n",
        "change_coordinate_system('/content/data/scene1/'+train11id+'_B4.TIF' ,'s1b4-temp.tif')\n",
        "resize_scene('s1b4-temp.tif','s1b4.tif')\n",
        "\n",
        "change_coordinate_system('/content/data/scene1/'+train11id+'_B5.TIF' ,'s1b5-temp.tif')\n",
        "resize_scene('s1b5-temp.tif','s1b5.tif')\n",
        "\n",
        "change_coordinate_system('/content/data/scene1/'+train11id+'_B6.TIF' ,'s1b6-temp.tif')\n",
        "resize_scene('s1b6-temp.tif','s1b6.tif')\n",
        "\n",
        "change_coordinate_system('/content/data/scene1/'+train11id+'_B7.TIF', 's1b7-temp.tif')\n",
        "resize_scene('s1b7-temp.tif','s1b7.tif')"
      ],
      "execution_count": 0,
      "outputs": []
    },
    {
      "cell_type": "markdown",
      "metadata": {
        "id": "Fkz6I-M5X_0l",
        "colab_type": "text"
      },
      "source": [
        "SCENE 2 PREPROCESSING"
      ]
    },
    {
      "cell_type": "code",
      "metadata": {
        "id": "V9z8XrvsXIdn",
        "colab_type": "code",
        "colab": {}
      },
      "source": [
        "change_coordinate_system('/content/data/scene2/'+train12id+'_B2.TIF', 's2b2-temp.tif')\n",
        "resize_scene('s2b2-temp.tif','s2b2.tif')\n",
        "\n",
        "change_coordinate_system('/content/data/scene2/'+train12id+'_B3.TIF', 's2b3-temp.tif')\n",
        "resize_scene('s2b3-temp.tif','s2b3.tif')\n",
        "\n",
        "change_coordinate_system('/content/data/scene2/'+train12id+'_B4.TIF', 's2b4-temp.tif')\n",
        "resize_scene('s2b4-temp.tif','s2b4.tif')\n",
        "\n",
        "change_coordinate_system('/content/data/scene2/'+train12id+'_B5.TIF', 's2b5-temp.tif')\n",
        "resize_scene('s2b5-temp.tif','s2b5.tif')\n",
        "\n",
        "change_coordinate_system('/content/data/scene2/'+train12id+'_B6.TIF' ,'s2b6-temp.tif')\n",
        "resize_scene('s2b6-temp.tif','s2b6.tif')\n",
        "\n",
        "change_coordinate_system('/content/data/scene2/'+train12id+'_B7.TIF', 's2b7-temp.tif')\n",
        "resize_scene('s2b7-temp.tif','s2b7.tif')"
      ],
      "execution_count": 0,
      "outputs": []
    },
    {
      "cell_type": "markdown",
      "metadata": {
        "id": "TB-9A3F5YEFb",
        "colab_type": "text"
      },
      "source": [
        "SCENE 3 PREPROCESSING"
      ]
    },
    {
      "cell_type": "code",
      "metadata": {
        "id": "v1Ki05QaYGKO",
        "colab_type": "code",
        "colab": {}
      },
      "source": [
        "change_coordinate_system('/content/data/scene3/'+train13id+'_B2.TIF', 's3b2-temp.tif')\n",
        "resize_scene('s3b2-temp.tif','s3b2.tif')\n",
        "\n",
        "change_coordinate_system('/content/data/scene3/'+train13id+'_B3.TIF', 's3b3-temp.tif')\n",
        "resize_scene('s3b3-temp.tif','s3b3.tif')\n",
        "\n",
        "change_coordinate_system('/content/data/scene3/'+train13id+'_B4.TIF' ,'s3b4-temp.tif')\n",
        "resize_scene('s3b4-temp.tif','s3b4.tif')\n",
        "\n",
        "change_coordinate_system('/content/data/scene3/'+train13id+'_B5.TIF', 's3b5-temp.tif')\n",
        "resize_scene('s3b5-temp.tif','s3b5.tif')\n",
        "\n",
        "change_coordinate_system('/content/data/scene3/'+train13id+'_B6.TIF', 's3b6-temp.tif')\n",
        "resize_scene('s3b6-temp.tif','s3b6.tif')\n",
        "\n",
        "change_coordinate_system('/content/data/scene3/'+train13id+'_B7.TIF', 's3b7-temp.tif')\n",
        "resize_scene('s3b7-temp.tif','s3b7.tif')\n"
      ],
      "execution_count": 0,
      "outputs": []
    },
    {
      "cell_type": "markdown",
      "metadata": {
        "id": "cQG5yqkGwvMz",
        "colab_type": "text"
      },
      "source": [
        "**TEST DATA - LONDON REGION, UK (UNSEEN DATA)**"
      ]
    },
    {
      "cell_type": "code",
      "metadata": {
        "id": "aKj1BmuCw-dv",
        "colab_type": "code",
        "colab": {}
      },
      "source": [
        "!mkdir test-data\n",
        "!mkdir test-data/scene1\n",
        "!mkdir test-data/scene2\n",
        "!mkdir test-data/scene3"
      ],
      "execution_count": 0,
      "outputs": []
    },
    {
      "cell_type": "code",
      "metadata": {
        "id": "hRgn7rv1wzjU",
        "colab_type": "code",
        "outputId": "fba51c49-8793-4ca6-c2f3-c5685d7e034f",
        "colab": {
          "base_uri": "https://localhost:8080/",
          "height": 67
        }
      },
      "source": [
        "from landsatxplore.earthexplorer import EarthExplorer\n",
        "ee = EarthExplorer('uname', 'uname')\n",
        "test1id='LC08_L1TP_201024_20180901_20180912_01_T1'\n",
        "test2id='LC08_L1TP_201024_20180629_20180716_01_T1'\n",
        "test3id='LC08_L1TP_201024_20170610_20170627_01_T1'\n",
        "ee.download(scene_id=test1id, output_dir='./test-data/scene1')\n",
        "ee.logout()\n",
        "ee = EarthExplorer('uname', 'uname')\n",
        "ee.download(scene_id=test2id, output_dir='./test-data/scene2')\n",
        "ee.logout()\n",
        "ee = EarthExplorer('uname', 'uname')\n",
        "ee.download(scene_id=test3id, output_dir='./test-data/scene3')\n",
        "ee.logout()"
      ],
      "execution_count": 14,
      "outputs": [
        {
          "output_type": "stream",
          "text": [
            "878MB [17:22, 883kB/s]                           \n",
            "902MB [00:52, 18.1MB/s]                           \n",
            "911MB [01:22, 11.5MB/s]                           \n"
          ],
          "name": "stderr"
        }
      ]
    },
    {
      "cell_type": "code",
      "metadata": {
        "id": "qvFvn13MzIxN",
        "colab_type": "code",
        "colab": {}
      },
      "source": [
        "!tar xvzf '/content/test-data/scene1/LC08_L1TP_201024_20180901_20180912_01_T1.tar.gz' -C './test-data/scene1'\n",
        "!tar xvzf '/content/test-data/scene2/LC08_L1TP_201024_20180629_20180716_01_T1.tar.gz' -C './test-data/scene2'\n",
        "!tar xvzf '/content/test-data/scene3/LC08_L1TP_201024_20170610_20170627_01_T1.tar.gz' -C './test-data/scene3'"
      ],
      "execution_count": 0,
      "outputs": []
    },
    {
      "cell_type": "markdown",
      "metadata": {
        "colab_type": "text",
        "id": "e66cAqKM0f39"
      },
      "source": [
        "SCENE 1 PREPROCESSING"
      ]
    },
    {
      "cell_type": "code",
      "metadata": {
        "colab_type": "code",
        "id": "Arqt2CjE0f4D",
        "colab": {}
      },
      "source": [
        "change_coordinate_system('/content/test-data/scene1/'+test1id+'_B2.TIF' ,'test-s1b2-temp.tif')\n",
        "resize_scene('test-s1b2-temp.tif','test-s1b2.tif')\n",
        "\n",
        "change_coordinate_system('/content/test-data/scene1/'+test1id+'_B3.TIF', 'test-s1b3-temp.tif')\n",
        "resize_scene('test-s1b3-temp.tif','test-s1b3.tif')\n",
        "\n",
        "change_coordinate_system('/content/test-data/scene1/'+test1id+'_B4.TIF', 'test-s1b4-temp.tif')\n",
        "resize_scene('test-s1b4-temp.tif','test-s1b4.tif')\n",
        "\n",
        "change_coordinate_system('/content/test-data/scene1/'+test1id+'_B5.TIF' ,'test-s1b5-temp.tif')\n",
        "resize_scene('test-s1b5-temp.tif','test-s1b5.tif')\n",
        "\n",
        "change_coordinate_system('/content/test-data/scene1/'+test1id+'_B6.TIF', 'test-s1b6-temp.tif')\n",
        "resize_scene('test-s1b6-temp.tif','test-s1b6.tif')\n",
        "\n",
        "change_coordinate_system('/content/test-data/scene1/'+test1id+'_B7.TIF', 'test-s1b7-temp.tif')\n",
        "resize_scene('test-s1b7-temp.tif','test-s1b7.tif')"
      ],
      "execution_count": 0,
      "outputs": []
    },
    {
      "cell_type": "code",
      "metadata": {
        "id": "Luih8KdacBpU",
        "colab_type": "code",
        "colab": {}
      },
      "source": [
        "resize_scene_custom_size('test-s1b2-temp.tif','test-big-s1b2.tif',BIG_IMG_SIZE,BIG_IMG_SIZE)\n",
        "resize_scene_custom_size('test-s1b3-temp.tif','test-big-s1b3.tif',BIG_IMG_SIZE,BIG_IMG_SIZE)\n",
        "resize_scene_custom_size('test-s1b4-temp.tif','test-big-s1b4.tif',BIG_IMG_SIZE,BIG_IMG_SIZE)\n",
        "resize_scene_custom_size('test-s1b5-temp.tif','test-big-s1b5.tif',BIG_IMG_SIZE,BIG_IMG_SIZE)\n",
        "resize_scene_custom_size('test-s1b6-temp.tif','test-big-s1b6.tif',BIG_IMG_SIZE,BIG_IMG_SIZE)\n",
        "resize_scene_custom_size('test-s1b7-temp.tif','test-big-s1b7.tif',BIG_IMG_SIZE,BIG_IMG_SIZE)"
      ],
      "execution_count": 0,
      "outputs": []
    },
    {
      "cell_type": "markdown",
      "metadata": {
        "colab_type": "text",
        "id": "OYXM1He90f4F"
      },
      "source": [
        "SCENE 2 PREPROCESSING"
      ]
    },
    {
      "cell_type": "code",
      "metadata": {
        "colab_type": "code",
        "id": "AtqEsy2P0f4G",
        "colab": {}
      },
      "source": [
        "change_coordinate_system('/content/test-data/scene2/'+test2id+'_B2.TIF' ,'test-s2b2-temp.tif')\n",
        "resize_scene('test-s2b2-temp.tif','test-s2b2.tif')\n",
        "\n",
        "change_coordinate_system('/content/test-data/scene2/'+test2id+'_B3.TIF', 'test-s2b3-temp.tif')\n",
        "resize_scene('test-s2b3-temp.tif','test-s2b3.tif')\n",
        "\n",
        "change_coordinate_system('/content/test-data/scene2/'+test2id+'_B4.TIF', 'test-s2b4-temp.tif')\n",
        "resize_scene('test-s2b4-temp.tif','test-s2b4.tif')\n",
        "\n",
        "change_coordinate_system('/content/test-data/scene2/'+test2id+'_B5.TIF' ,'test-s2b5-temp.tif')\n",
        "resize_scene('test-s2b5-temp.tif','test-s2b5.tif')\n",
        "\n",
        "change_coordinate_system('/content/test-data/scene2/'+test2id+'_B6.TIF', 'test-s2b6-temp.tif')\n",
        "resize_scene('test-s2b6-temp.tif','test-s2b6.tif')\n",
        "\n",
        "change_coordinate_system('/content/test-data/scene2/'+test2id+'_B7.TIF', 'test-s2b7-temp.tif')\n",
        "resize_scene('test-s2b7-temp.tif','test-s2b7.tif')"
      ],
      "execution_count": 0,
      "outputs": []
    },
    {
      "cell_type": "code",
      "metadata": {
        "id": "A6lpZ-Yhhygm",
        "colab_type": "code",
        "colab": {}
      },
      "source": [
        "resize_scene_custom_size('test-s2b2-temp.tif','test-big-s2b2.tif',BIG_IMG_SIZE,BIG_IMG_SIZE)\n",
        "resize_scene_custom_size('test-s2b3-temp.tif','test-big-s2b3.tif',BIG_IMG_SIZE,BIG_IMG_SIZE)\n",
        "resize_scene_custom_size('test-s2b4-temp.tif','test-big-s2b4.tif',BIG_IMG_SIZE,BIG_IMG_SIZE)\n",
        "resize_scene_custom_size('test-s2b5-temp.tif','test-big-s2b5.tif',BIG_IMG_SIZE,BIG_IMG_SIZE)\n",
        "resize_scene_custom_size('test-s2b6-temp.tif','test-big-s2b6.tif',BIG_IMG_SIZE,BIG_IMG_SIZE)\n",
        "resize_scene_custom_size('test-s2b7-temp.tif','test-big-s2b7.tif',BIG_IMG_SIZE,BIG_IMG_SIZE)"
      ],
      "execution_count": 0,
      "outputs": []
    },
    {
      "cell_type": "markdown",
      "metadata": {
        "colab_type": "text",
        "id": "D5uajomf0f4H"
      },
      "source": [
        "SCENE 3 PREPROCESSING"
      ]
    },
    {
      "cell_type": "code",
      "metadata": {
        "colab_type": "code",
        "id": "ceAa-Dje0f4I",
        "colab": {}
      },
      "source": [
        "change_coordinate_system('/content/test-data/scene3/'+test3id+'_B2.TIF', 'test-s3b2-temp.tif')\n",
        "resize_scene('test-s3b2-temp.tif','test-s3b2.tif')\n",
        "\n",
        "change_coordinate_system('/content/test-data/scene3/'+test3id+'_B3.TIF' ,'test-s3b3-temp.tif')\n",
        "resize_scene('test-s3b3-temp.tif','test-s3b3.tif')\n",
        "\n",
        "change_coordinate_system('/content/test-data/scene3/'+test3id+'_B4.TIF', 'test-s3b4-temp.tif')\n",
        "resize_scene('test-s3b4-temp.tif','test-s3b4.tif')\n",
        "\n",
        "change_coordinate_system('/content/test-data/scene3/'+test3id+'_B5.TIF' ,'test-s3b5-temp.tif')\n",
        "resize_scene('test-s3b5-temp.tif','test-s3b5.tif')\n",
        "\n",
        "change_coordinate_system('/content/test-data/scene3/'+test3id+'_B6.TIF', 'test-s3b6-temp.tif')\n",
        "resize_scene('test-s3b6-temp.tif','test-s3b6.tif')\n",
        "\n",
        "change_coordinate_system('/content/test-data/scene3/'+test3id+'_B7.TIF', 'test-s3b7-temp.tif')\n",
        "resize_scene('test-s3b7-temp.tif','test-s3b7.tif')"
      ],
      "execution_count": 0,
      "outputs": []
    },
    {
      "cell_type": "code",
      "metadata": {
        "id": "IHIZhlMAiCx6",
        "colab_type": "code",
        "colab": {}
      },
      "source": [
        "resize_scene_custom_size('test-s3b2-temp.tif','test-big-s3b2.tif',BIG_IMG_SIZE,BIG_IMG_SIZE)\n",
        "resize_scene_custom_size('test-s3b3-temp.tif','test-big-s3b3.tif',BIG_IMG_SIZE,BIG_IMG_SIZE)\n",
        "resize_scene_custom_size('test-s3b4-temp.tif','test-big-s3b4.tif',BIG_IMG_SIZE,BIG_IMG_SIZE)\n",
        "resize_scene_custom_size('test-s3b5-temp.tif','test-big-s3b5.tif',BIG_IMG_SIZE,BIG_IMG_SIZE)\n",
        "resize_scene_custom_size('test-s3b6-temp.tif','test-big-s3b6.tif',BIG_IMG_SIZE,BIG_IMG_SIZE)\n",
        "resize_scene_custom_size('test-s3b7-temp.tif','test-big-s3b7.tif',BIG_IMG_SIZE,BIG_IMG_SIZE)"
      ],
      "execution_count": 0,
      "outputs": []
    },
    {
      "cell_type": "markdown",
      "metadata": {
        "id": "DYILyxyuumzc",
        "colab_type": "text"
      },
      "source": [
        "REFERENCE DATA PREPROCESSING"
      ]
    },
    {
      "cell_type": "code",
      "metadata": {
        "id": "MA6n-zoBulP6",
        "colab_type": "code",
        "colab": {}
      },
      "source": [
        "clip_ref_scene('s1b2-temp.tif','img_out.tif')\n",
        "resize_scene('/content/img_out.tif','Y.tif')"
      ],
      "execution_count": 0,
      "outputs": []
    },
    {
      "cell_type": "markdown",
      "metadata": {
        "id": "7trWUiYUrnF5",
        "colab_type": "text"
      },
      "source": [
        "\n",
        "\n",
        "---\n",
        "\n"
      ]
    },
    {
      "cell_type": "markdown",
      "metadata": {
        "id": "AzenEZ8bZGHq",
        "colab_type": "text"
      },
      "source": [
        "**HELPER** **FUNCTIONS**"
      ]
    },
    {
      "cell_type": "code",
      "metadata": {
        "id": "nMUtteXFXIl3",
        "colab_type": "code",
        "colab": {}
      },
      "source": [
        "#CALCULATE SPECTRAL INDICES LIKE NDVI, NDBI etc..\n",
        "def calculate_spectral_index(band1,band2):\n",
        "  ndbi=np.where((band1+band2)==0.,0,(band1-band2)/(band1+band2))\n",
        "  return ndbi\n",
        "\n",
        "def read_band_data(fileName):\n",
        "        a=gdal.Open(fileName)\n",
        "        a1=a.GetRasterBand(1).ReadAsArray().astype(dtype='float')\n",
        "        return a1\n"
      ],
      "execution_count": 0,
      "outputs": []
    },
    {
      "cell_type": "code",
      "metadata": {
        "id": "3HXBMV0wXIhf",
        "colab_type": "code",
        "colab": {}
      },
      "source": [
        "#CALCULATE SPECTRAL INDICES FOR A SINGLE SCENE\n",
        "def calculate_all_indices_for_a_scene(root_name):\n",
        "        temp_list=[]\n",
        "        b2=read_band_data((root_name+'b'+str(2)+'.tif'))\n",
        "        b3=read_band_data((root_name+'b'+str(3)+'.tif'))\n",
        "        b4=read_band_data((root_name+'b'+str(4)+'.tif'))\n",
        "        b5=read_band_data((root_name+'b'+str(5)+'.tif'))\n",
        "        b6=read_band_data((root_name+'b'+str(6)+'.tif'))\n",
        "        b7=read_band_data((root_name+'b'+str(7)+'.tif'))\n",
        "\n",
        "        temp_list.append(calculate_spectral_index(b6,b5))\n",
        "        temp_list.append(calculate_spectral_index(b3,b5))\n",
        "        temp_list.append(calculate_spectral_index(b5,b4))\n",
        "        temp_list.append(calculate_spectral_index(b6,b7))\n",
        "        temp_list.append(calculate_spectral_index(b4,b2))\n",
        "        temp_list.append(calculate_spectral_index(b3,b2))\n",
        "\n",
        "        return temp_list"
      ],
      "execution_count": 0,
      "outputs": []
    },
    {
      "cell_type": "code",
      "metadata": {
        "id": "mMAFPZnw3bGf",
        "colab_type": "code",
        "colab": {}
      },
      "source": [
        "scene1_indices=calculate_all_indices_for_a_scene('s1')\n",
        "scene2_indices=calculate_all_indices_for_a_scene('s2')\n",
        "scene3_indices=calculate_all_indices_for_a_scene('s3')"
      ],
      "execution_count": 0,
      "outputs": []
    },
    {
      "cell_type": "code",
      "metadata": {
        "id": "1zczynFCZEc0",
        "colab_type": "code",
        "colab": {}
      },
      "source": [
        "#CALCULATE TEMPORAL STATISTICS LIKE MEAN, MIN, MAX etc..\n",
        "def calc_temporal_statistics(index,scene1,scene2,scene3,size,return_dict):\n",
        "  print('Process started: '+str(index))\n",
        "  temp_min = np.zeros(shape=(size,size))\n",
        "  temp_max = np.zeros(shape=(size,size))\n",
        "  temp_mean = np.zeros(shape=(size,size))\n",
        "  temp_std = np.zeros(shape=(size,size))\n",
        "  temp_mean_slope = np.zeros(shape=(size,size))\n",
        "\n",
        "\n",
        "  for i,j in tqdm(np.ndindex(temp_min.shape)):    \n",
        "      x=scene1[i][j]\n",
        "      y=scene2[i][j]\n",
        "      z=scene3[i][j]\n",
        "\n",
        "      temp_min[i][j]=np.amin([x,y,z])\n",
        "      temp_max[i][j]=np.amax([x,y,z])\n",
        "      temp_mean[i][j]=np.mean([x,y,z])\n",
        "      temp_std[i][j]=np.std([x,y,z])  \n",
        "      temp_mean_slope[i][j]=np.average(np.diff([x,y,z]))\n",
        "\n",
        "  return_dict[index]=(temp_min,temp_max,temp_mean,temp_std,temp_mean_slope)\n",
        "  "
      ],
      "execution_count": 0,
      "outputs": []
    },
    {
      "cell_type": "markdown",
      "metadata": {
        "id": "EWPgK4qcsnKc",
        "colab_type": "text"
      },
      "source": [
        "\n",
        "\n",
        "---\n",
        "\n"
      ]
    },
    {
      "cell_type": "markdown",
      "metadata": {
        "id": "Ir0L4dxqsoGp",
        "colab_type": "text"
      },
      "source": [
        "**COMPUTE FEATURES BASED ON TEMPORAL CHARACTERSITCS OF DIFFERENT SCENES**"
      ]
    },
    {
      "cell_type": "code",
      "metadata": {
        "id": "bUh-C_xGFlcv",
        "colab_type": "code",
        "colab": {
          "base_uri": "https://localhost:8080/",
          "height": 511,
          "referenced_widgets": [
            "12504d9900d34487b34dd05d6584010b",
            "bfdd909b697d44d6bf94a7f1cdc02662",
            "1f1ca8b602b8449a86d9cb0132753aa9",
            "b197de7b010445ca821175506ea2d6ef",
            "983fb1dbce164f8489a653f074142194",
            "8d0d73aa24da4a02aece3ed9a342ca62",
            "7261b45d036044b3b3712769c51d21ff",
            "41f60dcd887548eeac9c8fc78c09a515",
            "a09f1dd3c4fb47898b9295fa43636e91",
            "3a7665a1bc7a4a4fa17b43f91e41c4d7",
            "017d14710a194e768a0a5bc1404de6b4",
            "35e914a173494e008a17b702d47c2a2f",
            "b1d1f728da354d37a86cd085dcae9de8",
            "24118ff899cc4ea18afbed852d31a6e0",
            "9fe42028f2954609a64c4a8841fdc1bd",
            "ba0f36bef34c4f52ab0be3b1277b1040",
            "a5c1776e59194275b60dffa56023435e",
            "178b94e17d2b44db879d041fd115dbf7",
            "8f98016ab89143fb917787f5665d725b",
            "de2f98ec04b04f4f9f5aa6bdb3b95547",
            "4a40150bd39d47bca76cfdf286d062ed",
            "4769a70d666d466b85bb979343dfa3b8",
            "6acf9759ebb1408e995421e0ec8b5308",
            "fa743457f47d4af7a819cf8acc2eff3d",
            "521dd9994de44725ba42e4acfc053d70",
            "e4187ba6451f4aa6ab743181c407d744",
            "acd27232926543408d188652b8991fd8",
            "dda5746012d340679939b37150a18dbb",
            "2e268a5603134fc8858830d16d3ed80d",
            "1de38c3bc492439880cad2fcc7e209ff",
            "10a144a004fe485e9ab755ae52cdc11a",
            "9c4a6ad23c3b42b4a46536815b0a6dd0",
            "873cc24701754e18960bd8d71d373d1b",
            "0d9460aff31e4131a158b965447b15d1",
            "a3a3313bcb994712bde68041d92ca9b5",
            "bacf8245053b4bfab5c5ed23076d57b0",
            "0dcfb852bde648679ae9b5585f54961c",
            "ce4d644c061e4b8fa2cb98e8424681e5",
            "ec66d66555144d15bbca6854d6ec1731",
            "cb99c023636e41c2a6a1026ee8f01e6d",
            "211d98c6d3714b9c8519f7a2f4006486",
            "82c23ef9baa44ddd8b355c2d08e4e7a9",
            "9a2d691549554588b302367ee7e16f82",
            "d14f2b77dfe14de489ee90ee43da2be2",
            "dad4cf92ca4240d0b7fbc6244a3a8dc5",
            "d58556e3654a450c9d47532d107bada8",
            "a9c986a076144a47909065b2e5f339bd",
            "ae92bfe006c44304adb0a9e868cbf848"
          ]
        },
        "outputId": "d2f93f88-918e-4146-eb0b-7ef826d20a95"
      },
      "source": [
        "manager = multiprocessing.Manager()\n",
        "return_dict = manager.dict()\n",
        "jobs = []\n",
        "for i in range(0,6):\n",
        "    p = multiprocessing.Process(target=calc_temporal_statistics, args=(i,scene1_indices[i],scene2_indices[i],scene3_indices[i],IMG_SIZE,return_dict))\n",
        "    jobs.append(p)\n",
        "    p.start()\n",
        "\n",
        "for proc in jobs:\n",
        "    proc.join()\n",
        "    proc.terminate()\n",
        "    print(return_dict.keys())"
      ],
      "execution_count": 27,
      "outputs": [
        {
          "output_type": "stream",
          "text": [
            "Process started: 0\n",
            "Process started: 1\n",
            "Process started: 2\n",
            "Process started: 3\n",
            "Process started: 4\n",
            "Process started: 5\n"
          ],
          "name": "stdout"
        },
        {
          "output_type": "display_data",
          "data": {
            "application/vnd.jupyter.widget-view+json": {
              "model_id": "12504d9900d34487b34dd05d6584010b",
              "version_minor": 0,
              "version_major": 2
            },
            "text/plain": [
              "HBox(children=(IntProgress(value=1, bar_style='info', max=1), HTML(value='')))"
            ]
          },
          "metadata": {
            "tags": []
          }
        },
        {
          "output_type": "display_data",
          "data": {
            "application/vnd.jupyter.widget-view+json": {
              "model_id": "a09f1dd3c4fb47898b9295fa43636e91",
              "version_minor": 0,
              "version_major": 2
            },
            "text/plain": [
              "HBox(children=(IntProgress(value=1, bar_style='info', max=1), HTML(value='')))"
            ]
          },
          "metadata": {
            "tags": []
          }
        },
        {
          "output_type": "display_data",
          "data": {
            "application/vnd.jupyter.widget-view+json": {
              "model_id": "a5c1776e59194275b60dffa56023435e",
              "version_minor": 0,
              "version_major": 2
            },
            "text/plain": [
              "HBox(children=(IntProgress(value=1, bar_style='info', max=1), HTML(value='')))"
            ]
          },
          "metadata": {
            "tags": []
          }
        },
        {
          "output_type": "display_data",
          "data": {
            "application/vnd.jupyter.widget-view+json": {
              "model_id": "521dd9994de44725ba42e4acfc053d70",
              "version_minor": 0,
              "version_major": 2
            },
            "text/plain": [
              "HBox(children=(IntProgress(value=1, bar_style='info', max=1), HTML(value='')))"
            ]
          },
          "metadata": {
            "tags": []
          }
        },
        {
          "output_type": "display_data",
          "data": {
            "application/vnd.jupyter.widget-view+json": {
              "model_id": "873cc24701754e18960bd8d71d373d1b",
              "version_minor": 0,
              "version_major": 2
            },
            "text/plain": [
              "HBox(children=(IntProgress(value=1, bar_style='info', max=1), HTML(value='')))"
            ]
          },
          "metadata": {
            "tags": []
          }
        },
        {
          "output_type": "display_data",
          "data": {
            "application/vnd.jupyter.widget-view+json": {
              "model_id": "211d98c6d3714b9c8519f7a2f4006486",
              "version_minor": 0,
              "version_major": 2
            },
            "text/plain": [
              "HBox(children=(IntProgress(value=1, bar_style='info', max=1), HTML(value='')))"
            ]
          },
          "metadata": {
            "tags": []
          }
        },
        {
          "output_type": "stream",
          "text": [
            "\n",
            "[0]\n",
            "\n",
            "\n",
            "\n",
            "[0, 3, 1]\n",
            "\n",
            "[0, 3, 1, 2]\n",
            "[0, 3, 1, 2]\n",
            "[0, 3, 1, 2, 4]\n",
            "\n",
            "[0, 3, 1, 2, 4, 5]\n"
          ],
          "name": "stdout"
        }
      ]
    },
    {
      "cell_type": "code",
      "metadata": {
        "id": "hWw8KFzSF44W",
        "colab_type": "code",
        "colab": {}
      },
      "source": [
        "ndbi_statistics=return_dict.get(0)\n",
        "mndwi_statistics=return_dict.get(1)\n",
        "ndvi_statistics=return_dict.get(2)\n",
        "ndmir_statistics=return_dict.get(3)\n",
        "ndrb_statistics=return_dict.get(4)\n",
        "ndgb_statistics=return_dict.get(5)"
      ],
      "execution_count": 0,
      "outputs": []
    },
    {
      "cell_type": "markdown",
      "metadata": {
        "id": "rujfAHZzo3CQ",
        "colab_type": "text"
      },
      "source": [
        "**EXAMPLE: VISUALIZING TEMPORAL MAX OF NDBI**"
      ]
    },
    {
      "cell_type": "code",
      "metadata": {
        "id": "vwkHbgKtZEn6",
        "colab_type": "code",
        "colab": {
          "base_uri": "https://localhost:8080/",
          "height": 286
        },
        "outputId": "35bf77f0-a2a9-4fc8-bc5b-8269bf11e9ac"
      },
      "source": [
        "plt.imshow(ndbi_statistics[1]) "
      ],
      "execution_count": 29,
      "outputs": [
        {
          "output_type": "execute_result",
          "data": {
            "text/plain": [
              "<matplotlib.image.AxesImage at 0x7fbb1f011748>"
            ]
          },
          "metadata": {
            "tags": []
          },
          "execution_count": 29
        },
        {
          "output_type": "display_data",
          "data": {
            "image/png": "[encoded data removed]",
            "text/plain": [
              "<Figure size 432x288 with 1 Axes>"
            ]
          },
          "metadata": {
            "tags": []
          }
        }
      ]
    },
    {
      "cell_type": "markdown",
      "metadata": {
        "id": "WQgdZocAtfco",
        "colab_type": "text"
      },
      "source": [
        "\n",
        "\n",
        "---\n",
        "\n"
      ]
    },
    {
      "cell_type": "markdown",
      "metadata": {
        "id": "__BiV1LotgV-",
        "colab_type": "text"
      },
      "source": [
        "**PREPARING TRAINING DATA - MANNHEIM REGION**"
      ]
    },
    {
      "cell_type": "code",
      "metadata": {
        "id": "APNfZTH_AkXJ",
        "colab_type": "code",
        "colab": {
          "base_uri": "https://localhost:8080/",
          "height": 50
        },
        "outputId": "ae9b854e-7932-4e38-fcbb-a9d089f1351b"
      },
      "source": [
        "tif2=gdal.Open('Y.tif')\n",
        "Y_raster = tif2.GetRasterBand(1).ReadAsArray()\n",
        "Y_raster[Y_raster <= 100] = 999\n",
        "Y_raster[(Y_raster > 100)&(Y_raster <= 150)] = 0\n",
        "Y_raster[Y_raster > 150] = 255\n",
        "print(\"UNIQUE CLASSES: \", np.unique(Y_raster))\n",
        "Y_list=Y_raster.flatten().tolist()\n",
        "y=np.reshape(Y_list,(IMG_SIZE*IMG_SIZE,1))\n",
        "print(y.shape)"
      ],
      "execution_count": 30,
      "outputs": [
        {
          "output_type": "stream",
          "text": [
            "UNIQUE CLASSES:  [  0 255]\n",
            "(1000000, 1)\n"
          ],
          "name": "stdout"
        }
      ]
    },
    {
      "cell_type": "code",
      "metadata": {
        "id": "EdYjfkpkZEt4",
        "colab_type": "code",
        "colab": {
          "base_uri": "https://localhost:8080/",
          "height": 66,
          "referenced_widgets": [
            "2605a79e5f854421a9622b194d7b8818",
            "172cf89a499d46e88313600b2389cc14",
            "4eab5a106beb43e1be48e3e9f65d6b6c",
            "519dfb59572a48fc993edae7fd943691",
            "cc0f673b6c7d4279a03a64dea73d3f2a",
            "80e9a45f1b5f42b293366e5a2b454b5b",
            "8eef1b8a69204dd0823420112a92da64",
            "dad0c13beb174759bdd49aabf8972393"
          ]
        },
        "outputId": "6764ac20-2704-4d80-a541-84522178deb5"
      },
      "source": [
        "records=[]\n",
        "for i in tqdm(range(0,5)):\n",
        "          records.append(ndbi_statistics[i].flatten().tolist())\n",
        "          records.append(mndwi_statistics[i].flatten().tolist())\n",
        "          records.append(ndvi_statistics[i].flatten().tolist())\n",
        "          records.append(ndmir_statistics[i].flatten().tolist())\n",
        "          records.append(ndrb_statistics[i].flatten().tolist())\n",
        "          records.append(ndgb_statistics[i].flatten().tolist())\n"
      ],
      "execution_count": 31,
      "outputs": [
        {
          "output_type": "display_data",
          "data": {
            "application/vnd.jupyter.widget-view+json": {
              "model_id": "2605a79e5f854421a9622b194d7b8818",
              "version_minor": 0,
              "version_major": 2
            },
            "text/plain": [
              "HBox(children=(IntProgress(value=0, max=5), HTML(value='')))"
            ]
          },
          "metadata": {
            "tags": []
          }
        },
        {
          "output_type": "stream",
          "text": [
            "\n"
          ],
          "name": "stdout"
        }
      ]
    },
    {
      "cell_type": "code",
      "metadata": {
        "id": "DCRBqxTs6-69",
        "colab_type": "code",
        "colab": {
          "base_uri": "https://localhost:8080/",
          "height": 50
        },
        "outputId": "ea2a5fab-5510-42dd-a852-497d4eaedcff"
      },
      "source": [
        "record=np.column_stack(records)\n",
        "X=np.append(record, y, axis=1)\n",
        "print('FULL TRAINING DATA SHAPE: ')\n",
        "print(X.shape)\n"
      ],
      "execution_count": 32,
      "outputs": [
        {
          "output_type": "stream",
          "text": [
            "FULL TRAINING DATA SHAPE: \n",
            "(1000000, 31)\n"
          ],
          "name": "stdout"
        }
      ]
    },
    {
      "cell_type": "code",
      "metadata": {
        "id": "5v35RmTK3K3n",
        "colab_type": "code",
        "colab": {}
      },
      "source": [
        "X_small=X[np.random.choice(np.shape(X)[0],5000, replace=False), :]\n",
        "X_train=X_small[:,0:30]\n",
        "Y_train=X_small[:,30]"
      ],
      "execution_count": 0,
      "outputs": []
    },
    {
      "cell_type": "markdown",
      "metadata": {
        "id": "yg-Z1goXuRJG",
        "colab_type": "text"
      },
      "source": [
        "\n",
        "\n",
        "---\n",
        "\n"
      ]
    },
    {
      "cell_type": "markdown",
      "metadata": {
        "id": "0shhi6ehR_RF",
        "colab_type": "text"
      },
      "source": [
        "**CLASSIFICATION :  SUPPORT VECTOR MACHINE - RBF KERNEL**"
      ]
    },
    {
      "cell_type": "markdown",
      "metadata": {
        "id": "VuSXgMogupRP",
        "colab_type": "text"
      },
      "source": [
        "TRAINING"
      ]
    },
    {
      "cell_type": "code",
      "metadata": {
        "id": "2Kf6auIsZFFH",
        "colab_type": "code",
        "colab": {
          "base_uri": "https://localhost:8080/",
          "height": 235
        },
        "outputId": "e9ec6e2b-6202-47d2-9bdd-c1817099d811"
      },
      "source": [
        "from sklearn.svm import SVC\n",
        "from sklearn.model_selection import GridSearchCV\n",
        "\n",
        "parameter_candidates = [\n",
        "  {'C': [0.1,1, 10,30,50, 100,500, 1000], 'gamma': [0.001, 0.0001,10,20,50,100,500], 'kernel': ['rbf']}\n",
        "]\n",
        "\n",
        "classifier = GridSearchCV(SVC(), param_grid=parameter_candidates)\n",
        "classifier.fit(X_train, Y_train)   \n"
      ],
      "execution_count": 34,
      "outputs": [
        {
          "output_type": "execute_result",
          "data": {
            "text/plain": [
              "GridSearchCV(cv=None, error_score=nan,\n",
              "             estimator=SVC(C=1.0, break_ties=False, cache_size=200,\n",
              "                           class_weight=None, coef0=0.0,\n",
              "                           decision_function_shape='ovr', degree=3,\n",
              "                           gamma='scale', kernel='rbf', max_iter=-1,\n",
              "                           probability=False, random_state=None, shrinking=True,\n",
              "                           tol=0.001, verbose=False),\n",
              "             iid='deprecated', n_jobs=None,\n",
              "             param_grid=[{'C': [0.1, 1, 10, 30, 50, 100, 500, 1000],\n",
              "                          'gamma': [0.001, 0.0001, 10, 20, 50, 100, 500],\n",
              "                          'kernel': ['rbf']}],\n",
              "             pre_dispatch='2*n_jobs', refit=True, return_train_score=False,\n",
              "             scoring=None, verbose=0)"
            ]
          },
          "metadata": {
            "tags": []
          },
          "execution_count": 34
        }
      ]
    },
    {
      "cell_type": "code",
      "metadata": {
        "id": "DSPCsQSvZtJL",
        "colab_type": "code",
        "colab": {
          "base_uri": "https://localhost:8080/",
          "height": 67
        },
        "outputId": "f428a5fb-a240-4eb9-b286-5241e4b2a750"
      },
      "source": [
        "print('Best score:', classifier.best_score_) \n",
        "print('Best C value:',classifier.best_estimator_.C) \n",
        "print('Best Gamma value:',classifier.best_estimator_.gamma)"
      ],
      "execution_count": 35,
      "outputs": [
        {
          "output_type": "stream",
          "text": [
            "Best score: 0.9460000000000001\n",
            "Best C value: 30\n",
            "Best Gamma value: 10\n"
          ],
          "name": "stdout"
        }
      ]
    },
    {
      "cell_type": "code",
      "metadata": {
        "id": "RU32K-v3Wdew",
        "colab_type": "code",
        "colab": {
          "base_uri": "https://localhost:8080/",
          "height": 84
        },
        "outputId": "342e3a7a-7fac-437a-983c-2590ad11345b"
      },
      "source": [
        "from sklearn.svm import SVC\n",
        "svclassifier = SVC(kernel='rbf',C=classifier.best_estimator_.C,gamma=classifier.best_estimator_.gamma)\n",
        "svclassifier.fit(X_train, Y_train)"
      ],
      "execution_count": 36,
      "outputs": [
        {
          "output_type": "execute_result",
          "data": {
            "text/plain": [
              "SVC(C=30, break_ties=False, cache_size=200, class_weight=None, coef0=0.0,\n",
              "    decision_function_shape='ovr', degree=3, gamma=10, kernel='rbf',\n",
              "    max_iter=-1, probability=False, random_state=None, shrinking=True,\n",
              "    tol=0.001, verbose=False)"
            ]
          },
          "metadata": {
            "tags": []
          },
          "execution_count": 36
        }
      ]
    },
    {
      "cell_type": "code",
      "metadata": {
        "id": "eS5eYFzere9L",
        "colab_type": "code",
        "colab": {}
      },
      "source": [
        "import pickle\n",
        "with open('model.pkl', 'wb') as f:\n",
        "    pickle.dump(svclassifier, f)"
      ],
      "execution_count": 0,
      "outputs": []
    },
    {
      "cell_type": "code",
      "metadata": {
        "id": "mvnV_cJBu0ww",
        "colab_type": "code",
        "colab": {}
      },
      "source": [
        "Y_pred = svclassifier.predict(X[:,0:30])"
      ],
      "execution_count": 0,
      "outputs": []
    },
    {
      "cell_type": "markdown",
      "metadata": {
        "id": "Wx-li3Kju3hH",
        "colab_type": "text"
      },
      "source": [
        "METRICS ON TRAINING DATA"
      ]
    },
    {
      "cell_type": "code",
      "metadata": {
        "id": "anBVKraKSsgJ",
        "colab_type": "code",
        "colab": {
          "base_uri": "https://localhost:8080/",
          "height": 168
        },
        "outputId": "6f5eb51e-74ed-4e62-ce12-f2e6081a9128"
      },
      "source": [
        "from sklearn.metrics import classification_report\n",
        "print(classification_report(X[:,30], Y_pred))"
      ],
      "execution_count": 39,
      "outputs": [
        {
          "output_type": "stream",
          "text": [
            "              precision    recall  f1-score   support\n",
            "\n",
            "         0.0       0.74      0.35      0.48     72001\n",
            "       255.0       0.95      0.99      0.97    927999\n",
            "\n",
            "    accuracy                           0.94   1000000\n",
            "   macro avg       0.85      0.67      0.72   1000000\n",
            "weighted avg       0.94      0.94      0.94   1000000\n",
            "\n"
          ],
          "name": "stdout"
        }
      ]
    },
    {
      "cell_type": "markdown",
      "metadata": {
        "id": "7GCaXyanvEny",
        "colab_type": "text"
      },
      "source": [
        "\n",
        "\n",
        "---\n",
        "\n"
      ]
    },
    {
      "cell_type": "markdown",
      "metadata": {
        "id": "86xmSFNlvGb3",
        "colab_type": "text"
      },
      "source": [
        "**VISUALIZATION OF HUMAN SETTLEMENT**"
      ]
    },
    {
      "cell_type": "markdown",
      "metadata": {
        "id": "LMU13kbZ05-u",
        "colab_type": "text"
      },
      "source": [
        "ORIGINAL RGB IMAGE"
      ]
    },
    {
      "cell_type": "code",
      "metadata": {
        "id": "93s76rq5ZFLv",
        "colab_type": "code",
        "colab": {}
      },
      "source": [
        "s4=gdal.Open('s2b4.tif')\n",
        "red = s4.GetRasterBand(1).ReadAsArray()\n",
        "r=red.astype(dtype='int')\n",
        "\n",
        "s3 = gdal.Open('s2b3.tif')\n",
        "green = s3.GetRasterBand(1).ReadAsArray()\n",
        "g=green.astype(dtype='int')\n",
        "\n",
        "s2 = gdal.Open('s2b2.tif')\n",
        "blue = s2.GetRasterBand(1).ReadAsArray()\n",
        "b=blue.astype(dtype='int')\n",
        "\n",
        "def normalize(array):\n",
        "    array_min, array_max = array.min(), array.max()\n",
        "    return ((array - array_min)/(array_max - array_min))\n",
        "redn = normalize(r)\n",
        "greenn = normalize(g)\n",
        "bluen = normalize(b)\n",
        "rgb = np.dstack((redn, greenn, bluen))\n",
        "plt.imshow(rgb)"
      ],
      "execution_count": 0,
      "outputs": []
    },
    {
      "cell_type": "markdown",
      "metadata": {
        "id": "zwGfrvX20_XM",
        "colab_type": "text"
      },
      "source": [
        "CLASSIFICATION RESULTS : BLACK=BUILT UP, WHITE=OTHERS"
      ]
    },
    {
      "cell_type": "code",
      "metadata": {
        "id": "ULNtkFpCZFIf",
        "colab_type": "code",
        "colab": {}
      },
      "source": [
        "plt.gray()\n",
        "plt.imshow(np.reshape(Y_pred,(IMG_SIZE,IMG_SIZE)))"
      ],
      "execution_count": 0,
      "outputs": []
    },
    {
      "cell_type": "markdown",
      "metadata": {
        "id": "02m9XKQJdJPX",
        "colab_type": "text"
      },
      "source": [
        "\n",
        "\n",
        "---\n",
        "\n"
      ]
    },
    {
      "cell_type": "markdown",
      "metadata": {
        "id": "ULcrzP1xdOIj",
        "colab_type": "text"
      },
      "source": [
        "**TESTING PHASE**"
      ]
    },
    {
      "cell_type": "code",
      "metadata": {
        "id": "iDRa3-lx3_Ll",
        "colab_type": "code",
        "colab": {}
      },
      "source": [
        "s4=gdal.Open('test-big-s1b4.tif')\n",
        "red = s4.GetRasterBand(1).ReadAsArray()\n",
        "r=red.astype(dtype='int')\n",
        "\n",
        "s3 = gdal.Open('test-big-s1b3.tif')\n",
        "green = s3.GetRasterBand(1).ReadAsArray()\n",
        "g=green.astype(dtype='int')\n",
        "\n",
        "s2 = gdal.Open('test-big-s1b2.tif')\n",
        "blue = s2.GetRasterBand(1).ReadAsArray()\n",
        "b=blue.astype(dtype='int')\n",
        "\n",
        "def normalize(array):\n",
        "    array_min, array_max = array.min(), array.max()\n",
        "    return ((array - array_min)/(array_max - array_min))\n",
        "redn = normalize(r)\n",
        "greenn = normalize(g)\n",
        "bluen = normalize(b)\n",
        "rgb = np.dstack((redn, greenn, bluen))\n",
        "plt.imshow(rgb)\n"
      ],
      "execution_count": 0,
      "outputs": []
    },
    {
      "cell_type": "code",
      "metadata": {
        "id": "NHunsOTr4n3x",
        "colab_type": "code",
        "outputId": "da40ded9-b65f-4229-92f6-cc93b1167407",
        "colab": {
          "base_uri": "https://localhost:8080/",
          "height": 50
        }
      },
      "source": [
        "test_scene1_indices=calculate_all_indices_for_a_scene('test-big-s1')\n",
        "test_scene2_indices=calculate_all_indices_for_a_scene('test-big-s2')\n",
        "test_scene3_indices=calculate_all_indices_for_a_scene('test-big-s3')"
      ],
      "execution_count": 43,
      "outputs": [
        {
          "output_type": "stream",
          "text": [
            "/usr/local/lib/python3.6/dist-packages/ipykernel_launcher.py:2: RuntimeWarning: invalid value encountered in true_divide\n",
            "  \n"
          ],
          "name": "stderr"
        }
      ]
    },
    {
      "cell_type": "code",
      "metadata": {
        "id": "1WztRRA545QV",
        "colab_type": "code",
        "colab": {}
      },
      "source": [
        "manager = multiprocessing.Manager()\n",
        "return_dict = manager.dict()\n",
        "jobs = []\n",
        "for i in range(0,6):\n",
        "    p = multiprocessing.Process(target=calc_temporal_statistics, args=(i,test_scene1_indices[i],test_scene2_indices[i],test_scene3_indices[i],BIG_IMG_SIZE,return_dict))\n",
        "    jobs.append(p)\n",
        "    p.start()\n",
        "\n",
        "for proc in jobs:\n",
        "    proc.join()\n",
        "    proc.terminate()\n",
        "    print(return_dict.keys())"
      ],
      "execution_count": 0,
      "outputs": []
    },
    {
      "cell_type": "code",
      "metadata": {
        "id": "LkXa-94sGb7S",
        "colab_type": "code",
        "colab": {}
      },
      "source": [
        "with open('london-statistics.pkl', 'wb') as f:\n",
        "    pickle.dump(return_dict, f)"
      ],
      "execution_count": 0,
      "outputs": []
    },
    {
      "cell_type": "code",
      "metadata": {
        "id": "5UUAzzaH8Mn_",
        "colab_type": "code",
        "colab": {}
      },
      "source": [
        "test_ndbi_statistics=return_dict.get(0)\n",
        "test_mndwi_statistics=return_dict.get(1)\n",
        "test_ndvi_statistics=return_dict.get(2)\n",
        "test_ndmir_statistics=return_dict.get(3)\n",
        "test_ndrb_statistics=return_dict.get(4)\n",
        "test_ndgb_statistics=return_dict.get(5)"
      ],
      "execution_count": 0,
      "outputs": []
    },
    {
      "cell_type": "markdown",
      "metadata": {
        "id": "O5yIm8Vvn7Ou",
        "colab_type": "text"
      },
      "source": [
        "**VISUALIZING NDBI OF LONDON REGION, UK**"
      ]
    },
    {
      "cell_type": "code",
      "metadata": {
        "id": "GkuryD0q5akg",
        "colab_type": "code",
        "outputId": "87d30f4f-10a6-4490-d10d-39b310bd0f68",
        "colab": {
          "base_uri": "https://localhost:8080/",
          "height": 286
        }
      },
      "source": [
        "plt.imshow(test_ndbi_statistics[0]) "
      ],
      "execution_count": 47,
      "outputs": [
        {
          "output_type": "execute_result",
          "data": {
            "text/plain": [
              "<matplotlib.image.AxesImage at 0x7fbae5c74390>"
            ]
          },
          "metadata": {
            "tags": []
          },
          "execution_count": 47
        },
        {
          "output_type": "display_data",
          "data": {
            "image/png": "[encoded data removed]",
            "text/plain": [
              "<Figure size 432x288 with 1 Axes>"
            ]
          },
          "metadata": {
            "tags": []
          }
        }
      ]
    },
    {
      "cell_type": "code",
      "metadata": {
        "id": "1JJT9mo2NEH-",
        "colab_type": "code",
        "outputId": "24f9006a-debb-4ea8-a28d-51877bc3f396",
        "colab": {
          "base_uri": "https://localhost:8080/",
          "height": 66,
          "referenced_widgets": [
            "e14390ace2f64449b785b6a42d74d0cd",
            "b986bd5e850841f18d2c76ae86946159",
            "d6b577aae4ae48b3828429e82077586a",
            "7ecde3144e4d4814b598ddcb4f953964",
            "319cfd2866a94b26a172b4605667c7bc",
            "d09565b689864c34a7ffa498a639884c",
            "40fd97d4c68949b7aa0c01ca9ea66c84",
            "a7f9c16e32134eacaace914eeea5a5cd"
          ]
        }
      },
      "source": [
        "test_records=[]\n",
        "for i in tqdm(range(0,5)):\n",
        "          test_records.append(test_ndbi_statistics[i].flatten().tolist())\n",
        "          test_records.append(test_mndwi_statistics[i].flatten().tolist())\n",
        "          test_records.append(test_ndvi_statistics[i].flatten().tolist())\n",
        "          test_records.append(test_ndmir_statistics[i].flatten().tolist())\n",
        "          test_records.append(test_ndrb_statistics[i].flatten().tolist())\n",
        "          test_records.append(test_ndgb_statistics[i].flatten().tolist())"
      ],
      "execution_count": 48,
      "outputs": [
        {
          "output_type": "display_data",
          "data": {
            "application/vnd.jupyter.widget-view+json": {
              "model_id": "e14390ace2f64449b785b6a42d74d0cd",
              "version_minor": 0,
              "version_major": 2
            },
            "text/plain": [
              "HBox(children=(IntProgress(value=0, max=5), HTML(value='')))"
            ]
          },
          "metadata": {
            "tags": []
          }
        },
        {
          "output_type": "stream",
          "text": [
            "\n"
          ],
          "name": "stdout"
        }
      ]
    },
    {
      "cell_type": "code",
      "metadata": {
        "id": "Fnt1YspeNY6-",
        "colab_type": "code",
        "outputId": "37a27c1b-d933-4296-cd7d-e25e1d1d50a2",
        "colab": {
          "base_uri": "https://localhost:8080/",
          "height": 50
        }
      },
      "source": [
        "test_record=np.column_stack(test_records)\n",
        "print('FULL TESTING DATA SHAPE: ')\n",
        "print(test_record.shape)"
      ],
      "execution_count": 49,
      "outputs": [
        {
          "output_type": "stream",
          "text": [
            "FULL TESTING DATA SHAPE: \n",
            "(4000000, 30)\n"
          ],
          "name": "stdout"
        }
      ]
    },
    {
      "cell_type": "code",
      "metadata": {
        "id": "xnelesEQpwFb",
        "colab_type": "code",
        "colab": {}
      },
      "source": [
        "svclassifier = pickle.load(open('model.pkl', 'rb'))"
      ],
      "execution_count": 0,
      "outputs": []
    },
    {
      "cell_type": "code",
      "metadata": {
        "id": "EFpu-cDJN4Wl",
        "colab_type": "code",
        "colab": {}
      },
      "source": [
        "preds = svclassifier.predict(test_record)"
      ],
      "execution_count": 0,
      "outputs": []
    },
    {
      "cell_type": "markdown",
      "metadata": {
        "id": "3SqUq8gjoM1A",
        "colab_type": "text"
      },
      "source": [
        "**FINAL PREDICTION ON UNSEEN DATA - LONDON REGION,UK**"
      ]
    },
    {
      "cell_type": "code",
      "metadata": {
        "id": "LzHe284aOgR-",
        "colab_type": "code",
        "colab": {}
      },
      "source": [
        "plt.gray()\n",
        "plt.imshow(np.reshape(preds,(BIG_IMG_SIZE,BIG_IMG_SIZE)))"
      ],
      "execution_count": 0,
      "outputs": []
    },
    {
      "cell_type": "code",
      "metadata": {
        "id": "a3Ys_T3jcKTx",
        "colab_type": "code",
        "outputId": "9936467a-fb3b-4960-cc17-3adc38f0a3de",
        "colab": {
          "base_uri": "https://localhost:8080/",
          "height": 34
        }
      },
      "source": [
        "cv2.imwrite(\"prediction.tif\",np.reshape(preds,(BIG_IMG_SIZE,BIG_IMG_SIZE)))"
      ],
      "execution_count": 53,
      "outputs": [
        {
          "output_type": "execute_result",
          "data": {
            "text/plain": [
              "True"
            ]
          },
          "metadata": {
            "tags": []
          },
          "execution_count": 53
        }
      ]
    },
    {
      "cell_type": "code",
      "metadata": {
        "id": "ubM0yA25Jhv3",
        "colab_type": "code",
        "colab": {}
      },
      "source": [
        "clip_ref_scene('test-s1b2-temp.tif','img_out2.tif')\n",
        "resize_scene('img_out2.tif','Y-test.tif')"
      ],
      "execution_count": 0,
      "outputs": []
    },
    {
      "cell_type": "code",
      "metadata": {
        "id": "-NyV1EUqcsOQ",
        "colab_type": "code",
        "colab": {}
      },
      "source": [
        "resize_scene_custom_size('img_out2.tif','Y-big-test.tif',BIG_IMG_SIZE,BIG_IMG_SIZE)"
      ],
      "execution_count": 0,
      "outputs": []
    },
    {
      "cell_type": "code",
      "metadata": {
        "id": "WRoBX5quKmdr",
        "colab_type": "code",
        "colab": {
          "base_uri": "https://localhost:8080/",
          "height": 50
        },
        "outputId": "0acf22f5-9707-48de-ca97-72ed7b12d8a8"
      },
      "source": [
        "tif3=gdal.Open('Y-big-test.tif')\n",
        "Y_raster_test = tif3.GetRasterBand(1).ReadAsArray()\n",
        "Y_raster_test[Y_raster_test <= 100] = 999\n",
        "Y_raster_test[(Y_raster_test > 100)&(Y_raster_test <= 150)] = 0\n",
        "Y_raster_test[Y_raster_test > 150] = 255\n",
        "print(\"UNIQUE CLASSES: \", np.unique(Y_raster_test))\n",
        "Y_test_list=Y_raster_test.flatten().tolist()\n",
        "y_test=np.reshape(Y_test_list,(BIG_IMG_SIZE*BIG_IMG_SIZE,1))\n",
        "print(y_test.shape)"
      ],
      "execution_count": 56,
      "outputs": [
        {
          "output_type": "stream",
          "text": [
            "UNIQUE CLASSES:  [  0 255]\n",
            "(4000000, 1)\n"
          ],
          "name": "stdout"
        }
      ]
    },
    {
      "cell_type": "markdown",
      "metadata": {
        "id": "87U0NdYhetK6",
        "colab_type": "text"
      },
      "source": [
        "**TEST SET ACCURACY**"
      ]
    },
    {
      "cell_type": "code",
      "metadata": {
        "id": "dXjDVnjJL_ob",
        "colab_type": "code",
        "colab": {
          "base_uri": "https://localhost:8080/",
          "height": 168
        },
        "outputId": "2f5e9b05-3d01-49e0-a8b7-fea7fe8e9b08"
      },
      "source": [
        "print(classification_report(y_test, preds))"
      ],
      "execution_count": 58,
      "outputs": [
        {
          "output_type": "stream",
          "text": [
            "              precision    recall  f1-score   support\n",
            "\n",
            "           0       0.52      0.19      0.28    431802\n",
            "         255       0.91      0.98      0.94   3568198\n",
            "\n",
            "    accuracy                           0.89   4000000\n",
            "   macro avg       0.72      0.58      0.61   4000000\n",
            "weighted avg       0.87      0.89      0.87   4000000\n",
            "\n"
          ],
          "name": "stdout"
        }
      ]
    },
    {
      "cell_type": "code",
      "metadata": {
        "id": "aKaUosUrc494",
        "colab_type": "code",
        "colab": {
          "base_uri": "https://localhost:8080/",
          "height": 505
        },
        "outputId": "c0c26e53-a66b-4f36-b61a-11f7f21d9872"
      },
      "source": [
        "from skimage import io\n",
        "import matplotlib.pyplot as plt\n",
        "%matplotlib inline\n",
        "\n",
        "image_stack = io.MultiImage('/content/wsf-paper.jpg')\n",
        "image = image_stack[0] \n",
        "fig = plt.figure(figsize= (10,10)) \n",
        "fig.suptitle('ORIGINAL PAPER RESULTS', fontsize=20)\n",
        "\n",
        "io.imshow(image)\n",
        "io.show()"
      ],
      "execution_count": 99,
      "outputs": [
        {
          "output_type": "display_data",
          "data": {
            "image/png": "[encoded data removed]",
            "text/plain": [
              "<Figure size 720x720 with 1 Axes>"
            ]
          },
          "metadata": {
            "tags": []
          }
        }
      ]
    },
    {
      "cell_type": "code",
      "metadata": {
        "id": "FST5vdMxaAxD",
        "colab_type": "code",
        "colab": {
          "base_uri": "https://localhost:8080/",
          "height": 469
        },
        "outputId": "a854726e-d6cb-4380-a4a3-b42f767db832"
      },
      "source": [
        "image_stack = io.MultiImage(\"/content/prediction-bangalore.tif\")\n",
        "image = image_stack[0] \n",
        "fig = plt.figure(figsize= (6,6)) \n",
        "fig.suptitle('BANGALORE REGION RESULTS (ZOOMED OUT)', fontsize=20)\n",
        "\n",
        "io.imshow(image)\n",
        "io.show()"
      ],
      "execution_count": 105,
      "outputs": [
        {
          "output_type": "stream",
          "text": [
            "/usr/local/lib/python3.6/dist-packages/skimage/io/_plugins/matplotlib_plugin.py:150: UserWarning: Float image out of standard range; displaying image with stretched contrast.\n",
            "  lo, hi, cmap = _get_display_range(image)\n"
          ],
          "name": "stderr"
        },
        {
          "output_type": "display_data",
          "data": {
            "image/png": "[encoded data removed]",
            "text/plain": [
              "<Figure size 432x432 with 2 Axes>"
            ]
          },
          "metadata": {
            "tags": []
          }
        }
      ]
    }
  ]
}